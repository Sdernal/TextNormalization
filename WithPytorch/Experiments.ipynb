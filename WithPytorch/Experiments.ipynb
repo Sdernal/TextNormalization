{
 "cells": [
  {
   "cell_type": "markdown",
   "metadata": {},
   "source": [
    "#Pytorch experiments\n"
   ]
  },
  {
   "cell_type": "code",
   "execution_count": 17,
   "metadata": {},
   "outputs": [],
   "source": [
    "import matplotlib.pyplot as plt\n",
    "%matplotlib inline"
   ]
  },
  {
   "cell_type": "code",
   "execution_count": 1,
   "metadata": {},
   "outputs": [
    {
     "name": "stdout",
     "output_type": "stream",
     "text": [
      "C:\\Users\\Sdernal\\Desktop\\Jackals\\TextNormalization\\WithPytorch\n"
     ]
    },
    {
     "name": "stdout",
     "output_type": "stream",
     "text": [
      "'NoneType' object has no attribute 'text' C:\\Users\\Sdernal\\Desktop\\Jackals\\corpus_for_pakhomov_2\\Абдулла Гюль.xml\n"
     ]
    },
    {
     "name": "stdout",
     "output_type": "stream",
     "text": [
      "'NoneType' object has no attribute 'text' C:\\Users\\Sdernal\\Desktop\\Jackals\\corpus_for_pakhomov_2\\Адам Осмаев.xml\n'NoneType' object has no attribute 'text' C:\\Users\\Sdernal\\Desktop\\Jackals\\corpus_for_pakhomov_2\\Азим Исабеков.xml\n"
     ]
    },
    {
     "name": "stdout",
     "output_type": "stream",
     "text": [
      "'NoneType' object has no attribute 'text' C:\\Users\\Sdernal\\Desktop\\Jackals\\corpus_for_pakhomov_2\\Александр Глухов.xml\n"
     ]
    },
    {
     "name": "stdout",
     "output_type": "stream",
     "text": [
      "'NoneType' object has no attribute 'text' C:\\Users\\Sdernal\\Desktop\\Jackals\\corpus_for_pakhomov_2\\Александр Ломая.xml\n"
     ]
    },
    {
     "name": "stdout",
     "output_type": "stream",
     "text": [
      "'NoneType' object has no attribute 'text' C:\\Users\\Sdernal\\Desktop\\Jackals\\corpus_for_pakhomov_2\\Александр Медведько.xml\n"
     ]
    },
    {
     "name": "stdout",
     "output_type": "stream",
     "text": [
      "'NoneType' object has no attribute 'text' C:\\Users\\Sdernal\\Desktop\\Jackals\\corpus_for_pakhomov_2\\Анатолий Бибилов.xml\n"
     ]
    },
    {
     "name": "stdout",
     "output_type": "stream",
     "text": [
      "'NoneType' object has no attribute 'text' C:\\Users\\Sdernal\\Desktop\\Jackals\\corpus_for_pakhomov_2\\Андрей Аршавин.xml\n"
     ]
    },
    {
     "name": "stdout",
     "output_type": "stream",
     "text": [
      "'NoneType' object has no attribute 'text' C:\\Users\\Sdernal\\Desktop\\Jackals\\corpus_for_pakhomov_2\\Владимир Сергеевич Высоцкий.xml\n"
     ]
    },
    {
     "name": "stdout",
     "output_type": "stream",
     "text": [
      "'NoneType' object has no attribute 'text' C:\\Users\\Sdernal\\Desktop\\Jackals\\corpus_for_pakhomov_2\\Евгений Чичваркин.xml\n"
     ]
    }
   ],
   "source": [
    "from dataloader import DataLoader\n",
    "from os.path import abspath\n",
    "from entriesprocessor import EntriesProcessor\n",
    "from trainer import Trainer\n",
    "from model import Decoder, Encoder\n",
    "import torch\n",
    "\n",
    "EMBEDDING_SIZE = 10\n",
    "HIDDEN_SIZE = 200\n",
    "print(abspath('./'))\n",
    "loader = DataLoader(10)\n",
    "loader.parse_person_corpus(abspath('../Persons-1000/collection'))\n",
    "loader.parse_rdf_corpus(abspath('../../corpus_for_pakhomov_2'))\n",
    "device = torch.device(\"cuda\" if torch.cuda.is_available() else \"cpu\")\n",
    "ep = EntriesProcessor(20,40)\n",
    "# voc_size = 10\n",
    "ep.process(loader.entries)\n",
    "voc_size = ep.symbols_counter\n",
    "encoder = Encoder(input_size=voc_size, hidden_size=HIDDEN_SIZE, embedding_size=EMBEDDING_SIZE).to(device)\n",
    "decoder = Decoder(hidden_size=HIDDEN_SIZE, embedding_size=EMBEDDING_SIZE, output_size=voc_size, max_length=40).to(device)\n",
    "trainer = Trainer(encoder,decoder,ep,max_input_length=40, max_output_length=20)"
   ]
  },
  {
   "cell_type": "code",
   "execution_count": 2,
   "metadata": {},
   "outputs": [],
   "source": [
    "train_losses_all, test_losses_all = [], []"
   ]
  },
  {
   "cell_type": "code",
   "execution_count": 12,
   "metadata": {},
   "outputs": [
    {
     "name": "stdout",
     "output_type": "stream",
     "text": [
      "\nEpoch 1\n"
     ]
    },
    {
     "name": "stdout",
     "output_type": "stream",
     "text": [
      "\r\tTrain Loss: 0.183823 \t Time: 0s"
     ]
    },
    {
     "name": "stdout",
     "output_type": "stream",
     "text": [
      "\r\tTrain Loss: 0.178214 \t Time: 0s\r\tTrain Loss: 0.236037 \t Time: 0s"
     ]
    },
    {
     "name": "stdout",
     "output_type": "stream",
     "text": [
      "\r\tTrain Loss: 0.224887 \t Time: 0s"
     ]
    },
    {
     "name": "stdout",
     "output_type": "stream",
     "text": [
      "\r\tTrain Loss: 0.221971 \t Time: 1s\r\tTrain Loss: 0.210451 \t Time: 1s"
     ]
    },
    {
     "name": "stdout",
     "output_type": "stream",
     "text": [
      "\r\tTrain Loss: 0.209399 \t Time: 1s"
     ]
    },
    {
     "name": "stdout",
     "output_type": "stream",
     "text": [
      "\r\tTrain Loss: 0.222516 \t Time: 1s"
     ]
    },
    {
     "name": "stdout",
     "output_type": "stream",
     "text": [
      "\r\tTrain Loss: 0.214511 \t Time: 1s\r\tTrain Loss: 0.207102 \t Time: 2s"
     ]
    },
    {
     "name": "stdout",
     "output_type": "stream",
     "text": [
      "\r\tTrain Loss: 0.202910 \t Time: 2s"
     ]
    },
    {
     "name": "stdout",
     "output_type": "stream",
     "text": [
      "\r\tTrain Loss: 0.200004 \t Time: 2s"
     ]
    },
    {
     "name": "stdout",
     "output_type": "stream",
     "text": [
      "\r\tTrain Loss: 0.197837 \t Time: 2s"
     ]
    },
    {
     "name": "stdout",
     "output_type": "stream",
     "text": [
      "\r\tTrain Loss: 0.196579 \t Time: 2s"
     ]
    },
    {
     "name": "stdout",
     "output_type": "stream",
     "text": [
      "\r\tTrain Loss: 0.191918 \t Time: 3s"
     ]
    },
    {
     "name": "stdout",
     "output_type": "stream",
     "text": [
      "\r\tTrain Loss: 0.198624 \t Time: 3s\r\tTrain Loss: 0.195556 \t Time: 3s"
     ]
    },
    {
     "name": "stdout",
     "output_type": "stream",
     "text": [
      "\r\tTrain Loss: 0.192705 \t Time: 3s\r\tTrain Loss: 0.188652 \t Time: 3s"
     ]
    },
    {
     "name": "stdout",
     "output_type": "stream",
     "text": [
      "\r\tTrain Loss: 0.185520 \t Time: 4s\r\tTrain Loss: 0.183881 \t Time: 4s"
     ]
    },
    {
     "name": "stdout",
     "output_type": "stream",
     "text": [
      "\r\tTrain Loss: 0.191302 \t Time: 4s\r\tTrain Loss: 0.198428 \t Time: 4s"
     ]
    },
    {
     "name": "stdout",
     "output_type": "stream",
     "text": [
      "\r\tTrain Loss: 0.203058 \t Time: 4s\r\tTrain Loss: 0.206280 \t Time: 5s"
     ]
    },
    {
     "name": "stdout",
     "output_type": "stream",
     "text": [
      "\r\tTrain Loss: 0.204701 \t Time: 5s\r\tTrain Loss: 0.202526 \t Time: 5s"
     ]
    },
    {
     "name": "stdout",
     "output_type": "stream",
     "text": [
      "\r\tTrain Loss: 0.203780 \t Time: 5s\r\tTrain Loss: 0.201962 \t Time: 5s"
     ]
    },
    {
     "name": "stdout",
     "output_type": "stream",
     "text": [
      "\r\tTrain Loss: 0.200124 \t Time: 6s\r\tTrain Loss: 0.197244 \t Time: 6s"
     ]
    },
    {
     "name": "stdout",
     "output_type": "stream",
     "text": [
      "\r\tTrain Loss: 0.203697 \t Time: 6s\r\tTrain Loss: 0.203053 \t Time: 6s"
     ]
    },
    {
     "name": "stdout",
     "output_type": "stream",
     "text": [
      "\r\tTrain Loss: 0.201801 \t Time: 6s\r\tTrain Loss: 0.199927 \t Time: 7s"
     ]
    },
    {
     "name": "stdout",
     "output_type": "stream",
     "text": [
      "\r\tTrain Loss: 0.197930 \t Time: 7s\r\tTrain Loss: 0.200067 \t Time: 7s"
     ]
    },
    {
     "name": "stdout",
     "output_type": "stream",
     "text": [
      "\r\tTrain Loss: 0.201095 \t Time: 7s\r\tTrain Loss: 0.201027 \t Time: 7s"
     ]
    },
    {
     "name": "stdout",
     "output_type": "stream",
     "text": [
      "\r\tTrain Loss: 0.204098 \t Time: 7s\r\tTrain Loss: 0.205142 \t Time: 8s"
     ]
    },
    {
     "name": "stdout",
     "output_type": "stream",
     "text": [
      "\r\tTrain Loss: 0.207769 \t Time: 8s\r\tTrain Loss: 0.207165 \t Time: 8s"
     ]
    },
    {
     "name": "stdout",
     "output_type": "stream",
     "text": [
      "\r\tTrain Loss: 0.206366 \t Time: 8s\r\tTrain Loss: 0.207475 \t Time: 8s"
     ]
    },
    {
     "name": "stdout",
     "output_type": "stream",
     "text": [
      "\r\tTrain Loss: 0.206743 \t Time: 9s\r\tTrain Loss: 0.206249 \t Time: 9s"
     ]
    },
    {
     "name": "stdout",
     "output_type": "stream",
     "text": [
      "\r\tTrain Loss: 0.206091 \t Time: 9s\r\tTrain Loss: 0.205053 \t Time: 9s"
     ]
    },
    {
     "name": "stdout",
     "output_type": "stream",
     "text": [
      "\r\tTrain Loss: 0.204047 \t Time: 9s\r\tTrain Loss: 0.202491 \t Time: 10s"
     ]
    },
    {
     "name": "stdout",
     "output_type": "stream",
     "text": [
      "\r\tTrain Loss: 0.201491 \t Time: 10s\r\tTrain Loss: 0.200334 \t Time: 10s"
     ]
    },
    {
     "name": "stdout",
     "output_type": "stream",
     "text": [
      "\r\tTrain Loss: 0.199094 \t Time: 10s\r\tTrain Loss: 0.201919 \t Time: 10s"
     ]
    },
    {
     "name": "stdout",
     "output_type": "stream",
     "text": [
      "\r\tTrain Loss: 0.211097 \t Time: 11s\r\tTrain Loss: 0.211430 \t Time: 11s"
     ]
    },
    {
     "name": "stdout",
     "output_type": "stream",
     "text": [
      "\r\tTrain Loss: 0.214797 \t Time: 11s\r\tTrain Loss: 0.214394 \t Time: 11s"
     ]
    },
    {
     "name": "stdout",
     "output_type": "stream",
     "text": [
      "\r\tTrain Loss: 0.214070 \t Time: 11s\r\tTrain Loss: 0.212843 \t Time: 12s"
     ]
    },
    {
     "name": "stdout",
     "output_type": "stream",
     "text": [
      "\r\tTrain Loss: 0.214649 \t Time: 12s\r\tTrain Loss: 0.213418 \t Time: 12s"
     ]
    },
    {
     "name": "stdout",
     "output_type": "stream",
     "text": [
      "\r\tTrain Loss: 0.214202 \t Time: 12s\r\tTrain Loss: 0.213765 \t Time: 12s"
     ]
    },
    {
     "name": "stdout",
     "output_type": "stream",
     "text": [
      "\r\tTrain Loss: 0.212711 \t Time: 13s\r\tTrain Loss: 0.211845 \t Time: 13s"
     ]
    },
    {
     "name": "stdout",
     "output_type": "stream",
     "text": [
      "\r\tTrain Loss: 0.211330 \t Time: 13s\r\tTrain Loss: 0.212119 \t Time: 13s"
     ]
    },
    {
     "name": "stdout",
     "output_type": "stream",
     "text": [
      "\r\tTrain Loss: 0.211865 \t Time: 13s\r\tTrain Loss: 0.211607 \t Time: 13s"
     ]
    },
    {
     "name": "stdout",
     "output_type": "stream",
     "text": [
      "\r\tTrain Loss: 0.214672 \t Time: 14s\r\tTrain Loss: 0.213727 \t Time: 14s"
     ]
    },
    {
     "name": "stdout",
     "output_type": "stream",
     "text": [
      "\r\tTrain Loss: 0.212864 \t Time: 14s\r\tTrain Loss: 0.213922 \t Time: 14s"
     ]
    },
    {
     "name": "stdout",
     "output_type": "stream",
     "text": [
      "\r\tTrain Loss: 0.213507 \t Time: 14s\r\tTrain Loss: 0.215729 \t Time: 15s"
     ]
    },
    {
     "name": "stdout",
     "output_type": "stream",
     "text": [
      "\r\tTrain Loss: 0.216023 \t Time: 15s\r\tTrain Loss: 0.215294 \t Time: 15s"
     ]
    },
    {
     "name": "stdout",
     "output_type": "stream",
     "text": [
      "\r\tTrain Loss: 0.216932 \t Time: 15s\r\tTrain Loss: 0.216397 \t Time: 15s"
     ]
    },
    {
     "name": "stdout",
     "output_type": "stream",
     "text": [
      "\r\tTrain Loss: 0.215476 \t Time: 16s\r\tTrain Loss: 0.216548 \t Time: 16s"
     ]
    },
    {
     "name": "stdout",
     "output_type": "stream",
     "text": [
      "\r\tTrain Loss: 0.216581 \t Time: 16s\r\tTrain Loss: 0.215659 \t Time: 16s"
     ]
    },
    {
     "name": "stdout",
     "output_type": "stream",
     "text": [
      "\r\tTrain Loss: 0.217147 \t Time: 16s\r\tTrain Loss: 0.218976 \t Time: 17s"
     ]
    },
    {
     "name": "stdout",
     "output_type": "stream",
     "text": [
      "\r\tTrain Loss: 0.220875 \t Time: 17s\r\tTrain Loss: 0.220322 \t Time: 17s"
     ]
    },
    {
     "name": "stdout",
     "output_type": "stream",
     "text": [
      "\r\tTrain Loss: 0.222164 \t Time: 17s\r\tTrain Loss: 0.222145 \t Time: 17s"
     ]
    },
    {
     "name": "stdout",
     "output_type": "stream",
     "text": [
      "\r\tTrain Loss: 0.223581 \t Time: 18s"
     ]
    },
    {
     "name": "stdout",
     "output_type": "stream",
     "text": [
      "\r\tTrain Loss: 0.224722 \t Time: 18s\r\tTrain Loss: 0.223800 \t Time: 18s"
     ]
    },
    {
     "name": "stdout",
     "output_type": "stream",
     "text": [
      "\r\tTrain Loss: 0.223735 \t Time: 18s\r\tTrain Loss: 0.224463 \t Time: 18s"
     ]
    },
    {
     "name": "stdout",
     "output_type": "stream",
     "text": [
      "\r\tTrain Loss: 0.223803 \t Time: 19s\r\tTrain Loss: 0.223475 \t Time: 19s"
     ]
    },
    {
     "name": "stdout",
     "output_type": "stream",
     "text": [
      "\r\tTrain Loss: 0.224519 \t Time: 19s\r\tTrain Loss: 0.225358 \t Time: 19s"
     ]
    },
    {
     "name": "stdout",
     "output_type": "stream",
     "text": [
      "\r\tTrain Loss: 0.224566 \t Time: 19s\r\tTrain Loss: 0.224225 \t Time: 20s"
     ]
    },
    {
     "name": "stdout",
     "output_type": "stream",
     "text": [
      "\r\tTrain Loss: 0.224313 \t Time: 20s\r\tTrain Loss: 0.224039 \t Time: 20s"
     ]
    },
    {
     "name": "stdout",
     "output_type": "stream",
     "text": [
      "\r\tTrain Loss: 0.224956 \t Time: 20s\r\tTrain Loss: 0.226017 \t Time: 20s"
     ]
    },
    {
     "name": "stdout",
     "output_type": "stream",
     "text": [
      "\r\tTrain Loss: 0.227150 \t Time: 21s\r\tTrain Loss: 0.227814 \t Time: 21s"
     ]
    },
    {
     "name": "stdout",
     "output_type": "stream",
     "text": [
      "\r\tTrain Loss: 0.227151 \t Time: 21s\r\tTrain Loss: 0.227134 \t Time: 21s"
     ]
    },
    {
     "name": "stdout",
     "output_type": "stream",
     "text": [
      "\r\tTrain Loss: 0.228611 \t Time: 21s\r\tTrain Loss: 0.228240 \t Time: 22s"
     ]
    },
    {
     "name": "stdout",
     "output_type": "stream",
     "text": [
      "\r\tTrain Loss: 0.227728 \t Time: 22s\r\tTrain Loss: 0.228325 \t Time: 22s"
     ]
    },
    {
     "name": "stdout",
     "output_type": "stream",
     "text": [
      "\r\tTrain Loss: 0.227946 \t Time: 22s\r\tTrain Loss: 0.227204 \t Time: 22s"
     ]
    },
    {
     "name": "stdout",
     "output_type": "stream",
     "text": [
      "\r\tTrain Loss: 0.226441 \t Time: 23s\r\tTrain Loss: 0.227858 \t Time: 23s"
     ]
    },
    {
     "name": "stdout",
     "output_type": "stream",
     "text": [
      "\r\tTrain Loss: 0.228430 \t Time: 23s\r\tTrain Loss: 0.228061 \t Time: 23s"
     ]
    },
    {
     "name": "stdout",
     "output_type": "stream",
     "text": [
      "\r\tTrain Loss: 0.227285 \t Time: 23s\r\tTrain Loss: 0.228128 \t Time: 24s"
     ]
    },
    {
     "name": "stdout",
     "output_type": "stream",
     "text": [
      "\r\tTrain Loss: 0.228157 \t Time: 24s\r\tTrain Loss: 0.227752 \t Time: 24s"
     ]
    },
    {
     "name": "stdout",
     "output_type": "stream",
     "text": [
      "\r\tTrain Loss: 0.228407 \t Time: 24s"
     ]
    },
    {
     "name": "stdout",
     "output_type": "stream",
     "text": [
      "\r\tTrain Loss: 0.229309 \t Time: 24s\r\tTrain Loss: 0.229748 \t Time: 25s\n"
     ]
    },
    {
     "name": "stdout",
     "output_type": "stream",
     "text": [
      "\tTest Loss: 0.266671 \t Time: 0s\n\t Input: раины.\n\r\n\rюлия тимошенко не будет  \t Result: юлия тимошенко \t From train: 1\n\t Input: ии палаты владимир федоткин , его зам \t Result: владимир федоткин \t From train: 1\n\t Input: ированный источник\", сообщал \t Result: источник \t From train: 1\n"
     ]
    },
    {
     "name": "stdout",
     "output_type": "stream",
     "text": [
      "\t Input:  руслан и сулим получили  \t Result: сулим \t From train: 1\n\t Input: ссертации ливанов начал раб \t Result: ливановов \t From train: 0\nEpoch 2\n"
     ]
    },
    {
     "name": "stdout",
     "output_type": "stream",
     "text": [
      "\r\tTrain Loss: 0.414698 \t Time: 0s\r\tTrain Loss: 0.333358 \t Time: 0s"
     ]
    },
    {
     "name": "stdout",
     "output_type": "stream",
     "text": [
      "\r\tTrain Loss: 0.319909 \t Time: 0s\r\tTrain Loss: 0.339597 \t Time: 0s"
     ]
    },
    {
     "name": "stdout",
     "output_type": "stream",
     "text": [
      "\r\tTrain Loss: 0.318701 \t Time: 0s\r\tTrain Loss: 0.295811 \t Time: 1s"
     ]
    },
    {
     "name": "stdout",
     "output_type": "stream",
     "text": [
      "\r\tTrain Loss: 0.293169 \t Time: 1s\r\tTrain Loss: 0.306590 \t Time: 1s"
     ]
    },
    {
     "name": "stdout",
     "output_type": "stream",
     "text": [
      "\r\tTrain Loss: 0.310321 \t Time: 1s\r\tTrain Loss: 0.311196 \t Time: 1s"
     ]
    },
    {
     "name": "stdout",
     "output_type": "stream",
     "text": [
      "\r\tTrain Loss: 0.297798 \t Time: 2s\r\tTrain Loss: 0.287017 \t Time: 2s"
     ]
    },
    {
     "name": "stdout",
     "output_type": "stream",
     "text": [
      "\r\tTrain Loss: 0.289617 \t Time: 2s\r\tTrain Loss: 0.299340 \t Time: 2s"
     ]
    },
    {
     "name": "stdout",
     "output_type": "stream",
     "text": [
      "\r\tTrain Loss: 0.291701 \t Time: 2s\r\tTrain Loss: 0.294748 \t Time: 3s"
     ]
    },
    {
     "name": "stdout",
     "output_type": "stream",
     "text": [
      "\r\tTrain Loss: 0.294222 \t Time: 3s\r\tTrain Loss: 0.295469 \t Time: 3s"
     ]
    },
    {
     "name": "stdout",
     "output_type": "stream",
     "text": [
      "\r\tTrain Loss: 0.288415 \t Time: 3s\r\tTrain Loss: 0.280826 \t Time: 3s"
     ]
    },
    {
     "name": "stdout",
     "output_type": "stream",
     "text": [
      "\r\tTrain Loss: 0.277755 \t Time: 4s\r\tTrain Loss: 0.271929 \t Time: 4s"
     ]
    },
    {
     "name": "stdout",
     "output_type": "stream",
     "text": [
      "\r\tTrain Loss: 0.265662 \t Time: 4s\r\tTrain Loss: 0.262775 \t Time: 4s"
     ]
    },
    {
     "name": "stdout",
     "output_type": "stream",
     "text": [
      "\r\tTrain Loss: 0.257586 \t Time: 4s\r\tTrain Loss: 0.261744 \t Time: 5s"
     ]
    },
    {
     "name": "stdout",
     "output_type": "stream",
     "text": [
      "\r\tTrain Loss: 0.265805 \t Time: 5s\r\tTrain Loss: 0.267963 \t Time: 5s"
     ]
    },
    {
     "name": "stdout",
     "output_type": "stream",
     "text": [
      "\r\tTrain Loss: 0.264622 \t Time: 5s\r\tTrain Loss: 0.266659 \t Time: 5s"
     ]
    },
    {
     "name": "stdout",
     "output_type": "stream",
     "text": [
      "\r\tTrain Loss: 0.264370 \t Time: 6s\r\tTrain Loss: 0.267356 \t Time: 6s"
     ]
    },
    {
     "name": "stdout",
     "output_type": "stream",
     "text": [
      "\r\tTrain Loss: 0.264688 \t Time: 6s\r\tTrain Loss: 0.265054 \t Time: 6s"
     ]
    },
    {
     "name": "stdout",
     "output_type": "stream",
     "text": [
      "\r\tTrain Loss: 0.262167 \t Time: 6s\r\tTrain Loss: 0.259097 \t Time: 6s"
     ]
    },
    {
     "name": "stdout",
     "output_type": "stream",
     "text": [
      "\r\tTrain Loss: 0.255473 \t Time: 7s\r\tTrain Loss: 0.253292 \t Time: 7s"
     ]
    },
    {
     "name": "stdout",
     "output_type": "stream",
     "text": [
      "\r\tTrain Loss: 0.253645 \t Time: 7s\r\tTrain Loss: 0.254673 \t Time: 7s"
     ]
    },
    {
     "name": "stdout",
     "output_type": "stream",
     "text": [
      "\r\tTrain Loss: 0.253225 \t Time: 8s\r\tTrain Loss: 0.253585 \t Time: 8s"
     ]
    },
    {
     "name": "stdout",
     "output_type": "stream",
     "text": [
      "\r\tTrain Loss: 0.251079 \t Time: 8s\r\tTrain Loss: 0.252352 \t Time: 8s"
     ]
    },
    {
     "name": "stdout",
     "output_type": "stream",
     "text": [
      "\r\tTrain Loss: 0.255527 \t Time: 8s\r\tTrain Loss: 0.256542 \t Time: 8s"
     ]
    },
    {
     "name": "stdout",
     "output_type": "stream",
     "text": [
      "\r\tTrain Loss: 0.259320 \t Time: 9s\r\tTrain Loss: 0.258033 \t Time: 9s"
     ]
    },
    {
     "name": "stdout",
     "output_type": "stream",
     "text": [
      "\r\tTrain Loss: 0.257030 \t Time: 9s\r\tTrain Loss: 0.255059 \t Time: 9s"
     ]
    },
    {
     "name": "stdout",
     "output_type": "stream",
     "text": [
      "\r\tTrain Loss: 0.254826 \t Time: 9s\r\tTrain Loss: 0.254187 \t Time: 10s"
     ]
    },
    {
     "name": "stdout",
     "output_type": "stream",
     "text": [
      "\r\tTrain Loss: 0.251912 \t Time: 10s\r\tTrain Loss: 0.252424 \t Time: 10s"
     ]
    },
    {
     "name": "stdout",
     "output_type": "stream",
     "text": [
      "\r\tTrain Loss: 0.252708 \t Time: 10s\r\tTrain Loss: 0.253304 \t Time: 10s"
     ]
    },
    {
     "name": "stdout",
     "output_type": "stream",
     "text": [
      "\r\tTrain Loss: 0.251929 \t Time: 11s\r\tTrain Loss: 0.249878 \t Time: 11s"
     ]
    },
    {
     "name": "stdout",
     "output_type": "stream",
     "text": [
      "\r\tTrain Loss: 0.248533 \t Time: 11s\r\tTrain Loss: 0.249898 \t Time: 11s"
     ]
    },
    {
     "name": "stdout",
     "output_type": "stream",
     "text": [
      "\r\tTrain Loss: 0.250600 \t Time: 11s\r\tTrain Loss: 0.251633 \t Time: 12s"
     ]
    },
    {
     "name": "stdout",
     "output_type": "stream",
     "text": [
      "\r\tTrain Loss: 0.252784 \t Time: 12s\r\tTrain Loss: 0.255026 \t Time: 12s"
     ]
    },
    {
     "name": "stdout",
     "output_type": "stream",
     "text": [
      "\r\tTrain Loss: 0.253549 \t Time: 12s\r\tTrain Loss: 0.254553 \t Time: 12s"
     ]
    },
    {
     "name": "stdout",
     "output_type": "stream",
     "text": [
      "\r\tTrain Loss: 0.253583 \t Time: 13s\r\tTrain Loss: 0.252058 \t Time: 13s"
     ]
    },
    {
     "name": "stdout",
     "output_type": "stream",
     "text": [
      "\r\tTrain Loss: 0.250589 \t Time: 13s\r\tTrain Loss: 0.249898 \t Time: 13s"
     ]
    },
    {
     "name": "stdout",
     "output_type": "stream",
     "text": [
      "\r\tTrain Loss: 0.248280 \t Time: 13s\r\tTrain Loss: 0.249230 \t Time: 14s"
     ]
    },
    {
     "name": "stdout",
     "output_type": "stream",
     "text": [
      "\r\tTrain Loss: 0.248432 \t Time: 14s\r\tTrain Loss: 0.247217 \t Time: 14s"
     ]
    },
    {
     "name": "stdout",
     "output_type": "stream",
     "text": [
      "\r\tTrain Loss: 0.248182 \t Time: 14s\r\tTrain Loss: 0.247159 \t Time: 14s"
     ]
    },
    {
     "name": "stdout",
     "output_type": "stream",
     "text": [
      "\r\tTrain Loss: 0.248064 \t Time: 15s"
     ]
    },
    {
     "name": "stdout",
     "output_type": "stream",
     "text": [
      "\r\tTrain Loss: 0.248115 \t Time: 15s\r\tTrain Loss: 0.246828 \t Time: 15s"
     ]
    },
    {
     "name": "stdout",
     "output_type": "stream",
     "text": [
      "\r\tTrain Loss: 0.247646 \t Time: 15s\r\tTrain Loss: 0.246735 \t Time: 15s"
     ]
    },
    {
     "name": "stdout",
     "output_type": "stream",
     "text": [
      "\r\tTrain Loss: 0.247226 \t Time: 15s\r\tTrain Loss: 0.246527 \t Time: 16s"
     ]
    },
    {
     "name": "stdout",
     "output_type": "stream",
     "text": [
      "\r\tTrain Loss: 0.245428 \t Time: 16s\r\tTrain Loss: 0.244185 \t Time: 16s"
     ]
    },
    {
     "name": "stdout",
     "output_type": "stream",
     "text": [
      "\r\tTrain Loss: 0.243213 \t Time: 16s\r\tTrain Loss: 0.244142 \t Time: 16s"
     ]
    },
    {
     "name": "stdout",
     "output_type": "stream",
     "text": [
      "\r\tTrain Loss: 0.245513 \t Time: 17s\r\tTrain Loss: 0.245763 \t Time: 17s"
     ]
    },
    {
     "name": "stdout",
     "output_type": "stream",
     "text": [
      "\r\tTrain Loss: 0.246443 \t Time: 17s\r\tTrain Loss: 0.245676 \t Time: 17s"
     ]
    },
    {
     "name": "stdout",
     "output_type": "stream",
     "text": [
      "\r\tTrain Loss: 0.246037 \t Time: 17s\r\tTrain Loss: 0.245471 \t Time: 18s"
     ]
    },
    {
     "name": "stdout",
     "output_type": "stream",
     "text": [
      "\r\tTrain Loss: 0.244352 \t Time: 18s\r\tTrain Loss: 0.244954 \t Time: 18s"
     ]
    },
    {
     "name": "stdout",
     "output_type": "stream",
     "text": [
      "\r\tTrain Loss: 0.246325 \t Time: 18s\r\tTrain Loss: 0.245389 \t Time: 18s"
     ]
    },
    {
     "name": "stdout",
     "output_type": "stream",
     "text": [
      "\r\tTrain Loss: 0.246686 \t Time: 19s\r\tTrain Loss: 0.245804 \t Time: 19s"
     ]
    },
    {
     "name": "stdout",
     "output_type": "stream",
     "text": [
      "\r\tTrain Loss: 0.244813 \t Time: 19s\r\tTrain Loss: 0.246146 \t Time: 19s"
     ]
    },
    {
     "name": "stdout",
     "output_type": "stream",
     "text": [
      "\r\tTrain Loss: 0.246900 \t Time: 19s\r\tTrain Loss: 0.246399 \t Time: 20s"
     ]
    },
    {
     "name": "stdout",
     "output_type": "stream",
     "text": [
      "\r\tTrain Loss: 0.245558 \t Time: 20s\r\tTrain Loss: 0.244472 \t Time: 20s"
     ]
    },
    {
     "name": "stdout",
     "output_type": "stream",
     "text": [
      "\r\tTrain Loss: 0.244914 \t Time: 20s\r\tTrain Loss: 0.245640 \t Time: 20s"
     ]
    },
    {
     "name": "stdout",
     "output_type": "stream",
     "text": [
      "\r\tTrain Loss: 0.245051 \t Time: 21s\r\tTrain Loss: 0.245077 \t Time: 21s"
     ]
    },
    {
     "name": "stdout",
     "output_type": "stream",
     "text": [
      "\r\tTrain Loss: 0.246012 \t Time: 21s\r\tTrain Loss: 0.246427 \t Time: 21s"
     ]
    },
    {
     "name": "stdout",
     "output_type": "stream",
     "text": [
      "\r\tTrain Loss: 0.248404 \t Time: 21s\r\tTrain Loss: 0.248220 \t Time: 22s"
     ]
    },
    {
     "name": "stdout",
     "output_type": "stream",
     "text": [
      "\r\tTrain Loss: 0.247566 \t Time: 22s\r\tTrain Loss: 0.247856 \t Time: 22s"
     ]
    },
    {
     "name": "stdout",
     "output_type": "stream",
     "text": [
      "\r\tTrain Loss: 0.246982 \t Time: 22s\r\tTrain Loss: 0.246194 \t Time: 22s"
     ]
    },
    {
     "name": "stdout",
     "output_type": "stream",
     "text": [
      "\r\tTrain Loss: 0.245161 \t Time: 22s\r\tTrain Loss: 0.245263 \t Time: 23s"
     ]
    },
    {
     "name": "stdout",
     "output_type": "stream",
     "text": [
      "\r\tTrain Loss: 0.246200 \t Time: 23s\r\tTrain Loss: 0.245434 \t Time: 23s"
     ]
    },
    {
     "name": "stdout",
     "output_type": "stream",
     "text": [
      "\r\tTrain Loss: 0.245946 \t Time: 23s\r\tTrain Loss: 0.244982 \t Time: 23s"
     ]
    },
    {
     "name": "stdout",
     "output_type": "stream",
     "text": [
      "\r\tTrain Loss: 0.246005 \t Time: 24s\r\tTrain Loss: 0.246769 \t Time: 24s"
     ]
    },
    {
     "name": "stdout",
     "output_type": "stream",
     "text": [
      "\r\tTrain Loss: 0.247595 \t Time: 24s\r\tTrain Loss: 0.247222 \t Time: 24s\n"
     ]
    },
    {
     "name": "stdout",
     "output_type": "stream",
     "text": [
      "\tTest Loss: 0.233426 \t Time: 0s\n\t Input: ретариата касьянова в правите \t Result: касьянов \t From train: 1\n\t Input: ца, дево, путина прогони\", \t Result: путин \t From train: 1\n\t Input: авляемого куловым правитель \t Result: кулов \t From train: 1\n"
     ]
    },
    {
     "name": "stdout",
     "output_type": "stream",
     "text": [
      "\t Input: гозин.\n\r\n\rв.сурков пришел в  \t Result: в сурков \t From train: 1\n\t Input: а также и шона салливана, имевшего \t Result: шон салливан \t From train: 1\nEpoch 3\n"
     ]
    },
    {
     "name": "stdout",
     "output_type": "stream",
     "text": [
      "\r\tTrain Loss: 0.291605 \t Time: 0s"
     ]
    },
    {
     "name": "stdout",
     "output_type": "stream",
     "text": [
      "\r\tTrain Loss: 0.309512 \t Time: 0s\r\tTrain Loss: 0.276493 \t Time: 0s"
     ]
    },
    {
     "name": "stdout",
     "output_type": "stream",
     "text": [
      "\r\tTrain Loss: 0.250652 \t Time: 0s\r\tTrain Loss: 0.230103 \t Time: 0s"
     ]
    },
    {
     "name": "stdout",
     "output_type": "stream",
     "text": [
      "\r\tTrain Loss: 0.258550 \t Time: 1s\r\tTrain Loss: 0.274154 \t Time: 1s"
     ]
    },
    {
     "name": "stdout",
     "output_type": "stream",
     "text": [
      "\r\tTrain Loss: 0.264556 \t Time: 1s\r\tTrain Loss: 0.254613 \t Time: 1s"
     ]
    },
    {
     "name": "stdout",
     "output_type": "stream",
     "text": [
      "\r\tTrain Loss: 0.246882 \t Time: 1s"
     ]
    },
    {
     "name": "stdout",
     "output_type": "stream",
     "text": [
      "\r\tTrain Loss: 0.249740 \t Time: 2s\r\tTrain Loss: 0.251710 \t Time: 2s"
     ]
    },
    {
     "name": "stdout",
     "output_type": "stream",
     "text": [
      "\r\tTrain Loss: 0.260629 \t Time: 2s\r\tTrain Loss: 0.266451 \t Time: 2s"
     ]
    },
    {
     "name": "stdout",
     "output_type": "stream",
     "text": [
      "\r\tTrain Loss: 0.268405 \t Time: 2s\r\tTrain Loss: 0.270727 \t Time: 3s"
     ]
    },
    {
     "name": "stdout",
     "output_type": "stream",
     "text": [
      "\r\tTrain Loss: 0.265121 \t Time: 3s\r\tTrain Loss: 0.258818 \t Time: 3s"
     ]
    },
    {
     "name": "stdout",
     "output_type": "stream",
     "text": [
      "\r\tTrain Loss: 0.260215 \t Time: 3s\r\tTrain Loss: 0.264617 \t Time: 3s"
     ]
    },
    {
     "name": "stdout",
     "output_type": "stream",
     "text": [
      "\r\tTrain Loss: 0.261514 \t Time: 4s\r\tTrain Loss: 0.264193 \t Time: 4s"
     ]
    },
    {
     "name": "stdout",
     "output_type": "stream",
     "text": [
      "\r\tTrain Loss: 0.267393 \t Time: 4s\r\tTrain Loss: 0.263218 \t Time: 4s"
     ]
    },
    {
     "name": "stdout",
     "output_type": "stream",
     "text": [
      "\r\tTrain Loss: 0.260495 \t Time: 4s\r\tTrain Loss: 0.261620 \t Time: 5s"
     ]
    },
    {
     "name": "stdout",
     "output_type": "stream",
     "text": [
      "\r\tTrain Loss: 0.258512 \t Time: 5s\r\tTrain Loss: 0.260358 \t Time: 5s"
     ]
    },
    {
     "name": "stdout",
     "output_type": "stream",
     "text": [
      "\r\tTrain Loss: 0.255947 \t Time: 5s\r\tTrain Loss: 0.259415 \t Time: 5s"
     ]
    },
    {
     "name": "stdout",
     "output_type": "stream",
     "text": [
      "\r\tTrain Loss: 0.258187 \t Time: 6s\r\tTrain Loss: 0.260838 \t Time: 6s"
     ]
    },
    {
     "name": "stdout",
     "output_type": "stream",
     "text": [
      "\r\tTrain Loss: 0.261758 \t Time: 6s"
     ]
    },
    {
     "name": "stdout",
     "output_type": "stream",
     "text": [
      "\r\tTrain Loss: 0.257598 \t Time: 6s\r\tTrain Loss: 0.257158 \t Time: 6s"
     ]
    },
    {
     "name": "stdout",
     "output_type": "stream",
     "text": [
      "\r\tTrain Loss: 0.258818 \t Time: 7s\r\tTrain Loss: 0.260986 \t Time: 7s"
     ]
    },
    {
     "name": "stdout",
     "output_type": "stream",
     "text": [
      "\r\tTrain Loss: 0.258899 \t Time: 7s\r\tTrain Loss: 0.256801 \t Time: 7s"
     ]
    },
    {
     "name": "stdout",
     "output_type": "stream",
     "text": [
      "\r\tTrain Loss: 0.253686 \t Time: 7s\r\tTrain Loss: 0.251461 \t Time: 7s"
     ]
    },
    {
     "name": "stdout",
     "output_type": "stream",
     "text": [
      "\r\tTrain Loss: 0.249926 \t Time: 8s\r\tTrain Loss: 0.247853 \t Time: 8s"
     ]
    },
    {
     "name": "stdout",
     "output_type": "stream",
     "text": [
      "\r\tTrain Loss: 0.245135 \t Time: 8s\r\tTrain Loss: 0.247121 \t Time: 8s"
     ]
    },
    {
     "name": "stdout",
     "output_type": "stream",
     "text": [
      "\r\tTrain Loss: 0.245050 \t Time: 8s\r\tTrain Loss: 0.247622 \t Time: 9s"
     ]
    },
    {
     "name": "stdout",
     "output_type": "stream",
     "text": [
      "\r\tTrain Loss: 0.246043 \t Time: 9s\r\tTrain Loss: 0.243867 \t Time: 9s"
     ]
    },
    {
     "name": "stdout",
     "output_type": "stream",
     "text": [
      "\r\tTrain Loss: 0.242319 \t Time: 9s\r\tTrain Loss: 0.240804 \t Time: 9s"
     ]
    },
    {
     "name": "stdout",
     "output_type": "stream",
     "text": [
      "\r\tTrain Loss: 0.244193 \t Time: 10s\r\tTrain Loss: 0.245695 \t Time: 10s"
     ]
    },
    {
     "name": "stdout",
     "output_type": "stream",
     "text": [
      "\r\tTrain Loss: 0.243455 \t Time: 10s\r\tTrain Loss: 0.242200 \t Time: 10s"
     ]
    },
    {
     "name": "stdout",
     "output_type": "stream",
     "text": [
      "\r\tTrain Loss: 0.245736 \t Time: 10s\r\tTrain Loss: 0.245181 \t Time: 11s"
     ]
    },
    {
     "name": "stdout",
     "output_type": "stream",
     "text": [
      "\r\tTrain Loss: 0.246798 \t Time: 11s\r\tTrain Loss: 0.245266 \t Time: 11s"
     ]
    },
    {
     "name": "stdout",
     "output_type": "stream",
     "text": [
      "\r\tTrain Loss: 0.243345 \t Time: 11s\r\tTrain Loss: 0.241964 \t Time: 11s"
     ]
    },
    {
     "name": "stdout",
     "output_type": "stream",
     "text": [
      "\r\tTrain Loss: 0.240592 \t Time: 12s\r\tTrain Loss: 0.242302 \t Time: 12s"
     ]
    },
    {
     "name": "stdout",
     "output_type": "stream",
     "text": [
      "\r\tTrain Loss: 0.245404 \t Time: 12s\r\tTrain Loss: 0.244025 \t Time: 12s"
     ]
    },
    {
     "name": "stdout",
     "output_type": "stream",
     "text": [
      "\r\tTrain Loss: 0.242271 \t Time: 12s\r\tTrain Loss: 0.240619 \t Time: 13s"
     ]
    },
    {
     "name": "stdout",
     "output_type": "stream",
     "text": [
      "\r\tTrain Loss: 0.239597 \t Time: 13s\r\tTrain Loss: 0.240418 \t Time: 13s"
     ]
    },
    {
     "name": "stdout",
     "output_type": "stream",
     "text": [
      "\r\tTrain Loss: 0.240433 \t Time: 13s\r\tTrain Loss: 0.239291 \t Time: 13s"
     ]
    },
    {
     "name": "stdout",
     "output_type": "stream",
     "text": [
      "\r\tTrain Loss: 0.242654 \t Time: 13s\r\tTrain Loss: 0.241695 \t Time: 14s"
     ]
    },
    {
     "name": "stdout",
     "output_type": "stream",
     "text": [
      "\r\tTrain Loss: 0.240327 \t Time: 14s\r\tTrain Loss: 0.241294 \t Time: 14s"
     ]
    },
    {
     "name": "stdout",
     "output_type": "stream",
     "text": [
      "\r\tTrain Loss: 0.240448 \t Time: 14s\r\tTrain Loss: 0.239653 \t Time: 14s"
     ]
    },
    {
     "name": "stdout",
     "output_type": "stream",
     "text": [
      "\r\tTrain Loss: 0.239945 \t Time: 15s\r\tTrain Loss: 0.240991 \t Time: 15s"
     ]
    },
    {
     "name": "stdout",
     "output_type": "stream",
     "text": [
      "\r\tTrain Loss: 0.239845 \t Time: 15s\r\tTrain Loss: 0.241571 \t Time: 15s"
     ]
    },
    {
     "name": "stdout",
     "output_type": "stream",
     "text": [
      "\r\tTrain Loss: 0.242683 \t Time: 15s\r\tTrain Loss: 0.242046 \t Time: 16s"
     ]
    },
    {
     "name": "stdout",
     "output_type": "stream",
     "text": [
      "\r\tTrain Loss: 0.243098 \t Time: 16s\r\tTrain Loss: 0.245112 \t Time: 16s"
     ]
    },
    {
     "name": "stdout",
     "output_type": "stream",
     "text": [
      "\r\tTrain Loss: 0.243938 \t Time: 16s\r\tTrain Loss: 0.245277 \t Time: 16s"
     ]
    },
    {
     "name": "stdout",
     "output_type": "stream",
     "text": [
      "\r\tTrain Loss: 0.246164 \t Time: 17s\r\tTrain Loss: 0.245170 \t Time: 17s"
     ]
    },
    {
     "name": "stdout",
     "output_type": "stream",
     "text": [
      "\r\tTrain Loss: 0.244167 \t Time: 17s\r\tTrain Loss: 0.243058 \t Time: 17s"
     ]
    },
    {
     "name": "stdout",
     "output_type": "stream",
     "text": [
      "\r\tTrain Loss: 0.242203 \t Time: 17s"
     ]
    },
    {
     "name": "stdout",
     "output_type": "stream",
     "text": [
      "\r\tTrain Loss: 0.243490 \t Time: 18s\r\tTrain Loss: 0.242924 \t Time: 18s"
     ]
    },
    {
     "name": "stdout",
     "output_type": "stream",
     "text": [
      "\r\tTrain Loss: 0.244339 \t Time: 18s\r\tTrain Loss: 0.243613 \t Time: 18s"
     ]
    },
    {
     "name": "stdout",
     "output_type": "stream",
     "text": [
      "\r\tTrain Loss: 0.243906 \t Time: 18s\r\tTrain Loss: 0.243897 \t Time: 19s"
     ]
    },
    {
     "name": "stdout",
     "output_type": "stream",
     "text": [
      "\r\tTrain Loss: 0.244979 \t Time: 19s\r\tTrain Loss: 0.245738 \t Time: 19s"
     ]
    },
    {
     "name": "stdout",
     "output_type": "stream",
     "text": [
      "\r\tTrain Loss: 0.247112 \t Time: 19s\r\tTrain Loss: 0.248348 \t Time: 19s"
     ]
    },
    {
     "name": "stdout",
     "output_type": "stream",
     "text": [
      "\r\tTrain Loss: 0.249743 \t Time: 20s\r\tTrain Loss: 0.250829 \t Time: 20s"
     ]
    },
    {
     "name": "stdout",
     "output_type": "stream",
     "text": [
      "\r\tTrain Loss: 0.252112 \t Time: 20s\r\tTrain Loss: 0.251591 \t Time: 20s"
     ]
    },
    {
     "name": "stdout",
     "output_type": "stream",
     "text": [
      "\r\tTrain Loss: 0.250568 \t Time: 20s\r\tTrain Loss: 0.249650 \t Time: 21s"
     ]
    },
    {
     "name": "stdout",
     "output_type": "stream",
     "text": [
      "\r\tTrain Loss: 0.249958 \t Time: 21s\r\tTrain Loss: 0.250740 \t Time: 21s"
     ]
    },
    {
     "name": "stdout",
     "output_type": "stream",
     "text": [
      "\r\tTrain Loss: 0.251451 \t Time: 21s\r\tTrain Loss: 0.251841 \t Time: 21s"
     ]
    },
    {
     "name": "stdout",
     "output_type": "stream",
     "text": [
      "\r\tTrain Loss: 0.251018 \t Time: 22s\r\tTrain Loss: 0.250739 \t Time: 22s"
     ]
    },
    {
     "name": "stdout",
     "output_type": "stream",
     "text": [
      "\r\tTrain Loss: 0.251520 \t Time: 22s\r\tTrain Loss: 0.252984 \t Time: 22s"
     ]
    },
    {
     "name": "stdout",
     "output_type": "stream",
     "text": [
      "\r\tTrain Loss: 0.252476 \t Time: 22s\r\tTrain Loss: 0.252851 \t Time: 23s"
     ]
    },
    {
     "name": "stdout",
     "output_type": "stream",
     "text": [
      "\r\tTrain Loss: 0.252516 \t Time: 23s\r\tTrain Loss: 0.251774 \t Time: 23s"
     ]
    },
    {
     "name": "stdout",
     "output_type": "stream",
     "text": [
      "\r\tTrain Loss: 0.252153 \t Time: 23s\r\tTrain Loss: 0.252826 \t Time: 23s"
     ]
    },
    {
     "name": "stdout",
     "output_type": "stream",
     "text": [
      "\r\tTrain Loss: 0.253713 \t Time: 23s\r\tTrain Loss: 0.253067 \t Time: 24s"
     ]
    },
    {
     "name": "stdout",
     "output_type": "stream",
     "text": [
      "\r\tTrain Loss: 0.252365 \t Time: 24s\r\tTrain Loss: 0.251307 \t Time: 24s"
     ]
    },
    {
     "name": "stdout",
     "output_type": "stream",
     "text": [
      "\r\tTrain Loss: 0.250555 \t Time: 24s\n"
     ]
    },
    {
     "name": "stdout",
     "output_type": "stream",
     "text": [
      "\tTest Loss: 0.228873 \t Time: 0s\n\t Input: цназа гру эдуардом ульманом , предста \t Result: эдуард ульман \t From train: 1\n\t Input:  его брат владимир басманов - национа \t Result: владимир басманов \t From train: 1\n\t Input: арднадзе, гиоргадзе был уволе \t Result: гиоргадзе \t From train: 1\n"
     ]
    },
    {
     "name": "stdout",
     "output_type": "stream",
     "text": [
      "\t Input: озглавлял борис алешин.\u20281 декабр \t Result: борис алешин \t From train: 0\n\t Input: келя (сам френкель утвержден \t Result: френкель \t From train: 1\nEpoch 4\n"
     ]
    },
    {
     "name": "stdout",
     "output_type": "stream",
     "text": [
      "\r\tTrain Loss: 0.329758 \t Time: 0s"
     ]
    },
    {
     "name": "stdout",
     "output_type": "stream",
     "text": [
      "\r\tTrain Loss: 0.336983 \t Time: 0s\r\tTrain Loss: 0.312008 \t Time: 0s"
     ]
    },
    {
     "name": "stdout",
     "output_type": "stream",
     "text": [
      "\r\tTrain Loss: 0.271822 \t Time: 0s\r\tTrain Loss: 0.291287 \t Time: 1s"
     ]
    },
    {
     "name": "stdout",
     "output_type": "stream",
     "text": [
      "\r\tTrain Loss: 0.268367 \t Time: 1s\r\tTrain Loss: 0.249029 \t Time: 1s"
     ]
    },
    {
     "name": "stdout",
     "output_type": "stream",
     "text": [
      "\r\tTrain Loss: 0.235028 \t Time: 1s\r\tTrain Loss: 0.238318 \t Time: 1s"
     ]
    },
    {
     "name": "stdout",
     "output_type": "stream",
     "text": [
      "\r\tTrain Loss: 0.232307 \t Time: 2s\r\tTrain Loss: 0.223579 \t Time: 2s"
     ]
    },
    {
     "name": "stdout",
     "output_type": "stream",
     "text": [
      "\r\tTrain Loss: 0.220080 \t Time: 2s\r\tTrain Loss: 0.226661 \t Time: 2s"
     ]
    },
    {
     "name": "stdout",
     "output_type": "stream",
     "text": [
      "\r\tTrain Loss: 0.230831 \t Time: 2s\r\tTrain Loss: 0.226216 \t Time: 2s"
     ]
    },
    {
     "name": "stdout",
     "output_type": "stream",
     "text": [
      "\r\tTrain Loss: 0.229345 \t Time: 3s\r\tTrain Loss: 0.235228 \t Time: 3s"
     ]
    },
    {
     "name": "stdout",
     "output_type": "stream",
     "text": [
      "\r\tTrain Loss: 0.231016 \t Time: 3s\r\tTrain Loss: 0.230130 \t Time: 3s"
     ]
    },
    {
     "name": "stdout",
     "output_type": "stream",
     "text": [
      "\r\tTrain Loss: 0.228857 \t Time: 3s\r\tTrain Loss: 0.236487 \t Time: 4s"
     ]
    },
    {
     "name": "stdout",
     "output_type": "stream",
     "text": [
      "\r\tTrain Loss: 0.247354 \t Time: 4s\r\tTrain Loss: 0.251778 \t Time: 4s"
     ]
    },
    {
     "name": "stdout",
     "output_type": "stream",
     "text": [
      "\r\tTrain Loss: 0.253601 \t Time: 4s\r\tTrain Loss: 0.256358 \t Time: 4s"
     ]
    },
    {
     "name": "stdout",
     "output_type": "stream",
     "text": [
      "\r\tTrain Loss: 0.253315 \t Time: 5s\r\tTrain Loss: 0.250128 \t Time: 5s"
     ]
    },
    {
     "name": "stdout",
     "output_type": "stream",
     "text": [
      "\r\tTrain Loss: 0.250245 \t Time: 5s\r\tTrain Loss: 0.252924 \t Time: 5s"
     ]
    },
    {
     "name": "stdout",
     "output_type": "stream",
     "text": [
      "\r\tTrain Loss: 0.256146 \t Time: 5s\r\tTrain Loss: 0.259832 \t Time: 6s"
     ]
    },
    {
     "name": "stdout",
     "output_type": "stream",
     "text": [
      "\r\tTrain Loss: 0.258886 \t Time: 6s\r\tTrain Loss: 0.262519 \t Time: 6s"
     ]
    },
    {
     "name": "stdout",
     "output_type": "stream",
     "text": [
      "\r\tTrain Loss: 0.264734 \t Time: 6s\r\tTrain Loss: 0.265059 \t Time: 6s"
     ]
    },
    {
     "name": "stdout",
     "output_type": "stream",
     "text": [
      "\r\tTrain Loss: 0.266053 \t Time: 7s"
     ]
    },
    {
     "name": "stdout",
     "output_type": "stream",
     "text": [
      "\r\tTrain Loss: 0.263159 \t Time: 7s\r\tTrain Loss: 0.264039 \t Time: 7s"
     ]
    },
    {
     "name": "stdout",
     "output_type": "stream",
     "text": [
      "\r\tTrain Loss: 0.261923 \t Time: 7s\r\tTrain Loss: 0.262995 \t Time: 7s"
     ]
    },
    {
     "name": "stdout",
     "output_type": "stream",
     "text": [
      "\r\tTrain Loss: 0.261905 \t Time: 8s\r\tTrain Loss: 0.266246 \t Time: 8s"
     ]
    },
    {
     "name": "stdout",
     "output_type": "stream",
     "text": [
      "\r\tTrain Loss: 0.263901 \t Time: 8s\r\tTrain Loss: 0.267596 \t Time: 8s"
     ]
    },
    {
     "name": "stdout",
     "output_type": "stream",
     "text": [
      "\r\tTrain Loss: 0.269925 \t Time: 8s\r\tTrain Loss: 0.271340 \t Time: 9s"
     ]
    },
    {
     "name": "stdout",
     "output_type": "stream",
     "text": [
      "\r\tTrain Loss: 0.271688 \t Time: 9s\r\tTrain Loss: 0.269856 \t Time: 9s"
     ]
    },
    {
     "name": "stdout",
     "output_type": "stream",
     "text": [
      "\r\tTrain Loss: 0.267483 \t Time: 9s\r\tTrain Loss: 0.266004 \t Time: 9s"
     ]
    },
    {
     "name": "stdout",
     "output_type": "stream",
     "text": [
      "\r\tTrain Loss: 0.264066 \t Time: 10s\r\tTrain Loss: 0.261836 \t Time: 10s"
     ]
    },
    {
     "name": "stdout",
     "output_type": "stream",
     "text": [
      "\r\tTrain Loss: 0.260205 \t Time: 10s\r\tTrain Loss: 0.260701 \t Time: 10s"
     ]
    },
    {
     "name": "stdout",
     "output_type": "stream",
     "text": [
      "\r\tTrain Loss: 0.261359 \t Time: 10s\r\tTrain Loss: 0.262573 \t Time: 10s"
     ]
    },
    {
     "name": "stdout",
     "output_type": "stream",
     "text": [
      "\r\tTrain Loss: 0.261478 \t Time: 11s\r\tTrain Loss: 0.261653 \t Time: 11s"
     ]
    },
    {
     "name": "stdout",
     "output_type": "stream",
     "text": [
      "\r\tTrain Loss: 0.262288 \t Time: 11s\r\tTrain Loss: 0.260202 \t Time: 11s"
     ]
    },
    {
     "name": "stdout",
     "output_type": "stream",
     "text": [
      "\r\tTrain Loss: 0.258366 \t Time: 11s\r\tTrain Loss: 0.258842 \t Time: 12s"
     ]
    },
    {
     "name": "stdout",
     "output_type": "stream",
     "text": [
      "\r\tTrain Loss: 0.259282 \t Time: 12s\r\tTrain Loss: 0.260885 \t Time: 12s"
     ]
    },
    {
     "name": "stdout",
     "output_type": "stream",
     "text": [
      "\r\tTrain Loss: 0.260286 \t Time: 12s\r\tTrain Loss: 0.258665 \t Time: 12s"
     ]
    },
    {
     "name": "stdout",
     "output_type": "stream",
     "text": [
      "\r\tTrain Loss: 0.257063 \t Time: 13s\r\tTrain Loss: 0.257250 \t Time: 13s"
     ]
    },
    {
     "name": "stdout",
     "output_type": "stream",
     "text": [
      "\r\tTrain Loss: 0.255795 \t Time: 13s\r\tTrain Loss: 0.254426 \t Time: 13s"
     ]
    },
    {
     "name": "stdout",
     "output_type": "stream",
     "text": [
      "\r\tTrain Loss: 0.255482 \t Time: 13s\r\tTrain Loss: 0.255642 \t Time: 14s"
     ]
    },
    {
     "name": "stdout",
     "output_type": "stream",
     "text": [
      "\r\tTrain Loss: 0.256803 \t Time: 14s\r\tTrain Loss: 0.257946 \t Time: 14s"
     ]
    },
    {
     "name": "stdout",
     "output_type": "stream",
     "text": [
      "\r\tTrain Loss: 0.258960 \t Time: 14s\r\tTrain Loss: 0.259715 \t Time: 14s"
     ]
    },
    {
     "name": "stdout",
     "output_type": "stream",
     "text": [
      "\r\tTrain Loss: 0.258772 \t Time: 15s\r\tTrain Loss: 0.257487 \t Time: 15s"
     ]
    },
    {
     "name": "stdout",
     "output_type": "stream",
     "text": [
      "\r\tTrain Loss: 0.257076 \t Time: 15s\r\tTrain Loss: 0.255619 \t Time: 15s"
     ]
    },
    {
     "name": "stdout",
     "output_type": "stream",
     "text": [
      "\r\tTrain Loss: 0.255487 \t Time: 15s\r\tTrain Loss: 0.254545 \t Time: 16s"
     ]
    },
    {
     "name": "stdout",
     "output_type": "stream",
     "text": [
      "\r\tTrain Loss: 0.254602 \t Time: 16s\r\tTrain Loss: 0.255759 \t Time: 16s"
     ]
    },
    {
     "name": "stdout",
     "output_type": "stream",
     "text": [
      "\r\tTrain Loss: 0.254870 \t Time: 16s\r\tTrain Loss: 0.253899 \t Time: 16s"
     ]
    },
    {
     "name": "stdout",
     "output_type": "stream",
     "text": [
      "\r\tTrain Loss: 0.254284 \t Time: 16s\r\tTrain Loss: 0.253050 \t Time: 17s"
     ]
    },
    {
     "name": "stdout",
     "output_type": "stream",
     "text": [
      "\r\tTrain Loss: 0.253636 \t Time: 17s\r\tTrain Loss: 0.252464 \t Time: 17s"
     ]
    },
    {
     "name": "stdout",
     "output_type": "stream",
     "text": [
      "\r\tTrain Loss: 0.252328 \t Time: 17s\r\tTrain Loss: 0.251350 \t Time: 17s"
     ]
    },
    {
     "name": "stdout",
     "output_type": "stream",
     "text": [
      "\r\tTrain Loss: 0.251042 \t Time: 18s\r\tTrain Loss: 0.250697 \t Time: 18s"
     ]
    },
    {
     "name": "stdout",
     "output_type": "stream",
     "text": [
      "\r\tTrain Loss: 0.249795 \t Time: 18s\r\tTrain Loss: 0.249995 \t Time: 18s"
     ]
    },
    {
     "name": "stdout",
     "output_type": "stream",
     "text": [
      "\r\tTrain Loss: 0.248995 \t Time: 18s\r\tTrain Loss: 0.248924 \t Time: 19s"
     ]
    },
    {
     "name": "stdout",
     "output_type": "stream",
     "text": [
      "\r\tTrain Loss: 0.249612 \t Time: 19s\r\tTrain Loss: 0.248772 \t Time: 19s"
     ]
    },
    {
     "name": "stdout",
     "output_type": "stream",
     "text": [
      "\r\tTrain Loss: 0.249668 \t Time: 19s\r\tTrain Loss: 0.249144 \t Time: 19s"
     ]
    },
    {
     "name": "stdout",
     "output_type": "stream",
     "text": [
      "\r\tTrain Loss: 0.248043 \t Time: 20s\r\tTrain Loss: 0.249375 \t Time: 20s"
     ]
    },
    {
     "name": "stdout",
     "output_type": "stream",
     "text": [
      "\r\tTrain Loss: 0.249253 \t Time: 20s"
     ]
    },
    {
     "name": "stdout",
     "output_type": "stream",
     "text": [
      "\r\tTrain Loss: 0.248526 \t Time: 20s\r\tTrain Loss: 0.247649 \t Time: 20s"
     ]
    },
    {
     "name": "stdout",
     "output_type": "stream",
     "text": [
      "\r\tTrain Loss: 0.248028 \t Time: 21s\r\tTrain Loss: 0.248855 \t Time: 21s"
     ]
    },
    {
     "name": "stdout",
     "output_type": "stream",
     "text": [
      "\r\tTrain Loss: 0.248022 \t Time: 21s\r\tTrain Loss: 0.247014 \t Time: 21s"
     ]
    },
    {
     "name": "stdout",
     "output_type": "stream",
     "text": [
      "\r\tTrain Loss: 0.248226 \t Time: 21s\r\tTrain Loss: 0.248572 \t Time: 22s"
     ]
    },
    {
     "name": "stdout",
     "output_type": "stream",
     "text": [
      "\r\tTrain Loss: 0.248904 \t Time: 22s\r\tTrain Loss: 0.248090 \t Time: 22s"
     ]
    },
    {
     "name": "stdout",
     "output_type": "stream",
     "text": [
      "\r\tTrain Loss: 0.247288 \t Time: 22s\r\tTrain Loss: 0.249310 \t Time: 22s"
     ]
    },
    {
     "name": "stdout",
     "output_type": "stream",
     "text": [
      "\r\tTrain Loss: 0.248993 \t Time: 22s\r\tTrain Loss: 0.249376 \t Time: 23s"
     ]
    },
    {
     "name": "stdout",
     "output_type": "stream",
     "text": [
      "\r\tTrain Loss: 0.248584 \t Time: 23s\r\tTrain Loss: 0.247689 \t Time: 23s"
     ]
    },
    {
     "name": "stdout",
     "output_type": "stream",
     "text": [
      "\r\tTrain Loss: 0.246874 \t Time: 23s\r\tTrain Loss: 0.246113 \t Time: 23s"
     ]
    },
    {
     "name": "stdout",
     "output_type": "stream",
     "text": [
      "\r\tTrain Loss: 0.245366 \t Time: 24s\r\tTrain Loss: 0.244668 \t Time: 24s"
     ]
    },
    {
     "name": "stdout",
     "output_type": "stream",
     "text": [
      "\r\tTrain Loss: 0.244373 \t Time: 24s\r\tTrain Loss: 0.243618 \t Time: 24s\n"
     ]
    },
    {
     "name": "stdout",
     "output_type": "stream",
     "text": [
      "\tTest Loss: 0.240173 \t Time: 0s\n\t Input: бульбова. александр михайлов, официаль \t Result: александр михайлов \t From train: 1\n\t Input: лена гкчп бориса пуго, который  \t Result: борис пуго \t From train: 1\n\t Input: это место леонида невзлина.\u2028в марте  \t Result: леонид невзлин \t From train: 1\n"
     ]
    },
    {
     "name": "stdout",
     "output_type": "stream",
     "text": [
      "\t Input: ент банка виестурс нейманис (viesturs \t Result: виестурс нейманис \t From train: 1\n\t Input: верждение лукашенко\" роли сво \t Result: лукашенко \t From train: 1\nEpoch 5\n"
     ]
    },
    {
     "name": "stdout",
     "output_type": "stream",
     "text": [
      "\r\tTrain Loss: 0.132806 \t Time: 0s\r\tTrain Loss: 0.224010 \t Time: 0s"
     ]
    },
    {
     "name": "stdout",
     "output_type": "stream",
     "text": [
      "\r\tTrain Loss: 0.261896 \t Time: 0s\r\tTrain Loss: 0.240874 \t Time: 0s"
     ]
    },
    {
     "name": "stdout",
     "output_type": "stream",
     "text": [
      "\r\tTrain Loss: 0.227953 \t Time: 0s\r\tTrain Loss: 0.210873 \t Time: 1s"
     ]
    },
    {
     "name": "stdout",
     "output_type": "stream",
     "text": [
      "\r\tTrain Loss: 0.200322 \t Time: 1s\r\tTrain Loss: 0.195294 \t Time: 1s"
     ]
    },
    {
     "name": "stdout",
     "output_type": "stream",
     "text": [
      "\r\tTrain Loss: 0.193103 \t Time: 1s\r\tTrain Loss: 0.185264 \t Time: 1s"
     ]
    },
    {
     "name": "stdout",
     "output_type": "stream",
     "text": [
      "\r\tTrain Loss: 0.199308 \t Time: 2s\r\tTrain Loss: 0.194734 \t Time: 2s"
     ]
    },
    {
     "name": "stdout",
     "output_type": "stream",
     "text": [
      "\r\tTrain Loss: 0.207950 \t Time: 2s\r\tTrain Loss: 0.203512 \t Time: 2s"
     ]
    },
    {
     "name": "stdout",
     "output_type": "stream",
     "text": [
      "\r\tTrain Loss: 0.204188 \t Time: 2s\r\tTrain Loss: 0.211355 \t Time: 3s"
     ]
    },
    {
     "name": "stdout",
     "output_type": "stream",
     "text": [
      "\r\tTrain Loss: 0.208324 \t Time: 3s\r\tTrain Loss: 0.218760 \t Time: 3s"
     ]
    },
    {
     "name": "stdout",
     "output_type": "stream",
     "text": [
      "\r\tTrain Loss: 0.228022 \t Time: 3s\r\tTrain Loss: 0.225041 \t Time: 3s"
     ]
    },
    {
     "name": "stdout",
     "output_type": "stream",
     "text": [
      "\r\tTrain Loss: 0.229774 \t Time: 4s"
     ]
    },
    {
     "name": "stdout",
     "output_type": "stream",
     "text": [
      "\r\tTrain Loss: 0.235485 \t Time: 4s\r\tTrain Loss: 0.233263 \t Time: 4s"
     ]
    },
    {
     "name": "stdout",
     "output_type": "stream",
     "text": [
      "\r\tTrain Loss: 0.232580 \t Time: 4s\r\tTrain Loss: 0.230761 \t Time: 4s"
     ]
    },
    {
     "name": "stdout",
     "output_type": "stream",
     "text": [
      "\r\tTrain Loss: 0.229164 \t Time: 5s\r\tTrain Loss: 0.233112 \t Time: 5s"
     ]
    },
    {
     "name": "stdout",
     "output_type": "stream",
     "text": [
      "\r\tTrain Loss: 0.237079 \t Time: 5s\r\tTrain Loss: 0.240361 \t Time: 5s"
     ]
    },
    {
     "name": "stdout",
     "output_type": "stream",
     "text": [
      "\r\tTrain Loss: 0.237205 \t Time: 5s\r\tTrain Loss: 0.234005 \t Time: 6s"
     ]
    },
    {
     "name": "stdout",
     "output_type": "stream",
     "text": [
      "\r\tTrain Loss: 0.231187 \t Time: 6s\r\tTrain Loss: 0.228045 \t Time: 6s"
     ]
    },
    {
     "name": "stdout",
     "output_type": "stream",
     "text": [
      "\r\tTrain Loss: 0.225783 \t Time: 6s\r\tTrain Loss: 0.223376 \t Time: 6s"
     ]
    },
    {
     "name": "stdout",
     "output_type": "stream",
     "text": [
      "\r\tTrain Loss: 0.226419 \t Time: 6s\r\tTrain Loss: 0.224559 \t Time: 7s"
     ]
    },
    {
     "name": "stdout",
     "output_type": "stream",
     "text": [
      "\r\tTrain Loss: 0.228337 \t Time: 7s\r\tTrain Loss: 0.226052 \t Time: 7s"
     ]
    },
    {
     "name": "stdout",
     "output_type": "stream",
     "text": [
      "\r\tTrain Loss: 0.224396 \t Time: 7s\r\tTrain Loss: 0.227536 \t Time: 7s"
     ]
    },
    {
     "name": "stdout",
     "output_type": "stream",
     "text": [
      "\r\tTrain Loss: 0.229050 \t Time: 8s\r\tTrain Loss: 0.231413 \t Time: 8s"
     ]
    },
    {
     "name": "stdout",
     "output_type": "stream",
     "text": [
      "\r\tTrain Loss: 0.229504 \t Time: 8s\r\tTrain Loss: 0.227519 \t Time: 8s"
     ]
    },
    {
     "name": "stdout",
     "output_type": "stream",
     "text": [
      "\r\tTrain Loss: 0.226051 \t Time: 8s\r\tTrain Loss: 0.224166 \t Time: 9s"
     ]
    },
    {
     "name": "stdout",
     "output_type": "stream",
     "text": [
      "\r\tTrain Loss: 0.226935 \t Time: 9s\r\tTrain Loss: 0.227268 \t Time: 9s"
     ]
    },
    {
     "name": "stdout",
     "output_type": "stream",
     "text": [
      "\r\tTrain Loss: 0.229389 \t Time: 9s\r\tTrain Loss: 0.227710 \t Time: 9s"
     ]
    },
    {
     "name": "stdout",
     "output_type": "stream",
     "text": [
      "\r\tTrain Loss: 0.228867 \t Time: 10s\r\tTrain Loss: 0.230179 \t Time: 10s"
     ]
    },
    {
     "name": "stdout",
     "output_type": "stream",
     "text": [
      "\r\tTrain Loss: 0.228332 \t Time: 10s\r\tTrain Loss: 0.228707 \t Time: 10s"
     ]
    },
    {
     "name": "stdout",
     "output_type": "stream",
     "text": [
      "\r\tTrain Loss: 0.226717 \t Time: 10s\r\tTrain Loss: 0.228928 \t Time: 11s"
     ]
    },
    {
     "name": "stdout",
     "output_type": "stream",
     "text": [
      "\r\tTrain Loss: 0.228762 \t Time: 11s\r\tTrain Loss: 0.227690 \t Time: 11s"
     ]
    },
    {
     "name": "stdout",
     "output_type": "stream",
     "text": [
      "\r\tTrain Loss: 0.227024 \t Time: 11s\r\tTrain Loss: 0.226086 \t Time: 11s"
     ]
    },
    {
     "name": "stdout",
     "output_type": "stream",
     "text": [
      "\r\tTrain Loss: 0.224963 \t Time: 12s\r\tTrain Loss: 0.223629 \t Time: 12s"
     ]
    },
    {
     "name": "stdout",
     "output_type": "stream",
     "text": [
      "\r\tTrain Loss: 0.222600 \t Time: 12s\r\tTrain Loss: 0.221358 \t Time: 12s"
     ]
    },
    {
     "name": "stdout",
     "output_type": "stream",
     "text": [
      "\r\tTrain Loss: 0.221475 \t Time: 12s\r\tTrain Loss: 0.220348 \t Time: 13s"
     ]
    },
    {
     "name": "stdout",
     "output_type": "stream",
     "text": [
      "\r\tTrain Loss: 0.223556 \t Time: 13s\r\tTrain Loss: 0.227694 \t Time: 13s"
     ]
    },
    {
     "name": "stdout",
     "output_type": "stream",
     "text": [
      "\r\tTrain Loss: 0.227498 \t Time: 13s\r\tTrain Loss: 0.229202 \t Time: 13s"
     ]
    },
    {
     "name": "stdout",
     "output_type": "stream",
     "text": [
      "\r\tTrain Loss: 0.230955 \t Time: 14s\r\tTrain Loss: 0.232880 \t Time: 14s"
     ]
    },
    {
     "name": "stdout",
     "output_type": "stream",
     "text": [
      "\r\tTrain Loss: 0.232438 \t Time: 14s\r\tTrain Loss: 0.232117 \t Time: 14s"
     ]
    },
    {
     "name": "stdout",
     "output_type": "stream",
     "text": [
      "\r\tTrain Loss: 0.231063 \t Time: 14s\r\tTrain Loss: 0.232517 \t Time: 14s"
     ]
    },
    {
     "name": "stdout",
     "output_type": "stream",
     "text": [
      "\r\tTrain Loss: 0.233843 \t Time: 15s\r\tTrain Loss: 0.233186 \t Time: 15s"
     ]
    },
    {
     "name": "stdout",
     "output_type": "stream",
     "text": [
      "\r\tTrain Loss: 0.233683 \t Time: 15s\r\tTrain Loss: 0.235628 \t Time: 15s"
     ]
    },
    {
     "name": "stdout",
     "output_type": "stream",
     "text": [
      "\r\tTrain Loss: 0.235271 \t Time: 15s\r\tTrain Loss: 0.235111 \t Time: 16s"
     ]
    },
    {
     "name": "stdout",
     "output_type": "stream",
     "text": [
      "\r\tTrain Loss: 0.234739 \t Time: 16s\r\tTrain Loss: 0.236574 \t Time: 16s"
     ]
    },
    {
     "name": "stdout",
     "output_type": "stream",
     "text": [
      "\r\tTrain Loss: 0.235814 \t Time: 16s\r\tTrain Loss: 0.235766 \t Time: 16s"
     ]
    },
    {
     "name": "stdout",
     "output_type": "stream",
     "text": [
      "\r\tTrain Loss: 0.235114 \t Time: 17s\r\tTrain Loss: 0.233959 \t Time: 17s"
     ]
    },
    {
     "name": "stdout",
     "output_type": "stream",
     "text": [
      "\r\tTrain Loss: 0.232984 \t Time: 17s\r\tTrain Loss: 0.232893 \t Time: 17s"
     ]
    },
    {
     "name": "stdout",
     "output_type": "stream",
     "text": [
      "\r\tTrain Loss: 0.232193 \t Time: 17s"
     ]
    },
    {
     "name": "stdout",
     "output_type": "stream",
     "text": [
      "\r\tTrain Loss: 0.233120 \t Time: 18s\r\tTrain Loss: 0.232478 \t Time: 18s"
     ]
    },
    {
     "name": "stdout",
     "output_type": "stream",
     "text": [
      "\r\tTrain Loss: 0.233381 \t Time: 18s\r\tTrain Loss: 0.235317 \t Time: 18s"
     ]
    },
    {
     "name": "stdout",
     "output_type": "stream",
     "text": [
      "\r\tTrain Loss: 0.234863 \t Time: 18s\r\tTrain Loss: 0.234207 \t Time: 19s"
     ]
    },
    {
     "name": "stdout",
     "output_type": "stream",
     "text": [
      "\r\tTrain Loss: 0.233306 \t Time: 19s\r\tTrain Loss: 0.234536 \t Time: 19s"
     ]
    },
    {
     "name": "stdout",
     "output_type": "stream",
     "text": [
      "\r\tTrain Loss: 0.234232 \t Time: 19s"
     ]
    },
    {
     "name": "stdout",
     "output_type": "stream",
     "text": [
      "\r\tTrain Loss: 0.234972 \t Time: 19s\r\tTrain Loss: 0.235037 \t Time: 20s"
     ]
    },
    {
     "name": "stdout",
     "output_type": "stream",
     "text": [
      "\r\tTrain Loss: 0.235465 \t Time: 20s\r\tTrain Loss: 0.235552 \t Time: 20s"
     ]
    },
    {
     "name": "stdout",
     "output_type": "stream",
     "text": [
      "\r\tTrain Loss: 0.234571 \t Time: 20s\r\tTrain Loss: 0.233907 \t Time: 20s"
     ]
    },
    {
     "name": "stdout",
     "output_type": "stream",
     "text": [
      "\r\tTrain Loss: 0.232904 \t Time: 21s\r\tTrain Loss: 0.232314 \t Time: 21s"
     ]
    },
    {
     "name": "stdout",
     "output_type": "stream",
     "text": [
      "\r\tTrain Loss: 0.232124 \t Time: 21s\r\tTrain Loss: 0.232117 \t Time: 21s"
     ]
    },
    {
     "name": "stdout",
     "output_type": "stream",
     "text": [
      "\r\tTrain Loss: 0.232040 \t Time: 21s\r\tTrain Loss: 0.231230 \t Time: 22s"
     ]
    },
    {
     "name": "stdout",
     "output_type": "stream",
     "text": [
      "\r\tTrain Loss: 0.231496 \t Time: 22s\r\tTrain Loss: 0.231115 \t Time: 22s"
     ]
    },
    {
     "name": "stdout",
     "output_type": "stream",
     "text": [
      "\r\tTrain Loss: 0.231907 \t Time: 22s\r\tTrain Loss: 0.231298 \t Time: 23s"
     ]
    },
    {
     "name": "stdout",
     "output_type": "stream",
     "text": [
      "\r\tTrain Loss: 0.232168 \t Time: 23s\r\tTrain Loss: 0.231474 \t Time: 23s"
     ]
    },
    {
     "name": "stdout",
     "output_type": "stream",
     "text": [
      "\r\tTrain Loss: 0.231114 \t Time: 23s\r\tTrain Loss: 0.231770 \t Time: 23s"
     ]
    },
    {
     "name": "stdout",
     "output_type": "stream",
     "text": [
      "\r\tTrain Loss: 0.231083 \t Time: 24s"
     ]
    },
    {
     "name": "stdout",
     "output_type": "stream",
     "text": [
      "\r\tTrain Loss: 0.231305 \t Time: 24s\r\tTrain Loss: 0.230650 \t Time: 24s"
     ]
    },
    {
     "name": "stdout",
     "output_type": "stream",
     "text": [
      "\r\tTrain Loss: 0.230047 \t Time: 24s"
     ]
    },
    {
     "name": "stdout",
     "output_type": "stream",
     "text": [
      "\r\tTrain Loss: 0.229648 \t Time: 24s"
     ]
    },
    {
     "name": "stdout",
     "output_type": "stream",
     "text": [
      "\r\tTrain Loss: 0.230888 \t Time: 25s\n"
     ]
    },
    {
     "name": "stdout",
     "output_type": "stream",
     "text": [
      "\tTest Loss: 0.247592 \t Time: 0s\n\t Input: е украины дмитрий фирташ и иван фу \t Result: дмитрий фирташ \t From train: 1\n\t Input: й области виктор гречман освобожде \t Result: виктор гречман \t From train: 1\n\t Input: емократом джоном эдвардсом (john edw \t Result: джон эдвардс \t From train: 1\n"
     ]
    },
    {
     "name": "stdout",
     "output_type": "stream",
     "text": [
      "\t Input:  отправил лужкова в отставк \t Result: лужков \t From train: 1\n\t Input: ительства саддама хусейна в ираке.  \t Result: саддам хусейн \t From train: 1\nEpoch 6\n"
     ]
    },
    {
     "name": "stdout",
     "output_type": "stream",
     "text": [
      "\r\tTrain Loss: 0.265782 \t Time: 0s\r\tTrain Loss: 0.206278 \t Time: 0s"
     ]
    },
    {
     "name": "stdout",
     "output_type": "stream",
     "text": [
      "\r\tTrain Loss: 0.227341 \t Time: 0s\r\tTrain Loss: 0.216640 \t Time: 0s"
     ]
    },
    {
     "name": "stdout",
     "output_type": "stream",
     "text": [
      "\r\tTrain Loss: 0.230848 \t Time: 0s\r\tTrain Loss: 0.215816 \t Time: 1s"
     ]
    },
    {
     "name": "stdout",
     "output_type": "stream",
     "text": [
      "\r\tTrain Loss: 0.227667 \t Time: 1s\r\tTrain Loss: 0.239824 \t Time: 1s"
     ]
    },
    {
     "name": "stdout",
     "output_type": "stream",
     "text": [
      "\r\tTrain Loss: 0.230962 \t Time: 1s\r\tTrain Loss: 0.223334 \t Time: 1s"
     ]
    },
    {
     "name": "stdout",
     "output_type": "stream",
     "text": [
      "\r\tTrain Loss: 0.214716 \t Time: 2s\r\tTrain Loss: 0.221456 \t Time: 2s"
     ]
    },
    {
     "name": "stdout",
     "output_type": "stream",
     "text": [
      "\r\tTrain Loss: 0.217061 \t Time: 2s\r\tTrain Loss: 0.223016 \t Time: 2s"
     ]
    },
    {
     "name": "stdout",
     "output_type": "stream",
     "text": [
      "\r\tTrain Loss: 0.217937 \t Time: 2s\r\tTrain Loss: 0.214608 \t Time: 3s"
     ]
    },
    {
     "name": "stdout",
     "output_type": "stream",
     "text": [
      "\r\tTrain Loss: 0.212024 \t Time: 3s\r\tTrain Loss: 0.212143 \t Time: 3s"
     ]
    },
    {
     "name": "stdout",
     "output_type": "stream",
     "text": [
      "\r\tTrain Loss: 0.217268 \t Time: 3s"
     ]
    },
    {
     "name": "stdout",
     "output_type": "stream",
     "text": [
      "\r\tTrain Loss: 0.222695 \t Time: 3s\r\tTrain Loss: 0.219236 \t Time: 4s"
     ]
    },
    {
     "name": "stdout",
     "output_type": "stream",
     "text": [
      "\r\tTrain Loss: 0.215523 \t Time: 4s\r\tTrain Loss: 0.212725 \t Time: 4s"
     ]
    },
    {
     "name": "stdout",
     "output_type": "stream",
     "text": [
      "\r\tTrain Loss: 0.217604 \t Time: 4s\r\tTrain Loss: 0.214742 \t Time: 4s"
     ]
    },
    {
     "name": "stdout",
     "output_type": "stream",
     "text": [
      "\r\tTrain Loss: 0.221095 \t Time: 5s"
     ]
    },
    {
     "name": "stdout",
     "output_type": "stream",
     "text": [
      "\r\tTrain Loss: 0.219134 \t Time: 5s\r\tTrain Loss: 0.215778 \t Time: 5s"
     ]
    },
    {
     "name": "stdout",
     "output_type": "stream",
     "text": [
      "\r\tTrain Loss: 0.220683 \t Time: 5s\r\tTrain Loss: 0.217742 \t Time: 5s"
     ]
    },
    {
     "name": "stdout",
     "output_type": "stream",
     "text": [
      "\r\tTrain Loss: 0.216327 \t Time: 6s\r\tTrain Loss: 0.213546 \t Time: 6s"
     ]
    },
    {
     "name": "stdout",
     "output_type": "stream",
     "text": [
      "\r\tTrain Loss: 0.216296 \t Time: 6s\r\tTrain Loss: 0.220696 \t Time: 6s"
     ]
    },
    {
     "name": "stdout",
     "output_type": "stream",
     "text": [
      "\r\tTrain Loss: 0.225276 \t Time: 6s\r\tTrain Loss: 0.226581 \t Time: 7s"
     ]
    },
    {
     "name": "stdout",
     "output_type": "stream",
     "text": [
      "\r\tTrain Loss: 0.224555 \t Time: 7s\r\tTrain Loss: 0.222344 \t Time: 7s"
     ]
    },
    {
     "name": "stdout",
     "output_type": "stream",
     "text": [
      "\r\tTrain Loss: 0.220283 \t Time: 7s\r\tTrain Loss: 0.221104 \t Time: 7s"
     ]
    },
    {
     "name": "stdout",
     "output_type": "stream",
     "text": [
      "\r\tTrain Loss: 0.219207 \t Time: 8s\r\tTrain Loss: 0.217261 \t Time: 8s"
     ]
    },
    {
     "name": "stdout",
     "output_type": "stream",
     "text": [
      "\r\tTrain Loss: 0.216346 \t Time: 8s\r\tTrain Loss: 0.214443 \t Time: 8s"
     ]
    },
    {
     "name": "stdout",
     "output_type": "stream",
     "text": [
      "\r\tTrain Loss: 0.212915 \t Time: 8s\r\tTrain Loss: 0.211675 \t Time: 9s"
     ]
    },
    {
     "name": "stdout",
     "output_type": "stream",
     "text": [
      "\r\tTrain Loss: 0.210876 \t Time: 9s\r\tTrain Loss: 0.209650 \t Time: 9s"
     ]
    },
    {
     "name": "stdout",
     "output_type": "stream",
     "text": [
      "\r\tTrain Loss: 0.207904 \t Time: 9s\r\tTrain Loss: 0.206501 \t Time: 9s"
     ]
    },
    {
     "name": "stdout",
     "output_type": "stream",
     "text": [
      "\r\tTrain Loss: 0.208962 \t Time: 10s\r\tTrain Loss: 0.210942 \t Time: 10s"
     ]
    },
    {
     "name": "stdout",
     "output_type": "stream",
     "text": [
      "\r\tTrain Loss: 0.211235 \t Time: 10s\r\tTrain Loss: 0.210029 \t Time: 10s"
     ]
    },
    {
     "name": "stdout",
     "output_type": "stream",
     "text": [
      "\r\tTrain Loss: 0.209358 \t Time: 10s\r\tTrain Loss: 0.208731 \t Time: 11s"
     ]
    },
    {
     "name": "stdout",
     "output_type": "stream",
     "text": [
      "\r\tTrain Loss: 0.210990 \t Time: 11s\r\tTrain Loss: 0.212667 \t Time: 11s"
     ]
    },
    {
     "name": "stdout",
     "output_type": "stream",
     "text": [
      "\r\tTrain Loss: 0.211208 \t Time: 11s\r\tTrain Loss: 0.210588 \t Time: 11s"
     ]
    },
    {
     "name": "stdout",
     "output_type": "stream",
     "text": [
      "\r\tTrain Loss: 0.212585 \t Time: 11s\r\tTrain Loss: 0.213953 \t Time: 12s"
     ]
    },
    {
     "name": "stdout",
     "output_type": "stream",
     "text": [
      "\r\tTrain Loss: 0.213927 \t Time: 12s\r\tTrain Loss: 0.216774 \t Time: 12s"
     ]
    },
    {
     "name": "stdout",
     "output_type": "stream",
     "text": [
      "\r\tTrain Loss: 0.218734 \t Time: 12s\r\tTrain Loss: 0.217981 \t Time: 12s"
     ]
    },
    {
     "name": "stdout",
     "output_type": "stream",
     "text": [
      "\r\tTrain Loss: 0.216930 \t Time: 13s\r\tTrain Loss: 0.218366 \t Time: 13s"
     ]
    },
    {
     "name": "stdout",
     "output_type": "stream",
     "text": [
      "\r\tTrain Loss: 0.217414 \t Time: 13s\r\tTrain Loss: 0.217108 \t Time: 13s"
     ]
    },
    {
     "name": "stdout",
     "output_type": "stream",
     "text": [
      "\r\tTrain Loss: 0.215998 \t Time: 13s\r\tTrain Loss: 0.216417 \t Time: 14s"
     ]
    },
    {
     "name": "stdout",
     "output_type": "stream",
     "text": [
      "\r\tTrain Loss: 0.217682 \t Time: 14s\r\tTrain Loss: 0.217056 \t Time: 14s"
     ]
    },
    {
     "name": "stdout",
     "output_type": "stream",
     "text": [
      "\r\tTrain Loss: 0.218158 \t Time: 14s\r\tTrain Loss: 0.219234 \t Time: 14s"
     ]
    },
    {
     "name": "stdout",
     "output_type": "stream",
     "text": [
      "\r\tTrain Loss: 0.218658 \t Time: 15s\r\tTrain Loss: 0.218069 \t Time: 15s"
     ]
    },
    {
     "name": "stdout",
     "output_type": "stream",
     "text": [
      "\r\tTrain Loss: 0.217141 \t Time: 15s\r\tTrain Loss: 0.219566 \t Time: 15s"
     ]
    },
    {
     "name": "stdout",
     "output_type": "stream",
     "text": [
      "\r\tTrain Loss: 0.220004 \t Time: 15s\r\tTrain Loss: 0.219199 \t Time: 16s"
     ]
    },
    {
     "name": "stdout",
     "output_type": "stream",
     "text": [
      "\r\tTrain Loss: 0.218775 \t Time: 16s\r\tTrain Loss: 0.218426 \t Time: 16s"
     ]
    },
    {
     "name": "stdout",
     "output_type": "stream",
     "text": [
      "\r\tTrain Loss: 0.217984 \t Time: 16s\r\tTrain Loss: 0.220154 \t Time: 16s"
     ]
    },
    {
     "name": "stdout",
     "output_type": "stream",
     "text": [
      "\r\tTrain Loss: 0.219568 \t Time: 17s\r\tTrain Loss: 0.220475 \t Time: 17s"
     ]
    },
    {
     "name": "stdout",
     "output_type": "stream",
     "text": [
      "\r\tTrain Loss: 0.221306 \t Time: 17s\r\tTrain Loss: 0.222196 \t Time: 17s"
     ]
    },
    {
     "name": "stdout",
     "output_type": "stream",
     "text": [
      "\r\tTrain Loss: 0.222922 \t Time: 17s\r\tTrain Loss: 0.224155 \t Time: 17s"
     ]
    },
    {
     "name": "stdout",
     "output_type": "stream",
     "text": [
      "\r\tTrain Loss: 0.226607 \t Time: 18s\r\tTrain Loss: 0.225931 \t Time: 18s"
     ]
    },
    {
     "name": "stdout",
     "output_type": "stream",
     "text": [
      "\r\tTrain Loss: 0.227874 \t Time: 18s\r\tTrain Loss: 0.227688 \t Time: 18s"
     ]
    },
    {
     "name": "stdout",
     "output_type": "stream",
     "text": [
      "\r\tTrain Loss: 0.226817 \t Time: 18s\r\tTrain Loss: 0.225875 \t Time: 19s"
     ]
    },
    {
     "name": "stdout",
     "output_type": "stream",
     "text": [
      "\r\tTrain Loss: 0.225394 \t Time: 19s\r\tTrain Loss: 0.224542 \t Time: 19s"
     ]
    },
    {
     "name": "stdout",
     "output_type": "stream",
     "text": [
      "\r\tTrain Loss: 0.225009 \t Time: 19s\r\tTrain Loss: 0.226156 \t Time: 19s"
     ]
    },
    {
     "name": "stdout",
     "output_type": "stream",
     "text": [
      "\r\tTrain Loss: 0.227209 \t Time: 20s\r\tTrain Loss: 0.226287 \t Time: 20s"
     ]
    },
    {
     "name": "stdout",
     "output_type": "stream",
     "text": [
      "\r\tTrain Loss: 0.227892 \t Time: 20s"
     ]
    },
    {
     "name": "stdout",
     "output_type": "stream",
     "text": [
      "\r\tTrain Loss: 0.227977 \t Time: 20s"
     ]
    },
    {
     "name": "stdout",
     "output_type": "stream",
     "text": [
      "\r\tTrain Loss: 0.227689 \t Time: 21s"
     ]
    },
    {
     "name": "stdout",
     "output_type": "stream",
     "text": [
      "\r\tTrain Loss: 0.226985 \t Time: 21s"
     ]
    },
    {
     "name": "stdout",
     "output_type": "stream",
     "text": [
      "\r\tTrain Loss: 0.227485 \t Time: 21s"
     ]
    },
    {
     "name": "stdout",
     "output_type": "stream",
     "text": [
      "\r\tTrain Loss: 0.228450 \t Time: 21s\r\tTrain Loss: 0.227836 \t Time: 22s"
     ]
    },
    {
     "name": "stdout",
     "output_type": "stream",
     "text": [
      "\r\tTrain Loss: 0.227077 \t Time: 22s\r\tTrain Loss: 0.227560 \t Time: 22s"
     ]
    },
    {
     "name": "stdout",
     "output_type": "stream",
     "text": [
      "\r\tTrain Loss: 0.226954 \t Time: 22s\r\tTrain Loss: 0.227972 \t Time: 22s"
     ]
    },
    {
     "name": "stdout",
     "output_type": "stream",
     "text": [
      "\r\tTrain Loss: 0.228665 \t Time: 22s"
     ]
    },
    {
     "name": "stdout",
     "output_type": "stream",
     "text": [
      "\r\tTrain Loss: 0.228948 \t Time: 23s\r\tTrain Loss: 0.229491 \t Time: 23s"
     ]
    },
    {
     "name": "stdout",
     "output_type": "stream",
     "text": [
      "\r\tTrain Loss: 0.229533 \t Time: 23s"
     ]
    },
    {
     "name": "stdout",
     "output_type": "stream",
     "text": [
      "\r\tTrain Loss: 0.230331 \t Time: 23s\r\tTrain Loss: 0.229835 \t Time: 23s"
     ]
    },
    {
     "name": "stdout",
     "output_type": "stream",
     "text": [
      "\r\tTrain Loss: 0.229383 \t Time: 24s\r\tTrain Loss: 0.228956 \t Time: 24s"
     ]
    },
    {
     "name": "stdout",
     "output_type": "stream",
     "text": [
      "\r\tTrain Loss: 0.229556 \t Time: 24s\r\tTrain Loss: 0.228925 \t Time: 24s"
     ]
    },
    {
     "name": "stdout",
     "output_type": "stream",
     "text": [
      "\r\tTrain Loss: 0.228267 \t Time: 24s\r\tTrain Loss: 0.227926 \t Time: 25s\n"
     ]
    },
    {
     "name": "stdout",
     "output_type": "stream",
     "text": [
      "\tTest Loss: 0.221779 \t Time: 0s\n\t Input: 2007 года абашилов был назна \t Result: абашилов \t From train: 1\n\t Input: в рао еэс леонид гозман. в апреле \t Result: леонид гозман \t From train: 1\n\t Input: к полиции виктор пестерев назначен  \t Result: виктор пестерев \t From train: 1\n"
     ]
    },
    {
     "name": "stdout",
     "output_type": "stream",
     "text": [
      "\t Input:  касается а.захарова, то он яв \t Result: а захаров \t From train: 1\n\t Input: тнера.\n\r\n\rгейтс родился в \t Result: гейтс \t From train: 1\nEpoch 7\n"
     ]
    },
    {
     "name": "stdout",
     "output_type": "stream",
     "text": [
      "\r\tTrain Loss: 0.297744 \t Time: 0s\r\tTrain Loss: 0.222818 \t Time: 0s"
     ]
    },
    {
     "name": "stdout",
     "output_type": "stream",
     "text": [
      "\r\tTrain Loss: 0.229500 \t Time: 0s\r\tTrain Loss: 0.267207 \t Time: 0s"
     ]
    },
    {
     "name": "stdout",
     "output_type": "stream",
     "text": [
      "\r\tTrain Loss: 0.246407 \t Time: 0s\r\tTrain Loss: 0.230119 \t Time: 1s"
     ]
    },
    {
     "name": "stdout",
     "output_type": "stream",
     "text": [
      "\r\tTrain Loss: 0.247656 \t Time: 1s\r\tTrain Loss: 0.239888 \t Time: 1s"
     ]
    },
    {
     "name": "stdout",
     "output_type": "stream",
     "text": [
      "\r\tTrain Loss: 0.252466 \t Time: 1s\r\tTrain Loss: 0.264179 \t Time: 1s"
     ]
    },
    {
     "name": "stdout",
     "output_type": "stream",
     "text": [
      "\r\tTrain Loss: 0.269485 \t Time: 2s\r\tTrain Loss: 0.277125 \t Time: 2s"
     ]
    },
    {
     "name": "stdout",
     "output_type": "stream",
     "text": [
      "\r\tTrain Loss: 0.268105 \t Time: 2s\r\tTrain Loss: 0.265234 \t Time: 2s"
     ]
    },
    {
     "name": "stdout",
     "output_type": "stream",
     "text": [
      "\r\tTrain Loss: 0.264692 \t Time: 2s\r\tTrain Loss: 0.270081 \t Time: 3s"
     ]
    },
    {
     "name": "stdout",
     "output_type": "stream",
     "text": [
      "\r\tTrain Loss: 0.262783 \t Time: 3s\r\tTrain Loss: 0.265314 \t Time: 3s"
     ]
    },
    {
     "name": "stdout",
     "output_type": "stream",
     "text": [
      "\r\tTrain Loss: 0.266215 \t Time: 3s\r\tTrain Loss: 0.272633 \t Time: 3s"
     ]
    },
    {
     "name": "stdout",
     "output_type": "stream",
     "text": [
      "\r\tTrain Loss: 0.275827 \t Time: 4s\r\tTrain Loss: 0.274507 \t Time: 4s"
     ]
    },
    {
     "name": "stdout",
     "output_type": "stream",
     "text": [
      "\r\tTrain Loss: 0.268694 \t Time: 4s\r\tTrain Loss: 0.264555 \t Time: 4s"
     ]
    },
    {
     "name": "stdout",
     "output_type": "stream",
     "text": [
      "\r\tTrain Loss: 0.271771 \t Time: 4s\r\tTrain Loss: 0.273297 \t Time: 5s"
     ]
    },
    {
     "name": "stdout",
     "output_type": "stream",
     "text": [
      "\r\tTrain Loss: 0.268834 \t Time: 5s\r\tTrain Loss: 0.269383 \t Time: 5s"
     ]
    },
    {
     "name": "stdout",
     "output_type": "stream",
     "text": [
      "\r\tTrain Loss: 0.266525 \t Time: 5s\r\tTrain Loss: 0.261662 \t Time: 5s"
     ]
    },
    {
     "name": "stdout",
     "output_type": "stream",
     "text": [
      "\r\tTrain Loss: 0.258235 \t Time: 6s\r\tTrain Loss: 0.254907 \t Time: 6s"
     ]
    },
    {
     "name": "stdout",
     "output_type": "stream",
     "text": [
      "\r\tTrain Loss: 0.252098 \t Time: 6s\r\tTrain Loss: 0.255199 \t Time: 6s"
     ]
    },
    {
     "name": "stdout",
     "output_type": "stream",
     "text": [
      "\r\tTrain Loss: 0.257871 \t Time: 6s\r\tTrain Loss: 0.255976 \t Time: 7s"
     ]
    },
    {
     "name": "stdout",
     "output_type": "stream",
     "text": [
      "\r\tTrain Loss: 0.253092 \t Time: 7s\r\tTrain Loss: 0.250165 \t Time: 7s"
     ]
    },
    {
     "name": "stdout",
     "output_type": "stream",
     "text": [
      "\r\tTrain Loss: 0.250934 \t Time: 7s\r\tTrain Loss: 0.248329 \t Time: 7s"
     ]
    },
    {
     "name": "stdout",
     "output_type": "stream",
     "text": [
      "\r\tTrain Loss: 0.249527 \t Time: 8s\r\tTrain Loss: 0.252581 \t Time: 8s"
     ]
    },
    {
     "name": "stdout",
     "output_type": "stream",
     "text": [
      "\r\tTrain Loss: 0.253940 \t Time: 8s\r\tTrain Loss: 0.255847 \t Time: 8s"
     ]
    },
    {
     "name": "stdout",
     "output_type": "stream",
     "text": [
      "\r\tTrain Loss: 0.253564 \t Time: 8s\r\tTrain Loss: 0.251375 \t Time: 9s"
     ]
    },
    {
     "name": "stdout",
     "output_type": "stream",
     "text": [
      "\r\tTrain Loss: 0.249211 \t Time: 9s\r\tTrain Loss: 0.249976 \t Time: 9s"
     ]
    },
    {
     "name": "stdout",
     "output_type": "stream",
     "text": [
      "\r\tTrain Loss: 0.248253 \t Time: 9s\r\tTrain Loss: 0.248407 \t Time: 9s"
     ]
    },
    {
     "name": "stdout",
     "output_type": "stream",
     "text": [
      "\r\tTrain Loss: 0.249194 \t Time: 10s\r\tTrain Loss: 0.247778 \t Time: 10s"
     ]
    },
    {
     "name": "stdout",
     "output_type": "stream",
     "text": [
      "\r\tTrain Loss: 0.247639 \t Time: 10s\r\tTrain Loss: 0.249501 \t Time: 10s"
     ]
    },
    {
     "name": "stdout",
     "output_type": "stream",
     "text": [
      "\r\tTrain Loss: 0.249767 \t Time: 10s\r\tTrain Loss: 0.248337 \t Time: 10s"
     ]
    },
    {
     "name": "stdout",
     "output_type": "stream",
     "text": [
      "\r\tTrain Loss: 0.247118 \t Time: 11s\r\tTrain Loss: 0.245206 \t Time: 11s"
     ]
    },
    {
     "name": "stdout",
     "output_type": "stream",
     "text": [
      "\r\tTrain Loss: 0.243302 \t Time: 11s\r\tTrain Loss: 0.242286 \t Time: 11s"
     ]
    },
    {
     "name": "stdout",
     "output_type": "stream",
     "text": [
      "\r\tTrain Loss: 0.240761 \t Time: 11s\r\tTrain Loss: 0.239267 \t Time: 12s"
     ]
    },
    {
     "name": "stdout",
     "output_type": "stream",
     "text": [
      "\r\tTrain Loss: 0.237546 \t Time: 12s\r\tTrain Loss: 0.238238 \t Time: 12s"
     ]
    },
    {
     "name": "stdout",
     "output_type": "stream",
     "text": [
      "\r\tTrain Loss: 0.240219 \t Time: 12s\r\tTrain Loss: 0.242504 \t Time: 12s"
     ]
    },
    {
     "name": "stdout",
     "output_type": "stream",
     "text": [
      "\r\tTrain Loss: 0.242834 \t Time: 13s\r\tTrain Loss: 0.241218 \t Time: 13s"
     ]
    },
    {
     "name": "stdout",
     "output_type": "stream",
     "text": [
      "\r\tTrain Loss: 0.241731 \t Time: 13s\r\tTrain Loss: 0.240558 \t Time: 13s"
     ]
    },
    {
     "name": "stdout",
     "output_type": "stream",
     "text": [
      "\r\tTrain Loss: 0.242276 \t Time: 13s\r\tTrain Loss: 0.241560 \t Time: 14s"
     ]
    },
    {
     "name": "stdout",
     "output_type": "stream",
     "text": [
      "\r\tTrain Loss: 0.242176 \t Time: 14s\r\tTrain Loss: 0.242564 \t Time: 14s"
     ]
    },
    {
     "name": "stdout",
     "output_type": "stream",
     "text": [
      "\r\tTrain Loss: 0.241351 \t Time: 14s\r\tTrain Loss: 0.241377 \t Time: 14s"
     ]
    },
    {
     "name": "stdout",
     "output_type": "stream",
     "text": [
      "\r\tTrain Loss: 0.240173 \t Time: 15s\r\tTrain Loss: 0.241216 \t Time: 15s"
     ]
    },
    {
     "name": "stdout",
     "output_type": "stream",
     "text": [
      "\r\tTrain Loss: 0.240961 \t Time: 15s\r\tTrain Loss: 0.242121 \t Time: 15s"
     ]
    },
    {
     "name": "stdout",
     "output_type": "stream",
     "text": [
      "\r\tTrain Loss: 0.241473 \t Time: 15s\r\tTrain Loss: 0.242375 \t Time: 16s"
     ]
    },
    {
     "name": "stdout",
     "output_type": "stream",
     "text": [
      "\r\tTrain Loss: 0.244203 \t Time: 16s\r\tTrain Loss: 0.243204 \t Time: 16s"
     ]
    },
    {
     "name": "stdout",
     "output_type": "stream",
     "text": [
      "\r\tTrain Loss: 0.242106 \t Time: 16s\r\tTrain Loss: 0.244353 \t Time: 16s"
     ]
    },
    {
     "name": "stdout",
     "output_type": "stream",
     "text": [
      "\r\tTrain Loss: 0.245748 \t Time: 17s\r\tTrain Loss: 0.246553 \t Time: 17s"
     ]
    },
    {
     "name": "stdout",
     "output_type": "stream",
     "text": [
      "\r\tTrain Loss: 0.248412 \t Time: 17s\r\tTrain Loss: 0.247374 \t Time: 17s"
     ]
    },
    {
     "name": "stdout",
     "output_type": "stream",
     "text": [
      "\r\tTrain Loss: 0.246321 \t Time: 17s\r\tTrain Loss: 0.247246 \t Time: 17s"
     ]
    },
    {
     "name": "stdout",
     "output_type": "stream",
     "text": [
      "\r\tTrain Loss: 0.246517 \t Time: 18s\r\tTrain Loss: 0.247319 \t Time: 18s"
     ]
    },
    {
     "name": "stdout",
     "output_type": "stream",
     "text": [
      "\r\tTrain Loss: 0.247609 \t Time: 18s\r\tTrain Loss: 0.248258 \t Time: 18s"
     ]
    },
    {
     "name": "stdout",
     "output_type": "stream",
     "text": [
      "\r\tTrain Loss: 0.248522 \t Time: 18s\r\tTrain Loss: 0.249431 \t Time: 19s"
     ]
    },
    {
     "name": "stdout",
     "output_type": "stream",
     "text": [
      "\r\tTrain Loss: 0.248509 \t Time: 19s\r\tTrain Loss: 0.247588 \t Time: 19s"
     ]
    },
    {
     "name": "stdout",
     "output_type": "stream",
     "text": [
      "\r\tTrain Loss: 0.248209 \t Time: 19s\r\tTrain Loss: 0.248668 \t Time: 19s"
     ]
    },
    {
     "name": "stdout",
     "output_type": "stream",
     "text": [
      "\r\tTrain Loss: 0.249151 \t Time: 20s\r\tTrain Loss: 0.250096 \t Time: 20s"
     ]
    },
    {
     "name": "stdout",
     "output_type": "stream",
     "text": [
      "\r\tTrain Loss: 0.250218 \t Time: 20s\r\tTrain Loss: 0.249136 \t Time: 20s"
     ]
    },
    {
     "name": "stdout",
     "output_type": "stream",
     "text": [
      "\r\tTrain Loss: 0.248052 \t Time: 20s\r\tTrain Loss: 0.249603 \t Time: 21s"
     ]
    },
    {
     "name": "stdout",
     "output_type": "stream",
     "text": [
      "\r\tTrain Loss: 0.249462 \t Time: 21s\r\tTrain Loss: 0.249567 \t Time: 21s"
     ]
    },
    {
     "name": "stdout",
     "output_type": "stream",
     "text": [
      "\r\tTrain Loss: 0.250042 \t Time: 21s\r\tTrain Loss: 0.249546 \t Time: 21s"
     ]
    },
    {
     "name": "stdout",
     "output_type": "stream",
     "text": [
      "\r\tTrain Loss: 0.248733 \t Time: 22s\r\tTrain Loss: 0.248057 \t Time: 22s"
     ]
    },
    {
     "name": "stdout",
     "output_type": "stream",
     "text": [
      "\r\tTrain Loss: 0.249612 \t Time: 22s\r\tTrain Loss: 0.250544 \t Time: 22s"
     ]
    },
    {
     "name": "stdout",
     "output_type": "stream",
     "text": [
      "\r\tTrain Loss: 0.251672 \t Time: 22s\r\tTrain Loss: 0.254758 \t Time: 23s"
     ]
    },
    {
     "name": "stdout",
     "output_type": "stream",
     "text": [
      "\r\tTrain Loss: 0.255282 \t Time: 23s\r\tTrain Loss: 0.255502 \t Time: 23s"
     ]
    },
    {
     "name": "stdout",
     "output_type": "stream",
     "text": [
      "\r\tTrain Loss: 0.255190 \t Time: 23s\r\tTrain Loss: 0.254439 \t Time: 23s"
     ]
    },
    {
     "name": "stdout",
     "output_type": "stream",
     "text": [
      "\r\tTrain Loss: 0.254421 \t Time: 24s\r\tTrain Loss: 0.253560 \t Time: 24s"
     ]
    },
    {
     "name": "stdout",
     "output_type": "stream",
     "text": [
      "\r\tTrain Loss: 0.254282 \t Time: 24s\r\tTrain Loss: 0.253570 \t Time: 24s"
     ]
    },
    {
     "name": "stdout",
     "output_type": "stream",
     "text": [
      "\r\tTrain Loss: 0.252558 \t Time: 24s\n"
     ]
    },
    {
     "name": "stdout",
     "output_type": "stream",
     "text": [
      "\tTest Loss: 0.241736 \t Time: 0s\n\t Input: лам семьи елена мизулина.\n\r\n\rбывши \t Result: елена мизулин \t From train: 1\n\t Input: экспорта\" юрия комарова. оба они  \t Result: юрий комаров \t From train: 1\n\t Input:  передача александра любимова \"один на  \t Result: александр любимов \t From train: 1\n"
     ]
    },
    {
     "name": "stdout",
     "output_type": "stream",
     "text": [
      "\t Input: , гелаев, абу мовсаев и другие  \t Result: абу мовсаев \t From train: 1\n\t Input:  том, что солженицын, \"рассмат \t Result: со и. солженицын \t From train: 1\nEpoch 8\n"
     ]
    },
    {
     "name": "stdout",
     "output_type": "stream",
     "text": [
      "\r\tTrain Loss: 0.290717 \t Time: 0s\r\tTrain Loss: 0.225051 \t Time: 0s"
     ]
    },
    {
     "name": "stdout",
     "output_type": "stream",
     "text": [
      "\r\tTrain Loss: 0.192562 \t Time: 0s\r\tTrain Loss: 0.223951 \t Time: 0s"
     ]
    },
    {
     "name": "stdout",
     "output_type": "stream",
     "text": [
      "\r\tTrain Loss: 0.254109 \t Time: 0s\r\tTrain Loss: 0.243703 \t Time: 1s"
     ]
    },
    {
     "name": "stdout",
     "output_type": "stream",
     "text": [
      "\r\tTrain Loss: 0.236091 \t Time: 1s"
     ]
    },
    {
     "name": "stdout",
     "output_type": "stream",
     "text": [
      "\r\tTrain Loss: 0.237739 \t Time: 1s\r\tTrain Loss: 0.244963 \t Time: 1s"
     ]
    },
    {
     "name": "stdout",
     "output_type": "stream",
     "text": [
      "\r\tTrain Loss: 0.248038 \t Time: 1s\r\tTrain Loss: 0.261579 \t Time: 2s"
     ]
    },
    {
     "name": "stdout",
     "output_type": "stream",
     "text": [
      "\r\tTrain Loss: 0.262336 \t Time: 2s\r\tTrain Loss: 0.273528 \t Time: 2s"
     ]
    },
    {
     "name": "stdout",
     "output_type": "stream",
     "text": [
      "\r\tTrain Loss: 0.266385 \t Time: 2s\r\tTrain Loss: 0.265718 \t Time: 2s"
     ]
    },
    {
     "name": "stdout",
     "output_type": "stream",
     "text": [
      "\r\tTrain Loss: 0.260795 \t Time: 3s\r\tTrain Loss: 0.264953 \t Time: 3s"
     ]
    },
    {
     "name": "stdout",
     "output_type": "stream",
     "text": [
      "\r\tTrain Loss: 0.257942 \t Time: 3s\r\tTrain Loss: 0.251883 \t Time: 3s"
     ]
    },
    {
     "name": "stdout",
     "output_type": "stream",
     "text": [
      "\r\tTrain Loss: 0.245123 \t Time: 3s\r\tTrain Loss: 0.239591 \t Time: 4s"
     ]
    },
    {
     "name": "stdout",
     "output_type": "stream",
     "text": [
      "\r\tTrain Loss: 0.241993 \t Time: 4s\r\tTrain Loss: 0.237488 \t Time: 4s"
     ]
    },
    {
     "name": "stdout",
     "output_type": "stream",
     "text": [
      "\r\tTrain Loss: 0.233568 \t Time: 4s\r\tTrain Loss: 0.241440 \t Time: 4s"
     ]
    },
    {
     "name": "stdout",
     "output_type": "stream",
     "text": [
      "\r\tTrain Loss: 0.238825 \t Time: 5s\r\tTrain Loss: 0.235755 \t Time: 5s"
     ]
    },
    {
     "name": "stdout",
     "output_type": "stream",
     "text": [
      "\r\tTrain Loss: 0.235018 \t Time: 5s\r\tTrain Loss: 0.232914 \t Time: 5s"
     ]
    },
    {
     "name": "stdout",
     "output_type": "stream",
     "text": [
      "\r\tTrain Loss: 0.229986 \t Time: 5s\r\tTrain Loss: 0.233035 \t Time: 6s"
     ]
    },
    {
     "name": "stdout",
     "output_type": "stream",
     "text": [
      "\r\tTrain Loss: 0.237379 \t Time: 6s\r\tTrain Loss: 0.236135 \t Time: 6s"
     ]
    },
    {
     "name": "stdout",
     "output_type": "stream",
     "text": [
      "\r\tTrain Loss: 0.234424 \t Time: 6s\r\tTrain Loss: 0.236299 \t Time: 6s"
     ]
    },
    {
     "name": "stdout",
     "output_type": "stream",
     "text": [
      "\r\tTrain Loss: 0.238029 \t Time: 6s\r\tTrain Loss: 0.235747 \t Time: 7s"
     ]
    },
    {
     "name": "stdout",
     "output_type": "stream",
     "text": [
      "\r\tTrain Loss: 0.239353 \t Time: 7s\r\tTrain Loss: 0.241383 \t Time: 7s"
     ]
    },
    {
     "name": "stdout",
     "output_type": "stream",
     "text": [
      "\r\tTrain Loss: 0.244005 \t Time: 7s\r\tTrain Loss: 0.242396 \t Time: 8s"
     ]
    },
    {
     "name": "stdout",
     "output_type": "stream",
     "text": [
      "\r\tTrain Loss: 0.240514 \t Time: 8s\r\tTrain Loss: 0.241213 \t Time: 8s"
     ]
    },
    {
     "name": "stdout",
     "output_type": "stream",
     "text": [
      "\r\tTrain Loss: 0.241954 \t Time: 8s\r\tTrain Loss: 0.243243 \t Time: 8s"
     ]
    },
    {
     "name": "stdout",
     "output_type": "stream",
     "text": [
      "\r\tTrain Loss: 0.244934 \t Time: 8s\r\tTrain Loss: 0.243193 \t Time: 9s"
     ]
    },
    {
     "name": "stdout",
     "output_type": "stream",
     "text": [
      "\r\tTrain Loss: 0.240756 \t Time: 9s\r\tTrain Loss: 0.238389 \t Time: 9s"
     ]
    },
    {
     "name": "stdout",
     "output_type": "stream",
     "text": [
      "\r\tTrain Loss: 0.236754 \t Time: 9s\r\tTrain Loss: 0.235126 \t Time: 9s"
     ]
    },
    {
     "name": "stdout",
     "output_type": "stream",
     "text": [
      "\r\tTrain Loss: 0.235734 \t Time: 10s\r\tTrain Loss: 0.237118 \t Time: 10s"
     ]
    },
    {
     "name": "stdout",
     "output_type": "stream",
     "text": [
      "\r\tTrain Loss: 0.236237 \t Time: 10s\r\tTrain Loss: 0.237683 \t Time: 10s"
     ]
    },
    {
     "name": "stdout",
     "output_type": "stream",
     "text": [
      "\r\tTrain Loss: 0.238950 \t Time: 10s\r\tTrain Loss: 0.237392 \t Time: 11s"
     ]
    },
    {
     "name": "stdout",
     "output_type": "stream",
     "text": [
      "\r\tTrain Loss: 0.235485 \t Time: 11s\r\tTrain Loss: 0.235816 \t Time: 11s"
     ]
    },
    {
     "name": "stdout",
     "output_type": "stream",
     "text": [
      "\r\tTrain Loss: 0.233992 \t Time: 11s\r\tTrain Loss: 0.235682 \t Time: 11s"
     ]
    },
    {
     "name": "stdout",
     "output_type": "stream",
     "text": [
      "\r\tTrain Loss: 0.234397 \t Time: 12s\r\tTrain Loss: 0.236268 \t Time: 12s"
     ]
    },
    {
     "name": "stdout",
     "output_type": "stream",
     "text": [
      "\r\tTrain Loss: 0.236191 \t Time: 12s\r\tTrain Loss: 0.236770 \t Time: 12s"
     ]
    },
    {
     "name": "stdout",
     "output_type": "stream",
     "text": [
      "\r\tTrain Loss: 0.238615 \t Time: 12s\r\tTrain Loss: 0.239422 \t Time: 13s"
     ]
    },
    {
     "name": "stdout",
     "output_type": "stream",
     "text": [
      "\r\tTrain Loss: 0.239985 \t Time: 13s\r\tTrain Loss: 0.239982 \t Time: 13s"
     ]
    },
    {
     "name": "stdout",
     "output_type": "stream",
     "text": [
      "\r\tTrain Loss: 0.240789 \t Time: 13s\r\tTrain Loss: 0.241751 \t Time: 13s"
     ]
    },
    {
     "name": "stdout",
     "output_type": "stream",
     "text": [
      "\r\tTrain Loss: 0.240758 \t Time: 14s\r\tTrain Loss: 0.241902 \t Time: 14s"
     ]
    },
    {
     "name": "stdout",
     "output_type": "stream",
     "text": [
      "\r\tTrain Loss: 0.240688 \t Time: 14s\r\tTrain Loss: 0.239407 \t Time: 14s"
     ]
    },
    {
     "name": "stdout",
     "output_type": "stream",
     "text": [
      "\r\tTrain Loss: 0.238724 \t Time: 14s\r\tTrain Loss: 0.237670 \t Time: 14s"
     ]
    },
    {
     "name": "stdout",
     "output_type": "stream",
     "text": [
      "\r\tTrain Loss: 0.236380 \t Time: 15s\r\tTrain Loss: 0.235390 \t Time: 15s"
     ]
    },
    {
     "name": "stdout",
     "output_type": "stream",
     "text": [
      "\r\tTrain Loss: 0.234019 \t Time: 15s\r\tTrain Loss: 0.232967 \t Time: 15s"
     ]
    },
    {
     "name": "stdout",
     "output_type": "stream",
     "text": [
      "\r\tTrain Loss: 0.233659 \t Time: 15s\r\tTrain Loss: 0.235767 \t Time: 16s"
     ]
    },
    {
     "name": "stdout",
     "output_type": "stream",
     "text": [
      "\r\tTrain Loss: 0.237172 \t Time: 16s\r\tTrain Loss: 0.238491 \t Time: 16s"
     ]
    },
    {
     "name": "stdout",
     "output_type": "stream",
     "text": [
      "\r\tTrain Loss: 0.237665 \t Time: 16s\r\tTrain Loss: 0.237885 \t Time: 16s"
     ]
    },
    {
     "name": "stdout",
     "output_type": "stream",
     "text": [
      "\r\tTrain Loss: 0.239704 \t Time: 17s\r\tTrain Loss: 0.238909 \t Time: 17s"
     ]
    },
    {
     "name": "stdout",
     "output_type": "stream",
     "text": [
      "\r\tTrain Loss: 0.238590 \t Time: 17s\r\tTrain Loss: 0.240206 \t Time: 17s"
     ]
    },
    {
     "name": "stdout",
     "output_type": "stream",
     "text": [
      "\r\tTrain Loss: 0.240793 \t Time: 17s\r\tTrain Loss: 0.239711 \t Time: 18s"
     ]
    },
    {
     "name": "stdout",
     "output_type": "stream",
     "text": [
      "\r\tTrain Loss: 0.241218 \t Time: 18s\r\tTrain Loss: 0.240780 \t Time: 18s"
     ]
    },
    {
     "name": "stdout",
     "output_type": "stream",
     "text": [
      "\r\tTrain Loss: 0.239709 \t Time: 18s\r\tTrain Loss: 0.240433 \t Time: 18s"
     ]
    },
    {
     "name": "stdout",
     "output_type": "stream",
     "text": [
      "\r\tTrain Loss: 0.239595 \t Time: 19s\r\tTrain Loss: 0.240564 \t Time: 19s"
     ]
    },
    {
     "name": "stdout",
     "output_type": "stream",
     "text": [
      "\r\tTrain Loss: 0.239646 \t Time: 19s\r\tTrain Loss: 0.238636 \t Time: 19s"
     ]
    },
    {
     "name": "stdout",
     "output_type": "stream",
     "text": [
      "\r\tTrain Loss: 0.237744 \t Time: 19s"
     ]
    },
    {
     "name": "stdout",
     "output_type": "stream",
     "text": [
      "\r\tTrain Loss: 0.238612 \t Time: 20s\r\tTrain Loss: 0.239850 \t Time: 20s"
     ]
    },
    {
     "name": "stdout",
     "output_type": "stream",
     "text": [
      "\r\tTrain Loss: 0.240790 \t Time: 20s\r\tTrain Loss: 0.241553 \t Time: 20s"
     ]
    },
    {
     "name": "stdout",
     "output_type": "stream",
     "text": [
      "\r\tTrain Loss: 0.240800 \t Time: 20s\r\tTrain Loss: 0.240954 \t Time: 20s"
     ]
    },
    {
     "name": "stdout",
     "output_type": "stream",
     "text": [
      "\r\tTrain Loss: 0.241815 \t Time: 21s\r\tTrain Loss: 0.243060 \t Time: 21s"
     ]
    },
    {
     "name": "stdout",
     "output_type": "stream",
     "text": [
      "\r\tTrain Loss: 0.242954 \t Time: 21s\r\tTrain Loss: 0.243560 \t Time: 21s"
     ]
    },
    {
     "name": "stdout",
     "output_type": "stream",
     "text": [
      "\r\tTrain Loss: 0.242806 \t Time: 21s\r\tTrain Loss: 0.242066 \t Time: 22s"
     ]
    },
    {
     "name": "stdout",
     "output_type": "stream",
     "text": [
      "\r\tTrain Loss: 0.243091 \t Time: 22s\r\tTrain Loss: 0.243655 \t Time: 22s"
     ]
    },
    {
     "name": "stdout",
     "output_type": "stream",
     "text": [
      "\r\tTrain Loss: 0.242761 \t Time: 22s\r\tTrain Loss: 0.243166 \t Time: 22s"
     ]
    },
    {
     "name": "stdout",
     "output_type": "stream",
     "text": [
      "\r\tTrain Loss: 0.242544 \t Time: 23s\r\tTrain Loss: 0.241838 \t Time: 23s"
     ]
    },
    {
     "name": "stdout",
     "output_type": "stream",
     "text": [
      "\r\tTrain Loss: 0.241244 \t Time: 23s\r\tTrain Loss: 0.240321 \t Time: 23s"
     ]
    },
    {
     "name": "stdout",
     "output_type": "stream",
     "text": [
      "\r\tTrain Loss: 0.240580 \t Time: 23s\r\tTrain Loss: 0.240504 \t Time: 24s"
     ]
    },
    {
     "name": "stdout",
     "output_type": "stream",
     "text": [
      "\r\tTrain Loss: 0.239759 \t Time: 24s\r\tTrain Loss: 0.239572 \t Time: 24s"
     ]
    },
    {
     "name": "stdout",
     "output_type": "stream",
     "text": [
      "\r\tTrain Loss: 0.239044 \t Time: 24s\n"
     ]
    },
    {
     "name": "stdout",
     "output_type": "stream",
     "text": [
      "\tTest Loss: 0.223097 \t Time: 0s\n\t Input:  гречко и дмитрий устинов хотели пр \t Result: дмитрий устинов \t From train: 1\n\t Input: медведев сменил св \t Result: мена \t From train: 1\n\t Input: а украине николай георгиев. во время \t Result: николай георгиев \t From train: 1\n\t Input: обритании джек стро (jack str \t Result: джек стро  \t From train: 1"
     ]
    },
    {
     "name": "stdout",
     "output_type": "stream",
     "text": [
      "\n\t Input: олномочий николая чувальского, занявшег \t Result: николай чувальский \t From train: 1\nEpoch 9\n\r\tTrain Loss: 0.167423 \t Time: 0s"
     ]
    },
    {
     "name": "stdout",
     "output_type": "stream",
     "text": [
      "\r\tTrain Loss: 0.151544 \t Time: 0s\r\tTrain Loss: 0.198551 \t Time: 0s"
     ]
    },
    {
     "name": "stdout",
     "output_type": "stream",
     "text": [
      "\r\tTrain Loss: 0.233997 \t Time: 0s\r\tTrain Loss: 0.221979 \t Time: 0s"
     ]
    },
    {
     "name": "stdout",
     "output_type": "stream",
     "text": [
      "\r\tTrain Loss: 0.211869 \t Time: 1s\r\tTrain Loss: 0.224870 \t Time: 1s"
     ]
    },
    {
     "name": "stdout",
     "output_type": "stream",
     "text": [
      "\r\tTrain Loss: 0.235496 \t Time: 1s\r\tTrain Loss: 0.225344 \t Time: 1s"
     ]
    },
    {
     "name": "stdout",
     "output_type": "stream",
     "text": [
      "\r\tTrain Loss: 0.217969 \t Time: 1s\r\tTrain Loss: 0.233728 \t Time: 2s"
     ]
    },
    {
     "name": "stdout",
     "output_type": "stream",
     "text": [
      "\r\tTrain Loss: 0.240811 \t Time: 2s\r\tTrain Loss: 0.259819 \t Time: 2s"
     ]
    },
    {
     "name": "stdout",
     "output_type": "stream",
     "text": [
      "\r\tTrain Loss: 0.253403 \t Time: 2s\r\tTrain Loss: 0.247129 \t Time: 2s"
     ]
    },
    {
     "name": "stdout",
     "output_type": "stream",
     "text": [
      "\r\tTrain Loss: 0.244900 \t Time: 3s\r\tTrain Loss: 0.251336 \t Time: 3s"
     ]
    },
    {
     "name": "stdout",
     "output_type": "stream",
     "text": [
      "\r\tTrain Loss: 0.254516 \t Time: 3s\r\tTrain Loss: 0.248171 \t Time: 3s"
     ]
    },
    {
     "name": "stdout",
     "output_type": "stream",
     "text": [
      "\r\tTrain Loss: 0.243245 \t Time: 3s\r\tTrain Loss: 0.239758 \t Time: 4s"
     ]
    },
    {
     "name": "stdout",
     "output_type": "stream",
     "text": [
      "\r\tTrain Loss: 0.243582 \t Time: 4s\r\tTrain Loss: 0.239320 \t Time: 4s"
     ]
    },
    {
     "name": "stdout",
     "output_type": "stream",
     "text": [
      "\r\tTrain Loss: 0.236641 \t Time: 4s\r\tTrain Loss: 0.232498 \t Time: 4s"
     ]
    },
    {
     "name": "stdout",
     "output_type": "stream",
     "text": [
      "\r\tTrain Loss: 0.238245 \t Time: 5s\r\tTrain Loss: 0.239624 \t Time: 5s"
     ]
    },
    {
     "name": "stdout",
     "output_type": "stream",
     "text": [
      "\r\tTrain Loss: 0.241670 \t Time: 5s\r\tTrain Loss: 0.239775 \t Time: 5s"
     ]
    },
    {
     "name": "stdout",
     "output_type": "stream",
     "text": [
      "\r\tTrain Loss: 0.236634 \t Time: 5s\r\tTrain Loss: 0.235614 \t Time: 6s"
     ]
    },
    {
     "name": "stdout",
     "output_type": "stream",
     "text": [
      "\r\tTrain Loss: 0.238034 \t Time: 6s\r\tTrain Loss: 0.238093 \t Time: 6s"
     ]
    },
    {
     "name": "stdout",
     "output_type": "stream",
     "text": [
      "\r\tTrain Loss: 0.235085 \t Time: 6s\r\tTrain Loss: 0.233828 \t Time: 6s"
     ]
    },
    {
     "name": "stdout",
     "output_type": "stream",
     "text": [
      "\r\tTrain Loss: 0.231924 \t Time: 6s\r\tTrain Loss: 0.234285 \t Time: 7s"
     ]
    },
    {
     "name": "stdout",
     "output_type": "stream",
     "text": [
      "\r\tTrain Loss: 0.237387 \t Time: 7s\r\tTrain Loss: 0.240854 \t Time: 7s"
     ]
    },
    {
     "name": "stdout",
     "output_type": "stream",
     "text": [
      "\r\tTrain Loss: 0.238817 \t Time: 7s\r\tTrain Loss: 0.239667 \t Time: 7s"
     ]
    },
    {
     "name": "stdout",
     "output_type": "stream",
     "text": [
      "\r\tTrain Loss: 0.239448 \t Time: 8s"
     ]
    },
    {
     "name": "stdout",
     "output_type": "stream",
     "text": [
      "\r\tTrain Loss: 0.242847 \t Time: 8s\r\tTrain Loss: 0.243839 \t Time: 8s"
     ]
    },
    {
     "name": "stdout",
     "output_type": "stream",
     "text": [
      "\r\tTrain Loss: 0.242431 \t Time: 8s\r\tTrain Loss: 0.241787 \t Time: 8s"
     ]
    },
    {
     "name": "stdout",
     "output_type": "stream",
     "text": [
      "\r\tTrain Loss: 0.239993 \t Time: 9s\r\tTrain Loss: 0.238669 \t Time: 9s"
     ]
    },
    {
     "name": "stdout",
     "output_type": "stream",
     "text": [
      "\r\tTrain Loss: 0.236878 \t Time: 9s\r\tTrain Loss: 0.236348 \t Time: 9s"
     ]
    },
    {
     "name": "stdout",
     "output_type": "stream",
     "text": [
      "\r\tTrain Loss: 0.234948 \t Time: 9s\r\tTrain Loss: 0.232910 \t Time: 10s"
     ]
    },
    {
     "name": "stdout",
     "output_type": "stream",
     "text": [
      "\r\tTrain Loss: 0.230629 \t Time: 10s\r\tTrain Loss: 0.232447 \t Time: 10s"
     ]
    },
    {
     "name": "stdout",
     "output_type": "stream",
     "text": [
      "\r\tTrain Loss: 0.231103 \t Time: 10s\r\tTrain Loss: 0.232488 \t Time: 10s"
     ]
    },
    {
     "name": "stdout",
     "output_type": "stream",
     "text": [
      "\r\tTrain Loss: 0.235121 \t Time: 11s"
     ]
    },
    {
     "name": "stdout",
     "output_type": "stream",
     "text": [
      "\r\tTrain Loss: 0.234827 \t Time: 11s\r\tTrain Loss: 0.233923 \t Time: 11s"
     ]
    },
    {
     "name": "stdout",
     "output_type": "stream",
     "text": [
      "\r\tTrain Loss: 0.234883 \t Time: 11s\r\tTrain Loss: 0.235062 \t Time: 11s"
     ]
    },
    {
     "name": "stdout",
     "output_type": "stream",
     "text": [
      "\r\tTrain Loss: 0.235358 \t Time: 12s\r\tTrain Loss: 0.237005 \t Time: 12s"
     ]
    },
    {
     "name": "stdout",
     "output_type": "stream",
     "text": [
      "\r\tTrain Loss: 0.235420 \t Time: 12s\r\tTrain Loss: 0.236536 \t Time: 12s"
     ]
    },
    {
     "name": "stdout",
     "output_type": "stream",
     "text": [
      "\r\tTrain Loss: 0.235354 \t Time: 12s\r\tTrain Loss: 0.234338 \t Time: 13s"
     ]
    },
    {
     "name": "stdout",
     "output_type": "stream",
     "text": [
      "\r\tTrain Loss: 0.233076 \t Time: 13s\r\tTrain Loss: 0.231910 \t Time: 13s"
     ]
    },
    {
     "name": "stdout",
     "output_type": "stream",
     "text": [
      "\r\tTrain Loss: 0.231908 \t Time: 13s\r\tTrain Loss: 0.233079 \t Time: 13s"
     ]
    },
    {
     "name": "stdout",
     "output_type": "stream",
     "text": [
      "\r\tTrain Loss: 0.234707 \t Time: 14s\r\tTrain Loss: 0.236139 \t Time: 14s"
     ]
    },
    {
     "name": "stdout",
     "output_type": "stream",
     "text": [
      "\r\tTrain Loss: 0.234798 \t Time: 14s\r\tTrain Loss: 0.236778 \t Time: 14s"
     ]
    },
    {
     "name": "stdout",
     "output_type": "stream",
     "text": [
      "\r\tTrain Loss: 0.235804 \t Time: 14s\r\tTrain Loss: 0.234622 \t Time: 15s"
     ]
    },
    {
     "name": "stdout",
     "output_type": "stream",
     "text": [
      "\r\tTrain Loss: 0.235144 \t Time: 15s\r\tTrain Loss: 0.234386 \t Time: 15s"
     ]
    },
    {
     "name": "stdout",
     "output_type": "stream",
     "text": [
      "\r\tTrain Loss: 0.233537 \t Time: 15s\r\tTrain Loss: 0.234198 \t Time: 15s"
     ]
    },
    {
     "name": "stdout",
     "output_type": "stream",
     "text": [
      "\r\tTrain Loss: 0.235019 \t Time: 15s\r\tTrain Loss: 0.235670 \t Time: 16s"
     ]
    },
    {
     "name": "stdout",
     "output_type": "stream",
     "text": [
      "\r\tTrain Loss: 0.235000 \t Time: 16s\r\tTrain Loss: 0.234155 \t Time: 16s"
     ]
    },
    {
     "name": "stdout",
     "output_type": "stream",
     "text": [
      "\r\tTrain Loss: 0.234551 \t Time: 16s\r\tTrain Loss: 0.233561 \t Time: 16s"
     ]
    },
    {
     "name": "stdout",
     "output_type": "stream",
     "text": [
      "\r\tTrain Loss: 0.235449 \t Time: 17s\r\tTrain Loss: 0.236592 \t Time: 17s"
     ]
    },
    {
     "name": "stdout",
     "output_type": "stream",
     "text": [
      "\r\tTrain Loss: 0.236776 \t Time: 17s\r\tTrain Loss: 0.235737 \t Time: 17s"
     ]
    },
    {
     "name": "stdout",
     "output_type": "stream",
     "text": [
      "\r\tTrain Loss: 0.236240 \t Time: 17s\r\tTrain Loss: 0.236827 \t Time: 18s"
     ]
    },
    {
     "name": "stdout",
     "output_type": "stream",
     "text": [
      "\r\tTrain Loss: 0.235987 \t Time: 18s\r\tTrain Loss: 0.236463 \t Time: 18s"
     ]
    },
    {
     "name": "stdout",
     "output_type": "stream",
     "text": [
      "\r\tTrain Loss: 0.236884 \t Time: 18s\r\tTrain Loss: 0.236024 \t Time: 18s"
     ]
    },
    {
     "name": "stdout",
     "output_type": "stream",
     "text": [
      "\r\tTrain Loss: 0.236245 \t Time: 19s\r\tTrain Loss: 0.235310 \t Time: 19s"
     ]
    },
    {
     "name": "stdout",
     "output_type": "stream",
     "text": [
      "\r\tTrain Loss: 0.234355 \t Time: 19s\r\tTrain Loss: 0.235507 \t Time: 19s"
     ]
    },
    {
     "name": "stdout",
     "output_type": "stream",
     "text": [
      "\r\tTrain Loss: 0.234662 \t Time: 19s\r\tTrain Loss: 0.233759 \t Time: 20s"
     ]
    },
    {
     "name": "stdout",
     "output_type": "stream",
     "text": [
      "\r\tTrain Loss: 0.234501 \t Time: 20s\r\tTrain Loss: 0.234757 \t Time: 20s"
     ]
    },
    {
     "name": "stdout",
     "output_type": "stream",
     "text": [
      "\r\tTrain Loss: 0.233800 \t Time: 20s\r\tTrain Loss: 0.233844 \t Time: 20s"
     ]
    },
    {
     "name": "stdout",
     "output_type": "stream",
     "text": [
      "\r\tTrain Loss: 0.234180 \t Time: 21s\r\tTrain Loss: 0.233214 \t Time: 21s"
     ]
    },
    {
     "name": "stdout",
     "output_type": "stream",
     "text": [
      "\r\tTrain Loss: 0.234016 \t Time: 21s\r\tTrain Loss: 0.235264 \t Time: 21s"
     ]
    },
    {
     "name": "stdout",
     "output_type": "stream",
     "text": [
      "\r\tTrain Loss: 0.235042 \t Time: 21s\r\tTrain Loss: 0.235004 \t Time: 22s"
     ]
    },
    {
     "name": "stdout",
     "output_type": "stream",
     "text": [
      "\r\tTrain Loss: 0.235546 \t Time: 22s\r\tTrain Loss: 0.235969 \t Time: 22s"
     ]
    },
    {
     "name": "stdout",
     "output_type": "stream",
     "text": [
      "\r\tTrain Loss: 0.235284 \t Time: 22s\r\tTrain Loss: 0.235820 \t Time: 22s"
     ]
    },
    {
     "name": "stdout",
     "output_type": "stream",
     "text": [
      "\r\tTrain Loss: 0.234963 \t Time: 23s\r\tTrain Loss: 0.234364 \t Time: 23s"
     ]
    },
    {
     "name": "stdout",
     "output_type": "stream",
     "text": [
      "\r\tTrain Loss: 0.233572 \t Time: 23s\r\tTrain Loss: 0.234251 \t Time: 23s"
     ]
    },
    {
     "name": "stdout",
     "output_type": "stream",
     "text": [
      "\r\tTrain Loss: 0.233421 \t Time: 23s\r\tTrain Loss: 0.234944 \t Time: 24s"
     ]
    },
    {
     "name": "stdout",
     "output_type": "stream",
     "text": [
      "\r\tTrain Loss: 0.234614 \t Time: 24s\r\tTrain Loss: 0.233913 \t Time: 24s"
     ]
    },
    {
     "name": "stdout",
     "output_type": "stream",
     "text": [
      "\r\tTrain Loss: 0.235092 \t Time: 24s\r\tTrain Loss: 0.236232 \t Time: 24s\n"
     ]
    },
    {
     "name": "stdout",
     "output_type": "stream",
     "text": [
      "\tTest Loss: 0.236912 \t Time: 0s\n\t Input: депутатом ильей пономаревым и другими \t Result: илья пономарев \t From train: 1\n\t Input:  комитета валерием драгановым и еще ряд \t Result: валерий драганов \t From train: 1\n\t Input: михельса (rinus michels). михельс \t Result: rinus michels \t From train: 1\n"
     ]
    },
    {
     "name": "stdout",
     "output_type": "stream",
     "text": [
      "\t Input: wikileaks джулиана ассанжа, уже окол \t Result: джулиан ассанж \t From train: 1\n\t Input:  же время болтен известен  \t Result: болтен \t From train: 1\nEpoch 10\n"
     ]
    },
    {
     "name": "stdout",
     "output_type": "stream",
     "text": [
      "\r\tTrain Loss: 0.151869 \t Time: 0s\r\tTrain Loss: 0.250250 \t Time: 0s"
     ]
    },
    {
     "name": "stdout",
     "output_type": "stream",
     "text": [
      "\r\tTrain Loss: 0.230545 \t Time: 0s\r\tTrain Loss: 0.207292 \t Time: 0s"
     ]
    },
    {
     "name": "stdout",
     "output_type": "stream",
     "text": [
      "\r\tTrain Loss: 0.192357 \t Time: 0s\r\tTrain Loss: 0.190505 \t Time: 1s"
     ]
    },
    {
     "name": "stdout",
     "output_type": "stream",
     "text": [
      "\r\tTrain Loss: 0.184003 \t Time: 1s\r\tTrain Loss: 0.179116 \t Time: 1s"
     ]
    },
    {
     "name": "stdout",
     "output_type": "stream",
     "text": [
      "\r\tTrain Loss: 0.172514 \t Time: 1s\r\tTrain Loss: 0.184330 \t Time: 1s"
     ]
    },
    {
     "name": "stdout",
     "output_type": "stream",
     "text": [
      "\r\tTrain Loss: 0.193586 \t Time: 2s\r\tTrain Loss: 0.190982 \t Time: 2s"
     ]
    },
    {
     "name": "stdout",
     "output_type": "stream",
     "text": [
      "\r\tTrain Loss: 0.185555 \t Time: 2s\r\tTrain Loss: 0.200488 \t Time: 2s"
     ]
    },
    {
     "name": "stdout",
     "output_type": "stream",
     "text": [
      "\r\tTrain Loss: 0.201675 \t Time: 2s\r\tTrain Loss: 0.199673 \t Time: 3s"
     ]
    },
    {
     "name": "stdout",
     "output_type": "stream",
     "text": [
      "\r\tTrain Loss: 0.204772 \t Time: 3s\r\tTrain Loss: 0.202091 \t Time: 3s"
     ]
    },
    {
     "name": "stdout",
     "output_type": "stream",
     "text": [
      "\r\tTrain Loss: 0.210912 \t Time: 3s\r\tTrain Loss: 0.207283 \t Time: 3s"
     ]
    },
    {
     "name": "stdout",
     "output_type": "stream",
     "text": [
      "\r\tTrain Loss: 0.205067 \t Time: 4s"
     ]
    },
    {
     "name": "stdout",
     "output_type": "stream",
     "text": [
      "\r\tTrain Loss: 0.201055 \t Time: 4s\r\tTrain Loss: 0.198795 \t Time: 4s"
     ]
    },
    {
     "name": "stdout",
     "output_type": "stream",
     "text": [
      "\r\tTrain Loss: 0.197011 \t Time: 4s\r\tTrain Loss: 0.195330 \t Time: 4s"
     ]
    },
    {
     "name": "stdout",
     "output_type": "stream",
     "text": [
      "\r\tTrain Loss: 0.192532 \t Time: 5s\r\tTrain Loss: 0.190835 \t Time: 5s"
     ]
    },
    {
     "name": "stdout",
     "output_type": "stream",
     "text": [
      "\r\tTrain Loss: 0.193657 \t Time: 5s\r\tTrain Loss: 0.192908 \t Time: 5s"
     ]
    },
    {
     "name": "stdout",
     "output_type": "stream",
     "text": [
      "\r\tTrain Loss: 0.191359 \t Time: 5s\r\tTrain Loss: 0.196201 \t Time: 6s"
     ]
    },
    {
     "name": "stdout",
     "output_type": "stream",
     "text": [
      "\r\tTrain Loss: 0.199745 \t Time: 6s\r\tTrain Loss: 0.197583 \t Time: 6s"
     ]
    },
    {
     "name": "stdout",
     "output_type": "stream",
     "text": [
      "\r\tTrain Loss: 0.196872 \t Time: 6s\r\tTrain Loss: 0.201077 \t Time: 6s"
     ]
    },
    {
     "name": "stdout",
     "output_type": "stream",
     "text": [
      "\r\tTrain Loss: 0.202299 \t Time: 7s\r\tTrain Loss: 0.205275 \t Time: 7s"
     ]
    },
    {
     "name": "stdout",
     "output_type": "stream",
     "text": [
      "\r\tTrain Loss: 0.207931 \t Time: 7s\r\tTrain Loss: 0.210353 \t Time: 7s"
     ]
    },
    {
     "name": "stdout",
     "output_type": "stream",
     "text": [
      "\r\tTrain Loss: 0.208628 \t Time: 7s\r\tTrain Loss: 0.207623 \t Time: 8s"
     ]
    },
    {
     "name": "stdout",
     "output_type": "stream",
     "text": [
      "\r\tTrain Loss: 0.209232 \t Time: 8s\r\tTrain Loss: 0.210752 \t Time: 8s"
     ]
    },
    {
     "name": "stdout",
     "output_type": "stream",
     "text": [
      "\r\tTrain Loss: 0.209284 \t Time: 8s\r\tTrain Loss: 0.208588 \t Time: 8s"
     ]
    },
    {
     "name": "stdout",
     "output_type": "stream",
     "text": [
      "\r\tTrain Loss: 0.207121 \t Time: 9s\r\tTrain Loss: 0.208918 \t Time: 9s"
     ]
    },
    {
     "name": "stdout",
     "output_type": "stream",
     "text": [
      "\r\tTrain Loss: 0.207106 \t Time: 9s\r\tTrain Loss: 0.206371 \t Time: 9s"
     ]
    },
    {
     "name": "stdout",
     "output_type": "stream",
     "text": [
      "\r\tTrain Loss: 0.205996 \t Time: 9s\r\tTrain Loss: 0.205391 \t Time: 10s"
     ]
    },
    {
     "name": "stdout",
     "output_type": "stream",
     "text": [
      "\r\tTrain Loss: 0.208924 \t Time: 10s\r\tTrain Loss: 0.210003 \t Time: 10s"
     ]
    },
    {
     "name": "stdout",
     "output_type": "stream",
     "text": [
      "\r\tTrain Loss: 0.208699 \t Time: 10s\r\tTrain Loss: 0.207713 \t Time: 10s"
     ]
    },
    {
     "name": "stdout",
     "output_type": "stream",
     "text": [
      "\r\tTrain Loss: 0.207394 \t Time: 10s\r\tTrain Loss: 0.209177 \t Time: 11s"
     ]
    },
    {
     "name": "stdout",
     "output_type": "stream",
     "text": [
      "\r\tTrain Loss: 0.208916 \t Time: 11s\r\tTrain Loss: 0.210280 \t Time: 11s"
     ]
    },
    {
     "name": "stdout",
     "output_type": "stream",
     "text": [
      "\r\tTrain Loss: 0.210467 \t Time: 11s"
     ]
    },
    {
     "name": "stdout",
     "output_type": "stream",
     "text": [
      "\r\tTrain Loss: 0.212165 \t Time: 12s"
     ]
    },
    {
     "name": "stdout",
     "output_type": "stream",
     "text": [
      "\r\tTrain Loss: 0.211136 \t Time: 12s"
     ]
    },
    {
     "name": "stdout",
     "output_type": "stream",
     "text": [
      "\r\tTrain Loss: 0.211413 \t Time: 12s\r\tTrain Loss: 0.212037 \t Time: 12s"
     ]
    },
    {
     "name": "stdout",
     "output_type": "stream",
     "text": [
      "\r\tTrain Loss: 0.211354 \t Time: 12s\r\tTrain Loss: 0.210198 \t Time: 12s"
     ]
    },
    {
     "name": "stdout",
     "output_type": "stream",
     "text": [
      "\r\tTrain Loss: 0.209343 \t Time: 13s"
     ]
    },
    {
     "name": "stdout",
     "output_type": "stream",
     "text": [
      "\r\tTrain Loss: 0.208250 \t Time: 13s\r\tTrain Loss: 0.208826 \t Time: 13s"
     ]
    },
    {
     "name": "stdout",
     "output_type": "stream",
     "text": [
      "\r\tTrain Loss: 0.211528 \t Time: 13s\r\tTrain Loss: 0.213546 \t Time: 13s"
     ]
    },
    {
     "name": "stdout",
     "output_type": "stream",
     "text": [
      "\r\tTrain Loss: 0.212464 \t Time: 14s\r\tTrain Loss: 0.211569 \t Time: 14s"
     ]
    },
    {
     "name": "stdout",
     "output_type": "stream",
     "text": [
      "\r\tTrain Loss: 0.210634 \t Time: 14s\r\tTrain Loss: 0.210063 \t Time: 14s"
     ]
    },
    {
     "name": "stdout",
     "output_type": "stream",
     "text": [
      "\r\tTrain Loss: 0.209713 \t Time: 14s\r\tTrain Loss: 0.208925 \t Time: 15s"
     ]
    },
    {
     "name": "stdout",
     "output_type": "stream",
     "text": [
      "\r\tTrain Loss: 0.210046 \t Time: 15s\r\tTrain Loss: 0.212087 \t Time: 15s"
     ]
    },
    {
     "name": "stdout",
     "output_type": "stream",
     "text": [
      "\r\tTrain Loss: 0.214473 \t Time: 15s\r\tTrain Loss: 0.215617 \t Time: 15s"
     ]
    },
    {
     "name": "stdout",
     "output_type": "stream",
     "text": [
      "\r\tTrain Loss: 0.215169 \t Time: 16s\r\tTrain Loss: 0.214280 \t Time: 16s"
     ]
    },
    {
     "name": "stdout",
     "output_type": "stream",
     "text": [
      "\r\tTrain Loss: 0.213352 \t Time: 16s\r\tTrain Loss: 0.212648 \t Time: 16s"
     ]
    },
    {
     "name": "stdout",
     "output_type": "stream",
     "text": [
      "\r\tTrain Loss: 0.213556 \t Time: 16s\r\tTrain Loss: 0.214504 \t Time: 17s"
     ]
    },
    {
     "name": "stdout",
     "output_type": "stream",
     "text": [
      "\r\tTrain Loss: 0.214070 \t Time: 17s\r\tTrain Loss: 0.217048 \t Time: 17s"
     ]
    },
    {
     "name": "stdout",
     "output_type": "stream",
     "text": [
      "\r\tTrain Loss: 0.216857 \t Time: 17s\r\tTrain Loss: 0.216550 \t Time: 17s"
     ]
    },
    {
     "name": "stdout",
     "output_type": "stream",
     "text": [
      "\r\tTrain Loss: 0.215841 \t Time: 18s\r\tTrain Loss: 0.216835 \t Time: 18s"
     ]
    },
    {
     "name": "stdout",
     "output_type": "stream",
     "text": [
      "\r\tTrain Loss: 0.216107 \t Time: 18s\r\tTrain Loss: 0.216551 \t Time: 18s"
     ]
    },
    {
     "name": "stdout",
     "output_type": "stream",
     "text": [
      "\r\tTrain Loss: 0.218663 \t Time: 18s\r\tTrain Loss: 0.219400 \t Time: 19s"
     ]
    },
    {
     "name": "stdout",
     "output_type": "stream",
     "text": [
      "\r\tTrain Loss: 0.218798 \t Time: 19s\r\tTrain Loss: 0.217764 \t Time: 19s"
     ]
    },
    {
     "name": "stdout",
     "output_type": "stream",
     "text": [
      "\r\tTrain Loss: 0.216824 \t Time: 19s\r\tTrain Loss: 0.216294 \t Time: 19s"
     ]
    },
    {
     "name": "stdout",
     "output_type": "stream",
     "text": [
      "\r\tTrain Loss: 0.215459 \t Time: 20s"
     ]
    },
    {
     "name": "stdout",
     "output_type": "stream",
     "text": [
      "\r\tTrain Loss: 0.216312 \t Time: 20s\r\tTrain Loss: 0.217441 \t Time: 20s"
     ]
    },
    {
     "name": "stdout",
     "output_type": "stream",
     "text": [
      "\r\tTrain Loss: 0.217995 \t Time: 20s"
     ]
    },
    {
     "name": "stdout",
     "output_type": "stream",
     "text": [
      "\r\tTrain Loss: 0.217150 \t Time: 20s\r\tTrain Loss: 0.216131 \t Time: 21s"
     ]
    },
    {
     "name": "stdout",
     "output_type": "stream",
     "text": [
      "\r\tTrain Loss: 0.216955 \t Time: 21s\r\tTrain Loss: 0.217971 \t Time: 21s"
     ]
    },
    {
     "name": "stdout",
     "output_type": "stream",
     "text": [
      "\r\tTrain Loss: 0.217401 \t Time: 21s\r\tTrain Loss: 0.216770 \t Time: 21s"
     ]
    },
    {
     "name": "stdout",
     "output_type": "stream",
     "text": [
      "\r\tTrain Loss: 0.217730 \t Time: 22s\r\tTrain Loss: 0.218737 \t Time: 22s"
     ]
    },
    {
     "name": "stdout",
     "output_type": "stream",
     "text": [
      "\r\tTrain Loss: 0.219773 \t Time: 22s\r\tTrain Loss: 0.220457 \t Time: 22s"
     ]
    },
    {
     "name": "stdout",
     "output_type": "stream",
     "text": [
      "\r\tTrain Loss: 0.221716 \t Time: 22s\r\tTrain Loss: 0.222320 \t Time: 23s"
     ]
    },
    {
     "name": "stdout",
     "output_type": "stream",
     "text": [
      "\r\tTrain Loss: 0.222498 \t Time: 23s\r\tTrain Loss: 0.222069 \t Time: 23s"
     ]
    },
    {
     "name": "stdout",
     "output_type": "stream",
     "text": [
      "\r\tTrain Loss: 0.222916 \t Time: 23s\r\tTrain Loss: 0.222680 \t Time: 23s"
     ]
    },
    {
     "name": "stdout",
     "output_type": "stream",
     "text": [
      "\r\tTrain Loss: 0.222159 \t Time: 24s"
     ]
    },
    {
     "name": "stdout",
     "output_type": "stream",
     "text": [
      "\r\tTrain Loss: 0.222829 \t Time: 24s\r\tTrain Loss: 0.223350 \t Time: 24s"
     ]
    },
    {
     "name": "stdout",
     "output_type": "stream",
     "text": [
      "\r\tTrain Loss: 0.223336 \t Time: 24s\r\tTrain Loss: 0.222771 \t Time: 24s"
     ]
    },
    {
     "name": "stdout",
     "output_type": "stream",
     "text": [
      "\r\tTrain Loss: 0.223464 \t Time: 25s\n"
     ]
    },
    {
     "name": "stdout",
     "output_type": "stream",
     "text": [
      "\tTest Loss: 0.260449 \t Time: 0s\n\t Input: ша митич, драган маршичанин, воислав  \t Result: драган маршичанин \t From train: 1\n\t Input: нко и его водителя отобрали  \t Result: водитель \t From train: 1\n\t Input: а госдумы романа абрамовича. после из \t Result: роман абрамович \t From train: 1\n"
     ]
    },
    {
     "name": "stdout",
     "output_type": "stream",
     "text": [
      "\t Input: овавшейся андреем ерофеевым выставке  \t Result: андрей ерофеев \t From train: 1\n\t Input: ила с его отчимом - капитан \t Result: отчим \t From train: 1\n"
     ]
    }
   ],
   "source": [
    "train_losses, test_losses = trainer.train(10, batch_size=256)\n",
    "train_losses_all.extend(train_losses)\n",
    "test_losses_all.extend(test_losses)"
   ]
  },
  {
   "cell_type": "code",
   "execution_count": 14,
   "metadata": {},
   "outputs": [
    {
     "data": {
      "image/png": "[encoded data removed]",
      "text/plain": [
       "<matplotlib.figure.Figure at 0x1f8abd4d748>"
      ]
     },
     "metadata": {},
     "output_type": "display_data"
    }
   ],
   "source": [
    "plt.figure(figsize=(20,12))\n",
    "plt.plot(train_losses_all[1:])\n",
    "plt.plot(test_losses_all[1:])\n",
    "plt.show()"
   ]
  },
  {
   "cell_type": "code",
   "execution_count": null,
   "metadata": {},
   "outputs": [],
   "source": [
    "torch.save(encoder.state_dict(), 'encoder.pt')\n",
    "torch.save(decoder.state_dict(),'decoder.pt')"
   ]
  },
  {
   "cell_type": "code",
   "execution_count": 1,
   "metadata": {},
   "outputs": [],
   "source": [
    "from entriesprocessor import EntriesProcessor\n",
    "from trainer import Trainer\n",
    "from model import Decoder, Encoder\n",
    "import torch\n",
    "from mockentries import generate_entries\n",
    "\n",
    "EMBEDDING_SIZE = 10\n",
    "HIDDEN_SIZE = 100\n",
    "device = torch.device(\"cuda\" if torch.cuda.is_available() else \"cpu\")\n",
    "ep = EntriesProcessor(10,10)\n",
    "entries = generate_entries(100000, 5)\n",
    "ep.process(entries)\n",
    "voc_size = ep.symbols_counter\n",
    "encoder = Encoder(input_size=voc_size, hidden_size=HIDDEN_SIZE, embedding_size=EMBEDDING_SIZE).to(device)\n",
    "decoder = Decoder(hidden_size=HIDDEN_SIZE, embedding_size=EMBEDDING_SIZE, output_size=voc_size, max_length=10).to(device)\n",
    "trainer = Trainer(encoder,decoder,ep,max_input_length=10, max_output_length=10,\n",
    "                  teacher_forcing_ratio=0.5, learning_rate = 0.05 )"
   ]
  },
  {
   "cell_type": "code",
   "execution_count": 2,
   "metadata": {},
   "outputs": [],
   "source": [
    "train_losses_all, test_losses_all = [],[]"
   ]
  },
  {
   "cell_type": "code",
   "execution_count": 3,
   "metadata": {},
   "outputs": [
    {
     "name": "stdout",
     "output_type": "stream",
     "text": [
      "\nEpoch 1\n"
     ]
    },
    {
     "name": "stdout",
     "output_type": "stream",
     "text": [
      "\r\tTrain Loss: 2.300933 \t Time: 0s\r\tTrain Loss: 2.264778 \t Time: 0s\r\tTrain Loss: 2.231622 \t Time: 0s"
     ]
    },
    {
     "name": "stdout",
     "output_type": "stream",
     "text": [
      "\r\tTrain Loss: 2.202307 \t Time: 0s\r\tTrain Loss: 2.175168 \t Time: 0s\r\tTrain Loss: 2.152674 \t Time: 0s"
     ]
    },
    {
     "name": "stdout",
     "output_type": "stream",
     "text": [
      "\r\tTrain Loss: 2.134470 \t Time: 0s\r\tTrain Loss: 2.118893 \t Time: 0s\r\tTrain Loss: 2.105579 \t Time: 0s"
     ]
    },
    {
     "name": "stdout",
     "output_type": "stream",
     "text": [
      "\r\tTrain Loss: 2.094255 \t Time: 0s\r\tTrain Loss: 2.084541 \t Time: 1s\r\tTrain Loss: 2.075169 \t Time: 1s"
     ]
    },
    {
     "name": "stdout",
     "output_type": "stream",
     "text": [
      "\r\tTrain Loss: 2.066264 \t Time: 1s\r\tTrain Loss: 2.058003 \t Time: 1s\r\tTrain Loss: 2.049598 \t Time: 1s"
     ]
    },
    {
     "name": "stdout",
     "output_type": "stream",
     "text": [
      "\r\tTrain Loss: 2.041493 \t Time: 1s\r\tTrain Loss: 2.033480 \t Time: 1s\r\tTrain Loss: 2.028689 \t Time: 1s"
     ]
    },
    {
     "name": "stdout",
     "output_type": "stream",
     "text": [
      "\r\tTrain Loss: 2.023252 \t Time: 1s\r\tTrain Loss: 2.015757 \t Time: 1s\r\tTrain Loss: 2.010954 \t Time: 1s"
     ]
    },
    {
     "name": "stdout",
     "output_type": "stream",
     "text": [
      "\r\tTrain Loss: 2.006594 \t Time: 1s\r\tTrain Loss: 2.002285 \t Time: 1s\r\tTrain Loss: 1.999999 \t Time: 2s"
     ]
    },
    {
     "name": "stdout",
     "output_type": "stream",
     "text": [
      "\r\tTrain Loss: 1.993613 \t Time: 2s\r\tTrain Loss: 1.988762 \t Time: 2s\r\tTrain Loss: 1.983132 \t Time: 2s"
     ]
    },
    {
     "name": "stdout",
     "output_type": "stream",
     "text": [
      "\r\tTrain Loss: 1.977307 \t Time: 2s\r\tTrain Loss: 1.970358 \t Time: 2s\r\tTrain Loss: 1.965954 \t Time: 2s"
     ]
    },
    {
     "name": "stdout",
     "output_type": "stream",
     "text": [
      "\r\tTrain Loss: 1.963260 \t Time: 2s\r\tTrain Loss: 1.969809 \t Time: 2s\r\tTrain Loss: 1.964255 \t Time: 2s"
     ]
    },
    {
     "name": "stdout",
     "output_type": "stream",
     "text": [
      "\r\tTrain Loss: 1.959577 \t Time: 2s\r\tTrain Loss: 1.954022 \t Time: 2s\r\tTrain Loss: 1.947843 \t Time: 2s"
     ]
    },
    {
     "name": "stdout",
     "output_type": "stream",
     "text": [
      "\r\tTrain Loss: 1.944375 \t Time: 2s\r\tTrain Loss: 1.945855 \t Time: 3s\r\tTrain Loss: 1.940171 \t Time: 3s"
     ]
    },
    {
     "name": "stdout",
     "output_type": "stream",
     "text": [
      "\r\tTrain Loss: 1.936258 \t Time: 3s\r\tTrain Loss: 1.936214 \t Time: 3s\r\tTrain Loss: 1.935915 \t Time: 3s"
     ]
    },
    {
     "name": "stdout",
     "output_type": "stream",
     "text": [
      "\r\tTrain Loss: 1.930542 \t Time: 3s\r\tTrain Loss: 1.924094 \t Time: 3s\r\tTrain Loss: 1.919296 \t Time: 3s"
     ]
    },
    {
     "name": "stdout",
     "output_type": "stream",
     "text": [
      "\r\tTrain Loss: 1.915455 \t Time: 3s\r\tTrain Loss: 1.912380 \t Time: 3s\r\tTrain Loss: 1.909701 \t Time: 3s"
     ]
    },
    {
     "name": "stdout",
     "output_type": "stream",
     "text": [
      "\r\tTrain Loss: 1.905608 \t Time: 3s\r\tTrain Loss: 1.902228 \t Time: 3s\r\tTrain Loss: 1.898320 \t Time: 3s"
     ]
    },
    {
     "name": "stdout",
     "output_type": "stream",
     "text": [
      "\r\tTrain Loss: 1.894961 \t Time: 4s\r\tTrain Loss: 1.891250 \t Time: 4s\r\tTrain Loss: 1.888137 \t Time: 4s"
     ]
    },
    {
     "name": "stdout",
     "output_type": "stream",
     "text": [
      "\r\tTrain Loss: 1.884473 \t Time: 4s\r\tTrain Loss: 1.880198 \t Time: 4s\r\tTrain Loss: 1.874438 \t Time: 4s"
     ]
    },
    {
     "name": "stdout",
     "output_type": "stream",
     "text": [
      "\r\tTrain Loss: 1.868711 \t Time: 4s\r\tTrain Loss: 1.863219 \t Time: 4s\r\tTrain Loss: 1.857618 \t Time: 4s"
     ]
    },
    {
     "name": "stdout",
     "output_type": "stream",
     "text": [
      "\r\tTrain Loss: 1.851683 \t Time: 4s\r\tTrain Loss: 1.847156 \t Time: 4s\r\tTrain Loss: 1.843354 \t Time: 4s"
     ]
    },
    {
     "name": "stdout",
     "output_type": "stream",
     "text": [
      "\r\tTrain Loss: 1.839504 \t Time: 4s\r\tTrain Loss: 1.837053 \t Time: 5s\r\tTrain Loss: 1.831355 \t Time: 5s"
     ]
    },
    {
     "name": "stdout",
     "output_type": "stream",
     "text": [
      "\r\tTrain Loss: 1.826608 \t Time: 5s\r\tTrain Loss: 1.820401 \t Time: 5s\r\tTrain Loss: 1.814626 \t Time: 5s"
     ]
    },
    {
     "name": "stdout",
     "output_type": "stream",
     "text": [
      "\r\tTrain Loss: 1.808328 \t Time: 5s\r\tTrain Loss: 1.802294 \t Time: 5s\r\tTrain Loss: 1.800121 \t Time: 5s"
     ]
    },
    {
     "name": "stdout",
     "output_type": "stream",
     "text": [
      "\r\tTrain Loss: 1.799994 \t Time: 5s\r\tTrain Loss: 1.796470 \t Time: 5s\r\tTrain Loss: 1.791619 \t Time: 5s"
     ]
    },
    {
     "name": "stdout",
     "output_type": "stream",
     "text": [
      "\r\tTrain Loss: 1.784504 \t Time: 5s\r\tTrain Loss: 1.777303 \t Time: 5s\r\tTrain Loss: 1.770154 \t Time: 5s"
     ]
    },
    {
     "name": "stdout",
     "output_type": "stream",
     "text": [
      "\r\tTrain Loss: 1.762963 \t Time: 6s\r\tTrain Loss: 1.757022 \t Time: 6s\r\tTrain Loss: 1.752218 \t Time: 6s"
     ]
    },
    {
     "name": "stdout",
     "output_type": "stream",
     "text": [
      "\r\tTrain Loss: 1.747367 \t Time: 6s\r\tTrain Loss: 1.740790 \t Time: 6s\r\tTrain Loss: 1.736176 \t Time: 6s"
     ]
    },
    {
     "name": "stdout",
     "output_type": "stream",
     "text": [
      "\r\tTrain Loss: 1.732521 \t Time: 6s\r\tTrain Loss: 1.727944 \t Time: 6s\r\tTrain Loss: 1.721862 \t Time: 6s"
     ]
    },
    {
     "name": "stdout",
     "output_type": "stream",
     "text": [
      "\r\tTrain Loss: 1.715553 \t Time: 6s\r\tTrain Loss: 1.709195 \t Time: 6s\r\tTrain Loss: 1.703073 \t Time: 6s"
     ]
    },
    {
     "name": "stdout",
     "output_type": "stream",
     "text": [
      "\r\tTrain Loss: 1.698558 \t Time: 6s\r\tTrain Loss: 1.700445 \t Time: 7s\r\tTrain Loss: 1.703338 \t Time: 7s"
     ]
    },
    {
     "name": "stdout",
     "output_type": "stream",
     "text": [
      "\r\tTrain Loss: 1.698781 \t Time: 7s\r\tTrain Loss: 1.693928 \t Time: 7s\r\tTrain Loss: 1.690031 \t Time: 7s"
     ]
    },
    {
     "name": "stdout",
     "output_type": "stream",
     "text": [
      "\r\tTrain Loss: 1.687025 \t Time: 7s\r\tTrain Loss: 1.682438 \t Time: 7s\r\tTrain Loss: 1.676916 \t Time: 7s"
     ]
    },
    {
     "name": "stdout",
     "output_type": "stream",
     "text": [
      "\r\tTrain Loss: 1.671604 \t Time: 7s\r\tTrain Loss: 1.666370 \t Time: 7s\r\tTrain Loss: 1.661093 \t Time: 7s"
     ]
    },
    {
     "name": "stdout",
     "output_type": "stream",
     "text": [
      "\r\tTrain Loss: 1.657306 \t Time: 7s\r\tTrain Loss: 1.654470 \t Time: 8s\r\tTrain Loss: 1.650246 \t Time: 8s"
     ]
    },
    {
     "name": "stdout",
     "output_type": "stream",
     "text": [
      "\r\tTrain Loss: 1.645061 \t Time: 8s\r\tTrain Loss: 1.640097 \t Time: 8s\r\tTrain Loss: 1.636700 \t Time: 8s"
     ]
    },
    {
     "name": "stdout",
     "output_type": "stream",
     "text": [
      "\r\tTrain Loss: 1.636166 \t Time: 8s\r\tTrain Loss: 1.632681 \t Time: 8s\r\tTrain Loss: 1.628522 \t Time: 8s"
     ]
    },
    {
     "name": "stdout",
     "output_type": "stream",
     "text": [
      "\r\tTrain Loss: 1.623906 \t Time: 8s\r\tTrain Loss: 1.619395 \t Time: 8s\r\tTrain Loss: 1.615187 \t Time: 8s"
     ]
    },
    {
     "name": "stdout",
     "output_type": "stream",
     "text": [
      "\r\tTrain Loss: 1.611031 \t Time: 8s\r\tTrain Loss: 1.608938 \t Time: 8s\r\tTrain Loss: 1.610398 \t Time: 9s"
     ]
    },
    {
     "name": "stdout",
     "output_type": "stream",
     "text": [
      "\r\tTrain Loss: 1.609618 \t Time: 9s\r\tTrain Loss: 1.605844 \t Time: 9s\r\tTrain Loss: 1.602361 \t Time: 9s"
     ]
    },
    {
     "name": "stdout",
     "output_type": "stream",
     "text": [
      "\r\tTrain Loss: 1.598434 \t Time: 9s\r\tTrain Loss: 1.595092 \t Time: 9s\r\tTrain Loss: 1.592318 \t Time: 9s"
     ]
    },
    {
     "name": "stdout",
     "output_type": "stream",
     "text": [
      "\r\tTrain Loss: 1.591250 \t Time: 9s\r\tTrain Loss: 1.589236 \t Time: 9s\r\tTrain Loss: 1.588038 \t Time: 9s"
     ]
    },
    {
     "name": "stdout",
     "output_type": "stream",
     "text": [
      "\r\tTrain Loss: 1.585421 \t Time: 9s\r\tTrain Loss: 1.581940 \t Time: 9s\r\tTrain Loss: 1.578290 \t Time: 9s"
     ]
    },
    {
     "name": "stdout",
     "output_type": "stream",
     "text": [
      "\r\tTrain Loss: 1.574648 \t Time: 9s\r\tTrain Loss: 1.571006 \t Time: 10s\r\tTrain Loss: 1.567387 \t Time: 10s"
     ]
    },
    {
     "name": "stdout",
     "output_type": "stream",
     "text": [
      "\r\tTrain Loss: 1.563716 \t Time: 10s\r\tTrain Loss: 1.560164 \t Time: 10s\r\tTrain Loss: 1.556659 \t Time: 10s"
     ]
    },
    {
     "name": "stdout",
     "output_type": "stream",
     "text": [
      "\r\tTrain Loss: 1.553102 \t Time: 10s\r\tTrain Loss: 1.549564 \t Time: 10s\r\tTrain Loss: 1.546053 \t Time: 10s"
     ]
    },
    {
     "name": "stdout",
     "output_type": "stream",
     "text": [
      "\r\tTrain Loss: 1.542599 \t Time: 10s\r\tTrain Loss: 1.539223 \t Time: 10s\r\tTrain Loss: 1.535885 \t Time: 10s"
     ]
    },
    {
     "name": "stdout",
     "output_type": "stream",
     "text": [
      "\r\tTrain Loss: 1.532574 \t Time: 10s\r\tTrain Loss: 1.529249 \t Time: 10s\r\tTrain Loss: 1.525970 \t Time: 10s"
     ]
    },
    {
     "name": "stdout",
     "output_type": "stream",
     "text": [
      "\r\tTrain Loss: 1.522687 \t Time: 11s\r\tTrain Loss: 1.519462 \t Time: 11s\r\tTrain Loss: 1.516179 \t Time: 11s"
     ]
    },
    {
     "name": "stdout",
     "output_type": "stream",
     "text": [
      "\r\tTrain Loss: 1.512965 \t Time: 11s\r\tTrain Loss: 1.509841 \t Time: 11s\r\tTrain Loss: 1.506739 \t Time: 11s"
     ]
    },
    {
     "name": "stdout",
     "output_type": "stream",
     "text": [
      "\r\tTrain Loss: 1.503620 \t Time: 11s\r\tTrain Loss: 1.500864 \t Time: 11s\r\tTrain Loss: 1.498260 \t Time: 11s"
     ]
    },
    {
     "name": "stdout",
     "output_type": "stream",
     "text": [
      "\r\tTrain Loss: 1.496216 \t Time: 11s\r\tTrain Loss: 1.494503 \t Time: 11s\r\tTrain Loss: 1.498564 \t Time: 11s"
     ]
    },
    {
     "name": "stdout",
     "output_type": "stream",
     "text": [
      "\r\tTrain Loss: 1.501417 \t Time: 11s\r\tTrain Loss: 1.502836 \t Time: 12s\r\tTrain Loss: 1.500159 \t Time: 12s"
     ]
    },
    {
     "name": "stdout",
     "output_type": "stream",
     "text": [
      "\r\tTrain Loss: 1.497566 \t Time: 12s\r\tTrain Loss: 1.494867 \t Time: 12s\r\tTrain Loss: 1.492295 \t Time: 12s"
     ]
    },
    {
     "name": "stdout",
     "output_type": "stream",
     "text": [
      "\r\tTrain Loss: 1.489670 \t Time: 12s\r\tTrain Loss: 1.487182 \t Time: 12s\r\tTrain Loss: 1.484527 \t Time: 12s"
     ]
    },
    {
     "name": "stdout",
     "output_type": "stream",
     "text": [
      "\r\tTrain Loss: 1.481834 \t Time: 12s\r\tTrain Loss: 1.479277 \t Time: 12s\r\tTrain Loss: 1.476713 \t Time: 12s"
     ]
    },
    {
     "name": "stdout",
     "output_type": "stream",
     "text": [
      "\r\tTrain Loss: 1.474130 \t Time: 12s\r\tTrain Loss: 1.471576 \t Time: 12s\r\tTrain Loss: 1.469125 \t Time: 12s"
     ]
    },
    {
     "name": "stdout",
     "output_type": "stream",
     "text": [
      "\r\tTrain Loss: 1.466618 \t Time: 13s\r\tTrain Loss: 1.464115 \t Time: 13s\r\tTrain Loss: 1.461607 \t Time: 13s"
     ]
    },
    {
     "name": "stdout",
     "output_type": "stream",
     "text": [
      "\r\tTrain Loss: 1.459149 \t Time: 13s\r\tTrain Loss: 1.456731 \t Time: 13s\r\tTrain Loss: 1.454253 \t Time: 13s"
     ]
    },
    {
     "name": "stdout",
     "output_type": "stream",
     "text": [
      "\r\tTrain Loss: 1.451814 \t Time: 13s\r\tTrain Loss: 1.449510 \t Time: 13s\r\tTrain Loss: 1.447188 \t Time: 13s"
     ]
    },
    {
     "name": "stdout",
     "output_type": "stream",
     "text": [
      "\r\tTrain Loss: 1.444948 \t Time: 13s\r\tTrain Loss: 1.443519 \t Time: 13s\r\tTrain Loss: 1.441945 \t Time: 13s"
     ]
    },
    {
     "name": "stdout",
     "output_type": "stream",
     "text": [
      "\r\tTrain Loss: 1.442291 \t Time: 13s\r\tTrain Loss: 1.441681 \t Time: 14s\r\tTrain Loss: 1.439577 \t Time: 14s"
     ]
    },
    {
     "name": "stdout",
     "output_type": "stream",
     "text": [
      "\r\tTrain Loss: 1.437402 \t Time: 14s\r\tTrain Loss: 1.435168 \t Time: 14s\r\tTrain Loss: 1.432918 \t Time: 14s"
     ]
    },
    {
     "name": "stdout",
     "output_type": "stream",
     "text": [
      "\r\tTrain Loss: 1.430782 \t Time: 14s\r\tTrain Loss: 1.428564 \t Time: 14s\r\tTrain Loss: 1.426437 \t Time: 14s"
     ]
    },
    {
     "name": "stdout",
     "output_type": "stream",
     "text": [
      "\r\tTrain Loss: 1.424275 \t Time: 14s\r\tTrain Loss: 1.422151 \t Time: 14s\r\tTrain Loss: 1.419960 \t Time: 14s"
     ]
    },
    {
     "name": "stdout",
     "output_type": "stream",
     "text": [
      "\r\tTrain Loss: 1.417773 \t Time: 14s\r\tTrain Loss: 1.415560 \t Time: 14s\r\tTrain Loss: 1.413364 \t Time: 14s"
     ]
    },
    {
     "name": "stdout",
     "output_type": "stream",
     "text": [
      "\r\tTrain Loss: 1.411271 \t Time: 15s\r\tTrain Loss: 1.409195 \t Time: 15s\r\tTrain Loss: 1.407161 \t Time: 15s"
     ]
    },
    {
     "name": "stdout",
     "output_type": "stream",
     "text": [
      "\r\tTrain Loss: 1.404996 \t Time: 15s\r\tTrain Loss: 1.402968 \t Time: 15s\r\tTrain Loss: 1.400959 \t Time: 15s"
     ]
    },
    {
     "name": "stdout",
     "output_type": "stream",
     "text": [
      "\r\tTrain Loss: 1.398837 \t Time: 15s\r\tTrain Loss: 1.396713 \t Time: 15s\r\tTrain Loss: 1.394709 \t Time: 15s"
     ]
    },
    {
     "name": "stdout",
     "output_type": "stream",
     "text": [
      "\r\tTrain Loss: 1.392624 \t Time: 15s\r\tTrain Loss: 1.390626 \t Time: 15s\r\tTrain Loss: 1.388655 \t Time: 15s"
     ]
    },
    {
     "name": "stdout",
     "output_type": "stream",
     "text": [
      "\r\tTrain Loss: 1.386605 \t Time: 15s\r\tTrain Loss: 1.384515 \t Time: 15s\r\tTrain Loss: 1.382433 \t Time: 16s"
     ]
    },
    {
     "name": "stdout",
     "output_type": "stream",
     "text": [
      "\r\tTrain Loss: 1.380383 \t Time: 16s\r\tTrain Loss: 1.378360 \t Time: 16s\r\tTrain Loss: 1.376284 \t Time: 16s"
     ]
    },
    {
     "name": "stdout",
     "output_type": "stream",
     "text": [
      "\r\tTrain Loss: 1.374292 \t Time: 16s\r\tTrain Loss: 1.372339 \t Time: 16s\r\tTrain Loss: 1.370724 \t Time: 16s"
     ]
    },
    {
     "name": "stdout",
     "output_type": "stream",
     "text": [
      "\r\tTrain Loss: 1.371632 \t Time: 16s\r\tTrain Loss: 1.383670 \t Time: 16s\r\tTrain Loss: 1.390192 \t Time: 16s"
     ]
    },
    {
     "name": "stdout",
     "output_type": "stream",
     "text": [
      "\r\tTrain Loss: 1.390844 \t Time: 16s\r\tTrain Loss: 1.390661 \t Time: 16s\r\tTrain Loss: 1.389304 \t Time: 16s"
     ]
    },
    {
     "name": "stdout",
     "output_type": "stream",
     "text": [
      "\r\tTrain Loss: 1.387778 \t Time: 16s\r\tTrain Loss: 1.386297 \t Time: 17s\r\tTrain Loss: 1.384658 \t Time: 17s"
     ]
    },
    {
     "name": "stdout",
     "output_type": "stream",
     "text": [
      "\r\tTrain Loss: 1.383133 \t Time: 17s\r\tTrain Loss: 1.381484 \t Time: 17s\r\tTrain Loss: 1.379831 \t Time: 17s"
     ]
    },
    {
     "name": "stdout",
     "output_type": "stream",
     "text": [
      "\r\tTrain Loss: 1.378137 \t Time: 17s\r\tTrain Loss: 1.376490 \t Time: 17s\r\tTrain Loss: 1.374763 \t Time: 17s"
     ]
    },
    {
     "name": "stdout",
     "output_type": "stream",
     "text": [
      "\r\tTrain Loss: 1.373091 \t Time: 17s\r\tTrain Loss: 1.371408 \t Time: 17s\r\tTrain Loss: 1.369867 \t Time: 17s"
     ]
    },
    {
     "name": "stdout",
     "output_type": "stream",
     "text": [
      "\r\tTrain Loss: 1.368149 \t Time: 17s\r\tTrain Loss: 1.366477 \t Time: 17s\r\tTrain Loss: 1.364854 \t Time: 18s"
     ]
    },
    {
     "name": "stdout",
     "output_type": "stream",
     "text": [
      "\r\tTrain Loss: 1.363047 \t Time: 18s\r\tTrain Loss: 1.361340 \t Time: 18s\r\tTrain Loss: 1.359599 \t Time: 18s"
     ]
    },
    {
     "name": "stdout",
     "output_type": "stream",
     "text": [
      "\r\tTrain Loss: 1.357832 \t Time: 18s\r\tTrain Loss: 1.356080 \t Time: 18s\r\tTrain Loss: 1.354324 \t Time: 18s"
     ]
    },
    {
     "name": "stdout",
     "output_type": "stream",
     "text": [
      "\r\tTrain Loss: 1.352690 \t Time: 18s\r\tTrain Loss: 1.350876 \t Time: 18s\r\tTrain Loss: 1.349105 \t Time: 18s"
     ]
    },
    {
     "name": "stdout",
     "output_type": "stream",
     "text": [
      "\r\tTrain Loss: 1.347394 \t Time: 18s\r\tTrain Loss: 1.345644 \t Time: 18s\r\tTrain Loss: 1.343863 \t Time: 18s"
     ]
    },
    {
     "name": "stdout",
     "output_type": "stream",
     "text": [
      "\r\tTrain Loss: 1.342047 \t Time: 18s\r\tTrain Loss: 1.340293 \t Time: 19s\r\tTrain Loss: 1.338511 \t Time: 19s"
     ]
    },
    {
     "name": "stdout",
     "output_type": "stream",
     "text": [
      "\r\tTrain Loss: 1.336720 \t Time: 19s\r\tTrain Loss: 1.334930 \t Time: 19s\r\tTrain Loss: 1.333145 \t Time: 19s"
     ]
    },
    {
     "name": "stdout",
     "output_type": "stream",
     "text": [
      "\r\tTrain Loss: 1.331369 \t Time: 19s\r\tTrain Loss: 1.329611 \t Time: 19s\r\tTrain Loss: 1.327806 \t Time: 19s"
     ]
    },
    {
     "name": "stdout",
     "output_type": "stream",
     "text": [
      "\r\tTrain Loss: 1.326014 \t Time: 19s\r\tTrain Loss: 1.324195 \t Time: 19s\r\tTrain Loss: 1.322366 \t Time: 19s"
     ]
    },
    {
     "name": "stdout",
     "output_type": "stream",
     "text": [
      "\r\tTrain Loss: 1.320542 \t Time: 19s\r\tTrain Loss: 1.318753 \t Time: 19s\r\tTrain Loss: 1.316930 \t Time: 19s"
     ]
    },
    {
     "name": "stdout",
     "output_type": "stream",
     "text": [
      "\r\tTrain Loss: 1.315139 \t Time: 20s\r\tTrain Loss: 1.313277 \t Time: 20s\r\tTrain Loss: 1.311450 \t Time: 20s"
     ]
    },
    {
     "name": "stdout",
     "output_type": "stream",
     "text": [
      "\r\tTrain Loss: 1.309605 \t Time: 20s\r\tTrain Loss: 1.307794 \t Time: 20s\r\tTrain Loss: 1.305942 \t Time: 20s"
     ]
    },
    {
     "name": "stdout",
     "output_type": "stream",
     "text": [
      "\r\tTrain Loss: 1.304061 \t Time: 20s\r\tTrain Loss: 1.302133 \t Time: 20s\r\tTrain Loss: 1.300208 \t Time: 20s"
     ]
    },
    {
     "name": "stdout",
     "output_type": "stream",
     "text": [
      "\r\tTrain Loss: 1.298307 \t Time: 20s\r\tTrain Loss: 1.296432 \t Time: 20s\r\tTrain Loss: 1.294575 \t Time: 20s"
     ]
    },
    {
     "name": "stdout",
     "output_type": "stream",
     "text": [
      "\r\tTrain Loss: 1.292671 \t Time: 20s\r\tTrain Loss: 1.290831 \t Time: 20s\r\tTrain Loss: 1.288881 \t Time: 21s"
     ]
    },
    {
     "name": "stdout",
     "output_type": "stream",
     "text": [
      "\r\tTrain Loss: 1.286924 \t Time: 21s\r\tTrain Loss: 1.284919 \t Time: 21s\r\tTrain Loss: 1.282954 \t Time: 21s"
     ]
    },
    {
     "name": "stdout",
     "output_type": "stream",
     "text": [
      "\r\tTrain Loss: 1.280937 \t Time: 21s\r\tTrain Loss: 1.278884 \t Time: 21s\r\tTrain Loss: 1.276975 \t Time: 21s"
     ]
    },
    {
     "name": "stdout",
     "output_type": "stream",
     "text": [
      "\r\tTrain Loss: 1.274927 \t Time: 21s\r\tTrain Loss: 1.272874 \t Time: 21s\r\tTrain Loss: 1.270809 \t Time: 21s"
     ]
    },
    {
     "name": "stdout",
     "output_type": "stream",
     "text": [
      "\r\tTrain Loss: 1.268717 \t Time: 21s\r\tTrain Loss: 1.266585 \t Time: 21s\r\tTrain Loss: 1.264447 \t Time: 21s"
     ]
    },
    {
     "name": "stdout",
     "output_type": "stream",
     "text": [
      "\r\tTrain Loss: 1.262321 \t Time: 21s\r\tTrain Loss: 1.260308 \t Time: 22s\r\tTrain Loss: 1.258318 \t Time: 22s"
     ]
    },
    {
     "name": "stdout",
     "output_type": "stream",
     "text": [
      "\r\tTrain Loss: 1.256307 \t Time: 22s\r\tTrain Loss: 1.254305 \t Time: 22s\r\tTrain Loss: 1.252153 \t Time: 22s"
     ]
    },
    {
     "name": "stdout",
     "output_type": "stream",
     "text": [
      "\r\tTrain Loss: 1.249950 \t Time: 22s\r\tTrain Loss: 1.247931 \t Time: 22s\r\tTrain Loss: 1.245705 \t Time: 22s"
     ]
    },
    {
     "name": "stdout",
     "output_type": "stream",
     "text": [
      "\r\tTrain Loss: 1.243449 \t Time: 22s\r\tTrain Loss: 1.241373 \t Time: 22s\r\tTrain Loss: 1.239303 \t Time: 22s"
     ]
    },
    {
     "name": "stdout",
     "output_type": "stream",
     "text": [
      "\r\tTrain Loss: 1.237047 \t Time: 22s\r\tTrain Loss: 1.234827 \t Time: 22s\r\tTrain Loss: 1.232589 \t Time: 22s"
     ]
    },
    {
     "name": "stdout",
     "output_type": "stream",
     "text": [
      "\r\tTrain Loss: 1.230409 \t Time: 23s\r\tTrain Loss: 1.229209 \t Time: 23s\r\tTrain Loss: 1.230387 \t Time: 23s"
     ]
    },
    {
     "name": "stdout",
     "output_type": "stream",
     "text": [
      "\r\tTrain Loss: 1.229982 \t Time: 23s\r\tTrain Loss: 1.230231 \t Time: 23s\r\tTrain Loss: 1.228384 \t Time: 23s"
     ]
    },
    {
     "name": "stdout",
     "output_type": "stream",
     "text": [
      "\r\tTrain Loss: 1.226176 \t Time: 23s\r\tTrain Loss: 1.223917 \t Time: 23s\r\tTrain Loss: 1.221912 \t Time: 23s"
     ]
    },
    {
     "name": "stdout",
     "output_type": "stream",
     "text": [
      "\r\tTrain Loss: 1.219597 \t Time: 23s\r\tTrain Loss: 1.217560 \t Time: 23s\r\tTrain Loss: 1.215254 \t Time: 23s"
     ]
    },
    {
     "name": "stdout",
     "output_type": "stream",
     "text": [
      "\r\tTrain Loss: 1.213252 \t Time: 23s\r\tTrain Loss: 1.211176 \t Time: 23s\r\tTrain Loss: 1.209049 \t Time: 24s"
     ]
    },
    {
     "name": "stdout",
     "output_type": "stream",
     "text": [
      "\r\tTrain Loss: 1.206912 \t Time: 24s\r\tTrain Loss: 1.204734 \t Time: 24s\r\tTrain Loss: 1.202550 \t Time: 24s"
     ]
    },
    {
     "name": "stdout",
     "output_type": "stream",
     "text": [
      "\r\tTrain Loss: 1.200152 \t Time: 24s\r\tTrain Loss: 1.197709 \t Time: 24s\r\tTrain Loss: 1.195243 \t Time: 24s"
     ]
    },
    {
     "name": "stdout",
     "output_type": "stream",
     "text": [
      "\r\tTrain Loss: 1.192983 \t Time: 24s\r\tTrain Loss: 1.190608 \t Time: 24s\r\tTrain Loss: 1.188281 \t Time: 24s"
     ]
    },
    {
     "name": "stdout",
     "output_type": "stream",
     "text": [
      "\r\tTrain Loss: 1.185796 \t Time: 24s\r\tTrain Loss: 1.183219 \t Time: 24s\r\tTrain Loss: 1.180591 \t Time: 24s"
     ]
    },
    {
     "name": "stdout",
     "output_type": "stream",
     "text": [
      "\r\tTrain Loss: 1.177970 \t Time: 24s\r\tTrain Loss: 1.175415 \t Time: 25s\r\tTrain Loss: 1.172810 \t Time: 25s"
     ]
    },
    {
     "name": "stdout",
     "output_type": "stream",
     "text": [
      "\r\tTrain Loss: 1.170211 \t Time: 25s\r\tTrain Loss: 1.167577 \t Time: 25s\r\tTrain Loss: 1.164830 \t Time: 25s"
     ]
    },
    {
     "name": "stdout",
     "output_type": "stream",
     "text": [
      "\r\tTrain Loss: 1.162076 \t Time: 25s\r\tTrain Loss: 1.159286 \t Time: 25s\r\tTrain Loss: 1.156473 \t Time: 25s"
     ]
    },
    {
     "name": "stdout",
     "output_type": "stream",
     "text": [
      "\r\tTrain Loss: 1.153691 \t Time: 25s\r\tTrain Loss: 1.150868 \t Time: 25s\r\tTrain Loss: 1.148034 \t Time: 25s"
     ]
    },
    {
     "name": "stdout",
     "output_type": "stream",
     "text": [
      "\r\tTrain Loss: 1.145219 \t Time: 25s\r\tTrain Loss: 1.142382 \t Time: 25s\r\tTrain Loss: 1.139558 \t Time: 25s"
     ]
    },
    {
     "name": "stdout",
     "output_type": "stream",
     "text": [
      "\r\tTrain Loss: 1.136731 \t Time: 26s\n"
     ]
    },
    {
     "name": "stdout",
     "output_type": "stream",
     "text": [
      "\tTest Loss: 0.122906 \t Time: 0s\n\t Input: egddb \t Result: egddba \t From train: 1\n\t Input: aefda \t Result: aefdaa \t From train: 1\n\t Input: cbgeg \t Result: cbgega \t From train: 1\n\t Input: ddfeb \t Result: ddfeba \t From train: 1\n\t Input: ccffa \t Result: ccffaa \t From train: 1\nEpoch 2\n\r\tTrain Loss: 0.122972 \t Time: 0s"
     ]
    },
    {
     "name": "stdout",
     "output_type": "stream",
     "text": [
      "\r\tTrain Loss: 0.119886 \t Time: 0s\r\tTrain Loss: 0.116177 \t Time: 0s\r\tTrain Loss: 0.113089 \t Time: 0s"
     ]
    },
    {
     "name": "stdout",
     "output_type": "stream",
     "text": [
      "\r\tTrain Loss: 0.110069 \t Time: 0s\r\tTrain Loss: 0.107324 \t Time: 0s\r\tTrain Loss: 0.104936 \t Time: 0s"
     ]
    },
    {
     "name": "stdout",
     "output_type": "stream",
     "text": [
      "\r\tTrain Loss: 0.102224 \t Time: 0s\r\tTrain Loss: 0.099632 \t Time: 0s\r\tTrain Loss: 0.097324 \t Time: 0s"
     ]
    },
    {
     "name": "stdout",
     "output_type": "stream",
     "text": [
      "\r\tTrain Loss: 0.094650 \t Time: 0s\r\tTrain Loss: 0.092543 \t Time: 0s\r\tTrain Loss: 0.090455 \t Time: 0s"
     ]
    },
    {
     "name": "stdout",
     "output_type": "stream",
     "text": [
      "\r\tTrain Loss: 0.088467 \t Time: 1s\r\tTrain Loss: 0.086476 \t Time: 1s\r\tTrain Loss: 0.084697 \t Time: 1s"
     ]
    },
    {
     "name": "stdout",
     "output_type": "stream",
     "text": [
      "\r\tTrain Loss: 0.082951 \t Time: 1s\r\tTrain Loss: 0.081274 \t Time: 1s\r\tTrain Loss: 0.079603 \t Time: 1s"
     ]
    },
    {
     "name": "stdout",
     "output_type": "stream",
     "text": [
      "\r\tTrain Loss: 0.077976 \t Time: 1s\r\tTrain Loss: 0.076469 \t Time: 1s\r\tTrain Loss: 0.075086 \t Time: 1s"
     ]
    },
    {
     "name": "stdout",
     "output_type": "stream",
     "text": [
      "\r\tTrain Loss: 0.073667 \t Time: 1s\r\tTrain Loss: 0.072342 \t Time: 1s\r\tTrain Loss: 0.071051 \t Time: 1s"
     ]
    },
    {
     "name": "stdout",
     "output_type": "stream",
     "text": [
      "\r\tTrain Loss: 0.069768 \t Time: 1s\r\tTrain Loss: 0.068571 \t Time: 1s\r\tTrain Loss: 0.067387 \t Time: 2s"
     ]
    },
    {
     "name": "stdout",
     "output_type": "stream",
     "text": [
      "\r\tTrain Loss: 0.066285 \t Time: 2s\r\tTrain Loss: 0.065209 \t Time: 2s\r\tTrain Loss: 0.064136 \t Time: 2s"
     ]
    },
    {
     "name": "stdout",
     "output_type": "stream",
     "text": [
      "\r\tTrain Loss: 0.063122 \t Time: 2s\r\tTrain Loss: 0.062126 \t Time: 2s\r\tTrain Loss: 0.061151 \t Time: 2s"
     ]
    },
    {
     "name": "stdout",
     "output_type": "stream",
     "text": [
      "\r\tTrain Loss: 0.060239 \t Time: 2s\r\tTrain Loss: 0.059331 \t Time: 2s\r\tTrain Loss: 0.058482 \t Time: 2s"
     ]
    },
    {
     "name": "stdout",
     "output_type": "stream",
     "text": [
      "\r\tTrain Loss: 0.057648 \t Time: 2s\r\tTrain Loss: 0.056840 \t Time: 2s\r\tTrain Loss: 0.056030 \t Time: 2s"
     ]
    },
    {
     "name": "stdout",
     "output_type": "stream",
     "text": [
      "\r\tTrain Loss: 0.055258 \t Time: 2s\r\tTrain Loss: 0.054500 \t Time: 3s\r\tTrain Loss: 0.053780 \t Time: 3s"
     ]
    },
    {
     "name": "stdout",
     "output_type": "stream",
     "text": [
      "\r\tTrain Loss: 0.053079 \t Time: 3s\r\tTrain Loss: 0.052395 \t Time: 3s\r\tTrain Loss: 0.051714 \t Time: 3s"
     ]
    },
    {
     "name": "stdout",
     "output_type": "stream",
     "text": [
      "\r\tTrain Loss: 0.051066 \t Time: 3s\r\tTrain Loss: 0.050443 \t Time: 3s\r\tTrain Loss: 0.049811 \t Time: 3s"
     ]
    },
    {
     "name": "stdout",
     "output_type": "stream",
     "text": [
      "\r\tTrain Loss: 0.049219 \t Time: 3s\r\tTrain Loss: 0.048638 \t Time: 3s\r\tTrain Loss: 0.048070 \t Time: 3s"
     ]
    },
    {
     "name": "stdout",
     "output_type": "stream",
     "text": [
      "\r\tTrain Loss: 0.047529 \t Time: 3s\r\tTrain Loss: 0.046995 \t Time: 3s\r\tTrain Loss: 0.046475 \t Time: 3s"
     ]
    },
    {
     "name": "stdout",
     "output_type": "stream",
     "text": [
      "\r\tTrain Loss: 0.045977 \t Time: 4s\r\tTrain Loss: 0.045474 \t Time: 4s\r\tTrain Loss: 0.044974 \t Time: 4s"
     ]
    },
    {
     "name": "stdout",
     "output_type": "stream",
     "text": [
      "\r\tTrain Loss: 0.044495 \t Time: 4s\r\tTrain Loss: 0.044024 \t Time: 4s\r\tTrain Loss: 0.043561 \t Time: 4s"
     ]
    },
    {
     "name": "stdout",
     "output_type": "stream",
     "text": [
      "\r\tTrain Loss: 0.043116 \t Time: 4s\r\tTrain Loss: 0.042681 \t Time: 4s\r\tTrain Loss: 0.042259 \t Time: 4s"
     ]
    },
    {
     "name": "stdout",
     "output_type": "stream",
     "text": [
      "\r\tTrain Loss: 0.041839 \t Time: 4s\r\tTrain Loss: 0.041431 \t Time: 4s\r\tTrain Loss: 0.041032 \t Time: 4s"
     ]
    },
    {
     "name": "stdout",
     "output_type": "stream",
     "text": [
      "\r\tTrain Loss: 0.040643 \t Time: 4s\r\tTrain Loss: 0.040270 \t Time: 4s\r\tTrain Loss: 0.039898 \t Time: 5s"
     ]
    },
    {
     "name": "stdout",
     "output_type": "stream",
     "text": [
      "\r\tTrain Loss: 0.039526 \t Time: 5s\r\tTrain Loss: 0.039161 \t Time: 5s\r\tTrain Loss: 0.038804 \t Time: 5s"
     ]
    },
    {
     "name": "stdout",
     "output_type": "stream",
     "text": [
      "\r\tTrain Loss: 0.038455 \t Time: 5s\r\tTrain Loss: 0.038112 \t Time: 5s\r\tTrain Loss: 0.037775 \t Time: 5s"
     ]
    },
    {
     "name": "stdout",
     "output_type": "stream",
     "text": [
      "\r\tTrain Loss: 0.037448 \t Time: 5s\r\tTrain Loss: 0.037128 \t Time: 5s\r\tTrain Loss: 0.036808 \t Time: 5s"
     ]
    },
    {
     "name": "stdout",
     "output_type": "stream",
     "text": [
      "\r\tTrain Loss: 0.036495 \t Time: 5s\r\tTrain Loss: 0.036185 \t Time: 5s\r\tTrain Loss: 0.035888 \t Time: 5s"
     ]
    },
    {
     "name": "stdout",
     "output_type": "stream",
     "text": [
      "\r\tTrain Loss: 0.035594 \t Time: 6s\r\tTrain Loss: 0.035302 \t Time: 6s\r\tTrain Loss: 0.035015 \t Time: 6s"
     ]
    },
    {
     "name": "stdout",
     "output_type": "stream",
     "text": [
      "\r\tTrain Loss: 0.034733 \t Time: 6s\r\tTrain Loss: 0.034456 \t Time: 6s\r\tTrain Loss: 0.034183 \t Time: 6s"
     ]
    },
    {
     "name": "stdout",
     "output_type": "stream",
     "text": [
      "\r\tTrain Loss: 0.033918 \t Time: 6s\r\tTrain Loss: 0.033655 \t Time: 6s\r\tTrain Loss: 0.033394 \t Time: 6s"
     ]
    },
    {
     "name": "stdout",
     "output_type": "stream",
     "text": [
      "\r\tTrain Loss: 0.033141 \t Time: 6s\r\tTrain Loss: 0.032891 \t Time: 6s\r\tTrain Loss: 0.032649 \t Time: 6s"
     ]
    },
    {
     "name": "stdout",
     "output_type": "stream",
     "text": [
      "\r\tTrain Loss: 0.032405 \t Time: 6s\r\tTrain Loss: 0.032168 \t Time: 6s\r\tTrain Loss: 0.031934 \t Time: 7s"
     ]
    },
    {
     "name": "stdout",
     "output_type": "stream",
     "text": [
      "\r\tTrain Loss: 0.031705 \t Time: 7s\r\tTrain Loss: 0.031480 \t Time: 7s\r\tTrain Loss: 0.031255 \t Time: 7s"
     ]
    },
    {
     "name": "stdout",
     "output_type": "stream",
     "text": [
      "\r\tTrain Loss: 0.031033 \t Time: 7s\r\tTrain Loss: 0.030819 \t Time: 7s\r\tTrain Loss: 0.030609 \t Time: 7s"
     ]
    },
    {
     "name": "stdout",
     "output_type": "stream",
     "text": [
      "\r\tTrain Loss: 0.030398 \t Time: 7s\r\tTrain Loss: 0.030190 \t Time: 7s\r\tTrain Loss: 0.029987 \t Time: 7s"
     ]
    },
    {
     "name": "stdout",
     "output_type": "stream",
     "text": [
      "\r\tTrain Loss: 0.029786 \t Time: 7s\r\tTrain Loss: 0.029587 \t Time: 7s\r\tTrain Loss: 0.029390 \t Time: 7s"
     ]
    },
    {
     "name": "stdout",
     "output_type": "stream",
     "text": [
      "\r\tTrain Loss: 0.029197 \t Time: 7s\r\tTrain Loss: 0.029010 \t Time: 8s\r\tTrain Loss: 0.028822 \t Time: 8s"
     ]
    },
    {
     "name": "stdout",
     "output_type": "stream",
     "text": [
      "\r\tTrain Loss: 0.028642 \t Time: 8s\r\tTrain Loss: 0.028462 \t Time: 8s\r\tTrain Loss: 0.028283 \t Time: 8s"
     ]
    },
    {
     "name": "stdout",
     "output_type": "stream",
     "text": [
      "\r\tTrain Loss: 0.028106 \t Time: 8s\r\tTrain Loss: 0.027932 \t Time: 8s\r\tTrain Loss: 0.027760 \t Time: 8s"
     ]
    },
    {
     "name": "stdout",
     "output_type": "stream",
     "text": [
      "\r\tTrain Loss: 0.027588 \t Time: 8s\r\tTrain Loss: 0.027421 \t Time: 8s\r\tTrain Loss: 0.027255 \t Time: 8s"
     ]
    },
    {
     "name": "stdout",
     "output_type": "stream",
     "text": [
      "\r\tTrain Loss: 0.027093 \t Time: 8s\r\tTrain Loss: 0.026933 \t Time: 8s\r\tTrain Loss: 0.026773 \t Time: 9s"
     ]
    },
    {
     "name": "stdout",
     "output_type": "stream",
     "text": [
      "\r\tTrain Loss: 0.026616 \t Time: 9s\r\tTrain Loss: 0.026462 \t Time: 9s\r\tTrain Loss: 0.026311 \t Time: 9s"
     ]
    },
    {
     "name": "stdout",
     "output_type": "stream",
     "text": [
      "\r\tTrain Loss: 0.026160 \t Time: 9s\r\tTrain Loss: 0.026012 \t Time: 9s\r\tTrain Loss: 0.025864 \t Time: 9s"
     ]
    },
    {
     "name": "stdout",
     "output_type": "stream",
     "text": [
      "\r\tTrain Loss: 0.025718 \t Time: 9s\r\tTrain Loss: 0.025575 \t Time: 9s\r\tTrain Loss: 0.025434 \t Time: 9s"
     ]
    },
    {
     "name": "stdout",
     "output_type": "stream",
     "text": [
      "\r\tTrain Loss: 0.025294 \t Time: 9s\r\tTrain Loss: 0.025157 \t Time: 9s\r\tTrain Loss: 0.025018 \t Time: 9s"
     ]
    },
    {
     "name": "stdout",
     "output_type": "stream",
     "text": [
      "\r\tTrain Loss: 0.024883 \t Time: 9s\r\tTrain Loss: 0.024747 \t Time: 10s\r\tTrain Loss: 0.024614 \t Time: 10s"
     ]
    },
    {
     "name": "stdout",
     "output_type": "stream",
     "text": [
      "\r\tTrain Loss: 0.024483 \t Time: 10s\r\tTrain Loss: 0.024353 \t Time: 10s\r\tTrain Loss: 0.024224 \t Time: 10s"
     ]
    },
    {
     "name": "stdout",
     "output_type": "stream",
     "text": [
      "\r\tTrain Loss: 0.024097 \t Time: 10s\r\tTrain Loss: 0.023971 \t Time: 10s\r\tTrain Loss: 0.023848 \t Time: 10s"
     ]
    },
    {
     "name": "stdout",
     "output_type": "stream",
     "text": [
      "\r\tTrain Loss: 0.023724 \t Time: 10s\r\tTrain Loss: 0.023602 \t Time: 10s\r\tTrain Loss: 0.023484 \t Time: 10s"
     ]
    },
    {
     "name": "stdout",
     "output_type": "stream",
     "text": [
      "\r\tTrain Loss: 0.023364 \t Time: 10s\r\tTrain Loss: 0.023248 \t Time: 10s\r\tTrain Loss: 0.023132 \t Time: 10s"
     ]
    },
    {
     "name": "stdout",
     "output_type": "stream",
     "text": [
      "\r\tTrain Loss: 0.023017 \t Time: 11s\r\tTrain Loss: 0.022906 \t Time: 11s\r\tTrain Loss: 0.022794 \t Time: 11s"
     ]
    },
    {
     "name": "stdout",
     "output_type": "stream",
     "text": [
      "\r\tTrain Loss: 0.022683 \t Time: 11s\r\tTrain Loss: 0.022573 \t Time: 11s\r\tTrain Loss: 0.022464 \t Time: 11s"
     ]
    },
    {
     "name": "stdout",
     "output_type": "stream",
     "text": [
      "\r\tTrain Loss: 0.022358 \t Time: 11s\r\tTrain Loss: 0.022253 \t Time: 11s\r\tTrain Loss: 0.022147 \t Time: 11s"
     ]
    },
    {
     "name": "stdout",
     "output_type": "stream",
     "text": [
      "\r\tTrain Loss: 0.022042 \t Time: 11s\r\tTrain Loss: 0.021937 \t Time: 11s\r\tTrain Loss: 0.021836 \t Time: 11s"
     ]
    },
    {
     "name": "stdout",
     "output_type": "stream",
     "text": [
      "\r\tTrain Loss: 0.021736 \t Time: 11s\r\tTrain Loss: 0.021636 \t Time: 11s\r\tTrain Loss: 0.021536 \t Time: 12s"
     ]
    },
    {
     "name": "stdout",
     "output_type": "stream",
     "text": [
      "\r\tTrain Loss: 0.021438 \t Time: 12s\r\tTrain Loss: 0.021340 \t Time: 12s\r\tTrain Loss: 0.021245 \t Time: 12s"
     ]
    },
    {
     "name": "stdout",
     "output_type": "stream",
     "text": [
      "\r\tTrain Loss: 0.021149 \t Time: 12s\r\tTrain Loss: 0.021054 \t Time: 12s\r\tTrain Loss: 0.020959 \t Time: 12s"
     ]
    },
    {
     "name": "stdout",
     "output_type": "stream",
     "text": [
      "\r\tTrain Loss: 0.020867 \t Time: 12s\r\tTrain Loss: 0.020775 \t Time: 12s\r\tTrain Loss: 0.020684 \t Time: 12s"
     ]
    },
    {
     "name": "stdout",
     "output_type": "stream",
     "text": [
      "\r\tTrain Loss: 0.020594 \t Time: 12s\r\tTrain Loss: 0.020505 \t Time: 12s\r\tTrain Loss: 0.020416 \t Time: 12s"
     ]
    },
    {
     "name": "stdout",
     "output_type": "stream",
     "text": [
      "\r\tTrain Loss: 0.020330 \t Time: 13s\r\tTrain Loss: 0.020244 \t Time: 13s\r\tTrain Loss: 0.020158 \t Time: 13s"
     ]
    },
    {
     "name": "stdout",
     "output_type": "stream",
     "text": [
      "\r\tTrain Loss: 0.020073 \t Time: 13s\r\tTrain Loss: 0.019989 \t Time: 13s\r\tTrain Loss: 0.019905 \t Time: 13s"
     ]
    },
    {
     "name": "stdout",
     "output_type": "stream",
     "text": [
      "\r\tTrain Loss: 0.019822 \t Time: 13s\r\tTrain Loss: 0.019739 \t Time: 13s\r\tTrain Loss: 0.019658 \t Time: 13s"
     ]
    },
    {
     "name": "stdout",
     "output_type": "stream",
     "text": [
      "\r\tTrain Loss: 0.019577 \t Time: 13s\r\tTrain Loss: 0.019497 \t Time: 13s\r\tTrain Loss: 0.019418 \t Time: 13s"
     ]
    },
    {
     "name": "stdout",
     "output_type": "stream",
     "text": [
      "\r\tTrain Loss: 0.019340 \t Time: 13s\r\tTrain Loss: 0.019262 \t Time: 13s\r\tTrain Loss: 0.019185 \t Time: 14s"
     ]
    },
    {
     "name": "stdout",
     "output_type": "stream",
     "text": [
      "\r\tTrain Loss: 0.019108 \t Time: 14s\r\tTrain Loss: 0.019033 \t Time: 14s\r\tTrain Loss: 0.018958 \t Time: 14s"
     ]
    },
    {
     "name": "stdout",
     "output_type": "stream",
     "text": [
      "\r\tTrain Loss: 0.018883 \t Time: 14s\r\tTrain Loss: 0.018809 \t Time: 14s\r\tTrain Loss: 0.018735 \t Time: 14s"
     ]
    },
    {
     "name": "stdout",
     "output_type": "stream",
     "text": [
      "\r\tTrain Loss: 0.018662 \t Time: 14s\r\tTrain Loss: 0.018590 \t Time: 14s\r\tTrain Loss: 0.018518 \t Time: 14s"
     ]
    },
    {
     "name": "stdout",
     "output_type": "stream",
     "text": [
      "\r\tTrain Loss: 0.018447 \t Time: 14s\r\tTrain Loss: 0.018377 \t Time: 14s\r\tTrain Loss: 0.018307 \t Time: 14s"
     ]
    },
    {
     "name": "stdout",
     "output_type": "stream",
     "text": [
      "\r\tTrain Loss: 0.018238 \t Time: 14s\r\tTrain Loss: 0.018169 \t Time: 15s\r\tTrain Loss: 0.018100 \t Time: 15s"
     ]
    },
    {
     "name": "stdout",
     "output_type": "stream",
     "text": [
      "\r\tTrain Loss: 0.018033 \t Time: 15s\r\tTrain Loss: 0.017966 \t Time: 15s\r\tTrain Loss: 0.017899 \t Time: 15s"
     ]
    },
    {
     "name": "stdout",
     "output_type": "stream",
     "text": [
      "\r\tTrain Loss: 0.017833 \t Time: 15s\r\tTrain Loss: 0.017768 \t Time: 15s\r\tTrain Loss: 0.017703 \t Time: 15s"
     ]
    },
    {
     "name": "stdout",
     "output_type": "stream",
     "text": [
      "\r\tTrain Loss: 0.017638 \t Time: 15s\r\tTrain Loss: 0.017575 \t Time: 15s\r\tTrain Loss: 0.017512 \t Time: 15s"
     ]
    },
    {
     "name": "stdout",
     "output_type": "stream",
     "text": [
      "\r\tTrain Loss: 0.017450 \t Time: 15s\r\tTrain Loss: 0.017387 \t Time: 15s\r\tTrain Loss: 0.017325 \t Time: 15s"
     ]
    },
    {
     "name": "stdout",
     "output_type": "stream",
     "text": [
      "\r\tTrain Loss: 0.017263 \t Time: 16s\r\tTrain Loss: 0.017202 \t Time: 16s\r\tTrain Loss: 0.017141 \t Time: 16s"
     ]
    },
    {
     "name": "stdout",
     "output_type": "stream",
     "text": [
      "\r\tTrain Loss: 0.017082 \t Time: 16s\r\tTrain Loss: 0.017022 \t Time: 16s\r\tTrain Loss: 0.016963 \t Time: 16s"
     ]
    },
    {
     "name": "stdout",
     "output_type": "stream",
     "text": [
      "\r\tTrain Loss: 0.016904 \t Time: 16s\r\tTrain Loss: 0.016845 \t Time: 16s\r\tTrain Loss: 0.016788 \t Time: 16s"
     ]
    },
    {
     "name": "stdout",
     "output_type": "stream",
     "text": [
      "\r\tTrain Loss: 0.016731 \t Time: 16s\r\tTrain Loss: 0.016674 \t Time: 16s\r\tTrain Loss: 0.016618 \t Time: 16s"
     ]
    },
    {
     "name": "stdout",
     "output_type": "stream",
     "text": [
      "\r\tTrain Loss: 0.016561 \t Time: 16s\r\tTrain Loss: 0.016505 \t Time: 16s\r\tTrain Loss: 0.016450 \t Time: 17s"
     ]
    },
    {
     "name": "stdout",
     "output_type": "stream",
     "text": [
      "\r\tTrain Loss: 0.016395 \t Time: 17s\r\tTrain Loss: 0.016340 \t Time: 17s\r\tTrain Loss: 0.016287 \t Time: 17s"
     ]
    },
    {
     "name": "stdout",
     "output_type": "stream",
     "text": [
      "\r\tTrain Loss: 0.016233 \t Time: 17s\r\tTrain Loss: 0.016179 \t Time: 17s\r\tTrain Loss: 0.016126 \t Time: 17s"
     ]
    },
    {
     "name": "stdout",
     "output_type": "stream",
     "text": [
      "\r\tTrain Loss: 0.016074 \t Time: 17s\r\tTrain Loss: 0.016022 \t Time: 17s\r\tTrain Loss: 0.015969 \t Time: 17s"
     ]
    },
    {
     "name": "stdout",
     "output_type": "stream",
     "text": [
      "\r\tTrain Loss: 0.015918 \t Time: 17s\r\tTrain Loss: 0.015866 \t Time: 17s\r\tTrain Loss: 0.015815 \t Time: 17s"
     ]
    },
    {
     "name": "stdout",
     "output_type": "stream",
     "text": [
      "\r\tTrain Loss: 0.015764 \t Time: 17s\r\tTrain Loss: 0.015714 \t Time: 18s\r\tTrain Loss: 0.015664 \t Time: 18s"
     ]
    },
    {
     "name": "stdout",
     "output_type": "stream",
     "text": [
      "\r\tTrain Loss: 0.015614 \t Time: 18s\r\tTrain Loss: 0.015565 \t Time: 18s\r\tTrain Loss: 0.015516 \t Time: 18s"
     ]
    },
    {
     "name": "stdout",
     "output_type": "stream",
     "text": [
      "\r\tTrain Loss: 0.015468 \t Time: 18s\r\tTrain Loss: 0.015420 \t Time: 18s\r\tTrain Loss: 0.015372 \t Time: 18s"
     ]
    },
    {
     "name": "stdout",
     "output_type": "stream",
     "text": [
      "\r\tTrain Loss: 0.015324 \t Time: 18s\r\tTrain Loss: 0.015277 \t Time: 18s\r\tTrain Loss: 0.015231 \t Time: 18s"
     ]
    },
    {
     "name": "stdout",
     "output_type": "stream",
     "text": [
      "\r\tTrain Loss: 0.015184 \t Time: 18s\r\tTrain Loss: 0.015138 \t Time: 18s\r\tTrain Loss: 0.015092 \t Time: 18s"
     ]
    },
    {
     "name": "stdout",
     "output_type": "stream",
     "text": [
      "\r\tTrain Loss: 0.015046 \t Time: 19s\r\tTrain Loss: 0.015001 \t Time: 19s\r\tTrain Loss: 0.014955 \t Time: 19s"
     ]
    },
    {
     "name": "stdout",
     "output_type": "stream",
     "text": [
      "\r\tTrain Loss: 0.014911 \t Time: 19s\r\tTrain Loss: 0.014866 \t Time: 19s\r\tTrain Loss: 0.014822 \t Time: 19s"
     ]
    },
    {
     "name": "stdout",
     "output_type": "stream",
     "text": [
      "\r\tTrain Loss: 0.014778 \t Time: 19s\r\tTrain Loss: 0.014734 \t Time: 19s\r\tTrain Loss: 0.014690 \t Time: 19s"
     ]
    },
    {
     "name": "stdout",
     "output_type": "stream",
     "text": [
      "\r\tTrain Loss: 0.014647 \t Time: 19s\r\tTrain Loss: 0.014604 \t Time: 19s\r\tTrain Loss: 0.014562 \t Time: 19s"
     ]
    },
    {
     "name": "stdout",
     "output_type": "stream",
     "text": [
      "\r\tTrain Loss: 0.014519 \t Time: 19s\r\tTrain Loss: 0.014477 \t Time: 19s\r\tTrain Loss: 0.014436 \t Time: 20s"
     ]
    },
    {
     "name": "stdout",
     "output_type": "stream",
     "text": [
      "\r\tTrain Loss: 0.014394 \t Time: 20s\r\tTrain Loss: 0.014353 \t Time: 20s\r\tTrain Loss: 0.014312 \t Time: 20s"
     ]
    },
    {
     "name": "stdout",
     "output_type": "stream",
     "text": [
      "\r\tTrain Loss: 0.014271 \t Time: 20s\r\tTrain Loss: 0.014230 \t Time: 20s\r\tTrain Loss: 0.014190 \t Time: 20s"
     ]
    },
    {
     "name": "stdout",
     "output_type": "stream",
     "text": [
      "\r\tTrain Loss: 0.014150 \t Time: 20s\r\tTrain Loss: 0.014110 \t Time: 20s\r\tTrain Loss: 0.014071 \t Time: 20s"
     ]
    },
    {
     "name": "stdout",
     "output_type": "stream",
     "text": [
      "\r\tTrain Loss: 0.014032 \t Time: 20s\r\tTrain Loss: 0.013993 \t Time: 20s\r\tTrain Loss: 0.013954 \t Time: 20s"
     ]
    },
    {
     "name": "stdout",
     "output_type": "stream",
     "text": [
      "\r\tTrain Loss: 0.013916 \t Time: 20s\r\tTrain Loss: 0.013878 \t Time: 21s\r\tTrain Loss: 0.013840 \t Time: 21s"
     ]
    },
    {
     "name": "stdout",
     "output_type": "stream",
     "text": [
      "\r\tTrain Loss: 0.013802 \t Time: 21s\r\tTrain Loss: 0.013764 \t Time: 21s\r\tTrain Loss: 0.013727 \t Time: 21s"
     ]
    },
    {
     "name": "stdout",
     "output_type": "stream",
     "text": [
      "\r\tTrain Loss: 0.013689 \t Time: 21s\r\tTrain Loss: 0.013653 \t Time: 21s\r\tTrain Loss: 0.013616 \t Time: 21s"
     ]
    },
    {
     "name": "stdout",
     "output_type": "stream",
     "text": [
      "\r\tTrain Loss: 0.013579 \t Time: 21s\r\tTrain Loss: 0.013542 \t Time: 21s\r\tTrain Loss: 0.013506 \t Time: 21s"
     ]
    },
    {
     "name": "stdout",
     "output_type": "stream",
     "text": [
      "\r\tTrain Loss: 0.013470 \t Time: 21s\r\tTrain Loss: 0.013434 \t Time: 21s\r\tTrain Loss: 0.013399 \t Time: 22s"
     ]
    },
    {
     "name": "stdout",
     "output_type": "stream",
     "text": [
      "\r\tTrain Loss: 0.013364 \t Time: 22s\r\tTrain Loss: 0.013328 \t Time: 22s\r\tTrain Loss: 0.013293 \t Time: 22s"
     ]
    },
    {
     "name": "stdout",
     "output_type": "stream",
     "text": [
      "\r\tTrain Loss: 0.013259 \t Time: 22s\r\tTrain Loss: 0.013225 \t Time: 22s\r\tTrain Loss: 0.013190 \t Time: 22s"
     ]
    },
    {
     "name": "stdout",
     "output_type": "stream",
     "text": [
      "\r\tTrain Loss: 0.013156 \t Time: 22s\r\tTrain Loss: 0.013122 \t Time: 22s\r\tTrain Loss: 0.013088 \t Time: 22s"
     ]
    },
    {
     "name": "stdout",
     "output_type": "stream",
     "text": [
      "\r\tTrain Loss: 0.013055 \t Time: 22s\r\tTrain Loss: 0.013021 \t Time: 22s\r\tTrain Loss: 0.012988 \t Time: 22s"
     ]
    },
    {
     "name": "stdout",
     "output_type": "stream",
     "text": [
      "\r\tTrain Loss: 0.012955 \t Time: 22s\r\tTrain Loss: 0.012922 \t Time: 23s\r\tTrain Loss: 0.012890 \t Time: 23s"
     ]
    },
    {
     "name": "stdout",
     "output_type": "stream",
     "text": [
      "\r\tTrain Loss: 0.012857 \t Time: 23s\r\tTrain Loss: 0.012825 \t Time: 23s\r\tTrain Loss: 0.012792 \t Time: 23s"
     ]
    },
    {
     "name": "stdout",
     "output_type": "stream",
     "text": [
      "\r\tTrain Loss: 0.012760 \t Time: 23s\r\tTrain Loss: 0.012729 \t Time: 23s\r\tTrain Loss: 0.012697 \t Time: 23s"
     ]
    },
    {
     "name": "stdout",
     "output_type": "stream",
     "text": [
      "\r\tTrain Loss: 0.012665 \t Time: 23s\r\tTrain Loss: 0.012634 \t Time: 23s\r\tTrain Loss: 0.012603 \t Time: 23s"
     ]
    },
    {
     "name": "stdout",
     "output_type": "stream",
     "text": [
      "\r\tTrain Loss: 0.012572 \t Time: 23s\r\tTrain Loss: 0.012541 \t Time: 23s\r\tTrain Loss: 0.012511 \t Time: 23s"
     ]
    },
    {
     "name": "stdout",
     "output_type": "stream",
     "text": [
      "\r\tTrain Loss: 0.012480 \t Time: 24s\r\tTrain Loss: 0.012450 \t Time: 24s\r\tTrain Loss: 0.012419 \t Time: 24s"
     ]
    },
    {
     "name": "stdout",
     "output_type": "stream",
     "text": [
      "\r\tTrain Loss: 0.012389 \t Time: 24s\r\tTrain Loss: 0.012360 \t Time: 24s\r\tTrain Loss: 0.012330 \t Time: 24s"
     ]
    },
    {
     "name": "stdout",
     "output_type": "stream",
     "text": [
      "\r\tTrain Loss: 0.012300 \t Time: 24s\r\tTrain Loss: 0.012271 \t Time: 24s\r\tTrain Loss: 0.012242 \t Time: 24s"
     ]
    },
    {
     "name": "stdout",
     "output_type": "stream",
     "text": [
      "\r\tTrain Loss: 0.012212 \t Time: 24s\r\tTrain Loss: 0.012184 \t Time: 24s\r\tTrain Loss: 0.012155 \t Time: 24s"
     ]
    },
    {
     "name": "stdout",
     "output_type": "stream",
     "text": [
      "\r\tTrain Loss: 0.012126 \t Time: 24s\r\tTrain Loss: 0.012098 \t Time: 24s\r\tTrain Loss: 0.012069 \t Time: 25s"
     ]
    },
    {
     "name": "stdout",
     "output_type": "stream",
     "text": [
      "\r\tTrain Loss: 0.012041 \t Time: 25s\r\tTrain Loss: 0.012013 \t Time: 25s\r\tTrain Loss: 0.011985 \t Time: 25s"
     ]
    },
    {
     "name": "stdout",
     "output_type": "stream",
     "text": [
      "\r\tTrain Loss: 0.011957 \t Time: 25s\r\tTrain Loss: 0.011929 \t Time: 25s\r\tTrain Loss: 0.011902 \t Time: 25s\n"
     ]
    },
    {
     "name": "stdout",
     "output_type": "stream",
     "text": [
      "\tTest Loss: 0.002207 \t Time: 0s\n\t Input: cbdbe \t Result: cbdbea \t From train: 1\n\t Input: eggdf \t Result: eggdfa \t From train: 0\n\t Input: bgadc \t Result: bgadca \t From train: 1\n\t Input: gbgbe \t Result: gbgbea \t From train: 1\n\t Input: ebgdb \t Result: ebgdba \t From train: 1\nEpoch 3\n\r\tTrain Loss: 0.002164 \t Time: 0s"
     ]
    },
    {
     "name": "stdout",
     "output_type": "stream",
     "text": [
      "\r\tTrain Loss: 0.002204 \t Time: 0s\r\tTrain Loss: 0.002209 \t Time: 0s\r\tTrain Loss: 0.002216 \t Time: 0s"
     ]
    },
    {
     "name": "stdout",
     "output_type": "stream",
     "text": [
      "\r\tTrain Loss: 0.002213 \t Time: 0s\r\tTrain Loss: 0.002218 \t Time: 0s\r\tTrain Loss: 0.002217 \t Time: 0s"
     ]
    },
    {
     "name": "stdout",
     "output_type": "stream",
     "text": [
      "\r\tTrain Loss: 0.002213 \t Time: 0s\r\tTrain Loss: 0.002198 \t Time: 0s\r\tTrain Loss: 0.002186 \t Time: 0s"
     ]
    },
    {
     "name": "stdout",
     "output_type": "stream",
     "text": [
      "\r\tTrain Loss: 0.002180 \t Time: 0s\r\tTrain Loss: 0.002179 \t Time: 0s\r\tTrain Loss: 0.002174 \t Time: 0s"
     ]
    },
    {
     "name": "stdout",
     "output_type": "stream",
     "text": [
      "\r\tTrain Loss: 0.002175 \t Time: 1s\r\tTrain Loss: 0.002174 \t Time: 1s\r\tTrain Loss: 0.002166 \t Time: 1s"
     ]
    },
    {
     "name": "stdout",
     "output_type": "stream",
     "text": [
      "\r\tTrain Loss: 0.002162 \t Time: 1s\r\tTrain Loss: 0.002157 \t Time: 1s\r\tTrain Loss: 0.002154 \t Time: 1s"
     ]
    },
    {
     "name": "stdout",
     "output_type": "stream",
     "text": [
      "\r\tTrain Loss: 0.002148 \t Time: 1s\r\tTrain Loss: 0.002146 \t Time: 1s\r\tTrain Loss: 0.002143 \t Time: 1s"
     ]
    },
    {
     "name": "stdout",
     "output_type": "stream",
     "text": [
      "\r\tTrain Loss: 0.002141 \t Time: 1s\r\tTrain Loss: 0.002136 \t Time: 1s\r\tTrain Loss: 0.002133 \t Time: 1s"
     ]
    },
    {
     "name": "stdout",
     "output_type": "stream",
     "text": [
      "\r\tTrain Loss: 0.002131 \t Time: 1s\r\tTrain Loss: 0.002125 \t Time: 1s\r\tTrain Loss: 0.002121 \t Time: 2s"
     ]
    },
    {
     "name": "stdout",
     "output_type": "stream",
     "text": [
      "\r\tTrain Loss: 0.002117 \t Time: 2s\r\tTrain Loss: 0.002116 \t Time: 2s\r\tTrain Loss: 0.002112 \t Time: 2s"
     ]
    },
    {
     "name": "stdout",
     "output_type": "stream",
     "text": [
      "\r\tTrain Loss: 0.002110 \t Time: 2s\r\tTrain Loss: 0.002107 \t Time: 2s\r\tTrain Loss: 0.002103 \t Time: 2s"
     ]
    },
    {
     "name": "stdout",
     "output_type": "stream",
     "text": [
      "\r\tTrain Loss: 0.002100 \t Time: 2s\r\tTrain Loss: 0.002097 \t Time: 2s\r\tTrain Loss: 0.002094 \t Time: 2s"
     ]
    },
    {
     "name": "stdout",
     "output_type": "stream",
     "text": [
      "\r\tTrain Loss: 0.002089 \t Time: 2s\r\tTrain Loss: 0.002086 \t Time: 2s\r\tTrain Loss: 0.002083 \t Time: 2s"
     ]
    },
    {
     "name": "stdout",
     "output_type": "stream",
     "text": [
      "\r\tTrain Loss: 0.002081 \t Time: 2s\r\tTrain Loss: 0.002078 \t Time: 3s\r\tTrain Loss: 0.002075 \t Time: 3s"
     ]
    },
    {
     "name": "stdout",
     "output_type": "stream",
     "text": [
      "\r\tTrain Loss: 0.002073 \t Time: 3s\r\tTrain Loss: 0.002070 \t Time: 3s\r\tTrain Loss: 0.002068 \t Time: 3s"
     ]
    },
    {
     "name": "stdout",
     "output_type": "stream",
     "text": [
      "\r\tTrain Loss: 0.002066 \t Time: 3s\r\tTrain Loss: 0.002062 \t Time: 3s\r\tTrain Loss: 0.002059 \t Time: 3s"
     ]
    },
    {
     "name": "stdout",
     "output_type": "stream",
     "text": [
      "\r\tTrain Loss: 0.002056 \t Time: 3s\r\tTrain Loss: 0.002052 \t Time: 3s\r\tTrain Loss: 0.002048 \t Time: 3s"
     ]
    },
    {
     "name": "stdout",
     "output_type": "stream",
     "text": [
      "\r\tTrain Loss: 0.002046 \t Time: 3s\r\tTrain Loss: 0.002044 \t Time: 3s\r\tTrain Loss: 0.002041 \t Time: 3s"
     ]
    },
    {
     "name": "stdout",
     "output_type": "stream",
     "text": [
      "\r\tTrain Loss: 0.002037 \t Time: 4s\r\tTrain Loss: 0.002034 \t Time: 4s\r\tTrain Loss: 0.002032 \t Time: 4s"
     ]
    },
    {
     "name": "stdout",
     "output_type": "stream",
     "text": [
      "\r\tTrain Loss: 0.002030 \t Time: 4s\r\tTrain Loss: 0.002026 \t Time: 4s\r\tTrain Loss: 0.002023 \t Time: 4s"
     ]
    },
    {
     "name": "stdout",
     "output_type": "stream",
     "text": [
      "\r\tTrain Loss: 0.002020 \t Time: 4s\r\tTrain Loss: 0.002017 \t Time: 4s\r\tTrain Loss: 0.002014 \t Time: 4s"
     ]
    },
    {
     "name": "stdout",
     "output_type": "stream",
     "text": [
      "\r\tTrain Loss: 0.002011 \t Time: 4s\r\tTrain Loss: 0.002007 \t Time: 4s\r\tTrain Loss: 0.002006 \t Time: 4s"
     ]
    },
    {
     "name": "stdout",
     "output_type": "stream",
     "text": [
      "\r\tTrain Loss: 0.002002 \t Time: 4s\r\tTrain Loss: 0.001999 \t Time: 4s\r\tTrain Loss: 0.001996 \t Time: 5s"
     ]
    },
    {
     "name": "stdout",
     "output_type": "stream",
     "text": [
      "\r\tTrain Loss: 0.001994 \t Time: 5s\r\tTrain Loss: 0.001991 \t Time: 5s\r\tTrain Loss: 0.001989 \t Time: 5s"
     ]
    },
    {
     "name": "stdout",
     "output_type": "stream",
     "text": [
      "\r\tTrain Loss: 0.001986 \t Time: 5s\r\tTrain Loss: 0.001983 \t Time: 5s\r\tTrain Loss: 0.001981 \t Time: 5s"
     ]
    },
    {
     "name": "stdout",
     "output_type": "stream",
     "text": [
      "\r\tTrain Loss: 0.001979 \t Time: 5s\r\tTrain Loss: 0.001976 \t Time: 5s\r\tTrain Loss: 0.001974 \t Time: 5s"
     ]
    },
    {
     "name": "stdout",
     "output_type": "stream",
     "text": [
      "\r\tTrain Loss: 0.001971 \t Time: 5s\r\tTrain Loss: 0.001968 \t Time: 5s\r\tTrain Loss: 0.001965 \t Time: 5s"
     ]
    },
    {
     "name": "stdout",
     "output_type": "stream",
     "text": [
      "\r\tTrain Loss: 0.001964 \t Time: 6s\r\tTrain Loss: 0.001961 \t Time: 6s\r\tTrain Loss: 0.001958 \t Time: 6s"
     ]
    },
    {
     "name": "stdout",
     "output_type": "stream",
     "text": [
      "\r\tTrain Loss: 0.001956 \t Time: 6s\r\tTrain Loss: 0.001953 \t Time: 6s\r\tTrain Loss: 0.001951 \t Time: 6s"
     ]
    },
    {
     "name": "stdout",
     "output_type": "stream",
     "text": [
      "\r\tTrain Loss: 0.001948 \t Time: 6s\r\tTrain Loss: 0.001946 \t Time: 6s\r\tTrain Loss: 0.001943 \t Time: 6s"
     ]
    },
    {
     "name": "stdout",
     "output_type": "stream",
     "text": [
      "\r\tTrain Loss: 0.001941 \t Time: 6s\r\tTrain Loss: 0.001939 \t Time: 6s\r\tTrain Loss: 0.001937 \t Time: 6s"
     ]
    },
    {
     "name": "stdout",
     "output_type": "stream",
     "text": [
      "\r\tTrain Loss: 0.001934 \t Time: 6s\r\tTrain Loss: 0.001932 \t Time: 6s\r\tTrain Loss: 0.001929 \t Time: 7s"
     ]
    },
    {
     "name": "stdout",
     "output_type": "stream",
     "text": [
      "\r\tTrain Loss: 0.001927 \t Time: 7s\r\tTrain Loss: 0.001925 \t Time: 7s\r\tTrain Loss: 0.001922 \t Time: 7s"
     ]
    },
    {
     "name": "stdout",
     "output_type": "stream",
     "text": [
      "\r\tTrain Loss: 0.001920 \t Time: 7s\r\tTrain Loss: 0.001917 \t Time: 7s\r\tTrain Loss: 0.001915 \t Time: 7s"
     ]
    },
    {
     "name": "stdout",
     "output_type": "stream",
     "text": [
      "\r\tTrain Loss: 0.001913 \t Time: 7s\r\tTrain Loss: 0.001911 \t Time: 7s\r\tTrain Loss: 0.001908 \t Time: 7s"
     ]
    },
    {
     "name": "stdout",
     "output_type": "stream",
     "text": [
      "\r\tTrain Loss: 0.001906 \t Time: 7s\r\tTrain Loss: 0.001904 \t Time: 7s\r\tTrain Loss: 0.001901 \t Time: 7s"
     ]
    },
    {
     "name": "stdout",
     "output_type": "stream",
     "text": [
      "\r\tTrain Loss: 0.001899 \t Time: 7s\r\tTrain Loss: 0.001897 \t Time: 8s\r\tTrain Loss: 0.001894 \t Time: 8s"
     ]
    },
    {
     "name": "stdout",
     "output_type": "stream",
     "text": [
      "\r\tTrain Loss: 0.001892 \t Time: 8s\r\tTrain Loss: 0.001889 \t Time: 8s\r\tTrain Loss: 0.001887 \t Time: 8s"
     ]
    },
    {
     "name": "stdout",
     "output_type": "stream",
     "text": [
      "\r\tTrain Loss: 0.001885 \t Time: 8s\r\tTrain Loss: 0.001882 \t Time: 8s\r\tTrain Loss: 0.001880 \t Time: 8s"
     ]
    },
    {
     "name": "stdout",
     "output_type": "stream",
     "text": [
      "\r\tTrain Loss: 0.001878 \t Time: 8s\r\tTrain Loss: 0.001875 \t Time: 8s\r\tTrain Loss: 0.001873 \t Time: 8s"
     ]
    },
    {
     "name": "stdout",
     "output_type": "stream",
     "text": [
      "\r\tTrain Loss: 0.001870 \t Time: 8s\r\tTrain Loss: 0.001868 \t Time: 8s\r\tTrain Loss: 0.001866 \t Time: 8s"
     ]
    },
    {
     "name": "stdout",
     "output_type": "stream",
     "text": [
      "\r\tTrain Loss: 0.001864 \t Time: 9s\r\tTrain Loss: 0.001861 \t Time: 9s\r\tTrain Loss: 0.001859 \t Time: 9s"
     ]
    },
    {
     "name": "stdout",
     "output_type": "stream",
     "text": [
      "\r\tTrain Loss: 0.001857 \t Time: 9s\r\tTrain Loss: 0.001855 \t Time: 9s\r\tTrain Loss: 0.001853 \t Time: 9s"
     ]
    },
    {
     "name": "stdout",
     "output_type": "stream",
     "text": [
      "\r\tTrain Loss: 0.001850 \t Time: 9s\r\tTrain Loss: 0.001848 \t Time: 9s\r\tTrain Loss: 0.001846 \t Time: 9s"
     ]
    },
    {
     "name": "stdout",
     "output_type": "stream",
     "text": [
      "\r\tTrain Loss: 0.001844 \t Time: 9s\r\tTrain Loss: 0.001841 \t Time: 9s\r\tTrain Loss: 0.001839 \t Time: 9s"
     ]
    },
    {
     "name": "stdout",
     "output_type": "stream",
     "text": [
      "\r\tTrain Loss: 0.001837 \t Time: 9s\r\tTrain Loss: 0.001835 \t Time: 10s\r\tTrain Loss: 0.001833 \t Time: 10s"
     ]
    },
    {
     "name": "stdout",
     "output_type": "stream",
     "text": [
      "\r\tTrain Loss: 0.001831 \t Time: 10s\r\tTrain Loss: 0.001829 \t Time: 10s\r\tTrain Loss: 0.001828 \t Time: 10s"
     ]
    },
    {
     "name": "stdout",
     "output_type": "stream",
     "text": [
      "\r\tTrain Loss: 0.001826 \t Time: 10s\r\tTrain Loss: 0.001824 \t Time: 10s\r\tTrain Loss: 0.001821 \t Time: 10s"
     ]
    },
    {
     "name": "stdout",
     "output_type": "stream",
     "text": [
      "\r\tTrain Loss: 0.001819 \t Time: 10s\r\tTrain Loss: 0.001817 \t Time: 10s\r\tTrain Loss: 0.001815 \t Time: 10s"
     ]
    },
    {
     "name": "stdout",
     "output_type": "stream",
     "text": [
      "\r\tTrain Loss: 0.001813 \t Time: 10s\r\tTrain Loss: 0.001811 \t Time: 10s\r\tTrain Loss: 0.001809 \t Time: 10s"
     ]
    },
    {
     "name": "stdout",
     "output_type": "stream",
     "text": [
      "\r\tTrain Loss: 0.001807 \t Time: 11s\r\tTrain Loss: 0.001805 \t Time: 11s\r\tTrain Loss: 0.001803 \t Time: 11s"
     ]
    },
    {
     "name": "stdout",
     "output_type": "stream",
     "text": [
      "\r\tTrain Loss: 0.001801 \t Time: 11s\r\tTrain Loss: 0.001799 \t Time: 11s\r\tTrain Loss: 0.001796 \t Time: 11s"
     ]
    },
    {
     "name": "stdout",
     "output_type": "stream",
     "text": [
      "\r\tTrain Loss: 0.001794 \t Time: 11s\r\tTrain Loss: 0.001792 \t Time: 11s\r\tTrain Loss: 0.001790 \t Time: 11s"
     ]
    },
    {
     "name": "stdout",
     "output_type": "stream",
     "text": [
      "\r\tTrain Loss: 0.001788 \t Time: 11s\r\tTrain Loss: 0.001786 \t Time: 11s\r\tTrain Loss: 0.001785 \t Time: 11s"
     ]
    },
    {
     "name": "stdout",
     "output_type": "stream",
     "text": [
      "\r\tTrain Loss: 0.001782 \t Time: 11s\r\tTrain Loss: 0.001780 \t Time: 11s\r\tTrain Loss: 0.001778 \t Time: 12s"
     ]
    },
    {
     "name": "stdout",
     "output_type": "stream",
     "text": [
      "\r\tTrain Loss: 0.001776 \t Time: 12s\r\tTrain Loss: 0.001775 \t Time: 12s\r\tTrain Loss: 0.001773 \t Time: 12s"
     ]
    },
    {
     "name": "stdout",
     "output_type": "stream",
     "text": [
      "\r\tTrain Loss: 0.001771 \t Time: 12s\r\tTrain Loss: 0.001769 \t Time: 12s\r\tTrain Loss: 0.001767 \t Time: 12s"
     ]
    },
    {
     "name": "stdout",
     "output_type": "stream",
     "text": [
      "\r\tTrain Loss: 0.001765 \t Time: 12s\r\tTrain Loss: 0.001763 \t Time: 12s\r\tTrain Loss: 0.001761 \t Time: 12s"
     ]
    },
    {
     "name": "stdout",
     "output_type": "stream",
     "text": [
      "\r\tTrain Loss: 0.001759 \t Time: 12s\r\tTrain Loss: 0.001757 \t Time: 12s\r\tTrain Loss: 0.001755 \t Time: 12s"
     ]
    },
    {
     "name": "stdout",
     "output_type": "stream",
     "text": [
      "\r\tTrain Loss: 0.001753 \t Time: 13s\r\tTrain Loss: 0.001752 \t Time: 13s\r\tTrain Loss: 0.001750 \t Time: 13s"
     ]
    },
    {
     "name": "stdout",
     "output_type": "stream",
     "text": [
      "\r\tTrain Loss: 0.001748 \t Time: 13s\r\tTrain Loss: 0.001746 \t Time: 13s\r\tTrain Loss: 0.001744 \t Time: 13s"
     ]
    },
    {
     "name": "stdout",
     "output_type": "stream",
     "text": [
      "\r\tTrain Loss: 0.001742 \t Time: 13s\r\tTrain Loss: 0.001741 \t Time: 13s\r\tTrain Loss: 0.001739 \t Time: 13s"
     ]
    },
    {
     "name": "stdout",
     "output_type": "stream",
     "text": [
      "\r\tTrain Loss: 0.001737 \t Time: 13s\r\tTrain Loss: 0.001735 \t Time: 13s\r\tTrain Loss: 0.001733 \t Time: 13s"
     ]
    },
    {
     "name": "stdout",
     "output_type": "stream",
     "text": [
      "\r\tTrain Loss: 0.001731 \t Time: 13s\r\tTrain Loss: 0.001729 \t Time: 13s\r\tTrain Loss: 0.001727 \t Time: 14s"
     ]
    },
    {
     "name": "stdout",
     "output_type": "stream",
     "text": [
      "\r\tTrain Loss: 0.001725 \t Time: 14s\r\tTrain Loss: 0.001723 \t Time: 14s\r\tTrain Loss: 0.001722 \t Time: 14s"
     ]
    },
    {
     "name": "stdout",
     "output_type": "stream",
     "text": [
      "\r\tTrain Loss: 0.001720 \t Time: 14s\r\tTrain Loss: 0.001718 \t Time: 14s\r\tTrain Loss: 0.001716 \t Time: 14s"
     ]
    },
    {
     "name": "stdout",
     "output_type": "stream",
     "text": [
      "\r\tTrain Loss: 0.001714 \t Time: 14s\r\tTrain Loss: 0.001712 \t Time: 14s\r\tTrain Loss: 0.001710 \t Time: 14s"
     ]
    },
    {
     "name": "stdout",
     "output_type": "stream",
     "text": [
      "\r\tTrain Loss: 0.001709 \t Time: 14s\r\tTrain Loss: 0.001707 \t Time: 14s\r\tTrain Loss: 0.001705 \t Time: 14s"
     ]
    },
    {
     "name": "stdout",
     "output_type": "stream",
     "text": [
      "\r\tTrain Loss: 0.001703 \t Time: 14s\r\tTrain Loss: 0.001702 \t Time: 15s\r\tTrain Loss: 0.001700 \t Time: 15s"
     ]
    },
    {
     "name": "stdout",
     "output_type": "stream",
     "text": [
      "\r\tTrain Loss: 0.001698 \t Time: 15s\r\tTrain Loss: 0.001696 \t Time: 15s\r\tTrain Loss: 0.001695 \t Time: 15s"
     ]
    },
    {
     "name": "stdout",
     "output_type": "stream",
     "text": [
      "\r\tTrain Loss: 0.001693 \t Time: 15s\r\tTrain Loss: 0.001691 \t Time: 15s\r\tTrain Loss: 0.001690 \t Time: 15s"
     ]
    },
    {
     "name": "stdout",
     "output_type": "stream",
     "text": [
      "\r\tTrain Loss: 0.001688 \t Time: 15s\r\tTrain Loss: 0.001686 \t Time: 15s\r\tTrain Loss: 0.001684 \t Time: 15s"
     ]
    },
    {
     "name": "stdout",
     "output_type": "stream",
     "text": [
      "\r\tTrain Loss: 0.001682 \t Time: 15s\r\tTrain Loss: 0.001681 \t Time: 15s\r\tTrain Loss: 0.001679 \t Time: 15s"
     ]
    },
    {
     "name": "stdout",
     "output_type": "stream",
     "text": [
      "\r\tTrain Loss: 0.001677 \t Time: 16s\r\tTrain Loss: 0.001676 \t Time: 16s\r\tTrain Loss: 0.001674 \t Time: 16s"
     ]
    },
    {
     "name": "stdout",
     "output_type": "stream",
     "text": [
      "\r\tTrain Loss: 0.001672 \t Time: 16s\r\tTrain Loss: 0.001670 \t Time: 16s\r\tTrain Loss: 0.001668 \t Time: 16s"
     ]
    },
    {
     "name": "stdout",
     "output_type": "stream",
     "text": [
      "\r\tTrain Loss: 0.001667 \t Time: 16s\r\tTrain Loss: 0.001665 \t Time: 16s\r\tTrain Loss: 0.001663 \t Time: 16s"
     ]
    },
    {
     "name": "stdout",
     "output_type": "stream",
     "text": [
      "\r\tTrain Loss: 0.001662 \t Time: 16s\r\tTrain Loss: 0.001660 \t Time: 16s\r\tTrain Loss: 0.001658 \t Time: 16s"
     ]
    },
    {
     "name": "stdout",
     "output_type": "stream",
     "text": [
      "\r\tTrain Loss: 0.001656 \t Time: 16s\r\tTrain Loss: 0.001655 \t Time: 17s\r\tTrain Loss: 0.001653 \t Time: 17s"
     ]
    },
    {
     "name": "stdout",
     "output_type": "stream",
     "text": [
      "\r\tTrain Loss: 0.001651 \t Time: 17s\r\tTrain Loss: 0.001650 \t Time: 17s\r\tTrain Loss: 0.001648 \t Time: 17s"
     ]
    },
    {
     "name": "stdout",
     "output_type": "stream",
     "text": [
      "\r\tTrain Loss: 0.001646 \t Time: 17s\r\tTrain Loss: 0.001645 \t Time: 17s\r\tTrain Loss: 0.001643 \t Time: 17s"
     ]
    },
    {
     "name": "stdout",
     "output_type": "stream",
     "text": [
      "\r\tTrain Loss: 0.001642 \t Time: 17s\r\tTrain Loss: 0.001640 \t Time: 17s\r\tTrain Loss: 0.001638 \t Time: 17s"
     ]
    },
    {
     "name": "stdout",
     "output_type": "stream",
     "text": [
      "\r\tTrain Loss: 0.001637 \t Time: 17s\r\tTrain Loss: 0.001635 \t Time: 17s\r\tTrain Loss: 0.001633 \t Time: 17s"
     ]
    },
    {
     "name": "stdout",
     "output_type": "stream",
     "text": [
      "\r\tTrain Loss: 0.001632 \t Time: 18s\r\tTrain Loss: 0.001630 \t Time: 18s\r\tTrain Loss: 0.001628 \t Time: 18s"
     ]
    },
    {
     "name": "stdout",
     "output_type": "stream",
     "text": [
      "\r\tTrain Loss: 0.001627 \t Time: 18s\r\tTrain Loss: 0.001625 \t Time: 18s\r\tTrain Loss: 0.001623 \t Time: 18s"
     ]
    },
    {
     "name": "stdout",
     "output_type": "stream",
     "text": [
      "\r\tTrain Loss: 0.001622 \t Time: 18s\r\tTrain Loss: 0.001620 \t Time: 18s\r\tTrain Loss: 0.001618 \t Time: 18s"
     ]
    },
    {
     "name": "stdout",
     "output_type": "stream",
     "text": [
      "\r\tTrain Loss: 0.001617 \t Time: 18s\r\tTrain Loss: 0.001615 \t Time: 18s\r\tTrain Loss: 0.001613 \t Time: 18s"
     ]
    },
    {
     "name": "stdout",
     "output_type": "stream",
     "text": [
      "\r\tTrain Loss: 0.001612 \t Time: 18s\r\tTrain Loss: 0.001610 \t Time: 18s\r\tTrain Loss: 0.001609 \t Time: 19s"
     ]
    },
    {
     "name": "stdout",
     "output_type": "stream",
     "text": [
      "\r\tTrain Loss: 0.001607 \t Time: 19s\r\tTrain Loss: 0.001606 \t Time: 19s\r\tTrain Loss: 0.001604 \t Time: 19s"
     ]
    },
    {
     "name": "stdout",
     "output_type": "stream",
     "text": [
      "\r\tTrain Loss: 0.001603 \t Time: 19s\r\tTrain Loss: 0.001601 \t Time: 19s\r\tTrain Loss: 0.001600 \t Time: 19s"
     ]
    },
    {
     "name": "stdout",
     "output_type": "stream",
     "text": [
      "\r\tTrain Loss: 0.001598 \t Time: 19s\r\tTrain Loss: 0.001597 \t Time: 19s\r\tTrain Loss: 0.001595 \t Time: 19s"
     ]
    },
    {
     "name": "stdout",
     "output_type": "stream",
     "text": [
      "\r\tTrain Loss: 0.001593 \t Time: 19s\r\tTrain Loss: 0.001592 \t Time: 19s\r\tTrain Loss: 0.001590 \t Time: 19s"
     ]
    },
    {
     "name": "stdout",
     "output_type": "stream",
     "text": [
      "\r\tTrain Loss: 0.001588 \t Time: 19s\r\tTrain Loss: 0.001587 \t Time: 20s\r\tTrain Loss: 0.001586 \t Time: 20s"
     ]
    },
    {
     "name": "stdout",
     "output_type": "stream",
     "text": [
      "\r\tTrain Loss: 0.001584 \t Time: 20s\r\tTrain Loss: 0.001583 \t Time: 20s\r\tTrain Loss: 0.001581 \t Time: 20s"
     ]
    },
    {
     "name": "stdout",
     "output_type": "stream",
     "text": [
      "\r\tTrain Loss: 0.001580 \t Time: 20s\r\tTrain Loss: 0.001578 \t Time: 20s\r\tTrain Loss: 0.001576 \t Time: 20s"
     ]
    },
    {
     "name": "stdout",
     "output_type": "stream",
     "text": [
      "\r\tTrain Loss: 0.001575 \t Time: 20s\r\tTrain Loss: 0.001573 \t Time: 20s\r\tTrain Loss: 0.001572 \t Time: 20s"
     ]
    },
    {
     "name": "stdout",
     "output_type": "stream",
     "text": [
      "\r\tTrain Loss: 0.001571 \t Time: 20s\r\tTrain Loss: 0.001569 \t Time: 20s\r\tTrain Loss: 0.001568 \t Time: 20s"
     ]
    },
    {
     "name": "stdout",
     "output_type": "stream",
     "text": [
      "\r\tTrain Loss: 0.001566 \t Time: 21s\r\tTrain Loss: 0.001565 \t Time: 21s\r\tTrain Loss: 0.001563 \t Time: 21s"
     ]
    },
    {
     "name": "stdout",
     "output_type": "stream",
     "text": [
      "\r\tTrain Loss: 0.001562 \t Time: 21s\r\tTrain Loss: 0.001561 \t Time: 21s\r\tTrain Loss: 0.001559 \t Time: 21s"
     ]
    },
    {
     "name": "stdout",
     "output_type": "stream",
     "text": [
      "\r\tTrain Loss: 0.001558 \t Time: 21s\r\tTrain Loss: 0.001556 \t Time: 21s\r\tTrain Loss: 0.001555 \t Time: 21s"
     ]
    },
    {
     "name": "stdout",
     "output_type": "stream",
     "text": [
      "\r\tTrain Loss: 0.001553 \t Time: 21s\r\tTrain Loss: 0.001552 \t Time: 21s\r\tTrain Loss: 0.001550 \t Time: 21s"
     ]
    },
    {
     "name": "stdout",
     "output_type": "stream",
     "text": [
      "\r\tTrain Loss: 0.001549 \t Time: 21s\r\tTrain Loss: 0.001547 \t Time: 21s\r\tTrain Loss: 0.001546 \t Time: 22s"
     ]
    },
    {
     "name": "stdout",
     "output_type": "stream",
     "text": [
      "\r\tTrain Loss: 0.001544 \t Time: 22s\r\tTrain Loss: 0.001543 \t Time: 22s\r\tTrain Loss: 0.001541 \t Time: 22s"
     ]
    },
    {
     "name": "stdout",
     "output_type": "stream",
     "text": [
      "\r\tTrain Loss: 0.001540 \t Time: 22s\r\tTrain Loss: 0.001539 \t Time: 22s\r\tTrain Loss: 0.001537 \t Time: 22s"
     ]
    },
    {
     "name": "stdout",
     "output_type": "stream",
     "text": [
      "\r\tTrain Loss: 0.001536 \t Time: 22s\r\tTrain Loss: 0.001535 \t Time: 22s\r\tTrain Loss: 0.001533 \t Time: 22s"
     ]
    },
    {
     "name": "stdout",
     "output_type": "stream",
     "text": [
      "\r\tTrain Loss: 0.001532 \t Time: 22s\r\tTrain Loss: 0.001531 \t Time: 22s\r\tTrain Loss: 0.001529 \t Time: 22s"
     ]
    },
    {
     "name": "stdout",
     "output_type": "stream",
     "text": [
      "\r\tTrain Loss: 0.001528 \t Time: 22s\r\tTrain Loss: 0.001527 \t Time: 23s\r\tTrain Loss: 0.001525 \t Time: 23s"
     ]
    },
    {
     "name": "stdout",
     "output_type": "stream",
     "text": [
      "\r\tTrain Loss: 0.001524 \t Time: 23s\r\tTrain Loss: 0.001522 \t Time: 23s\r\tTrain Loss: 0.001521 \t Time: 23s"
     ]
    },
    {
     "name": "stdout",
     "output_type": "stream",
     "text": [
      "\r\tTrain Loss: 0.001520 \t Time: 23s\r\tTrain Loss: 0.001518 \t Time: 23s\r\tTrain Loss: 0.001517 \t Time: 23s"
     ]
    },
    {
     "name": "stdout",
     "output_type": "stream",
     "text": [
      "\r\tTrain Loss: 0.001516 \t Time: 23s\r\tTrain Loss: 0.001514 \t Time: 23s\r\tTrain Loss: 0.001513 \t Time: 23s"
     ]
    },
    {
     "name": "stdout",
     "output_type": "stream",
     "text": [
      "\r\tTrain Loss: 0.001512 \t Time: 23s\r\tTrain Loss: 0.001510 \t Time: 23s\r\tTrain Loss: 0.001509 \t Time: 23s"
     ]
    },
    {
     "name": "stdout",
     "output_type": "stream",
     "text": [
      "\r\tTrain Loss: 0.001508 \t Time: 24s\r\tTrain Loss: 0.001506 \t Time: 24s\r\tTrain Loss: 0.001505 \t Time: 24s"
     ]
    },
    {
     "name": "stdout",
     "output_type": "stream",
     "text": [
      "\r\tTrain Loss: 0.001504 \t Time: 24s\r\tTrain Loss: 0.001502 \t Time: 24s\r\tTrain Loss: 0.001501 \t Time: 24s"
     ]
    },
    {
     "name": "stdout",
     "output_type": "stream",
     "text": [
      "\r\tTrain Loss: 0.001500 \t Time: 24s\r\tTrain Loss: 0.001498 \t Time: 24s\r\tTrain Loss: 0.001497 \t Time: 24s"
     ]
    },
    {
     "name": "stdout",
     "output_type": "stream",
     "text": [
      "\r\tTrain Loss: 0.001496 \t Time: 24s\r\tTrain Loss: 0.001495 \t Time: 24s\r\tTrain Loss: 0.001494 \t Time: 24s"
     ]
    },
    {
     "name": "stdout",
     "output_type": "stream",
     "text": [
      "\r\tTrain Loss: 0.001492 \t Time: 24s\r\tTrain Loss: 0.001491 \t Time: 24s\r\tTrain Loss: 0.001490 \t Time: 25s"
     ]
    },
    {
     "name": "stdout",
     "output_type": "stream",
     "text": [
      "\r\tTrain Loss: 0.001489 \t Time: 25s\r\tTrain Loss: 0.001487 \t Time: 25s\r\tTrain Loss: 0.001486 \t Time: 25s"
     ]
    },
    {
     "name": "stdout",
     "output_type": "stream",
     "text": [
      "\r\tTrain Loss: 0.001485 \t Time: 25s\r\tTrain Loss: 0.001483 \t Time: 25s\r\tTrain Loss: 0.001482 \t Time: 25s\n"
     ]
    },
    {
     "name": "stdout",
     "output_type": "stream",
     "text": [
      "\tTest Loss: 0.001032 \t Time: 0s\n\t Input: ddgdd \t Result: ddgdda \t From train: 1\n\t Input: ccagg \t Result: ccagga \t From train: 1\n\t Input: fedea \t Result: fedeaa \t From train: 0\n\t Input: abcee \t Result: abceea \t From train: 1\n\t Input: dgcbf \t Result: dgcbfa \t From train: 1\nEpoch 4\n\r\tTrain Loss: 0.000997 \t Time: 0s"
     ]
    },
    {
     "name": "stdout",
     "output_type": "stream",
     "text": [
      "\r\tTrain Loss: 0.001018 \t Time: 0s\r\tTrain Loss: 0.001018 \t Time: 0s\r\tTrain Loss: 0.001021 \t Time: 0s"
     ]
    },
    {
     "name": "stdout",
     "output_type": "stream",
     "text": [
      "\r\tTrain Loss: 0.001019 \t Time: 0s\r\tTrain Loss: 0.001017 \t Time: 0s\r\tTrain Loss: 0.001017 \t Time: 0s"
     ]
    },
    {
     "name": "stdout",
     "output_type": "stream",
     "text": [
      "\r\tTrain Loss: 0.001020 \t Time: 0s\r\tTrain Loss: 0.001016 \t Time: 0s\r\tTrain Loss: 0.001016 \t Time: 0s"
     ]
    },
    {
     "name": "stdout",
     "output_type": "stream",
     "text": [
      "\r\tTrain Loss: 0.001017 \t Time: 0s\r\tTrain Loss: 0.001017 \t Time: 0s\r\tTrain Loss: 0.001015 \t Time: 0s"
     ]
    },
    {
     "name": "stdout",
     "output_type": "stream",
     "text": [
      "\r\tTrain Loss: 0.001015 \t Time: 1s\r\tTrain Loss: 0.001016 \t Time: 1s\r\tTrain Loss: 0.001015 \t Time: 1s"
     ]
    },
    {
     "name": "stdout",
     "output_type": "stream",
     "text": [
      "\r\tTrain Loss: 0.001015 \t Time: 1s\r\tTrain Loss: 0.001014 \t Time: 1s\r\tTrain Loss: 0.001015 \t Time: 1s"
     ]
    },
    {
     "name": "stdout",
     "output_type": "stream",
     "text": [
      "\r\tTrain Loss: 0.001014 \t Time: 1s\r\tTrain Loss: 0.001014 \t Time: 1s\r\tTrain Loss: 0.001013 \t Time: 1s"
     ]
    },
    {
     "name": "stdout",
     "output_type": "stream",
     "text": [
      "\r\tTrain Loss: 0.001012 \t Time: 1s\r\tTrain Loss: 0.001011 \t Time: 1s\r\tTrain Loss: 0.001010 \t Time: 1s"
     ]
    },
    {
     "name": "stdout",
     "output_type": "stream",
     "text": [
      "\r\tTrain Loss: 0.001009 \t Time: 1s\r\tTrain Loss: 0.001009 \t Time: 1s\r\tTrain Loss: 0.001009 \t Time: 2s"
     ]
    },
    {
     "name": "stdout",
     "output_type": "stream",
     "text": [
      "\r\tTrain Loss: 0.001007 \t Time: 2s\r\tTrain Loss: 0.001006 \t Time: 2s\r\tTrain Loss: 0.001006 \t Time: 2s"
     ]
    },
    {
     "name": "stdout",
     "output_type": "stream",
     "text": [
      "\r\tTrain Loss: 0.001004 \t Time: 2s\r\tTrain Loss: 0.001005 \t Time: 2s\r\tTrain Loss: 0.001003 \t Time: 2s"
     ]
    },
    {
     "name": "stdout",
     "output_type": "stream",
     "text": [
      "\r\tTrain Loss: 0.001003 \t Time: 2s\r\tTrain Loss: 0.001003 \t Time: 2s\r\tTrain Loss: 0.001002 \t Time: 2s"
     ]
    },
    {
     "name": "stdout",
     "output_type": "stream",
     "text": [
      "\r\tTrain Loss: 0.001001 \t Time: 2s\r\tTrain Loss: 0.001000 \t Time: 2s\r\tTrain Loss: 0.000999 \t Time: 2s"
     ]
    },
    {
     "name": "stdout",
     "output_type": "stream",
     "text": [
      "\r\tTrain Loss: 0.000999 \t Time: 2s\r\tTrain Loss: 0.000997 \t Time: 3s\r\tTrain Loss: 0.000996 \t Time: 3s"
     ]
    },
    {
     "name": "stdout",
     "output_type": "stream",
     "text": [
      "\r\tTrain Loss: 0.000995 \t Time: 3s\r\tTrain Loss: 0.000994 \t Time: 3s\r\tTrain Loss: 0.000994 \t Time: 3s"
     ]
    },
    {
     "name": "stdout",
     "output_type": "stream",
     "text": [
      "\r\tTrain Loss: 0.000994 \t Time: 3s\r\tTrain Loss: 0.000993 \t Time: 3s\r\tTrain Loss: 0.000993 \t Time: 3s"
     ]
    },
    {
     "name": "stdout",
     "output_type": "stream",
     "text": [
      "\r\tTrain Loss: 0.000992 \t Time: 3s\r\tTrain Loss: 0.000991 \t Time: 3s\r\tTrain Loss: 0.000990 \t Time: 3s"
     ]
    },
    {
     "name": "stdout",
     "output_type": "stream",
     "text": [
      "\r\tTrain Loss: 0.000990 \t Time: 3s\r\tTrain Loss: 0.000989 \t Time: 3s\r\tTrain Loss: 0.000989 \t Time: 3s"
     ]
    },
    {
     "name": "stdout",
     "output_type": "stream",
     "text": [
      "\r\tTrain Loss: 0.000988 \t Time: 4s\r\tTrain Loss: 0.000987 \t Time: 4s\r\tTrain Loss: 0.000986 \t Time: 4s"
     ]
    },
    {
     "name": "stdout",
     "output_type": "stream",
     "text": [
      "\r\tTrain Loss: 0.000986 \t Time: 4s\r\tTrain Loss: 0.000985 \t Time: 4s\r\tTrain Loss: 0.000985 \t Time: 4s"
     ]
    },
    {
     "name": "stdout",
     "output_type": "stream",
     "text": [
      "\r\tTrain Loss: 0.000985 \t Time: 4s\r\tTrain Loss: 0.000984 \t Time: 4s\r\tTrain Loss: 0.000984 \t Time: 4s"
     ]
    },
    {
     "name": "stdout",
     "output_type": "stream",
     "text": [
      "\r\tTrain Loss: 0.000984 \t Time: 4s\r\tTrain Loss: 0.000983 \t Time: 4s\r\tTrain Loss: 0.000982 \t Time: 4s"
     ]
    },
    {
     "name": "stdout",
     "output_type": "stream",
     "text": [
      "\r\tTrain Loss: 0.000981 \t Time: 4s\r\tTrain Loss: 0.000980 \t Time: 4s\r\tTrain Loss: 0.000980 \t Time: 5s"
     ]
    },
    {
     "name": "stdout",
     "output_type": "stream",
     "text": [
      "\r\tTrain Loss: 0.000979 \t Time: 5s\r\tTrain Loss: 0.000978 \t Time: 5s\r\tTrain Loss: 0.000978 \t Time: 5s"
     ]
    },
    {
     "name": "stdout",
     "output_type": "stream",
     "text": [
      "\r\tTrain Loss: 0.000977 \t Time: 5s\r\tTrain Loss: 0.000976 \t Time: 5s\r\tTrain Loss: 0.000975 \t Time: 5s"
     ]
    },
    {
     "name": "stdout",
     "output_type": "stream",
     "text": [
      "\r\tTrain Loss: 0.000974 \t Time: 5s\r\tTrain Loss: 0.000973 \t Time: 5s\r\tTrain Loss: 0.000972 \t Time: 5s"
     ]
    },
    {
     "name": "stdout",
     "output_type": "stream",
     "text": [
      "\r\tTrain Loss: 0.000972 \t Time: 5s\r\tTrain Loss: 0.000971 \t Time: 5s\r\tTrain Loss: 0.000970 \t Time: 5s"
     ]
    },
    {
     "name": "stdout",
     "output_type": "stream",
     "text": [
      "\r\tTrain Loss: 0.000970 \t Time: 5s\r\tTrain Loss: 0.000969 \t Time: 6s\r\tTrain Loss: 0.000968 \t Time: 6s"
     ]
    },
    {
     "name": "stdout",
     "output_type": "stream",
     "text": [
      "\r\tTrain Loss: 0.000967 \t Time: 6s\r\tTrain Loss: 0.000967 \t Time: 6s\r\tTrain Loss: 0.000966 \t Time: 6s"
     ]
    },
    {
     "name": "stdout",
     "output_type": "stream",
     "text": [
      "\r\tTrain Loss: 0.000965 \t Time: 6s\r\tTrain Loss: 0.000965 \t Time: 6s\r\tTrain Loss: 0.000964 \t Time: 6s"
     ]
    },
    {
     "name": "stdout",
     "output_type": "stream",
     "text": [
      "\r\tTrain Loss: 0.000964 \t Time: 6s\r\tTrain Loss: 0.000963 \t Time: 6s\r\tTrain Loss: 0.000962 \t Time: 6s"
     ]
    },
    {
     "name": "stdout",
     "output_type": "stream",
     "text": [
      "\r\tTrain Loss: 0.000961 \t Time: 6s\r\tTrain Loss: 0.000961 \t Time: 6s\r\tTrain Loss: 0.000960 \t Time: 6s"
     ]
    },
    {
     "name": "stdout",
     "output_type": "stream",
     "text": [
      "\r\tTrain Loss: 0.000959 \t Time: 7s\r\tTrain Loss: 0.000959 \t Time: 7s\r\tTrain Loss: 0.000958 \t Time: 7s"
     ]
    },
    {
     "name": "stdout",
     "output_type": "stream",
     "text": [
      "\r\tTrain Loss: 0.000957 \t Time: 7s\r\tTrain Loss: 0.000957 \t Time: 7s\r\tTrain Loss: 0.000957 \t Time: 7s"
     ]
    },
    {
     "name": "stdout",
     "output_type": "stream",
     "text": [
      "\r\tTrain Loss: 0.000956 \t Time: 7s\r\tTrain Loss: 0.000955 \t Time: 7s\r\tTrain Loss: 0.000954 \t Time: 7s"
     ]
    },
    {
     "name": "stdout",
     "output_type": "stream",
     "text": [
      "\r\tTrain Loss: 0.000954 \t Time: 7s\r\tTrain Loss: 0.000953 \t Time: 7s\r\tTrain Loss: 0.000952 \t Time: 7s"
     ]
    },
    {
     "name": "stdout",
     "output_type": "stream",
     "text": [
      "\r\tTrain Loss: 0.000952 \t Time: 7s\r\tTrain Loss: 0.000951 \t Time: 7s\r\tTrain Loss: 0.000951 \t Time: 8s"
     ]
    },
    {
     "name": "stdout",
     "output_type": "stream",
     "text": [
      "\r\tTrain Loss: 0.000950 \t Time: 8s\r\tTrain Loss: 0.000949 \t Time: 8s\r\tTrain Loss: 0.000949 \t Time: 8s"
     ]
    },
    {
     "name": "stdout",
     "output_type": "stream",
     "text": [
      "\r\tTrain Loss: 0.000948 \t Time: 8s\r\tTrain Loss: 0.000948 \t Time: 8s\r\tTrain Loss: 0.000947 \t Time: 8s"
     ]
    },
    {
     "name": "stdout",
     "output_type": "stream",
     "text": [
      "\r\tTrain Loss: 0.000946 \t Time: 8s\r\tTrain Loss: 0.000946 \t Time: 8s\r\tTrain Loss: 0.000945 \t Time: 8s"
     ]
    },
    {
     "name": "stdout",
     "output_type": "stream",
     "text": [
      "\r\tTrain Loss: 0.000944 \t Time: 8s\r\tTrain Loss: 0.000943 \t Time: 8s\r\tTrain Loss: 0.000943 \t Time: 8s"
     ]
    },
    {
     "name": "stdout",
     "output_type": "stream",
     "text": [
      "\r\tTrain Loss: 0.000942 \t Time: 8s\r\tTrain Loss: 0.000942 \t Time: 9s\r\tTrain Loss: 0.000941 \t Time: 9s"
     ]
    },
    {
     "name": "stdout",
     "output_type": "stream",
     "text": [
      "\r\tTrain Loss: 0.000941 \t Time: 9s\r\tTrain Loss: 0.000940 \t Time: 9s\r\tTrain Loss: 0.000939 \t Time: 9s"
     ]
    },
    {
     "name": "stdout",
     "output_type": "stream",
     "text": [
      "\r\tTrain Loss: 0.000939 \t Time: 9s\r\tTrain Loss: 0.000938 \t Time: 9s\r\tTrain Loss: 0.000937 \t Time: 9s"
     ]
    },
    {
     "name": "stdout",
     "output_type": "stream",
     "text": [
      "\r\tTrain Loss: 0.000937 \t Time: 9s\r\tTrain Loss: 0.000936 \t Time: 9s\r\tTrain Loss: 0.000935 \t Time: 9s"
     ]
    },
    {
     "name": "stdout",
     "output_type": "stream",
     "text": [
      "\r\tTrain Loss: 0.000935 \t Time: 9s\r\tTrain Loss: 0.000934 \t Time: 9s\r\tTrain Loss: 0.000933 \t Time: 9s"
     ]
    },
    {
     "name": "stdout",
     "output_type": "stream",
     "text": [
      "\r\tTrain Loss: 0.000933 \t Time: 10s\r\tTrain Loss: 0.000932 \t Time: 10s\r\tTrain Loss: 0.000932 \t Time: 10s"
     ]
    },
    {
     "name": "stdout",
     "output_type": "stream",
     "text": [
      "\r\tTrain Loss: 0.000931 \t Time: 10s\r\tTrain Loss: 0.000930 \t Time: 10s\r\tTrain Loss: 0.000930 \t Time: 10s"
     ]
    },
    {
     "name": "stdout",
     "output_type": "stream",
     "text": [
      "\r\tTrain Loss: 0.000929 \t Time: 10s\r\tTrain Loss: 0.000928 \t Time: 10s\r\tTrain Loss: 0.000928 \t Time: 10s"
     ]
    },
    {
     "name": "stdout",
     "output_type": "stream",
     "text": [
      "\r\tTrain Loss: 0.000927 \t Time: 10s\r\tTrain Loss: 0.000927 \t Time: 10s\r\tTrain Loss: 0.000926 \t Time: 10s"
     ]
    },
    {
     "name": "stdout",
     "output_type": "stream",
     "text": [
      "\r\tTrain Loss: 0.000925 \t Time: 10s\r\tTrain Loss: 0.000925 \t Time: 10s\r\tTrain Loss: 0.000924 \t Time: 11s"
     ]
    },
    {
     "name": "stdout",
     "output_type": "stream",
     "text": [
      "\r\tTrain Loss: 0.000924 \t Time: 11s\r\tTrain Loss: 0.000923 \t Time: 11s\r\tTrain Loss: 0.000922 \t Time: 11s"
     ]
    },
    {
     "name": "stdout",
     "output_type": "stream",
     "text": [
      "\r\tTrain Loss: 0.000921 \t Time: 11s\r\tTrain Loss: 0.000921 \t Time: 11s\r\tTrain Loss: 0.000920 \t Time: 11s"
     ]
    },
    {
     "name": "stdout",
     "output_type": "stream",
     "text": [
      "\r\tTrain Loss: 0.000920 \t Time: 11s\r\tTrain Loss: 0.000919 \t Time: 11s\r\tTrain Loss: 0.000919 \t Time: 11s"
     ]
    },
    {
     "name": "stdout",
     "output_type": "stream",
     "text": [
      "\r\tTrain Loss: 0.000918 \t Time: 11s\r\tTrain Loss: 0.000917 \t Time: 11s\r\tTrain Loss: 0.000917 \t Time: 11s"
     ]
    },
    {
     "name": "stdout",
     "output_type": "stream",
     "text": [
      "\r\tTrain Loss: 0.000916 \t Time: 11s\r\tTrain Loss: 0.000916 \t Time: 12s\r\tTrain Loss: 0.000915 \t Time: 12s"
     ]
    },
    {
     "name": "stdout",
     "output_type": "stream",
     "text": [
      "\r\tTrain Loss: 0.000914 \t Time: 12s\r\tTrain Loss: 0.000914 \t Time: 12s\r\tTrain Loss: 0.000913 \t Time: 12s"
     ]
    },
    {
     "name": "stdout",
     "output_type": "stream",
     "text": [
      "\r\tTrain Loss: 0.000913 \t Time: 12s\r\tTrain Loss: 0.000912 \t Time: 12s\r\tTrain Loss: 0.000911 \t Time: 12s"
     ]
    },
    {
     "name": "stdout",
     "output_type": "stream",
     "text": [
      "\r\tTrain Loss: 0.000911 \t Time: 12s\r\tTrain Loss: 0.000910 \t Time: 12s\r\tTrain Loss: 0.000910 \t Time: 12s"
     ]
    },
    {
     "name": "stdout",
     "output_type": "stream",
     "text": [
      "\r\tTrain Loss: 0.000909 \t Time: 12s\r\tTrain Loss: 0.000908 \t Time: 12s\r\tTrain Loss: 0.000908 \t Time: 12s"
     ]
    },
    {
     "name": "stdout",
     "output_type": "stream",
     "text": [
      "\r\tTrain Loss: 0.000907 \t Time: 13s\r\tTrain Loss: 0.000906 \t Time: 13s\r\tTrain Loss: 0.000906 \t Time: 13s"
     ]
    },
    {
     "name": "stdout",
     "output_type": "stream",
     "text": [
      "\r\tTrain Loss: 0.000905 \t Time: 13s\r\tTrain Loss: 0.000905 \t Time: 13s\r\tTrain Loss: 0.000904 \t Time: 13s"
     ]
    },
    {
     "name": "stdout",
     "output_type": "stream",
     "text": [
      "\r\tTrain Loss: 0.000904 \t Time: 13s\r\tTrain Loss: 0.000903 \t Time: 13s\r\tTrain Loss: 0.000903 \t Time: 13s"
     ]
    },
    {
     "name": "stdout",
     "output_type": "stream",
     "text": [
      "\r\tTrain Loss: 0.000902 \t Time: 13s\r\tTrain Loss: 0.000901 \t Time: 13s\r\tTrain Loss: 0.000901 \t Time: 13s"
     ]
    },
    {
     "name": "stdout",
     "output_type": "stream",
     "text": [
      "\r\tTrain Loss: 0.000900 \t Time: 13s\r\tTrain Loss: 0.000900 \t Time: 13s\r\tTrain Loss: 0.000899 \t Time: 14s"
     ]
    },
    {
     "name": "stdout",
     "output_type": "stream",
     "text": [
      "\r\tTrain Loss: 0.000899 \t Time: 14s\r\tTrain Loss: 0.000898 \t Time: 14s\r\tTrain Loss: 0.000897 \t Time: 14s"
     ]
    },
    {
     "name": "stdout",
     "output_type": "stream",
     "text": [
      "\r\tTrain Loss: 0.000897 \t Time: 14s\r\tTrain Loss: 0.000896 \t Time: 14s\r\tTrain Loss: 0.000896 \t Time: 14s"
     ]
    },
    {
     "name": "stdout",
     "output_type": "stream",
     "text": [
      "\r\tTrain Loss: 0.000895 \t Time: 14s\r\tTrain Loss: 0.000895 \t Time: 14s\r\tTrain Loss: 0.000894 \t Time: 14s"
     ]
    },
    {
     "name": "stdout",
     "output_type": "stream",
     "text": [
      "\r\tTrain Loss: 0.000893 \t Time: 14s\r\tTrain Loss: 0.000893 \t Time: 14s\r\tTrain Loss: 0.000892 \t Time: 14s"
     ]
    },
    {
     "name": "stdout",
     "output_type": "stream",
     "text": [
      "\r\tTrain Loss: 0.000892 \t Time: 15s\r\tTrain Loss: 0.000891 \t Time: 15s\r\tTrain Loss: 0.000891 \t Time: 15s"
     ]
    },
    {
     "name": "stdout",
     "output_type": "stream",
     "text": [
      "\r\tTrain Loss: 0.000890 \t Time: 15s\r\tTrain Loss: 0.000890 \t Time: 15s\r\tTrain Loss: 0.000889 \t Time: 15s"
     ]
    },
    {
     "name": "stdout",
     "output_type": "stream",
     "text": [
      "\r\tTrain Loss: 0.000889 \t Time: 15s\r\tTrain Loss: 0.000888 \t Time: 15s\r\tTrain Loss: 0.000888 \t Time: 15s"
     ]
    },
    {
     "name": "stdout",
     "output_type": "stream",
     "text": [
      "\r\tTrain Loss: 0.000887 \t Time: 15s\r\tTrain Loss: 0.000887 \t Time: 15s\r\tTrain Loss: 0.000886 \t Time: 15s"
     ]
    },
    {
     "name": "stdout",
     "output_type": "stream",
     "text": [
      "\r\tTrain Loss: 0.000886 \t Time: 15s\r\tTrain Loss: 0.000885 \t Time: 15s\r\tTrain Loss: 0.000884 \t Time: 16s"
     ]
    },
    {
     "name": "stdout",
     "output_type": "stream",
     "text": [
      "\r\tTrain Loss: 0.000884 \t Time: 16s\r\tTrain Loss: 0.000883 \t Time: 16s\r\tTrain Loss: 0.000883 \t Time: 16s"
     ]
    },
    {
     "name": "stdout",
     "output_type": "stream",
     "text": [
      "\r\tTrain Loss: 0.000883 \t Time: 16s\r\tTrain Loss: 0.000882 \t Time: 16s\r\tTrain Loss: 0.000882 \t Time: 16s"
     ]
    },
    {
     "name": "stdout",
     "output_type": "stream",
     "text": [
      "\r\tTrain Loss: 0.000881 \t Time: 16s\r\tTrain Loss: 0.000880 \t Time: 16s\r\tTrain Loss: 0.000880 \t Time: 16s"
     ]
    },
    {
     "name": "stdout",
     "output_type": "stream",
     "text": [
      "\r\tTrain Loss: 0.000879 \t Time: 16s\r\tTrain Loss: 0.000879 \t Time: 16s\r\tTrain Loss: 0.000878 \t Time: 16s"
     ]
    },
    {
     "name": "stdout",
     "output_type": "stream",
     "text": [
      "\r\tTrain Loss: 0.000878 \t Time: 16s\r\tTrain Loss: 0.000877 \t Time: 17s\r\tTrain Loss: 0.000877 \t Time: 17s"
     ]
    },
    {
     "name": "stdout",
     "output_type": "stream",
     "text": [
      "\r\tTrain Loss: 0.000876 \t Time: 17s\r\tTrain Loss: 0.000875 \t Time: 17s\r\tTrain Loss: 0.000875 \t Time: 17s"
     ]
    },
    {
     "name": "stdout",
     "output_type": "stream",
     "text": [
      "\r\tTrain Loss: 0.000875 \t Time: 17s\r\tTrain Loss: 0.000874 \t Time: 17s\r\tTrain Loss: 0.000874 \t Time: 17s"
     ]
    },
    {
     "name": "stdout",
     "output_type": "stream",
     "text": [
      "\r\tTrain Loss: 0.000873 \t Time: 17s\r\tTrain Loss: 0.000872 \t Time: 17s\r\tTrain Loss: 0.000872 \t Time: 17s"
     ]
    },
    {
     "name": "stdout",
     "output_type": "stream",
     "text": [
      "\r\tTrain Loss: 0.000871 \t Time: 17s\r\tTrain Loss: 0.000871 \t Time: 17s\r\tTrain Loss: 0.000870 \t Time: 17s"
     ]
    },
    {
     "name": "stdout",
     "output_type": "stream",
     "text": [
      "\r\tTrain Loss: 0.000870 \t Time: 18s\r\tTrain Loss: 0.000869 \t Time: 18s\r\tTrain Loss: 0.000869 \t Time: 18s"
     ]
    },
    {
     "name": "stdout",
     "output_type": "stream",
     "text": [
      "\r\tTrain Loss: 0.000868 \t Time: 18s\r\tTrain Loss: 0.000868 \t Time: 18s\r\tTrain Loss: 0.000867 \t Time: 18s"
     ]
    },
    {
     "name": "stdout",
     "output_type": "stream",
     "text": [
      "\r\tTrain Loss: 0.000867 \t Time: 18s\r\tTrain Loss: 0.000866 \t Time: 18s\r\tTrain Loss: 0.000866 \t Time: 18s"
     ]
    },
    {
     "name": "stdout",
     "output_type": "stream",
     "text": [
      "\r\tTrain Loss: 0.000865 \t Time: 18s\r\tTrain Loss: 0.000865 \t Time: 18s\r\tTrain Loss: 0.000864 \t Time: 18s"
     ]
    },
    {
     "name": "stdout",
     "output_type": "stream",
     "text": [
      "\r\tTrain Loss: 0.000864 \t Time: 18s\r\tTrain Loss: 0.000863 \t Time: 18s\r\tTrain Loss: 0.000863 \t Time: 19s"
     ]
    },
    {
     "name": "stdout",
     "output_type": "stream",
     "text": [
      "\r\tTrain Loss: 0.000862 \t Time: 19s\r\tTrain Loss: 0.000862 \t Time: 19s\r\tTrain Loss: 0.000861 \t Time: 19s"
     ]
    },
    {
     "name": "stdout",
     "output_type": "stream",
     "text": [
      "\r\tTrain Loss: 0.000861 \t Time: 19s\r\tTrain Loss: 0.000860 \t Time: 19s\r\tTrain Loss: 0.000860 \t Time: 19s"
     ]
    },
    {
     "name": "stdout",
     "output_type": "stream",
     "text": [
      "\r\tTrain Loss: 0.000859 \t Time: 19s\r\tTrain Loss: 0.000859 \t Time: 19s\r\tTrain Loss: 0.000858 \t Time: 19s"
     ]
    },
    {
     "name": "stdout",
     "output_type": "stream",
     "text": [
      "\r\tTrain Loss: 0.000858 \t Time: 19s\r\tTrain Loss: 0.000857 \t Time: 19s\r\tTrain Loss: 0.000857 \t Time: 19s"
     ]
    },
    {
     "name": "stdout",
     "output_type": "stream",
     "text": [
      "\r\tTrain Loss: 0.000856 \t Time: 19s\r\tTrain Loss: 0.000856 \t Time: 20s\r\tTrain Loss: 0.000855 \t Time: 20s"
     ]
    },
    {
     "name": "stdout",
     "output_type": "stream",
     "text": [
      "\r\tTrain Loss: 0.000855 \t Time: 20s\r\tTrain Loss: 0.000854 \t Time: 20s\r\tTrain Loss: 0.000854 \t Time: 20s"
     ]
    },
    {
     "name": "stdout",
     "output_type": "stream",
     "text": [
      "\r\tTrain Loss: 0.000853 \t Time: 20s\r\tTrain Loss: 0.000853 \t Time: 20s\r\tTrain Loss: 0.000852 \t Time: 20s"
     ]
    },
    {
     "name": "stdout",
     "output_type": "stream",
     "text": [
      "\r\tTrain Loss: 0.000852 \t Time: 20s\r\tTrain Loss: 0.000851 \t Time: 20s\r\tTrain Loss: 0.000851 \t Time: 20s"
     ]
    },
    {
     "name": "stdout",
     "output_type": "stream",
     "text": [
      "\r\tTrain Loss: 0.000850 \t Time: 20s\r\tTrain Loss: 0.000850 \t Time: 20s\r\tTrain Loss: 0.000849 \t Time: 20s"
     ]
    },
    {
     "name": "stdout",
     "output_type": "stream",
     "text": [
      "\r\tTrain Loss: 0.000849 \t Time: 21s\r\tTrain Loss: 0.000848 \t Time: 21s\r\tTrain Loss: 0.000848 \t Time: 21s"
     ]
    },
    {
     "name": "stdout",
     "output_type": "stream",
     "text": [
      "\r\tTrain Loss: 0.000847 \t Time: 21s\r\tTrain Loss: 0.000847 \t Time: 21s\r\tTrain Loss: 0.000847 \t Time: 21s"
     ]
    },
    {
     "name": "stdout",
     "output_type": "stream",
     "text": [
      "\r\tTrain Loss: 0.000846 \t Time: 21s\r\tTrain Loss: 0.000846 \t Time: 21s\r\tTrain Loss: 0.000845 \t Time: 21s"
     ]
    },
    {
     "name": "stdout",
     "output_type": "stream",
     "text": [
      "\r\tTrain Loss: 0.000845 \t Time: 21s\r\tTrain Loss: 0.000844 \t Time: 21s\r\tTrain Loss: 0.000844 \t Time: 21s"
     ]
    },
    {
     "name": "stdout",
     "output_type": "stream",
     "text": [
      "\r\tTrain Loss: 0.000843 \t Time: 21s\r\tTrain Loss: 0.000842 \t Time: 21s\r\tTrain Loss: 0.000842 \t Time: 22s"
     ]
    },
    {
     "name": "stdout",
     "output_type": "stream",
     "text": [
      "\r\tTrain Loss: 0.000842 \t Time: 22s\r\tTrain Loss: 0.000841 \t Time: 22s\r\tTrain Loss: 0.000841 \t Time: 22s"
     ]
    },
    {
     "name": "stdout",
     "output_type": "stream",
     "text": [
      "\r\tTrain Loss: 0.000840 \t Time: 22s\r\tTrain Loss: 0.000840 \t Time: 22s\r\tTrain Loss: 0.000839 \t Time: 22s"
     ]
    },
    {
     "name": "stdout",
     "output_type": "stream",
     "text": [
      "\r\tTrain Loss: 0.000839 \t Time: 22s\r\tTrain Loss: 0.000838 \t Time: 22s\r\tTrain Loss: 0.000838 \t Time: 22s"
     ]
    },
    {
     "name": "stdout",
     "output_type": "stream",
     "text": [
      "\r\tTrain Loss: 0.000837 \t Time: 22s\r\tTrain Loss: 0.000837 \t Time: 22s\r\tTrain Loss: 0.000836 \t Time: 22s"
     ]
    },
    {
     "name": "stdout",
     "output_type": "stream",
     "text": [
      "\r\tTrain Loss: 0.000836 \t Time: 23s\r\tTrain Loss: 0.000835 \t Time: 23s\r\tTrain Loss: 0.000835 \t Time: 23s"
     ]
    },
    {
     "name": "stdout",
     "output_type": "stream",
     "text": [
      "\r\tTrain Loss: 0.000834 \t Time: 23s\r\tTrain Loss: 0.000834 \t Time: 23s\r\tTrain Loss: 0.000833 \t Time: 23s"
     ]
    },
    {
     "name": "stdout",
     "output_type": "stream",
     "text": [
      "\r\tTrain Loss: 0.000833 \t Time: 23s\r\tTrain Loss: 0.000832 \t Time: 23s\r\tTrain Loss: 0.000832 \t Time: 23s"
     ]
    },
    {
     "name": "stdout",
     "output_type": "stream",
     "text": [
      "\r\tTrain Loss: 0.000832 \t Time: 23s\r\tTrain Loss: 0.000831 \t Time: 23s\r\tTrain Loss: 0.000831 \t Time: 23s"
     ]
    },
    {
     "name": "stdout",
     "output_type": "stream",
     "text": [
      "\r\tTrain Loss: 0.000830 \t Time: 23s\r\tTrain Loss: 0.000830 \t Time: 23s\r\tTrain Loss: 0.000829 \t Time: 24s"
     ]
    },
    {
     "name": "stdout",
     "output_type": "stream",
     "text": [
      "\r\tTrain Loss: 0.000829 \t Time: 24s\r\tTrain Loss: 0.000828 \t Time: 24s\r\tTrain Loss: 0.000828 \t Time: 24s"
     ]
    },
    {
     "name": "stdout",
     "output_type": "stream",
     "text": [
      "\r\tTrain Loss: 0.000828 \t Time: 24s\r\tTrain Loss: 0.000827 \t Time: 24s\r\tTrain Loss: 0.000827 \t Time: 24s"
     ]
    },
    {
     "name": "stdout",
     "output_type": "stream",
     "text": [
      "\r\tTrain Loss: 0.000826 \t Time: 24s\r\tTrain Loss: 0.000826 \t Time: 24s\r\tTrain Loss: 0.000825 \t Time: 24s"
     ]
    },
    {
     "name": "stdout",
     "output_type": "stream",
     "text": [
      "\r\tTrain Loss: 0.000825 \t Time: 24s\r\tTrain Loss: 0.000824 \t Time: 24s\r\tTrain Loss: 0.000824 \t Time: 24s"
     ]
    },
    {
     "name": "stdout",
     "output_type": "stream",
     "text": [
      "\r\tTrain Loss: 0.000823 \t Time: 24s\r\tTrain Loss: 0.000823 \t Time: 25s\r\tTrain Loss: 0.000822 \t Time: 25s"
     ]
    },
    {
     "name": "stdout",
     "output_type": "stream",
     "text": [
      "\r\tTrain Loss: 0.000822 \t Time: 25s\r\tTrain Loss: 0.000822 \t Time: 25s\r\tTrain Loss: 0.000821 \t Time: 25s\n"
     ]
    },
    {
     "name": "stdout",
     "output_type": "stream",
     "text": [
      "\tTest Loss: 0.000661 \t Time: 0s\n\t Input: faafd \t Result: faafda \t From train: 1\n\t Input: ggfgd \t Result: ggfgda \t From train: 1\n\t Input: bbbef \t Result: bbbefa \t From train: 1\n\t Input: bcabe \t Result: bcabea \t From train: 1\n\t Input: deegc \t Result: deegca \t From train: 1\nEpoch 5\n\r\tTrain Loss: 0.000656 \t Time: 0s"
     ]
    },
    {
     "name": "stdout",
     "output_type": "stream",
     "text": [
      "\r\tTrain Loss: 0.000657 \t Time: 0s\r\tTrain Loss: 0.000658 \t Time: 0s\r\tTrain Loss: 0.000659 \t Time: 0s"
     ]
    },
    {
     "name": "stdout",
     "output_type": "stream",
     "text": [
      "\r\tTrain Loss: 0.000663 \t Time: 0s\r\tTrain Loss: 0.000662 \t Time: 0s\r\tTrain Loss: 0.000663 \t Time: 0s"
     ]
    },
    {
     "name": "stdout",
     "output_type": "stream",
     "text": [
      "\r\tTrain Loss: 0.000662 \t Time: 0s\r\tTrain Loss: 0.000660 \t Time: 0s\r\tTrain Loss: 0.000657 \t Time: 0s"
     ]
    },
    {
     "name": "stdout",
     "output_type": "stream",
     "text": [
      "\r\tTrain Loss: 0.000657 \t Time: 0s\r\tTrain Loss: 0.000655 \t Time: 0s\r\tTrain Loss: 0.000656 \t Time: 0s"
     ]
    },
    {
     "name": "stdout",
     "output_type": "stream",
     "text": [
      "\r\tTrain Loss: 0.000656 \t Time: 1s\r\tTrain Loss: 0.000655 \t Time: 1s\r\tTrain Loss: 0.000655 \t Time: 1s"
     ]
    },
    {
     "name": "stdout",
     "output_type": "stream",
     "text": [
      "\r\tTrain Loss: 0.000654 \t Time: 1s\r\tTrain Loss: 0.000653 \t Time: 1s\r\tTrain Loss: 0.000653 \t Time: 1s"
     ]
    },
    {
     "name": "stdout",
     "output_type": "stream",
     "text": [
      "\r\tTrain Loss: 0.000653 \t Time: 1s\r\tTrain Loss: 0.000653 \t Time: 1s\r\tTrain Loss: 0.000653 \t Time: 1s"
     ]
    },
    {
     "name": "stdout",
     "output_type": "stream",
     "text": [
      "\r\tTrain Loss: 0.000653 \t Time: 1s\r\tTrain Loss: 0.000653 \t Time: 1s\r\tTrain Loss: 0.000653 \t Time: 1s"
     ]
    },
    {
     "name": "stdout",
     "output_type": "stream",
     "text": [
      "\r\tTrain Loss: 0.000653 \t Time: 1s\r\tTrain Loss: 0.000652 \t Time: 1s\r\tTrain Loss: 0.000652 \t Time: 2s"
     ]
    },
    {
     "name": "stdout",
     "output_type": "stream",
     "text": [
      "\r\tTrain Loss: 0.000653 \t Time: 2s\r\tTrain Loss: 0.000652 \t Time: 2s\r\tTrain Loss: 0.000652 \t Time: 2s"
     ]
    },
    {
     "name": "stdout",
     "output_type": "stream",
     "text": [
      "\r\tTrain Loss: 0.000652 \t Time: 2s\r\tTrain Loss: 0.000652 \t Time: 2s\r\tTrain Loss: 0.000652 \t Time: 2s"
     ]
    },
    {
     "name": "stdout",
     "output_type": "stream",
     "text": [
      "\r\tTrain Loss: 0.000651 \t Time: 2s\r\tTrain Loss: 0.000651 \t Time: 2s\r\tTrain Loss: 0.000651 \t Time: 2s"
     ]
    },
    {
     "name": "stdout",
     "output_type": "stream",
     "text": [
      "\r\tTrain Loss: 0.000651 \t Time: 2s\r\tTrain Loss: 0.000651 \t Time: 2s\r\tTrain Loss: 0.000651 \t Time: 2s"
     ]
    },
    {
     "name": "stdout",
     "output_type": "stream",
     "text": [
      "\r\tTrain Loss: 0.000650 \t Time: 2s\r\tTrain Loss: 0.000650 \t Time: 3s\r\tTrain Loss: 0.000650 \t Time: 3s"
     ]
    },
    {
     "name": "stdout",
     "output_type": "stream",
     "text": [
      "\r\tTrain Loss: 0.000649 \t Time: 3s\r\tTrain Loss: 0.000649 \t Time: 3s\r\tTrain Loss: 0.000648 \t Time: 3s"
     ]
    },
    {
     "name": "stdout",
     "output_type": "stream",
     "text": [
      "\r\tTrain Loss: 0.000648 \t Time: 3s\r\tTrain Loss: 0.000648 \t Time: 3s\r\tTrain Loss: 0.000647 \t Time: 3s"
     ]
    },
    {
     "name": "stdout",
     "output_type": "stream",
     "text": [
      "\r\tTrain Loss: 0.000647 \t Time: 3s\r\tTrain Loss: 0.000647 \t Time: 3s\r\tTrain Loss: 0.000646 \t Time: 3s"
     ]
    },
    {
     "name": "stdout",
     "output_type": "stream",
     "text": [
      "\r\tTrain Loss: 0.000646 \t Time: 3s\r\tTrain Loss: 0.000645 \t Time: 3s\r\tTrain Loss: 0.000645 \t Time: 3s"
     ]
    },
    {
     "name": "stdout",
     "output_type": "stream",
     "text": [
      "\r\tTrain Loss: 0.000645 \t Time: 4s\r\tTrain Loss: 0.000644 \t Time: 4s\r\tTrain Loss: 0.000644 \t Time: 4s"
     ]
    },
    {
     "name": "stdout",
     "output_type": "stream",
     "text": [
      "\r\tTrain Loss: 0.000644 \t Time: 4s\r\tTrain Loss: 0.000644 \t Time: 4s\r\tTrain Loss: 0.000643 \t Time: 4s"
     ]
    },
    {
     "name": "stdout",
     "output_type": "stream",
     "text": [
      "\r\tTrain Loss: 0.000642 \t Time: 4s\r\tTrain Loss: 0.000642 \t Time: 4s\r\tTrain Loss: 0.000642 \t Time: 4s"
     ]
    },
    {
     "name": "stdout",
     "output_type": "stream",
     "text": [
      "\r\tTrain Loss: 0.000641 \t Time: 4s\r\tTrain Loss: 0.000641 \t Time: 4s\r\tTrain Loss: 0.000641 \t Time: 4s"
     ]
    },
    {
     "name": "stdout",
     "output_type": "stream",
     "text": [
      "\r\tTrain Loss: 0.000640 \t Time: 4s\r\tTrain Loss: 0.000640 \t Time: 5s\r\tTrain Loss: 0.000640 \t Time: 5s"
     ]
    },
    {
     "name": "stdout",
     "output_type": "stream",
     "text": [
      "\r\tTrain Loss: 0.000639 \t Time: 5s\r\tTrain Loss: 0.000639 \t Time: 5s\r\tTrain Loss: 0.000639 \t Time: 5s"
     ]
    },
    {
     "name": "stdout",
     "output_type": "stream",
     "text": [
      "\r\tTrain Loss: 0.000639 \t Time: 5s\r\tTrain Loss: 0.000639 \t Time: 5s\r\tTrain Loss: 0.000638 \t Time: 5s"
     ]
    },
    {
     "name": "stdout",
     "output_type": "stream",
     "text": [
      "\r\tTrain Loss: 0.000638 \t Time: 5s\r\tTrain Loss: 0.000638 \t Time: 5s\r\tTrain Loss: 0.000637 \t Time: 5s"
     ]
    },
    {
     "name": "stdout",
     "output_type": "stream",
     "text": [
      "\r\tTrain Loss: 0.000637 \t Time: 5s\r\tTrain Loss: 0.000637 \t Time: 5s\r\tTrain Loss: 0.000637 \t Time: 5s"
     ]
    },
    {
     "name": "stdout",
     "output_type": "stream",
     "text": [
      "\r\tTrain Loss: 0.000636 \t Time: 6s\r\tTrain Loss: 0.000636 \t Time: 6s\r\tTrain Loss: 0.000636 \t Time: 6s"
     ]
    },
    {
     "name": "stdout",
     "output_type": "stream",
     "text": [
      "\r\tTrain Loss: 0.000636 \t Time: 6s\r\tTrain Loss: 0.000636 \t Time: 6s\r\tTrain Loss: 0.000635 \t Time: 6s"
     ]
    },
    {
     "name": "stdout",
     "output_type": "stream",
     "text": [
      "\r\tTrain Loss: 0.000635 \t Time: 6s\r\tTrain Loss: 0.000634 \t Time: 6s\r\tTrain Loss: 0.000634 \t Time: 6s"
     ]
    },
    {
     "name": "stdout",
     "output_type": "stream",
     "text": [
      "\r\tTrain Loss: 0.000634 \t Time: 6s\r\tTrain Loss: 0.000633 \t Time: 6s\r\tTrain Loss: 0.000633 \t Time: 6s"
     ]
    },
    {
     "name": "stdout",
     "output_type": "stream",
     "text": [
      "\r\tTrain Loss: 0.000633 \t Time: 6s\r\tTrain Loss: 0.000632 \t Time: 6s\r\tTrain Loss: 0.000632 \t Time: 7s"
     ]
    },
    {
     "name": "stdout",
     "output_type": "stream",
     "text": [
      "\r\tTrain Loss: 0.000631 \t Time: 7s\r\tTrain Loss: 0.000631 \t Time: 7s\r\tTrain Loss: 0.000631 \t Time: 7s"
     ]
    },
    {
     "name": "stdout",
     "output_type": "stream",
     "text": [
      "\r\tTrain Loss: 0.000630 \t Time: 7s\r\tTrain Loss: 0.000630 \t Time: 7s\r\tTrain Loss: 0.000630 \t Time: 7s"
     ]
    },
    {
     "name": "stdout",
     "output_type": "stream",
     "text": [
      "\r\tTrain Loss: 0.000630 \t Time: 7s\r\tTrain Loss: 0.000629 \t Time: 7s\r\tTrain Loss: 0.000629 \t Time: 7s"
     ]
    },
    {
     "name": "stdout",
     "output_type": "stream",
     "text": [
      "\r\tTrain Loss: 0.000629 \t Time: 7s\r\tTrain Loss: 0.000628 \t Time: 7s\r\tTrain Loss: 0.000628 \t Time: 7s"
     ]
    },
    {
     "name": "stdout",
     "output_type": "stream",
     "text": [
      "\r\tTrain Loss: 0.000628 \t Time: 7s\r\tTrain Loss: 0.000627 \t Time: 8s\r\tTrain Loss: 0.000627 \t Time: 8s"
     ]
    },
    {
     "name": "stdout",
     "output_type": "stream",
     "text": [
      "\r\tTrain Loss: 0.000627 \t Time: 8s\r\tTrain Loss: 0.000627 \t Time: 8s\r\tTrain Loss: 0.000626 \t Time: 8s"
     ]
    },
    {
     "name": "stdout",
     "output_type": "stream",
     "text": [
      "\r\tTrain Loss: 0.000626 \t Time: 8s\r\tTrain Loss: 0.000625 \t Time: 8s\r\tTrain Loss: 0.000625 \t Time: 8s"
     ]
    },
    {
     "name": "stdout",
     "output_type": "stream",
     "text": [
      "\r\tTrain Loss: 0.000625 \t Time: 8s\r\tTrain Loss: 0.000624 \t Time: 8s\r\tTrain Loss: 0.000624 \t Time: 8s"
     ]
    },
    {
     "name": "stdout",
     "output_type": "stream",
     "text": [
      "\r\tTrain Loss: 0.000624 \t Time: 8s\r\tTrain Loss: 0.000623 \t Time: 8s\r\tTrain Loss: 0.000623 \t Time: 8s"
     ]
    },
    {
     "name": "stdout",
     "output_type": "stream",
     "text": [
      "\r\tTrain Loss: 0.000623 \t Time: 9s\r\tTrain Loss: 0.000622 \t Time: 9s\r\tTrain Loss: 0.000622 \t Time: 9s"
     ]
    },
    {
     "name": "stdout",
     "output_type": "stream",
     "text": [
      "\r\tTrain Loss: 0.000622 \t Time: 9s\r\tTrain Loss: 0.000621 \t Time: 9s\r\tTrain Loss: 0.000621 \t Time: 9s"
     ]
    },
    {
     "name": "stdout",
     "output_type": "stream",
     "text": [
      "\r\tTrain Loss: 0.000621 \t Time: 9s\r\tTrain Loss: 0.000620 \t Time: 9s\r\tTrain Loss: 0.000620 \t Time: 9s"
     ]
    },
    {
     "name": "stdout",
     "output_type": "stream",
     "text": [
      "\r\tTrain Loss: 0.000620 \t Time: 9s\r\tTrain Loss: 0.000620 \t Time: 9s\r\tTrain Loss: 0.000619 \t Time: 9s"
     ]
    },
    {
     "name": "stdout",
     "output_type": "stream",
     "text": [
      "\r\tTrain Loss: 0.000619 \t Time: 9s\r\tTrain Loss: 0.000619 \t Time: 10s\r\tTrain Loss: 0.000618 \t Time: 10s"
     ]
    },
    {
     "name": "stdout",
     "output_type": "stream",
     "text": [
      "\r\tTrain Loss: 0.000618 \t Time: 10s\r\tTrain Loss: 0.000618 \t Time: 10s\r\tTrain Loss: 0.000618 \t Time: 10s"
     ]
    },
    {
     "name": "stdout",
     "output_type": "stream",
     "text": [
      "\r\tTrain Loss: 0.000617 \t Time: 10s\r\tTrain Loss: 0.000617 \t Time: 10s\r\tTrain Loss: 0.000617 \t Time: 10s"
     ]
    },
    {
     "name": "stdout",
     "output_type": "stream",
     "text": [
      "\r\tTrain Loss: 0.000616 \t Time: 10s\r\tTrain Loss: 0.000616 \t Time: 10s\r\tTrain Loss: 0.000616 \t Time: 10s"
     ]
    },
    {
     "name": "stdout",
     "output_type": "stream",
     "text": [
      "\r\tTrain Loss: 0.000616 \t Time: 10s\r\tTrain Loss: 0.000615 \t Time: 10s\r\tTrain Loss: 0.000615 \t Time: 10s"
     ]
    },
    {
     "name": "stdout",
     "output_type": "stream",
     "text": [
      "\r\tTrain Loss: 0.000615 \t Time: 11s\r\tTrain Loss: 0.000614 \t Time: 11s\r\tTrain Loss: 0.000614 \t Time: 11s"
     ]
    },
    {
     "name": "stdout",
     "output_type": "stream",
     "text": [
      "\r\tTrain Loss: 0.000614 \t Time: 11s\r\tTrain Loss: 0.000614 \t Time: 11s\r\tTrain Loss: 0.000613 \t Time: 11s"
     ]
    },
    {
     "name": "stdout",
     "output_type": "stream",
     "text": [
      "\r\tTrain Loss: 0.000613 \t Time: 11s\r\tTrain Loss: 0.000613 \t Time: 11s\r\tTrain Loss: 0.000612 \t Time: 11s"
     ]
    },
    {
     "name": "stdout",
     "output_type": "stream",
     "text": [
      "\r\tTrain Loss: 0.000612 \t Time: 11s\r\tTrain Loss: 0.000612 \t Time: 11s\r\tTrain Loss: 0.000612 \t Time: 11s"
     ]
    },
    {
     "name": "stdout",
     "output_type": "stream",
     "text": [
      "\r\tTrain Loss: 0.000611 \t Time: 11s\r\tTrain Loss: 0.000611 \t Time: 11s\r\tTrain Loss: 0.000611 \t Time: 12s"
     ]
    },
    {
     "name": "stdout",
     "output_type": "stream",
     "text": [
      "\r\tTrain Loss: 0.000610 \t Time: 12s\r\tTrain Loss: 0.000610 \t Time: 12s\r\tTrain Loss: 0.000610 \t Time: 12s"
     ]
    },
    {
     "name": "stdout",
     "output_type": "stream",
     "text": [
      "\r\tTrain Loss: 0.000610 \t Time: 12s\r\tTrain Loss: 0.000610 \t Time: 12s\r\tTrain Loss: 0.000609 \t Time: 12s"
     ]
    },
    {
     "name": "stdout",
     "output_type": "stream",
     "text": [
      "\r\tTrain Loss: 0.000609 \t Time: 12s\r\tTrain Loss: 0.000609 \t Time: 12s\r\tTrain Loss: 0.000608 \t Time: 12s"
     ]
    },
    {
     "name": "stdout",
     "output_type": "stream",
     "text": [
      "\r\tTrain Loss: 0.000608 \t Time: 12s\r\tTrain Loss: 0.000608 \t Time: 12s\r\tTrain Loss: 0.000607 \t Time: 12s"
     ]
    },
    {
     "name": "stdout",
     "output_type": "stream",
     "text": [
      "\r\tTrain Loss: 0.000607 \t Time: 12s\r\tTrain Loss: 0.000607 \t Time: 13s\r\tTrain Loss: 0.000607 \t Time: 13s"
     ]
    },
    {
     "name": "stdout",
     "output_type": "stream",
     "text": [
      "\r\tTrain Loss: 0.000606 \t Time: 13s\r\tTrain Loss: 0.000606 \t Time: 13s\r\tTrain Loss: 0.000606 \t Time: 13s"
     ]
    },
    {
     "name": "stdout",
     "output_type": "stream",
     "text": [
      "\r\tTrain Loss: 0.000605 \t Time: 13s\r\tTrain Loss: 0.000605 \t Time: 13s\r\tTrain Loss: 0.000605 \t Time: 13s"
     ]
    },
    {
     "name": "stdout",
     "output_type": "stream",
     "text": [
      "\r\tTrain Loss: 0.000604 \t Time: 13s\r\tTrain Loss: 0.000604 \t Time: 13s\r\tTrain Loss: 0.000604 \t Time: 13s"
     ]
    },
    {
     "name": "stdout",
     "output_type": "stream",
     "text": [
      "\r\tTrain Loss: 0.000604 \t Time: 13s\r\tTrain Loss: 0.000604 \t Time: 13s\r\tTrain Loss: 0.000603 \t Time: 14s"
     ]
    },
    {
     "name": "stdout",
     "output_type": "stream",
     "text": [
      "\r\tTrain Loss: 0.000603 \t Time: 14s\r\tTrain Loss: 0.000603 \t Time: 14s\r\tTrain Loss: 0.000603 \t Time: 14s"
     ]
    },
    {
     "name": "stdout",
     "output_type": "stream",
     "text": [
      "\r\tTrain Loss: 0.000602 \t Time: 14s\r\tTrain Loss: 0.000602 \t Time: 14s\r\tTrain Loss: 0.000602 \t Time: 14s"
     ]
    },
    {
     "name": "stdout",
     "output_type": "stream",
     "text": [
      "\r\tTrain Loss: 0.000602 \t Time: 14s\r\tTrain Loss: 0.000601 \t Time: 14s\r\tTrain Loss: 0.000601 \t Time: 14s"
     ]
    },
    {
     "name": "stdout",
     "output_type": "stream",
     "text": [
      "\r\tTrain Loss: 0.000601 \t Time: 14s\r\tTrain Loss: 0.000600 \t Time: 14s\r\tTrain Loss: 0.000600 \t Time: 14s"
     ]
    },
    {
     "name": "stdout",
     "output_type": "stream",
     "text": [
      "\r\tTrain Loss: 0.000600 \t Time: 14s\r\tTrain Loss: 0.000600 \t Time: 15s\r\tTrain Loss: 0.000600 \t Time: 15s"
     ]
    },
    {
     "name": "stdout",
     "output_type": "stream",
     "text": [
      "\r\tTrain Loss: 0.000599 \t Time: 15s\r\tTrain Loss: 0.000599 \t Time: 15s\r\tTrain Loss: 0.000599 \t Time: 15s"
     ]
    },
    {
     "name": "stdout",
     "output_type": "stream",
     "text": [
      "\r\tTrain Loss: 0.000598 \t Time: 15s\r\tTrain Loss: 0.000598 \t Time: 15s\r\tTrain Loss: 0.000598 \t Time: 15s"
     ]
    },
    {
     "name": "stdout",
     "output_type": "stream",
     "text": [
      "\r\tTrain Loss: 0.000598 \t Time: 15s\r\tTrain Loss: 0.000597 \t Time: 15s\r\tTrain Loss: 0.000597 \t Time: 15s"
     ]
    },
    {
     "name": "stdout",
     "output_type": "stream",
     "text": [
      "\r\tTrain Loss: 0.000597 \t Time: 15s\r\tTrain Loss: 0.000597 \t Time: 15s\r\tTrain Loss: 0.000596 \t Time: 15s"
     ]
    },
    {
     "name": "stdout",
     "output_type": "stream",
     "text": [
      "\r\tTrain Loss: 0.000596 \t Time: 16s\r\tTrain Loss: 0.000596 \t Time: 16s\r\tTrain Loss: 0.000596 \t Time: 16s"
     ]
    },
    {
     "name": "stdout",
     "output_type": "stream",
     "text": [
      "\r\tTrain Loss: 0.000595 \t Time: 16s\r\tTrain Loss: 0.000595 \t Time: 16s\r\tTrain Loss: 0.000595 \t Time: 16s"
     ]
    },
    {
     "name": "stdout",
     "output_type": "stream",
     "text": [
      "\r\tTrain Loss: 0.000595 \t Time: 16s\r\tTrain Loss: 0.000594 \t Time: 16s\r\tTrain Loss: 0.000594 \t Time: 16s"
     ]
    },
    {
     "name": "stdout",
     "output_type": "stream",
     "text": [
      "\r\tTrain Loss: 0.000594 \t Time: 16s\r\tTrain Loss: 0.000593 \t Time: 16s\r\tTrain Loss: 0.000593 \t Time: 16s"
     ]
    },
    {
     "name": "stdout",
     "output_type": "stream",
     "text": [
      "\r\tTrain Loss: 0.000593 \t Time: 16s\r\tTrain Loss: 0.000593 \t Time: 16s\r\tTrain Loss: 0.000593 \t Time: 17s"
     ]
    },
    {
     "name": "stdout",
     "output_type": "stream",
     "text": [
      "\r\tTrain Loss: 0.000592 \t Time: 17s\r\tTrain Loss: 0.000592 \t Time: 17s\r\tTrain Loss: 0.000592 \t Time: 17s"
     ]
    },
    {
     "name": "stdout",
     "output_type": "stream",
     "text": [
      "\r\tTrain Loss: 0.000592 \t Time: 17s\r\tTrain Loss: 0.000591 \t Time: 17s\r\tTrain Loss: 0.000591 \t Time: 17s"
     ]
    },
    {
     "name": "stdout",
     "output_type": "stream",
     "text": [
      "\r\tTrain Loss: 0.000591 \t Time: 17s\r\tTrain Loss: 0.000591 \t Time: 17s\r\tTrain Loss: 0.000590 \t Time: 17s"
     ]
    },
    {
     "name": "stdout",
     "output_type": "stream",
     "text": [
      "\r\tTrain Loss: 0.000590 \t Time: 17s\r\tTrain Loss: 0.000590 \t Time: 17s\r\tTrain Loss: 0.000589 \t Time: 17s"
     ]
    },
    {
     "name": "stdout",
     "output_type": "stream",
     "text": [
      "\r\tTrain Loss: 0.000589 \t Time: 17s\r\tTrain Loss: 0.000589 \t Time: 18s\r\tTrain Loss: 0.000589 \t Time: 18s"
     ]
    },
    {
     "name": "stdout",
     "output_type": "stream",
     "text": [
      "\r\tTrain Loss: 0.000588 \t Time: 18s\r\tTrain Loss: 0.000588 \t Time: 18s\r\tTrain Loss: 0.000588 \t Time: 18s"
     ]
    },
    {
     "name": "stdout",
     "output_type": "stream",
     "text": [
      "\r\tTrain Loss: 0.000588 \t Time: 18s\r\tTrain Loss: 0.000587 \t Time: 18s\r\tTrain Loss: 0.000587 \t Time: 18s"
     ]
    },
    {
     "name": "stdout",
     "output_type": "stream",
     "text": [
      "\r\tTrain Loss: 0.000587 \t Time: 18s\r\tTrain Loss: 0.000586 \t Time: 18s\r\tTrain Loss: 0.000586 \t Time: 18s"
     ]
    },
    {
     "name": "stdout",
     "output_type": "stream",
     "text": [
      "\r\tTrain Loss: 0.000586 \t Time: 18s\r\tTrain Loss: 0.000586 \t Time: 18s\r\tTrain Loss: 0.000585 \t Time: 18s"
     ]
    },
    {
     "name": "stdout",
     "output_type": "stream",
     "text": [
      "\r\tTrain Loss: 0.000585 \t Time: 19s\r\tTrain Loss: 0.000585 \t Time: 19s\r\tTrain Loss: 0.000585 \t Time: 19s"
     ]
    },
    {
     "name": "stdout",
     "output_type": "stream",
     "text": [
      "\r\tTrain Loss: 0.000584 \t Time: 19s\r\tTrain Loss: 0.000584 \t Time: 19s\r\tTrain Loss: 0.000584 \t Time: 19s"
     ]
    },
    {
     "name": "stdout",
     "output_type": "stream",
     "text": [
      "\r\tTrain Loss: 0.000584 \t Time: 19s\r\tTrain Loss: 0.000584 \t Time: 19s\r\tTrain Loss: 0.000583 \t Time: 19s"
     ]
    },
    {
     "name": "stdout",
     "output_type": "stream",
     "text": [
      "\r\tTrain Loss: 0.000583 \t Time: 19s\r\tTrain Loss: 0.000583 \t Time: 19s\r\tTrain Loss: 0.000583 \t Time: 19s"
     ]
    },
    {
     "name": "stdout",
     "output_type": "stream",
     "text": [
      "\r\tTrain Loss: 0.000582 \t Time: 19s\r\tTrain Loss: 0.000582 \t Time: 19s\r\tTrain Loss: 0.000582 \t Time: 20s"
     ]
    },
    {
     "name": "stdout",
     "output_type": "stream",
     "text": [
      "\r\tTrain Loss: 0.000582 \t Time: 20s\r\tTrain Loss: 0.000581 \t Time: 20s\r\tTrain Loss: 0.000581 \t Time: 20s"
     ]
    },
    {
     "name": "stdout",
     "output_type": "stream",
     "text": [
      "\r\tTrain Loss: 0.000581 \t Time: 20s\r\tTrain Loss: 0.000581 \t Time: 20s\r\tTrain Loss: 0.000581 \t Time: 20s"
     ]
    },
    {
     "name": "stdout",
     "output_type": "stream",
     "text": [
      "\r\tTrain Loss: 0.000580 \t Time: 20s\r\tTrain Loss: 0.000580 \t Time: 20s\r\tTrain Loss: 0.000580 \t Time: 20s"
     ]
    },
    {
     "name": "stdout",
     "output_type": "stream",
     "text": [
      "\r\tTrain Loss: 0.000580 \t Time: 20s\r\tTrain Loss: 0.000580 \t Time: 20s\r\tTrain Loss: 0.000579 \t Time: 20s"
     ]
    },
    {
     "name": "stdout",
     "output_type": "stream",
     "text": [
      "\r\tTrain Loss: 0.000579 \t Time: 20s\r\tTrain Loss: 0.000579 \t Time: 21s\r\tTrain Loss: 0.000579 \t Time: 21s"
     ]
    },
    {
     "name": "stdout",
     "output_type": "stream",
     "text": [
      "\r\tTrain Loss: 0.000578 \t Time: 21s\r\tTrain Loss: 0.000578 \t Time: 21s\r\tTrain Loss: 0.000578 \t Time: 21s"
     ]
    },
    {
     "name": "stdout",
     "output_type": "stream",
     "text": [
      "\r\tTrain Loss: 0.000578 \t Time: 21s\r\tTrain Loss: 0.000577 \t Time: 21s\r\tTrain Loss: 0.000577 \t Time: 21s"
     ]
    },
    {
     "name": "stdout",
     "output_type": "stream",
     "text": [
      "\r\tTrain Loss: 0.000577 \t Time: 21s\r\tTrain Loss: 0.000577 \t Time: 21s\r\tTrain Loss: 0.000576 \t Time: 21s"
     ]
    },
    {
     "name": "stdout",
     "output_type": "stream",
     "text": [
      "\r\tTrain Loss: 0.000576 \t Time: 21s\r\tTrain Loss: 0.000576 \t Time: 21s\r\tTrain Loss: 0.000576 \t Time: 21s"
     ]
    },
    {
     "name": "stdout",
     "output_type": "stream",
     "text": [
      "\r\tTrain Loss: 0.000576 \t Time: 22s\r\tTrain Loss: 0.000575 \t Time: 22s\r\tTrain Loss: 0.000575 \t Time: 22s"
     ]
    },
    {
     "name": "stdout",
     "output_type": "stream",
     "text": [
      "\r\tTrain Loss: 0.000575 \t Time: 22s\r\tTrain Loss: 0.000575 \t Time: 22s\r\tTrain Loss: 0.000574 \t Time: 22s"
     ]
    },
    {
     "name": "stdout",
     "output_type": "stream",
     "text": [
      "\r\tTrain Loss: 0.000574 \t Time: 22s\r\tTrain Loss: 0.000574 \t Time: 22s\r\tTrain Loss: 0.000574 \t Time: 22s"
     ]
    },
    {
     "name": "stdout",
     "output_type": "stream",
     "text": [
      "\r\tTrain Loss: 0.000573 \t Time: 22s\r\tTrain Loss: 0.000573 \t Time: 22s\r\tTrain Loss: 0.000573 \t Time: 22s"
     ]
    },
    {
     "name": "stdout",
     "output_type": "stream",
     "text": [
      "\r\tTrain Loss: 0.000573 \t Time: 22s\r\tTrain Loss: 0.000573 \t Time: 22s\r\tTrain Loss: 0.000572 \t Time: 23s"
     ]
    },
    {
     "name": "stdout",
     "output_type": "stream",
     "text": [
      "\r\tTrain Loss: 0.000572 \t Time: 23s\r\tTrain Loss: 0.000572 \t Time: 23s\r\tTrain Loss: 0.000572 \t Time: 23s"
     ]
    },
    {
     "name": "stdout",
     "output_type": "stream",
     "text": [
      "\r\tTrain Loss: 0.000571 \t Time: 23s\r\tTrain Loss: 0.000571 \t Time: 23s\r\tTrain Loss: 0.000571 \t Time: 23s"
     ]
    },
    {
     "name": "stdout",
     "output_type": "stream",
     "text": [
      "\r\tTrain Loss: 0.000571 \t Time: 23s\r\tTrain Loss: 0.000570 \t Time: 23s\r\tTrain Loss: 0.000570 \t Time: 23s"
     ]
    },
    {
     "name": "stdout",
     "output_type": "stream",
     "text": [
      "\r\tTrain Loss: 0.000570 \t Time: 23s\r\tTrain Loss: 0.000570 \t Time: 23s\r\tTrain Loss: 0.000569 \t Time: 23s"
     ]
    },
    {
     "name": "stdout",
     "output_type": "stream",
     "text": [
      "\r\tTrain Loss: 0.000569 \t Time: 23s\r\tTrain Loss: 0.000569 \t Time: 24s\r\tTrain Loss: 0.000569 \t Time: 24s"
     ]
    },
    {
     "name": "stdout",
     "output_type": "stream",
     "text": [
      "\r\tTrain Loss: 0.000568 \t Time: 24s\r\tTrain Loss: 0.000568 \t Time: 24s\r\tTrain Loss: 0.000568 \t Time: 24s"
     ]
    },
    {
     "name": "stdout",
     "output_type": "stream",
     "text": [
      "\r\tTrain Loss: 0.000568 \t Time: 24s\r\tTrain Loss: 0.000568 \t Time: 24s\r\tTrain Loss: 0.000567 \t Time: 24s"
     ]
    },
    {
     "name": "stdout",
     "output_type": "stream",
     "text": [
      "\r\tTrain Loss: 0.000567 \t Time: 24s\r\tTrain Loss: 0.000567 \t Time: 24s\r\tTrain Loss: 0.000567 \t Time: 24s"
     ]
    },
    {
     "name": "stdout",
     "output_type": "stream",
     "text": [
      "\r\tTrain Loss: 0.000566 \t Time: 24s\r\tTrain Loss: 0.000566 \t Time: 24s\r\tTrain Loss: 0.000566 \t Time: 25s"
     ]
    },
    {
     "name": "stdout",
     "output_type": "stream",
     "text": [
      "\r\tTrain Loss: 0.000566 \t Time: 25s\r\tTrain Loss: 0.000566 \t Time: 25s\r\tTrain Loss: 0.000565 \t Time: 25s"
     ]
    },
    {
     "name": "stdout",
     "output_type": "stream",
     "text": [
      "\r\tTrain Loss: 0.000565 \t Time: 25s\r\tTrain Loss: 0.000565 \t Time: 25s\r\tTrain Loss: 0.000565 \t Time: 25s\n"
     ]
    },
    {
     "name": "stdout",
     "output_type": "stream",
     "text": [
      "\tTest Loss: 0.000485 \t Time: 0s\n\t Input: dddff \t Result: dddffa \t From train: 1\n\t Input: dgagf \t Result: dgagfa \t From train: 1\n\t Input: aedaf \t Result: aedafa \t From train: 1\n\t Input: bcecf \t Result: bcecfa \t From train: 1\n\t Input: fedaf \t Result: fedafa \t From train: 1\n"
     ]
    }
   ],
   "source": [
    "train_losses, test_losses = trainer.train(5,batch_size=256)\n",
    "train_losses_all.extend(train_losses)\n",
    "test_losses_all.extend(test_losses)"
   ]
  },
  {
   "cell_type": "code",
   "execution_count": null,
   "metadata": {},
   "outputs": [],
   "source": [
    ""
   ]
  }
 ],
 "metadata": {
  "kernelspec": {
   "display_name": "Python 2",
   "language": "python",
   "name": "python2"
  },
  "language_info": {
   "codemirror_mode": {
    "name": "ipython",
    "version": 2
   },
   "file_extension": ".py",
   "mimetype": "text/x-python",
   "name": "python",
   "nbconvert_exporter": "python",
   "pygments_lexer": "ipython2",
   "version": "2.7.6"
  }
 },
 "nbformat": 4,
 "nbformat_minor": 0
}
