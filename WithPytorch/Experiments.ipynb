{
 "cells": [
  {
   "cell_type": "markdown",
   "metadata": {},
   "source": [
    "# Pytorch experiments\n"
   ]
  },
  {
   "cell_type": "code",
   "execution_count": 1,
   "metadata": {
    "collapsed": true
   },
   "outputs": [],
   "source": [
    "import matplotlib.pyplot as plt\n",
    "import re\n",
    "import numpy as np\n",
    "%matplotlib inline"
   ]
  },
  {
   "cell_type": "code",
   "execution_count": 2,
   "metadata": {},
   "outputs": [
    {
     "name": "stdout",
     "output_type": "stream",
     "text": [
      "C:\\Users\\Sdernal\\Desktop\\Jackals\\TextNormalization\\WithPytorch\n",
      "'NoneType' object has no attribute 'text' C:\\Users\\Sdernal\\Desktop\\Jackals\\corpus_for_pakhomov_2\\Абдулла Гюль.xml\n",
      "'NoneType' object has no attribute 'text' C:\\Users\\Sdernal\\Desktop\\Jackals\\corpus_for_pakhomov_2\\Адам Осмаев.xml\n",
      "'NoneType' object has no attribute 'text' C:\\Users\\Sdernal\\Desktop\\Jackals\\corpus_for_pakhomov_2\\Азим Исабеков.xml\n",
      "'NoneType' object has no attribute 'text' C:\\Users\\Sdernal\\Desktop\\Jackals\\corpus_for_pakhomov_2\\Александр Глухов.xml\n",
      "'NoneType' object has no attribute 'text' C:\\Users\\Sdernal\\Desktop\\Jackals\\corpus_for_pakhomov_2\\Александр Ломая.xml\n",
      "'NoneType' object has no attribute 'text' C:\\Users\\Sdernal\\Desktop\\Jackals\\corpus_for_pakhomov_2\\Александр Медведько.xml\n",
      "'NoneType' object has no attribute 'text' C:\\Users\\Sdernal\\Desktop\\Jackals\\corpus_for_pakhomov_2\\Анатолий Бибилов.xml\n",
      "'NoneType' object has no attribute 'text' C:\\Users\\Sdernal\\Desktop\\Jackals\\corpus_for_pakhomov_2\\Андрей Аршавин.xml\n",
      "'NoneType' object has no attribute 'text' C:\\Users\\Sdernal\\Desktop\\Jackals\\corpus_for_pakhomov_2\\Владимир Сергеевич Высоцкий.xml\n",
      "'NoneType' object has no attribute 'text' C:\\Users\\Sdernal\\Desktop\\Jackals\\corpus_for_pakhomov_2\\Евгений Чичваркин.xml\n"
     ]
    }
   ],
   "source": [
    "from dataloader import DataLoader, distance\n",
    "from os.path import abspath\n",
    "from entriesprocessor import EntriesProcessor\n",
    "from trainer import Trainer\n",
    "from model import Decoder, Encoder\n",
    "import torch\n",
    "\n",
    "EMBEDDING_SIZE = 10\n",
    "HIDDEN_SIZE = 200\n",
    "print(abspath('./'))\n",
    "loader = DataLoader(10)\n",
    "loader.parse_person_corpus(abspath('../Persons-1000/collection'))\n",
    "loader.parse_rdf_corpus(abspath('../../corpus_for_pakhomov_2'))"
   ]
  },
  {
   "cell_type": "code",
   "execution_count": 3,
   "metadata": {
    "collapsed": true
   },
   "outputs": [],
   "source": [
    "diffs = []\n",
    "for entry in loader.entries:\n",
    "    entry_start = entry.offset - entry.context_offset\n",
    "    entry_end = entry_start + entry.length\n",
    "    entry_text = entry.context[entry_start:entry_end]\n",
    "    diff_len = abs(len(entry_text) - len(entry.value))\n",
    "    diffs.append(diff_len)"
   ]
  },
  {
   "cell_type": "code",
   "execution_count": 4,
   "metadata": {},
   "outputs": [
    {
     "data": {
      "text/plain": [
       "(array([ 21970.,   7444.,   4194.,    650.,   1038.,    809.,    858.,\n",
       "           979.,    539.,    205.,    193.,     61.]),\n",
       " array([ 0,  1,  2,  3,  4,  5,  6,  7,  8,  9, 10, 11, 12]),\n",
       " <a list of 12 Patch objects>)"
      ]
     },
     "execution_count": 4,
     "metadata": {},
     "output_type": "execute_result"
    },
    {
     "data": {
      "image/png": "[encoded data removed]",
      "text/plain": [
       "<Figure size 1440x720 with 1 Axes>"
      ]
     },
     "metadata": {},
     "output_type": "display_data"
    }
   ],
   "source": [
    "fig = plt.figure(figsize=(20,10))\n",
    "plt.hist(diffs, range=(0,12), bins=range(0,13))"
   ]
  },
  {
   "cell_type": "code",
   "execution_count": 5,
   "metadata": {
    "collapsed": true
   },
   "outputs": [],
   "source": [
    "def words(text):\n",
    "    wds = filter(lambda x: len(x) > 0, re.split('\\.|-| ', text))\n",
    "    return list(wds)\n",
    "\n",
    "def delete_excess(text, value):\n",
    "    text_words = text.split()\n",
    "    value_words = value.split()\n",
    "#     if len(value_words) < len(text_words):\n",
    "#         print('\\t', text,'\\t', value)\n",
    "#         return None\n",
    "    result = []\n",
    "    for t in text_words:\n",
    "        for v in value_words:\n",
    "            if distance(t, v) < 3:\n",
    "                result.append(v)\n",
    "    if len(text_words) == len(result):\n",
    "#         print('\\t', text,'\\t', ' '.join(result), '\\t', value)\n",
    "        return ' '.join(result)"
   ]
  },
  {
   "cell_type": "code",
   "execution_count": 6,
   "metadata": {
    "collapsed": true
   },
   "outputs": [],
   "source": [
    "bad_entries = []\n",
    "edited_enties = []\n",
    "for entry in loader.entries:\n",
    "    entry_start = entry.offset - entry.context_offset\n",
    "    entry_end = entry_start + entry.length\n",
    "    entry_text = entry.context[entry_start:entry_end]\n",
    "    diff_len = abs(len(words(entry_text)) - len(words(entry.value)))\n",
    "    if diff_len > 0:  \n",
    "        try_to_fix = delete_excess(entry_text, entry.value)\n",
    "        if try_to_fix is None:\n",
    "            bad_entries.append(entry)\n",
    "        else:\n",
    "            entry.value = try_to_fix\n",
    "#             print(entry)\n",
    "            edited_enties.append(entry)\n",
    "    else:\n",
    "        edited_enties.append(entry)"
   ]
  },
  {
   "cell_type": "code",
   "execution_count": 7,
   "metadata": {},
   "outputs": [
    {
     "data": {
      "text/plain": [
       "99"
      ]
     },
     "execution_count": 7,
     "metadata": {},
     "output_type": "execute_result"
    }
   ],
   "source": [
    "len(bad_entries)\n",
    "# for entry in bad_entries:\n",
    "#     print(entry)"
   ]
  },
  {
   "cell_type": "code",
   "execution_count": 8,
   "metadata": {},
   "outputs": [
    {
     "name": "stdout",
     "output_type": "stream",
     "text": [
      "38854\n",
      "14848\n"
     ]
    }
   ],
   "source": [
    "print(len(edited_enties))\n",
    "uniq_values = set([entry.value for entry in edited_enties])\n",
    "print(len(uniq_values))"
   ]
  },
  {
   "cell_type": "code",
   "execution_count": 9,
   "metadata": {
    "collapsed": true
   },
   "outputs": [],
   "source": [
    "ep = EntriesProcessor(20,40)\n",
    "# voc_size = 10\n",
    "ep.process(edited_enties)\n",
    "voc_size = ep.symbols_counter"
   ]
  },
  {
   "cell_type": "code",
   "execution_count": 10,
   "metadata": {},
   "outputs": [
    {
     "name": "stdout",
     "output_type": "stream",
     "text": [
      "3468 30299\n"
     ]
    }
   ],
   "source": [
    "print(len(ep.X_data_test), len(ep.X_data_train))"
   ]
  },
  {
   "cell_type": "markdown",
   "metadata": {},
   "source": [
    "# RL GAMES"
   ]
  },
  {
   "cell_type": "code",
   "execution_count": 11,
   "metadata": {
    "collapsed": true
   },
   "outputs": [],
   "source": [
    "device = torch.device(\"cuda\" if torch.cuda.is_available() else \"cpu\")\n",
    "encoder = Encoder(input_size=voc_size, hidden_size=HIDDEN_SIZE, embedding_size=EMBEDDING_SIZE).to(device)\n",
    "decoder = Decoder(hidden_size=HIDDEN_SIZE, embedding_size=EMBEDDING_SIZE, output_size=voc_size, max_length=40).to(device)\n",
    "trainer = Trainer(encoder,decoder,ep,max_input_length=40, max_output_length=20)"
   ]
  },
  {
   "cell_type": "code",
   "execution_count": 12,
   "metadata": {
    "collapsed": true
   },
   "outputs": [],
   "source": [
    "train_losses_all, test_losses_all = [], []"
   ]
  },
  {
   "cell_type": "code",
   "execution_count": 15,
   "metadata": {},
   "outputs": [
    {
     "name": "stdout",
     "output_type": "stream",
     "text": [
      "\n",
      "Epoch 1\n",
      "\tTrain Loss: 0.047149 \t Time: 28s\n",
      "\tTest Loss: 0.134371 \t Time: 0s\n",
      "Epoch 2\n",
      "\tTrain Loss: 0.048899 \t Time: 30s\n",
      "\tTest Loss: 0.111913 \t Time: 0s\n",
      "Epoch 3\n",
      "\tTrain Loss: 0.041256 \t Time: 28s\n",
      "\tTest Loss: 0.108200 \t Time: 0s\n",
      "Epoch 4\n",
      "\tTrain Loss: 0.035729 \t Time: 27s\n",
      "\tTest Loss: 0.112113 \t Time: 0s\n",
      "Epoch 5\n",
      "\tTrain Loss: 0.042183 \t Time: 29s\n",
      "\tTest Loss: 0.115296 \t Time: 0s\n",
      "Epoch 6\n",
      "\tTrain Loss: 0.033675 \t Time: 29s\n",
      "\tTest Loss: 0.108469 \t Time: 0s\n",
      "Epoch 7\n",
      "\tTrain Loss: 0.030191 \t Time: 28s\n",
      "\tTest Loss: 0.118575 \t Time: 0s\n",
      "Epoch 8\n",
      "\tTrain Loss: 0.031793 \t Time: 29s\n",
      "\tTest Loss: 0.115006 \t Time: 0s\n",
      "Epoch 9\n",
      "\tTrain Loss: 0.031838 \t Time: 28s\n",
      "\tTest Loss: 0.115250 \t Time: 0s\n",
      "Epoch 10\n",
      "\tTrain Loss: 0.029788 \t Time: 28s\n",
      "\tTest Loss: 0.114145 \t Time: 0s\n",
      "Epoch 11\n",
      "\tTrain Loss: 0.037522 \t Time: 28s\n",
      "\tTest Loss: 0.109211 \t Time: 0s\n",
      "Epoch 12\n",
      "\tTrain Loss: 0.038552 \t Time: 29s\n",
      "\tTest Loss: 0.161115 \t Time: 0s\n",
      "Epoch 13\n",
      "\tTrain Loss: 0.042801 \t Time: 28s\n",
      "\tTest Loss: 0.105125 \t Time: 0s\n",
      "Epoch 14\n",
      "\tTrain Loss: 0.028035 \t Time: 28s\n",
      "\tTest Loss: 0.118223 \t Time: 0s\n",
      "Epoch 15\n",
      "\tTrain Loss: 0.023075 \t Time: 27s\n",
      "\tTest Loss: 0.108002 \t Time: 0s\n",
      "Epoch 16\n",
      "\tTrain Loss: 0.024699 \t Time: 29s\n",
      "\tTest Loss: 0.114796 \t Time: 0s\n",
      "Epoch 17\n",
      "\tTrain Loss: 0.020110 \t Time: 29s\n",
      "\tTest Loss: 0.119188 \t Time: 0s\n",
      "Epoch 18\n",
      "\tTrain Loss: 0.016611 \t Time: 29s\n",
      "\tTest Loss: 0.122910 \t Time: 0s\n",
      "Epoch 19\n",
      "\tTrain Loss: 0.016971 \t Time: 27s\n",
      "\tTest Loss: 0.131789 \t Time: 0s\n",
      "Epoch 20\n",
      "\tTrain Loss: 0.029038 \t Time: 28s\n",
      "\tTest Loss: 0.121566 \t Time: 0s\n"
     ]
    }
   ],
   "source": [
    "train_losses, test_losses = trainer.train(20, batch_size=256)\n",
    "train_losses_all.extend(train_losses)\n",
    "test_losses_all.extend(test_losses)"
   ]
  },
  {
   "cell_type": "code",
   "execution_count": 16,
   "metadata": {},
   "outputs": [
    {
     "name": "stdout",
     "output_type": "stream",
     "text": [
      "Accuracy:  0.832756632065\n",
      "Mean distance:  0.217416378316\n"
     ]
    }
   ],
   "source": [
    "# RL max generator\n",
    "ethalons, results, inputs, matched, distances = trainer.test_model(False)\n",
    "print('Accuracy: ', np.mean(matched))\n",
    "print('Mean distance: ', np.mean(distances))"
   ]
  },
  {
   "cell_type": "code",
   "execution_count": 15,
   "metadata": {},
   "outputs": [
    {
     "name": "stdout",
     "output_type": "stream",
     "text": [
      "Accuracy:  0.721878862794\n",
      "Mean distance:  0.411001236094\n"
     ]
    }
   ],
   "source": [
    "# random generator\n",
    "ethalons, results, inputs, matched, distances = trainer.test_model(False)\n",
    "print('Accuracy: ', np.mean(matched))\n",
    "print('Mean distance: ', np.mean(distances))"
   ]
  },
  {
   "cell_type": "code",
   "execution_count": 16,
   "metadata": {},
   "outputs": [
    {
     "name": "stdout",
     "output_type": "stream",
     "text": [
      "Accuracy:  0.87006838506\n",
      "Mean distance:  0.164124145187\n"
     ]
    }
   ],
   "source": [
    "# max generator \n",
    "# ethalons, results, inputs, matched, distances = trainer.test_model(False)\n",
    "print('Accuracy: ', np.mean(matched))\n",
    "print('Mean distance: ', np.mean(distances))"
   ]
  },
  {
   "cell_type": "markdown",
   "metadata": {},
   "source": [
    "# AttnModel with Adam optimizer"
   ]
  },
  {
   "cell_type": "code",
   "execution_count": 11,
   "metadata": {
    "collapsed": true
   },
   "outputs": [],
   "source": [
    "device = torch.device(\"cuda\" if torch.cuda.is_available() else \"cpu\")\n",
    "encoder = Encoder(input_size=voc_size, hidden_size=HIDDEN_SIZE, embedding_size=EMBEDDING_SIZE).to(device)\n",
    "decoder = Decoder(hidden_size=HIDDEN_SIZE, embedding_size=EMBEDDING_SIZE, output_size=voc_size, max_length=40).to(device)\n",
    "trainer = Trainer(encoder,decoder,ep,max_input_length=40, max_output_length=20)"
   ]
  },
  {
   "cell_type": "code",
   "execution_count": 12,
   "metadata": {
    "collapsed": true
   },
   "outputs": [],
   "source": [
    "train_losses_all, test_losses_all = [], []"
   ]
  },
  {
   "cell_type": "code",
   "execution_count": 29,
   "metadata": {},
   "outputs": [
    {
     "name": "stdout",
     "output_type": "stream",
     "text": [
      "\n",
      "Epoch 1\n",
      "\tTrain Loss: 0.023083 \t Time: 23s\n",
      "\tTest Loss: 0.034610 \t Time: 0s\n"
     ]
    }
   ],
   "source": [
    "train_losses, test_losses = trainer.train(1, batch_size=256)\n",
    "train_losses_all.extend(train_losses)\n",
    "test_losses_all.extend(test_losses)"
   ]
  },
  {
   "cell_type": "code",
   "execution_count": 17,
   "metadata": {},
   "outputs": [
    {
     "name": "stdout",
     "output_type": "stream",
     "text": [
      "\n",
      "Epoch 1\n",
      "\tTrain Loss: 0.039014 \t Time: 23s\n",
      "\tTest Loss: 0.037828 \t Time: 0s\n"
     ]
    }
   ],
   "source": [
    "train_losses, test_losses = trainer.train(1, batch_size=256)\n",
    "train_losses_all.extend(train_losses)\n",
    "test_losses_all.extend(test_losses)"
   ]
  },
  {
   "cell_type": "code",
   "execution_count": 21,
   "metadata": {},
   "outputs": [
    {
     "name": "stdout",
     "output_type": "stream",
     "text": [
      "Accuracy:  0.884684684685\n",
      "Mean distance:  0.148648648649\n"
     ]
    }
   ],
   "source": [
    "ethalons, results, inputs, matched, distances = trainer.test_model(False)\n",
    "print('Accuracy: ', np.mean(matched))\n",
    "print('Mean distance: ', np.mean(distances))"
   ]
  },
  {
   "cell_type": "code",
   "execution_count": 32,
   "metadata": {
    "collapsed": true
   },
   "outputs": [],
   "source": [
    "ethalons, results, inputs, matched, distances = trainer.test_model(False)"
   ]
  },
  {
   "cell_type": "code",
   "execution_count": 33,
   "metadata": {},
   "outputs": [
    {
     "name": "stdout",
     "output_type": "stream",
     "text": [
      "Accuracy:  0.904804804805\n",
      "Mean distance:  0.124324324324\n"
     ]
    }
   ],
   "source": [
    "import numpy as np\n",
    "print('Accuracy: ', np.mean(matched))\n",
    "print('Mean distance: ', np.mean(distances))"
   ]
  },
  {
   "cell_type": "code",
   "execution_count": 34,
   "metadata": {},
   "outputs": [
    {
     "data": {
      "text/html": [
       "<div>\n",
       "<style>\n",
       "    .dataframe thead tr:only-child th {\n",
       "        text-align: right;\n",
       "    }\n",
       "\n",
       "    .dataframe thead th {\n",
       "        text-align: left;\n",
       "    }\n",
       "\n",
       "    .dataframe tbody tr th {\n",
       "        vertical-align: top;\n",
       "    }\n",
       "</style>\n",
       "<table border=\"1\" class=\"dataframe\">\n",
       "  <thead>\n",
       "    <tr style=\"text-align: right;\">\n",
       "      <th></th>\n",
       "      <th>ethalon</th>\n",
       "      <th>result</th>\n",
       "      <th>input</th>\n",
       "      <th>matched</th>\n",
       "      <th>distance</th>\n",
       "    </tr>\n",
       "  </thead>\n",
       "  <tbody>\n",
       "    <tr>\n",
       "      <th>0</th>\n",
       "      <td>дэниэл фрид</td>\n",
       "      <td>дэниэл фрид</td>\n",
       "      <td>етаря сша дэниэлом фридом.\\n\\r\\n\\r\"с ро</td>\n",
       "      <td>True</td>\n",
       "      <td>0</td>\n",
       "    </tr>\n",
       "    <tr>\n",
       "      <th>1</th>\n",
       "      <td>владимир путин</td>\n",
       "      <td>владимир путин</td>\n",
       "      <td>онце июля владимир путин на совеща</td>\n",
       "      <td>True</td>\n",
       "      <td>0</td>\n",
       "    </tr>\n",
       "    <tr>\n",
       "      <th>2</th>\n",
       "      <td>путин</td>\n",
       "      <td>путин</td>\n",
       "      <td>недоимки. путин попросил</td>\n",
       "      <td>True</td>\n",
       "      <td>0</td>\n",
       "    </tr>\n",
       "    <tr>\n",
       "      <th>3</th>\n",
       "      <td>путин</td>\n",
       "      <td>путин</td>\n",
       "      <td>а котором путин раскритик</td>\n",
       "      <td>True</td>\n",
       "      <td>0</td>\n",
       "    </tr>\n",
       "    <tr>\n",
       "      <th>4</th>\n",
       "      <td>путин</td>\n",
       "      <td>путин</td>\n",
       "      <td>по мнению путина, это дела</td>\n",
       "      <td>True</td>\n",
       "      <td>0</td>\n",
       "    </tr>\n",
       "  </tbody>\n",
       "</table>\n",
       "</div>"
      ],
      "text/plain": [
       "          ethalon          result                                    input  \\\n",
       "0     дэниэл фрид     дэниэл фрид  етаря сша дэниэлом фридом.\\n\\r\\n\\r\"с ро   \n",
       "1  владимир путин  владимир путин       онце июля владимир путин на совеща   \n",
       "2           путин           путин                недоимки. путин попросил    \n",
       "3           путин           путин                а котором путин раскритик   \n",
       "4           путин           путин               по мнению путина, это дела   \n",
       "\n",
       "   matched  distance  \n",
       "0     True         0  \n",
       "1     True         0  \n",
       "2     True         0  \n",
       "3     True         0  \n",
       "4     True         0  "
      ]
     },
     "execution_count": 34,
     "metadata": {},
     "output_type": "execute_result"
    }
   ],
   "source": [
    "import pandas as pd\n",
    "encoded_inputs = list(map(lambda x : x.encode('windows-1251', errors='replace').decode('windows-1251'), inputs))\n",
    "data = {'ethalon' : ethalons, 'result' : results, 'input' : encoded_inputs, 'matched' : matched, 'distance' : distances}\n",
    "df = pd.DataFrame(data=data, columns=['ethalon', 'result', 'input', 'matched', 'distance'])\n",
    "df.head(5)"
   ]
  },
  {
   "cell_type": "code",
   "execution_count": 35,
   "metadata": {
    "collapsed": true
   },
   "outputs": [],
   "source": [
    "df.to_csv('results_attn_adam3.csv', encoding='windows-1251')"
   ]
  },
  {
   "cell_type": "code",
   "execution_count": 60,
   "metadata": {
    "collapsed": true
   },
   "outputs": [],
   "source": [
    "a,b,c = trainer.evaluate_with_attn(ep.X_data_test[60:61])"
   ]
  },
  {
   "cell_type": "code",
   "execution_count": 61,
   "metadata": {},
   "outputs": [
    {
     "name": "stdout",
     "output_type": "stream",
     "text": [
      "['#', '#', 'н', 'а', 'з', 'н', 'а', 'ч', 'е', 'н', 'а', '_', 'м', 'а', 'р', 'и', 'а', 'н', 'н', 'а', '_', 'к', 'о', 'к', 'у', 'н', 'о', 'в', 'а', '\\n', '\\r', '\\n', '\\r', 'и', 'с', 'п', 'о', 'л', 'н', '#']\n",
      "['м', 'а', 'р', 'и', 'а', 'н', 'н', 'а', '_', 'к', 'о', 'к', 'у', 'н', 'о', 'в', 'а', '#', '#', '#']\n"
     ]
    },
    {
     "data": {
      "image/png": "[encoded data removed]",
      "text/plain": [
       "<Figure size 1440x720 with 2 Axes>"
      ]
     },
     "metadata": {},
     "output_type": "display_data"
    }
   ],
   "source": [
    "a2 = []\n",
    "b2 = []\n",
    "for elem in a:\n",
    "    if elem == ' ':\n",
    "        a2.append('_')\n",
    "    elif len(elem) != 1:\n",
    "        a2.append('#')    \n",
    "    else:\n",
    "        a2.append(elem)\n",
    "\n",
    "for elem in b:\n",
    "    if elem == ' ':\n",
    "        b2.append('_')\n",
    "    elif len(elem) != 1:\n",
    "        b2.append('#')    \n",
    "    else:\n",
    "        b2.append(elem)\n",
    "print(a2)\n",
    "print(b2)\n",
    "showAttention(a2,b2,c)"
   ]
  },
  {
   "cell_type": "markdown",
   "metadata": {},
   "source": [
    "# AttnModel"
   ]
  },
  {
   "cell_type": "code",
   "execution_count": 12,
   "metadata": {
    "collapsed": true
   },
   "outputs": [],
   "source": [
    "device = torch.device(\"cuda\" if torch.cuda.is_available() else \"cpu\")\n",
    "encoder = Encoder(input_size=voc_size, hidden_size=HIDDEN_SIZE, embedding_size=EMBEDDING_SIZE).to(device)\n",
    "decoder = Decoder(hidden_size=HIDDEN_SIZE, embedding_size=EMBEDDING_SIZE, output_size=voc_size, max_length=40).to(device)\n",
    "trainer = Trainer(encoder,decoder,ep,max_input_length=40, max_output_length=20)"
   ]
  },
  {
   "cell_type": "code",
   "execution_count": 13,
   "metadata": {
    "collapsed": true
   },
   "outputs": [],
   "source": [
    "train_losses_all, test_losses_all = [], []"
   ]
  },
  {
   "cell_type": "code",
   "execution_count": 76,
   "metadata": {},
   "outputs": [
    {
     "name": "stdout",
     "output_type": "stream",
     "text": [
      "\n",
      "Epoch 1\n",
      "\tTrain Loss: 0.039166 \t Time: 23s\n",
      "\tTest Loss: 0.061804 \t Time: 0s\n"
     ]
    }
   ],
   "source": [
    "train_losses, test_losses = trainer.train(1, batch_size=256)\n",
    "train_losses_all.extend(train_losses)\n",
    "test_losses_all.extend(test_losses)"
   ]
  },
  {
   "cell_type": "code",
   "execution_count": 77,
   "metadata": {
    "collapsed": true
   },
   "outputs": [],
   "source": [
    "a,b,c = trainer.evaluate_with_attn(ep.X_data_test[8:9])"
   ]
  },
  {
   "cell_type": "code",
   "execution_count": 37,
   "metadata": {
    "collapsed": true
   },
   "outputs": [],
   "source": [
    "from matplotlib import ticker\n",
    "def showAttention(input, result, attentions):\n",
    "    # Set up figure with colorbar\n",
    "    fig = plt.figure(figsize=(20,10))\n",
    "    ax = fig.add_subplot(111)\n",
    "    cax = ax.matshow(attentions.numpy())\n",
    "    fig.colorbar(cax)\n",
    "\n",
    "    # Set up axes\n",
    "    ax.set_xticklabels(['#'] + input)\n",
    "    ax.set_yticklabels(['#'] + result)\n",
    "\n",
    "    # Show label at every tick\n",
    "    ax.xaxis.set_major_locator(ticker.MultipleLocator(1))\n",
    "    ax.yaxis.set_major_locator(ticker.MultipleLocator(1))\n",
    "\n",
    "    plt.show()\n"
   ]
  },
  {
   "cell_type": "code",
   "execution_count": 78,
   "metadata": {},
   "outputs": [
    {
     "name": "stdout",
     "output_type": "stream",
     "text": [
      "['#', '#', 'г', 'о', 'с', 'п', 'о', 'д', 'и', 'н', 'а', '_', 'х', 'а', 'б', 'и', 'р', 'о', 'в', 'а', '_', 'в', '_', 'п', 'а', 'р', 'т', 'и', 'и', '_', '#', '#', '#', '#', '#', '#', '#', '#', '#', '#']\n"
     ]
    },
    {
     "data": {
      "image/png": "[encoded data removed]",
      "text/plain": [
       "<matplotlib.figure.Figure at 0x20476c6c8d0>"
      ]
     },
     "metadata": {},
     "output_type": "display_data"
    }
   ],
   "source": [
    "a2 = []\n",
    "b2 = []\n",
    "for elem in a:\n",
    "    if elem == ' ':\n",
    "        a2.append('_')\n",
    "    elif len(elem) != 1:\n",
    "        a2.append('#')    \n",
    "    else:\n",
    "        a2.append(elem)\n",
    "\n",
    "for elem in b:\n",
    "    if elem == ' ':\n",
    "        b2.append('_')\n",
    "    elif len(elem) != 1:\n",
    "        b2.append('#')    \n",
    "    else:\n",
    "        b2.append(elem)\n",
    "print(a2)\n",
    "showAttention(a2,b2,c)"
   ]
  },
  {
   "cell_type": "code",
   "execution_count": 67,
   "metadata": {
    "collapsed": true
   },
   "outputs": [],
   "source": [
    "ethalons, results, inputs, matched, distances = trainer.test_model(False)"
   ]
  },
  {
   "cell_type": "markdown",
   "metadata": {},
   "source": [
    "results_cleaned_2_3.csv"
   ]
  },
  {
   "cell_type": "code",
   "execution_count": 54,
   "metadata": {},
   "outputs": [
    {
     "name": "stdout",
     "output_type": "stream",
     "text": [
      "Accuracy:  0.801149425287\n",
      "Mean distance:  0.307471264368\n"
     ]
    }
   ],
   "source": [
    "import numpy as np\n",
    "print('Accuracy: ', np.mean(matched))\n",
    "print('Mean distance: ', np.mean(distances))"
   ]
  },
  {
   "cell_type": "markdown",
   "metadata": {},
   "source": [
    "results_cleaned_2_5.csv"
   ]
  },
  {
   "cell_type": "code",
   "execution_count": 68,
   "metadata": {},
   "outputs": [
    {
     "name": "stdout",
     "output_type": "stream",
     "text": [
      "Accuracy:  0.811781609195\n",
      "Mean distance:  0.316666666667\n"
     ]
    }
   ],
   "source": [
    "import numpy as np\n",
    "print('Accuracy: ', np.mean(matched))\n",
    "print('Mean distance: ', np.mean(distances))"
   ]
  },
  {
   "cell_type": "code",
   "execution_count": 49,
   "metadata": {},
   "outputs": [
    {
     "name": "stdout",
     "output_type": "stream",
     "text": [
      "['игорь артемьев', 'михаил прохоров', 'игорь андрющенко', 'ровенский', 'ровенский', 'алексей миллер', 'юрий хардиков', 'айрат мурзагалиев', 'андрей воробьев', 'андрей раппопорт']\n",
      "['игорь артемьев', 'михаил прохоров', 'игорь андрющенко', 'ровенский', 'ровенский', 'алексей миллер', 'юрий хардиков', 'айрат мурзагалиев', 'андрей воробьев', 'андрей раппопорт']\n",
      "['глава фас игорь артемьев заявил, ч', 'году, при михаиле прохорове.\\n\\r\\n\\rкроме', 'правлению игорь андрющенко называет ', ' господин ровенский, позиция,', 'господина ровенского, он с 1 и', 'газпрома> алексея миллера, члена со', 'ектом сао юрием хардиковым. 19 январ', 'резидента айрат мурзагалиев, вчера му', 'й россии\" андрей воробьев заявил \"ъ', 'андрей раппопорт выбрался ']\n",
      "[True, True, True, True, True, True, True, True, True, True]\n",
      "[0, 0, 0, 0, 0, 0, 0, 0, 0, 0]\n"
     ]
    }
   ],
   "source": [
    "print(ethalons[:10])\n",
    "print(results[:10])\n",
    "print(inputs[:10])\n",
    "print(matched[:10])\n",
    "print(distances[:10])"
   ]
  },
  {
   "cell_type": "code",
   "execution_count": 83,
   "metadata": {},
   "outputs": [
    {
     "data": {
      "image/png": "[encoded data removed]",
      "text/plain": [
       "<matplotlib.figure.Figure at 0x2047f4d55c0>"
      ]
     },
     "metadata": {},
     "output_type": "display_data"
    }
   ],
   "source": [
    "plt.figure(figsize=(20,12))\n",
    "plt.plot(train_losses_all, label='train')\n",
    "plt.plot(test_losses_all, label='test')\n",
    "plt.legend()\n",
    "plt.show()"
   ]
  },
  {
   "cell_type": "code",
   "execution_count": 84,
   "metadata": {},
   "outputs": [
    {
     "data": {
      "image/png": "[encoded data removed]",
      "text/plain": [
       "<matplotlib.figure.Figure at 0x204aef1a4e0>"
      ]
     },
     "metadata": {},
     "output_type": "display_data"
    }
   ],
   "source": [
    "plt.figure(figsize=(20,12))\n",
    "plt.plot(train_losses_all[50:], label='train')\n",
    "plt.plot(test_losses_all[50:], label='test')\n",
    "plt.legend()\n",
    "plt.show()"
   ]
  },
  {
   "cell_type": "code",
   "execution_count": 69,
   "metadata": {
    "collapsed": true
   },
   "outputs": [],
   "source": [
    "encoded_inputs = list(map(lambda x : x.encode('windows-1251', errors='replace').decode('windows-1251'), inputs))"
   ]
  },
  {
   "cell_type": "code",
   "execution_count": 70,
   "metadata": {
    "collapsed": true
   },
   "outputs": [],
   "source": [
    "import pandas as pd\n",
    "\n",
    "data = {'ethalon' : ethalons, 'result' : results, 'input' : encoded_inputs, 'matched' : matched, 'distance' : distances}\n",
    "df = pd.DataFrame(data=data, columns=['ethalon', 'result', 'input', 'matched', 'distance'])"
   ]
  },
  {
   "cell_type": "code",
   "execution_count": 71,
   "metadata": {},
   "outputs": [
    {
     "data": {
      "text/html": [
       "<div>\n",
       "<style>\n",
       "    .dataframe thead tr:only-child th {\n",
       "        text-align: right;\n",
       "    }\n",
       "\n",
       "    .dataframe thead th {\n",
       "        text-align: left;\n",
       "    }\n",
       "\n",
       "    .dataframe tbody tr th {\n",
       "        vertical-align: top;\n",
       "    }\n",
       "</style>\n",
       "<table border=\"1\" class=\"dataframe\">\n",
       "  <thead>\n",
       "    <tr style=\"text-align: right;\">\n",
       "      <th></th>\n",
       "      <th>ethalon</th>\n",
       "      <th>result</th>\n",
       "      <th>input</th>\n",
       "      <th>matched</th>\n",
       "      <th>distance</th>\n",
       "    </tr>\n",
       "  </thead>\n",
       "  <tbody>\n",
       "    <tr>\n",
       "      <th>0</th>\n",
       "      <td>григорий карасин</td>\n",
       "      <td>григорий карасин</td>\n",
       "      <td>ел россии григорий карасин заявил в</td>\n",
       "      <td>True</td>\n",
       "      <td>0</td>\n",
       "    </tr>\n",
       "    <tr>\n",
       "      <th>1</th>\n",
       "      <td>путин</td>\n",
       "      <td>путин</td>\n",
       "      <td>недоимки. путин попросил</td>\n",
       "      <td>True</td>\n",
       "      <td>0</td>\n",
       "    </tr>\n",
       "    <tr>\n",
       "      <th>2</th>\n",
       "      <td>путин</td>\n",
       "      <td>путин</td>\n",
       "      <td>а котором путин раскритик</td>\n",
       "      <td>True</td>\n",
       "      <td>0</td>\n",
       "    </tr>\n",
       "    <tr>\n",
       "      <th>3</th>\n",
       "      <td>путин</td>\n",
       "      <td>путин</td>\n",
       "      <td>по мнению путина, это дела</td>\n",
       "      <td>True</td>\n",
       "      <td>0</td>\n",
       "    </tr>\n",
       "    <tr>\n",
       "      <th>4</th>\n",
       "      <td>путин</td>\n",
       "      <td>путин</td>\n",
       "      <td>ступления путина глава фас</td>\n",
       "      <td>True</td>\n",
       "      <td>0</td>\n",
       "    </tr>\n",
       "    <tr>\n",
       "      <th>5</th>\n",
       "      <td>путин</td>\n",
       "      <td>путин</td>\n",
       "      <td>ступления путина, его ведо</td>\n",
       "      <td>True</td>\n",
       "      <td>0</td>\n",
       "    </tr>\n",
       "    <tr>\n",
       "      <th>6</th>\n",
       "      <td>буш</td>\n",
       "      <td>буш</td>\n",
       "      <td>ия с сша. буш несколько</td>\n",
       "      <td>True</td>\n",
       "      <td>0</td>\n",
       "    </tr>\n",
       "    <tr>\n",
       "      <th>7</th>\n",
       "      <td>игорь юсуфов</td>\n",
       "      <td>игорь юсуфов</td>\n",
       "      <td>дничеству игоря юсуфова, председа</td>\n",
       "      <td>True</td>\n",
       "      <td>0</td>\n",
       "    </tr>\n",
       "    <tr>\n",
       "      <th>8</th>\n",
       "      <td>хабиров</td>\n",
       "      <td>хабиров</td>\n",
       "      <td>господина хабирова в партии</td>\n",
       "      <td>True</td>\n",
       "      <td>0</td>\n",
       "    </tr>\n",
       "    <tr>\n",
       "      <th>9</th>\n",
       "      <td>хабиров</td>\n",
       "      <td>хабиров</td>\n",
       "      <td>господин хабиров был пригл</td>\n",
       "      <td>True</td>\n",
       "      <td>0</td>\n",
       "    </tr>\n",
       "    <tr>\n",
       "      <th>10</th>\n",
       "      <td>мурзагалиев</td>\n",
       "      <td>мурзагалиев</td>\n",
       "      <td>господина мурзагалиева, пока не</td>\n",
       "      <td>True</td>\n",
       "      <td>0</td>\n",
       "    </tr>\n",
       "    <tr>\n",
       "      <th>11</th>\n",
       "      <td>дмитрий медведев</td>\n",
       "      <td>дмитрий медведев</td>\n",
       "      <td>зидент рф дмитрий медведев поручил п</td>\n",
       "      <td>True</td>\n",
       "      <td>0</td>\n",
       "    </tr>\n",
       "    <tr>\n",
       "      <th>12</th>\n",
       "      <td>игорь юсуфов</td>\n",
       "      <td>игорь юсуфов</td>\n",
       "      <td>нергетики игоря юсуфова, который</td>\n",
       "      <td>True</td>\n",
       "      <td>0</td>\n",
       "    </tr>\n",
       "    <tr>\n",
       "      <th>13</th>\n",
       "      <td>путин</td>\n",
       "      <td>путин</td>\n",
       "      <td>дали, что путин или сечин</td>\n",
       "      <td>True</td>\n",
       "      <td>0</td>\n",
       "    </tr>\n",
       "    <tr>\n",
       "      <th>14</th>\n",
       "      <td>сечин</td>\n",
       "      <td>сечин</td>\n",
       "      <td>путин или сечин сделают ю</td>\n",
       "      <td>True</td>\n",
       "      <td>0</td>\n",
       "    </tr>\n",
       "    <tr>\n",
       "      <th>15</th>\n",
       "      <td>игорь юсуфов</td>\n",
       "      <td>игорь юсуфов</td>\n",
       "      <td>я с самим игорем юсуфовым \"ъ\" вчера</td>\n",
       "      <td>True</td>\n",
       "      <td>0</td>\n",
       "    </tr>\n",
       "    <tr>\n",
       "      <th>16</th>\n",
       "      <td>сечин</td>\n",
       "      <td>сечин</td>\n",
       "      <td>ло письмо сечина на имя ми</td>\n",
       "      <td>True</td>\n",
       "      <td>0</td>\n",
       "    </tr>\n",
       "    <tr>\n",
       "      <th>17</th>\n",
       "      <td>анатолий чубайс</td>\n",
       "      <td>анатолий чубайс</td>\n",
       "      <td>правления анатолия чубайса в 1998 го</td>\n",
       "      <td>True</td>\n",
       "      <td>0</td>\n",
       "    </tr>\n",
       "    <tr>\n",
       "      <th>18</th>\n",
       "      <td>пономарев</td>\n",
       "      <td>пономарев</td>\n",
       "      <td>господина пономарева, необходи</td>\n",
       "      <td>True</td>\n",
       "      <td>0</td>\n",
       "    </tr>\n",
       "    <tr>\n",
       "      <th>19</th>\n",
       "      <td>игорь юсуфов</td>\n",
       "      <td>игорь юсуфов</td>\n",
       "      <td>нергетики игоря юсуфова. сейчас о</td>\n",
       "      <td>True</td>\n",
       "      <td>0</td>\n",
       "    </tr>\n",
       "  </tbody>\n",
       "</table>\n",
       "</div>"
      ],
      "text/plain": [
       "             ethalon            result                                 input  \\\n",
       "0   григорий карасин  григорий карасин  ел россии григорий карасин заявил в    \n",
       "1              путин             путин             недоимки. путин попросил    \n",
       "2              путин             путин             а котором путин раскритик   \n",
       "3              путин             путин            по мнению путина, это дела   \n",
       "4              путин             путин            ступления путина глава фас   \n",
       "5              путин             путин            ступления путина, его ведо   \n",
       "6                буш               буш               ия с сша. буш несколько   \n",
       "7       игорь юсуфов      игорь юсуфов     дничеству игоря юсуфова, председа   \n",
       "8            хабиров           хабиров          господина хабирова в партии    \n",
       "9            хабиров           хабиров            господин хабиров был пригл   \n",
       "10       мурзагалиев       мурзагалиев      господина мурзагалиева, пока не    \n",
       "11  дмитрий медведев  дмитрий медведев  зидент рф дмитрий медведев поручил п   \n",
       "12      игорь юсуфов      игорь юсуфов     нергетики игоря юсуфова, который    \n",
       "13             путин             путин             дали, что путин или сечин   \n",
       "14             сечин             сечин             путин или сечин сделают ю   \n",
       "15      игорь юсуфов      игорь юсуфов   я с самим игорем юсуфовым \"ъ\" вчера   \n",
       "16             сечин             сечин            ло письмо сечина на имя ми   \n",
       "17   анатолий чубайс   анатолий чубайс  правления анатолия чубайса в 1998 го   \n",
       "18         пономарев         пономарев        господина пономарева, необходи   \n",
       "19      игорь юсуфов      игорь юсуфов     нергетики игоря юсуфова. сейчас о   \n",
       "\n",
       "    matched  distance  \n",
       "0      True         0  \n",
       "1      True         0  \n",
       "2      True         0  \n",
       "3      True         0  \n",
       "4      True         0  \n",
       "5      True         0  \n",
       "6      True         0  \n",
       "7      True         0  \n",
       "8      True         0  \n",
       "9      True         0  \n",
       "10     True         0  \n",
       "11     True         0  \n",
       "12     True         0  \n",
       "13     True         0  \n",
       "14     True         0  \n",
       "15     True         0  \n",
       "16     True         0  \n",
       "17     True         0  \n",
       "18     True         0  \n",
       "19     True         0  "
      ]
     },
     "execution_count": 71,
     "metadata": {},
     "output_type": "execute_result"
    }
   ],
   "source": [
    "df.head(20)"
   ]
  },
  {
   "cell_type": "code",
   "execution_count": 72,
   "metadata": {
    "collapsed": true
   },
   "outputs": [],
   "source": [
    "df.to_csv('results_cleaned_2_5.csv', encoding='windows-1251')"
   ]
  },
  {
   "cell_type": "code",
   "execution_count": null,
   "metadata": {
    "collapsed": true
   },
   "outputs": [],
   "source": [
    "torch.save(encoder.state_dict(), 'encoder.pt')\n",
    "torch.save(decoder.state_dict(),'decoder.pt')"
   ]
  },
  {
   "cell_type": "markdown",
   "metadata": {},
   "source": [
    "# Сгенерированные сущности для проверки механизма\n",
    "Сущности имеют вид: [Основа прилагательного(3-7 символов)] + [окончание соотв роду] + [Основа cуществительного(3-7 символов)] + [окончание соотв роду] + [Глагол в одном из двух падежей]"
   ]
  },
  {
   "cell_type": "code",
   "execution_count": 1,
   "metadata": {},
   "outputs": [
    {
     "name": "stdout",
     "output_type": "stream",
     "text": [
      "Offset:0\tLength:20\tValue:bhch ffgdfe\tContext:bhcha ffgdfea chhbbu\tContext offset:0\n",
      "Offset:0\tLength:18\tValue:gceea fbbeda\tContext:gceeou fbbedu bfdu\tContext offset:0\n",
      "Offset:0\tLength:18\tValue:edebd dec\tContext:edebda deca febhdu\tContext offset:0\n",
      "Offset:0\tLength:19\tValue:defa hgbhheha\tContext:defa hgbhheha cccba\tContext offset:0\n",
      "Offset:0\tLength:17\tValue:fhgbeba chha\tContext:fhgbeba chha gffa\tContext offset:0\n",
      "Offset:0\tLength:18\tValue:cfdhbha chfa\tContext:cfdhbhou chfu dhbu\tContext offset:0\n",
      "Offset:0\tLength:18\tValue:hbgca hfdbba\tContext:hbgca hfdbba efcba\tContext offset:0\n",
      "Offset:0\tLength:22\tValue:bbce dhbfed\tContext:bbcea dhbfeda bbgbbegu\tContext offset:0\n",
      "Offset:0\tLength:21\tValue:fbbeeeh hhcdbhd\tContext:fbbeeeh hhcdbhd hcebf\tContext offset:0\n",
      "Offset:0\tLength:17\tValue:dddba bdda\tContext:dddbou bddu dfgfu\tContext offset:0\n",
      "Offset:0\tLength:24\tValue:gddcgda ceceheba\tContext:gddcgda ceceheba fhbdefa\tContext offset:0\n",
      "Offset:0\tLength:22\tValue:fbhgea dbchdeca\tContext:fbhgea dbchdeca edbeca\tContext offset:0\n",
      "Offset:0\tLength:16\tValue:ceda ddha\tContext:cedou ddhu ggfcu\tContext offset:0\n",
      "Offset:0\tLength:24\tValue:ghegdc bfcfgb\tContext:ghegdca bfcfgba gghfhedu\tContext offset:0\n",
      "Offset:0\tLength:21\tValue:edbba bddbgdga\tContext:edbbou bddbgdgu bfccu\tContext offset:0\n",
      "Offset:0\tLength:19\tValue:bcga ggeda\tContext:bcga ggeda ffcbgcba\tContext offset:0\n",
      "Offset:0\tLength:24\tValue:bfdffb fedcdd\tContext:bfdffba fedcdda bbhhhebu\tContext offset:0\n",
      "Offset:0\tLength:21\tValue:ehb efghebe\tContext:ehba efghebea bgcedeu\tContext offset:0\n",
      "Offset:0\tLength:20\tValue:bbbdch bfcde\tContext:bbbdch bfcde fccceeb\tContext offset:0\n",
      "Offset:0\tLength:19\tValue:fdheha chga\tContext:fdhehou chgu fhdbeu\tContext offset:0\n"
     ]
    }
   ],
   "source": [
    "from mockentries import two_case_entries\n",
    "\n",
    "entries = two_case_entries(20)\n",
    "for entry in entries:\n",
    "    print(entry)"
   ]
  },
  {
   "cell_type": "code",
   "execution_count": 3,
   "metadata": {
    "collapsed": true
   },
   "outputs": [],
   "source": [
    "from entriesprocessor import EntriesProcessor\n",
    "from trainer import Trainer\n",
    "from model import Decoder, Encoder\n",
    "import torch"
   ]
  },
  {
   "cell_type": "code",
   "execution_count": 4,
   "metadata": {},
   "outputs": [
    {
     "name": "stdout",
     "output_type": "stream",
     "text": [
      "3003 26997\n"
     ]
    }
   ],
   "source": [
    "entries = two_case_entries(30000)\n",
    "ep = EntriesProcessor(20, 40,0)\n",
    "# voc_size = 10\n",
    "ep.process(entries)\n",
    "voc_size = ep.symbols_counter\n",
    "print(len(ep.X_data_test), len(ep.X_data_train))"
   ]
  },
  {
   "cell_type": "code",
   "execution_count": 5,
   "metadata": {
    "collapsed": true
   },
   "outputs": [],
   "source": [
    "EMBEDDING_SIZE = 10\n",
    "HIDDEN_SIZE = 200\n",
    "device = torch.device(\"cuda\" if torch.cuda.is_available() else \"cpu\")\n",
    "encoder = Encoder(input_size=voc_size, hidden_size=HIDDEN_SIZE, embedding_size=EMBEDDING_SIZE).to(device)\n",
    "decoder = Decoder(hidden_size=HIDDEN_SIZE, embedding_size=EMBEDDING_SIZE, output_size=voc_size, max_length=40).to(device)\n",
    "trainer = Trainer(encoder,decoder,ep,max_input_length=40, max_output_length=20)"
   ]
  },
  {
   "cell_type": "code",
   "execution_count": 7,
   "metadata": {
    "collapsed": true
   },
   "outputs": [],
   "source": [
    "train_losses_all, test_losses_all = [], []"
   ]
  },
  {
   "cell_type": "code",
   "execution_count": 20,
   "metadata": {},
   "outputs": [
    {
     "name": "stdout",
     "output_type": "stream",
     "text": [
      "\n",
      "Epoch 1\n",
      "\tTrain Loss: 0.851337 \t Time: 20s\n",
      "\tTest Loss: 0.783537 \t Time: 0s\n",
      "Epoch 2\n",
      "\tTrain Loss: 0.832669 \t Time: 20s\n",
      "\tTest Loss: 0.753233 \t Time: 0s\n",
      "Epoch 3\n",
      "\tTrain Loss: 0.782680 \t Time: 20s\n",
      "\tTest Loss: 0.732383 \t Time: 0s\n",
      "Epoch 4\n",
      "\tTrain Loss: 0.805313 \t Time: 20s\n",
      "\tTest Loss: 0.695999 \t Time: 0s\n",
      "Epoch 5\n",
      "\tTrain Loss: 0.831109 \t Time: 21s\n",
      "\tTest Loss: 0.693417 \t Time: 0s\n",
      "Epoch 6\n",
      "\tTrain Loss: 0.737945 \t Time: 20s\n",
      "\tTest Loss: 0.638591 \t Time: 0s\n",
      "Epoch 7\n",
      "\tTrain Loss: 0.710886 \t Time: 20s\n",
      "\tTest Loss: 0.605180 \t Time: 0s\n",
      "Epoch 8\n",
      "\tTrain Loss: 0.680344 \t Time: 20s\n",
      "\tTest Loss: 0.552253 \t Time: 0s\n",
      "Epoch 9\n",
      "\tTrain Loss: 0.663991 \t Time: 20s\n",
      "\tTest Loss: 0.519573 \t Time: 0s\n",
      "Epoch 10\n",
      "\tTrain Loss: 0.577398 \t Time: 20s\n",
      "\tTest Loss: 0.477038 \t Time: 0s\n",
      "Epoch 11\n",
      "\tTrain Loss: 0.563474 \t Time: 20s\n",
      "\tTest Loss: 0.417709 \t Time: 0s\n",
      "Epoch 12\n",
      "\tTrain Loss: 0.527981 \t Time: 20s\n",
      "\tTest Loss: 0.361324 \t Time: 0s\n",
      "Epoch 13\n",
      "\tTrain Loss: 0.421125 \t Time: 20s\n",
      "\tTest Loss: 0.311936 \t Time: 0s\n",
      "Epoch 14\n",
      "\tTrain Loss: 0.453693 \t Time: 20s\n",
      "\tTest Loss: 0.283695 \t Time: 0s\n",
      "Epoch 15\n",
      "\tTrain Loss: 0.346250 \t Time: 20s\n",
      "\tTest Loss: 0.632116 \t Time: 0s\n",
      "Epoch 16\n",
      "\tTrain Loss: 0.300925 \t Time: 20s\n",
      "\tTest Loss: 0.180603 \t Time: 0s\n",
      "Epoch 17\n",
      "\tTrain Loss: 0.236957 \t Time: 20s\n",
      "\tTest Loss: 0.155700 \t Time: 0s\n",
      "Epoch 18\n",
      "\tTrain Loss: 0.180523 \t Time: 20s\n",
      "\tTest Loss: 0.111277 \t Time: 0s\n",
      "Epoch 19\n",
      "\tTrain Loss: 0.272155 \t Time: 20s\n",
      "\tTest Loss: 0.108252 \t Time: 0s\n",
      "Epoch 20\n",
      "\tTrain Loss: 0.128056 \t Time: 20s\n",
      "\tTest Loss: 0.068863 \t Time: 0s\n"
     ]
    }
   ],
   "source": [
    "train_losses, test_losses = trainer.train(20, batch_size=256)\n",
    "train_losses_all.extend(train_losses)\n",
    "test_losses_all.extend(test_losses)"
   ]
  },
  {
   "cell_type": "code",
   "execution_count": 21,
   "metadata": {},
   "outputs": [
    {
     "data": {
      "image/png": "[encoded data removed]",
      "text/plain": [
       "<matplotlib.figure.Figure at 0x1e816ecb390>"
      ]
     },
     "metadata": {},
     "output_type": "display_data"
    }
   ],
   "source": [
    "plt.figure(figsize=(20,12))\n",
    "plt.plot(train_losses_all, label='train')\n",
    "plt.plot(test_losses_all, label='test')\n",
    "plt.legend()\n",
    "plt.show()"
   ]
  },
  {
   "cell_type": "code",
   "execution_count": 13,
   "metadata": {},
   "outputs": [
    {
     "data": {
      "text/plain": [
       "{' ': 12,\n",
       " '<EOS>': 1,\n",
       " '<PAD>': 0,\n",
       " '<SOS>': 2,\n",
       " '<UNK>': 3,\n",
       " 'a': 4,\n",
       " 'b': 7,\n",
       " 'c': 8,\n",
       " 'd': 6,\n",
       " 'e': 11,\n",
       " 'f': 10,\n",
       " 'g': 3,\n",
       " 'h': 9,\n",
       " 'o': 13,\n",
       " 'u': 5}"
      ]
     },
     "execution_count": 13,
     "metadata": {},
     "output_type": "execute_result"
    }
   ],
   "source": [
    "ep.symbols_dict"
   ]
  },
  {
   "cell_type": "code",
   "execution_count": 14,
   "metadata": {},
   "outputs": [
    {
     "data": {
      "text/plain": [
       "array([  0.,   2.,  10.,   9.,  11.,   3.,  10.,  10.,  11.,   4.,  12.,\n",
       "        11.,   6.,   6.,   8.,   3.,  11.,   6.,   4.,  12.,   9.,  11.,\n",
       "        10.,   4.,   1.,   0.,   0.,   0.,   0.,   0.,   0.,   0.,   0.,\n",
       "         0.,   0.,   0.,   0.,   0.,   0.,   0.])"
      ]
     },
     "execution_count": 14,
     "metadata": {},
     "output_type": "execute_result"
    }
   ],
   "source": [
    "ep.X_data_test[0]\n"
   ]
  },
  {
   "cell_type": "code",
   "execution_count": 15,
   "metadata": {},
   "outputs": [
    {
     "data": {
      "text/plain": [
       "array([ 10.,   9.,  11.,   3.,  10.,  10.,  11.,   4.,  12.,  11.,   6.,\n",
       "         6.,   8.,   3.,  11.,   6.,   4.,   1.,   0.,   0.])"
      ]
     },
     "execution_count": 15,
     "metadata": {},
     "output_type": "execute_result"
    }
   ],
   "source": [
    "ep.y_data_test[0]"
   ]
  },
  {
   "cell_type": "code",
   "execution_count": 22,
   "metadata": {},
   "outputs": [
    {
     "name": "stdout",
     "output_type": "stream",
     "text": [
      "['#', '#', 'f', 'h', 'e', 'g', 'f', 'f', 'e', 'a', '_', 'e', 'd', 'd', 'c', 'g', 'e', 'd', 'a', '_', 'h', 'e', 'f', 'a', '#', '#', '#', '#', '#', '#', '#', '#', '#', '#', '#', '#', '#', '#', '#', '#']\n"
     ]
    },
    {
     "data": {
      "image/png": "[encoded data removed]",
      "text/plain": [
       "<matplotlib.figure.Figure at 0x1e82a3b19b0>"
      ]
     },
     "metadata": {},
     "output_type": "display_data"
    }
   ],
   "source": [
    "a,b,c = trainer.evaluate_with_attn(ep.X_data_test[0:1])\n",
    "a2 = []\n",
    "b2 = []\n",
    "for elem in a:\n",
    "    if elem == ' ':\n",
    "        a2.append('_')\n",
    "    elif len(elem) != 1:\n",
    "        a2.append('#')    \n",
    "    else:\n",
    "        a2.append(elem)\n",
    "\n",
    "for elem in b:\n",
    "    if elem == ' ':\n",
    "        b2.append('_')\n",
    "    elif len(elem) != 1:\n",
    "        b2.append('#')    \n",
    "    else:\n",
    "        b2.append(elem)\n",
    "print(a2)\n",
    "showAttention(a2,b2,c)"
   ]
  },
  {
   "cell_type": "code",
   "execution_count": 24,
   "metadata": {},
   "outputs": [
    {
     "name": "stdout",
     "output_type": "stream",
     "text": [
      "['#', '#', 'd', 'f', 'g', 'g', 'h', 'd', 'd', 'o', 'u', '_', 'c', 'b', 'h', 'u', '_', 'h', 'f', 'e', 'u', '#', '#', '#', '#', '#', '#', '#', '#', '#', '#', '#', '#', '#', '#', '#', '#', '#', '#', '#']\n"
     ]
    },
    {
     "data": {
      "image/png": "[encoded data removed]",
      "text/plain": [
       "<matplotlib.figure.Figure at 0x1e82a3b1d68>"
      ]
     },
     "metadata": {},
     "output_type": "display_data"
    }
   ],
   "source": [
    "a,b,c = trainer.evaluate_with_attn(ep.X_data_test[2:3])\n",
    "a2 = []\n",
    "b2 = []\n",
    "for elem in a:\n",
    "    if elem == ' ':\n",
    "        a2.append('_')\n",
    "    elif len(elem) != 1:\n",
    "        a2.append('#')    \n",
    "    else:\n",
    "        a2.append(elem)\n",
    "\n",
    "for elem in b:\n",
    "    if elem == ' ':\n",
    "        b2.append('_')\n",
    "    elif len(elem) != 1:\n",
    "        b2.append('#')    \n",
    "    else:\n",
    "        b2.append(elem)\n",
    "print(a2)\n",
    "showAttention(a2,b2,c)"
   ]
  },
  {
   "cell_type": "code",
   "execution_count": 25,
   "metadata": {},
   "outputs": [
    {
     "name": "stdout",
     "output_type": "stream",
     "text": [
      "['#', '#', 'h', 'g', 'e', 'e', 'b', 'f', '_', 'd', 'h', 'h', 'c', '_', 'h', 'd', 'f', 'g', 'f', '#', '#', '#', '#', '#', '#', '#', '#', '#', '#', '#', '#', '#', '#', '#', '#', '#', '#', '#', '#', '#']\n"
     ]
    },
    {
     "data": {
      "image/png": "[encoded data removed]",
      "text/plain": [
       "<matplotlib.figure.Figure at 0x1e82a3b17f0>"
      ]
     },
     "metadata": {},
     "output_type": "display_data"
    }
   ],
   "source": [
    "a,b,c = trainer.evaluate_with_attn(ep.X_data_test[3:4])\n",
    "a2 = []\n",
    "b2 = []\n",
    "for elem in a:\n",
    "    if elem == ' ':\n",
    "        a2.append('_')\n",
    "    elif len(elem) != 1:\n",
    "        a2.append('#')    \n",
    "    else:\n",
    "        a2.append(elem)\n",
    "\n",
    "for elem in b:\n",
    "    if elem == ' ':\n",
    "        b2.append('_')\n",
    "    elif len(elem) != 1:\n",
    "        b2.append('#')    \n",
    "    else:\n",
    "        b2.append(elem)\n",
    "print(a2)\n",
    "showAttention(a2,b2,c)"
   ]
  },
  {
   "cell_type": "code",
   "execution_count": 26,
   "metadata": {},
   "outputs": [
    {
     "name": "stdout",
     "output_type": "stream",
     "text": [
      "['#', '#', 'b', 'g', 'f', 'g', 'o', 'u', '_', 'h', 'c', 'e', 'd', 'g', 'e', 'u', '_', 'd', 'e', 'e', 'g', 'c', 'u', '#', '#', '#', '#', '#', '#', '#', '#', '#', '#', '#', '#', '#', '#', '#', '#', '#']\n"
     ]
    },
    {
     "data": {
      "image/png": "[encoded data removed]",
      "text/plain": [
       "<matplotlib.figure.Figure at 0x1e82a3b1cf8>"
      ]
     },
     "metadata": {},
     "output_type": "display_data"
    }
   ],
   "source": [
    "a,b,c = trainer.evaluate_with_attn(ep.X_data_test[4:5])\n",
    "a2 = []\n",
    "b2 = []\n",
    "for elem in a:\n",
    "    if elem == ' ':\n",
    "        a2.append('_')\n",
    "    elif len(elem) != 1:\n",
    "        a2.append('#')    \n",
    "    else:\n",
    "        a2.append(elem)\n",
    "\n",
    "for elem in b:\n",
    "    if elem == ' ':\n",
    "        b2.append('_')\n",
    "    elif len(elem) != 1:\n",
    "        b2.append('#')    \n",
    "    else:\n",
    "        b2.append(elem)\n",
    "print(a2)\n",
    "showAttention(a2,b2,c)"
   ]
  },
  {
   "cell_type": "markdown",
   "metadata": {},
   "source": [
    "# Pytorch CRF"
   ]
  },
  {
   "cell_type": "code",
   "execution_count": 12,
   "metadata": {
    "collapsed": true
   },
   "outputs": [],
   "source": [
    "from entriesprocessor import EntriesProcessor\n",
    "from trainerpytorchcrf import TrainerPythonCRF\n",
    "from model import Encoder, DecoderPythonCRF\n",
    "from mockentries import two_case_entries\n",
    "import torch"
   ]
  },
  {
   "cell_type": "code",
   "execution_count": 2,
   "metadata": {},
   "outputs": [
    {
     "name": "stdout",
     "output_type": "stream",
     "text": [
      "3000 27000\n"
     ]
    }
   ],
   "source": [
    "entries = two_case_entries(30000)\n",
    "ep = EntriesProcessor(20, 40, 0)\n",
    "# voc_size = 10\n",
    "ep.process(entries)\n",
    "voc_size = ep.symbols_counter\n",
    "print(len(ep.X_data_test), len(ep.X_data_train))\n",
    "EMBEDDING_SIZE = 10\n",
    "HIDDEN_SIZE = 200\n",
    "device = torch.device(\"cuda\" if torch.cuda.is_available() else \"cpu\")\n",
    "encoder = Encoder(input_size=voc_size, hidden_size=HIDDEN_SIZE, embedding_size=EMBEDDING_SIZE).to(device)\n",
    "decoder = DecoderPythonCRF(hidden_size=HIDDEN_SIZE,\n",
    "                           embedding_size=EMBEDDING_SIZE,\n",
    "                           output_size=voc_size,\n",
    "                           max_length=40).to(device)\n",
    "trainer = TrainerPythonCRF(encoder, decoder, ep, max_input_length=40, max_output_length=20, device=device)\n"
   ]
  },
  {
   "cell_type": "code",
   "execution_count": 22,
   "metadata": {},
   "outputs": [
    {
     "name": "stdout",
     "output_type": "stream",
     "text": [
      "\n",
      "Epoch 1\n",
      "\tTrain Loss: 0.727413 \t Time: 14s\n",
      "Epoch 2\n",
      "\tTrain Loss: 0.705551 \t Time: 14s\n",
      "Epoch 3\n",
      "\tTrain Loss: 0.723971 \t Time: 14s\n",
      "Epoch 4\n",
      "\tTrain Loss: 0.676693 \t Time: 14s\n",
      "Epoch 5\n",
      "\tTrain Loss: 0.718180 \t Time: 15s\n",
      "Epoch 6\n",
      "\tTrain Loss: 0.634068 \t Time: 14s\n",
      "Epoch 7\n",
      "\tTrain Loss: 0.605566 \t Time: 14s\n",
      "Epoch 8\n",
      "\tTrain Loss: 0.634771 \t Time: 14s\n",
      "Epoch 9\n",
      "\tTrain Loss: 0.693963 \t Time: 14s\n",
      "Epoch 10\n",
      "\tTrain Loss: 0.662667 \t Time: 14s\n",
      "Epoch 11\n",
      "\tTrain Loss: 0.604051 \t Time: 14s\n",
      "Epoch 12\n",
      "\tTrain Loss: 0.653985 \t Time: 14s\n",
      "Epoch 13\n",
      "\tTrain Loss: 0.612999 \t Time: 14s\n",
      "Epoch 14\n",
      "\tTrain Loss: 0.659264 \t Time: 14s\n",
      "Epoch 15\n",
      "\tTrain Loss: 0.648727 \t Time: 15s\n",
      "Epoch 16\n",
      "\tTrain Loss: 0.666188 \t Time: 15s\n",
      "Epoch 17\n",
      "\tTrain Loss: 0.606501 \t Time: 15s\n",
      "Epoch 18\n",
      "\tTrain Loss: 0.606535 \t Time: 14s\n",
      "Epoch 19\n",
      "\tTrain Loss: 0.648370 \t Time: 14s\n",
      "Epoch 20\n",
      "\tTrain Loss: 0.622488 \t Time: 15s\n"
     ]
    },
    {
     "data": {
      "text/plain": [
       "([0.727413054625943,\n",
       "  0.7055505573187234,\n",
       "  0.723970743282786,\n",
       "  0.6766929871068811,\n",
       "  0.7181796996660952,\n",
       "  0.6340680164548586,\n",
       "  0.6055662682596242,\n",
       "  0.6347711820085093,\n",
       "  0.6939627682825305,\n",
       "  0.6626668538687364,\n",
       "  0.6040513085306816,\n",
       "  0.6539846341002662,\n",
       "  0.6129994167471832,\n",
       "  0.6592636406421661,\n",
       "  0.6487269769862013,\n",
       "  0.6661881416473748,\n",
       "  0.6065006216741958,\n",
       "  0.6065347458956376,\n",
       "  0.6483698903389696,\n",
       "  0.6224881121010151],\n",
       " [])"
      ]
     },
     "execution_count": 22,
     "metadata": {},
     "output_type": "execute_result"
    }
   ],
   "source": [
    "trainer.train(20, batch_size=512)"
   ]
  },
  {
   "cell_type": "code",
   "execution_count": 23,
   "metadata": {
    "collapsed": true
   },
   "outputs": [],
   "source": [
    "ethalons, results, inputs, matched, distances = trainer.test_model(False, 100)"
   ]
  },
  {
   "cell_type": "code",
   "execution_count": 24,
   "metadata": {},
   "outputs": [
    {
     "name": "stdout",
     "output_type": "stream",
     "text": [
      "Accuracy:  0.0\n",
      "Mean distance:  8.09\n"
     ]
    }
   ],
   "source": [
    "import numpy as np\n",
    "print('Accuracy: ', np.mean(matched))\n",
    "print('Mean distance: ', np.mean(distances))"
   ]
  },
  {
   "cell_type": "code",
   "execution_count": 25,
   "metadata": {},
   "outputs": [
    {
     "name": "stdout",
     "output_type": "stream",
     "text": [
      "[['e', 'e', 'f', 'd', 'e', 'c', 'a', ' ', 'h', 'b', 'c', 'b', 'c', 'h', 'a', 'a', '<EOS>', 'h', 'c', '<EOS>'], ['e', 'h', 'd', 'e', 'a', ' ', 'g', 'g', 'c', 'f', 'c', 'g', 'g', 'a', ' ', 'g', 'g', 'c', 'g', '<EOS>'], ['h', 'g', 'e', 'c', 'd', 'g', 'e', ' ', 'h', 'e', 'f', 'g', 'd', 'd', 'e', 'd', 'a', ' ', 'h', '<EOS>'], ['h', 'h', 'g', 'f', 'a', ' ', 'f', 'd', 'e', 'b', 'd', 'a', '<EOS>', 'g', 'c', 'a', '<EOS>', 'c', 'a', '<EOS>'], ['f', 'f', 'd', ' ', 'd', 'c', 'f', 'g', 'g', 'a', ' ', 'g', 'c', 'e', 'h', 'e', 'e', 'h', 'g', '<EOS>'], ['e', 'e', 'b', 'a', ' ', 'c', 'e', 'h', 'f', 'a', '<EOS>', 'e', 'd', 'b', 'b', 'f', 'd', 'f', 'a', '<EOS>'], ['c', 'c', 'b', 'd', 'b', ' ', 'c', 'c', 'g', 'd', 'f', 'd', 'g', 'g', 'f', 'h', 'g', 'g', 'd', '<EOS>'], ['e', 'g', 'e', 'b', 'h', 'e', 'd', 'a', ' ', 'b', 'g', 'b', 'f', 'a', ' ', 'd', 'a', '<EOS>', 'a', '<EOS>'], ['c', 'c', 'b', ' ', 'b', 'e', 'c', 'g', 'e', 'h', 'd', '<EOS>', 'c', 'e', 'g', 'g', 'e', 'g', 'h', '<EOS>'], ['h', 'b', 'h', 'g', 'b', 'a', ' ', 'g', 'g', 'g', 'e', 'e', 'd', 'g', 'a', ' ', 'g', 'g', 'e', '<EOS>']]\n"
     ]
    }
   ],
   "source": [
    "print(results[:10])"
   ]
  },
  {
   "cell_type": "code",
   "execution_count": 26,
   "metadata": {},
   "outputs": [
    {
     "data": {
      "text/plain": [
       "['eefdecou hbcbchu bdfu',\n",
       " 'ehdeou ggcfcggu dheu',\n",
       " 'hgecdgea hefgdeda hcgu',\n",
       " 'hhgfa fdebda gcchcbgu',\n",
       " 'ffda dcfga gceheha',\n",
       " 'eeba cehfa edbbfda',\n",
       " 'ccbdb ccgdfdg fhgdbg',\n",
       " 'egebheda bgbfa decba',\n",
       " 'ccb becgehd ceg',\n",
       " 'hbhgbou gggeedgu bhcffhgu']"
      ]
     },
     "execution_count": 26,
     "metadata": {},
     "output_type": "execute_result"
    }
   ],
   "source": [
    "inputs[:10]"
   ]
  },
  {
   "cell_type": "code",
   "execution_count": 27,
   "metadata": {},
   "outputs": [
    {
     "name": "stdout",
     "output_type": "stream",
     "text": [
      "eefdeca hbcbchaahc\n",
      "ehdea ggcfcgga ggcg\n",
      "hgecdge hefgddeda h\n",
      "hhgfa fdebdagcaca\n",
      "ffd dcfgga gceheehg\n",
      "eeba cehfaedbbfdfa\n",
      "ccbdb ccgdfdggfhggd\n",
      "egebheda bgbfa daa\n",
      "ccb becgehdceggegh\n",
      "hbhgba gggeedga gge\n"
     ]
    }
   ],
   "source": [
    "for res in results[:10]:\n",
    "    print(\"\".join(filter(lambda x: len(x) == 1, res)))"
   ]
  },
  {
   "cell_type": "markdown",
   "metadata": {},
   "source": [
    "# PytorchCRF on real data"
   ]
  },
  {
   "cell_type": "code",
   "execution_count": 13,
   "metadata": {
    "collapsed": true
   },
   "outputs": [],
   "source": [
    "device = torch.device(\"cuda\" if torch.cuda.is_available() else \"cpu\")\n",
    "encoder = Encoder(input_size=voc_size, hidden_size=HIDDEN_SIZE, embedding_size=EMBEDDING_SIZE).to(device)\n",
    "decoder = DecoderPythonCRF(hidden_size=HIDDEN_SIZE, embedding_size=EMBEDDING_SIZE, output_size=voc_size, max_length=40).to(device)\n",
    "trainer = TrainerPythonCRF(encoder,decoder,ep,max_input_length=40, max_output_length=20, device=device)"
   ]
  },
  {
   "cell_type": "code",
   "execution_count": 14,
   "metadata": {
    "collapsed": true
   },
   "outputs": [],
   "source": [
    "train_losses_all, test_losses_all = [], []"
   ]
  },
  {
   "cell_type": "code",
   "execution_count": 22,
   "metadata": {},
   "outputs": [
    {
     "name": "stdout",
     "output_type": "stream",
     "text": [
      "\n",
      "Epoch 1\n",
      "\tTrain Loss: 0.480692 \t Time: 34s\n",
      "\tTest Loss: 0.971144 \t Time: 1s\n"
     ]
    }
   ],
   "source": [
    "train_losses, test_losses = trainer.train(1, batch_size=256)\n",
    "train_losses_all.extend(train_losses)\n",
    "test_losses_all.extend(test_losses)"
   ]
  },
  {
   "cell_type": "code",
   "execution_count": 27,
   "metadata": {},
   "outputs": [
    {
     "name": "stdout",
     "output_type": "stream",
     "text": [
      "Accuracy:  0.864704293816\n",
      "Mean distance:  0.208749662436\n"
     ]
    }
   ],
   "source": [
    "import numpy as np\n",
    "ethalons, results, inputs, matched, distances = trainer.test_model(False)\n",
    "results2 = list(map(lambda x: ''.join(filter(lambda y: len(y) == 1, x)), results))\n",
    "distances = list(map(lambda x: distance(x[0],x[1]), zip(results2, ethalons) ))\n",
    "matched = list(map(lambda x: x[0] == x[1], zip(results2, ethalons)))\n",
    "print('Accuracy: ', np.mean(matched))\n",
    "print('Mean distance: ', np.mean(distances))"
   ]
  },
  {
   "cell_type": "code",
   "execution_count": 34,
   "metadata": {},
   "outputs": [
    {
     "data": {
      "image/png": "[encoded data removed]",
      "text/plain": [
       "<Figure size 1440x864 with 1 Axes>"
      ]
     },
     "metadata": {},
     "output_type": "display_data"
    }
   ],
   "source": [
    "plt.figure(figsize=(20,12))\n",
    "plt.plot(train_losses_all, label='train')\n",
    "plt.plot(test_losses_all, label='test')\n",
    "plt.legend()\n",
    "plt.show()"
   ]
  },
  {
   "cell_type": "code",
   "execution_count": 24,
   "metadata": {},
   "outputs": [
    {
     "data": {
      "text/html": [
       "<div>\n",
       "<style>\n",
       "    .dataframe thead tr:only-child th {\n",
       "        text-align: right;\n",
       "    }\n",
       "\n",
       "    .dataframe thead th {\n",
       "        text-align: left;\n",
       "    }\n",
       "\n",
       "    .dataframe tbody tr th {\n",
       "        vertical-align: top;\n",
       "    }\n",
       "</style>\n",
       "<table border=\"1\" class=\"dataframe\">\n",
       "  <thead>\n",
       "    <tr style=\"text-align: right;\">\n",
       "      <th></th>\n",
       "      <th>ethalon</th>\n",
       "      <th>result</th>\n",
       "      <th>input</th>\n",
       "      <th>matched</th>\n",
       "      <th>distance</th>\n",
       "    </tr>\n",
       "  </thead>\n",
       "  <tbody>\n",
       "    <tr>\n",
       "      <th>0</th>\n",
       "      <td>владимир путин</td>\n",
       "      <td>владимир путин</td>\n",
       "      <td>онце июля владимир путин на совеща</td>\n",
       "      <td>True</td>\n",
       "      <td>0</td>\n",
       "    </tr>\n",
       "    <tr>\n",
       "      <th>1</th>\n",
       "      <td>игорь чайка</td>\n",
       "      <td>игорь чайка</td>\n",
       "      <td>нпрокурор игорь чайка также пос</td>\n",
       "      <td>True</td>\n",
       "      <td>0</td>\n",
       "    </tr>\n",
       "    <tr>\n",
       "      <th>2</th>\n",
       "      <td>игорь андрющенко</td>\n",
       "      <td>игорь андрющенко</td>\n",
       "      <td>правлению игорь андрющенко называет</td>\n",
       "      <td>True</td>\n",
       "      <td>0</td>\n",
       "    </tr>\n",
       "    <tr>\n",
       "      <th>3</th>\n",
       "      <td>игорь юсуфов</td>\n",
       "      <td>игорь юсуфов</td>\n",
       "      <td>дничеству игоря юсуфова, председа</td>\n",
       "      <td>True</td>\n",
       "      <td>0</td>\n",
       "    </tr>\n",
       "    <tr>\n",
       "      <th>4</th>\n",
       "      <td>алексей миллер</td>\n",
       "      <td>алексей миллер</td>\n",
       "      <td>газпрома&gt; алексея миллера, члена со</td>\n",
       "      <td>True</td>\n",
       "      <td>0</td>\n",
       "    </tr>\n",
       "    <tr>\n",
       "      <th>5</th>\n",
       "      <td>елена карпель</td>\n",
       "      <td>елена карпель</td>\n",
       "      <td>разования елена карпель и зампред</td>\n",
       "      <td>True</td>\n",
       "      <td>0</td>\n",
       "    </tr>\n",
       "    <tr>\n",
       "      <th>6</th>\n",
       "      <td>олег митволь</td>\n",
       "      <td>олег митволь</td>\n",
       "      <td>олег митволь высадился</td>\n",
       "      <td>True</td>\n",
       "      <td>0</td>\n",
       "    </tr>\n",
       "    <tr>\n",
       "      <th>7</th>\n",
       "      <td>олег митволь</td>\n",
       "      <td>олег митволь</td>\n",
       "      <td>однадзора олег митволь должен бы</td>\n",
       "      <td>True</td>\n",
       "      <td>0</td>\n",
       "    </tr>\n",
       "    <tr>\n",
       "      <th>8</th>\n",
       "      <td>юрий лужков</td>\n",
       "      <td>юрий лужков</td>\n",
       "      <td>\" с мэром юрием лужковым, уточняя,</td>\n",
       "      <td>True</td>\n",
       "      <td>0</td>\n",
       "    </tr>\n",
       "    <tr>\n",
       "      <th>9</th>\n",
       "      <td>олег митволь</td>\n",
       "      <td>олег митволь</td>\n",
       "      <td>ом работы олега митволя станут ос</td>\n",
       "      <td>True</td>\n",
       "      <td>0</td>\n",
       "    </tr>\n",
       "    <tr>\n",
       "      <th>10</th>\n",
       "      <td>юрий лужков</td>\n",
       "      <td>юрий лужков</td>\n",
       "      <td>эр москвы юрий лужков сделал бы</td>\n",
       "      <td>True</td>\n",
       "      <td>0</td>\n",
       "    </tr>\n",
       "    <tr>\n",
       "      <th>11</th>\n",
       "      <td>олег митволь</td>\n",
       "      <td>олег митволь</td>\n",
       "      <td>общил сам олег митволь. по его с</td>\n",
       "      <td>True</td>\n",
       "      <td>0</td>\n",
       "    </tr>\n",
       "    <tr>\n",
       "      <th>12</th>\n",
       "      <td>олег митволь</td>\n",
       "      <td>олег митволь</td>\n",
       "      <td>решен\" и олег митволь будет пре</td>\n",
       "      <td>True</td>\n",
       "      <td>0</td>\n",
       "    </tr>\n",
       "    <tr>\n",
       "      <th>13</th>\n",
       "      <td>юрий лужков</td>\n",
       "      <td>юрий лужков</td>\n",
       "      <td>бщение\" с юрием лужковым по поводу</td>\n",
       "      <td>True</td>\n",
       "      <td>0</td>\n",
       "    </tr>\n",
       "    <tr>\n",
       "      <th>14</th>\n",
       "      <td>олег митволь</td>\n",
       "      <td>олег митволь</td>\n",
       "      <td>азначение олега митволя опытом ра</td>\n",
       "      <td>True</td>\n",
       "      <td>0</td>\n",
       "    </tr>\n",
       "    <tr>\n",
       "      <th>15</th>\n",
       "      <td>олег митволь</td>\n",
       "      <td>олег митволь</td>\n",
       "      <td>2007 году олег митволь и юрий лу</td>\n",
       "      <td>True</td>\n",
       "      <td>0</td>\n",
       "    </tr>\n",
       "    <tr>\n",
       "      <th>16</th>\n",
       "      <td>юрий лужков</td>\n",
       "      <td>юрий лужков</td>\n",
       "      <td>митволь и юрий лужков совместно</td>\n",
       "      <td>True</td>\n",
       "      <td>0</td>\n",
       "    </tr>\n",
       "    <tr>\n",
       "      <th>17</th>\n",
       "      <td>олег митволь</td>\n",
       "      <td>олег митволь</td>\n",
       "      <td>однадзоре олег митволь отметился</td>\n",
       "      <td>True</td>\n",
       "      <td>0</td>\n",
       "    </tr>\n",
       "    <tr>\n",
       "      <th>18</th>\n",
       "      <td>олег митволь</td>\n",
       "      <td>олег митволь</td>\n",
       "      <td>асти. сам олег митволь заявил \"ъ</td>\n",
       "      <td>True</td>\n",
       "      <td>0</td>\n",
       "    </tr>\n",
       "    <tr>\n",
       "      <th>19</th>\n",
       "      <td>олег митволь</td>\n",
       "      <td>олег митволь</td>\n",
       "      <td>областью. олег митволь действите</td>\n",
       "      <td>True</td>\n",
       "      <td>0</td>\n",
       "    </tr>\n",
       "  </tbody>\n",
       "</table>\n",
       "</div>"
      ],
      "text/plain": [
       "             ethalon            result                                 input  \\\n",
       "0     владимир путин    владимир путин    онце июля владимир путин на совеща   \n",
       "1        игорь чайка       игорь чайка       нпрокурор игорь чайка также пос   \n",
       "2   игорь андрющенко  игорь андрющенко  правлению игорь андрющенко называет    \n",
       "3       игорь юсуфов      игорь юсуфов     дничеству игоря юсуфова, председа   \n",
       "4     алексей миллер    алексей миллер   газпрома> алексея миллера, члена со   \n",
       "5      елена карпель     елена карпель     разования елена карпель и зампред   \n",
       "6       олег митволь      олег митволь                олег митволь высадился   \n",
       "7       олег митволь      олег митволь      однадзора олег митволь должен бы   \n",
       "8        юрий лужков       юрий лужков    \" с мэром юрием лужковым, уточняя,   \n",
       "9       олег митволь      олег митволь     ом работы олега митволя станут ос   \n",
       "10       юрий лужков       юрий лужков       эр москвы юрий лужков сделал бы   \n",
       "11      олег митволь      олег митволь      общил сам олег митволь. по его с   \n",
       "12      олег митволь      олег митволь       решен\" и олег митволь будет пре   \n",
       "13       юрий лужков       юрий лужков    бщение\" с юрием лужковым по поводу   \n",
       "14      олег митволь      олег митволь     азначение олега митволя опытом ра   \n",
       "15      олег митволь      олег митволь      2007 году олег митволь и юрий лу   \n",
       "16       юрий лужков       юрий лужков       митволь и юрий лужков совместно   \n",
       "17      олег митволь      олег митволь      однадзоре олег митволь отметился   \n",
       "18      олег митволь      олег митволь      асти. сам олег митволь заявил \"ъ   \n",
       "19      олег митволь      олег митволь      областью. олег митволь действите   \n",
       "\n",
       "    matched  distance  \n",
       "0      True         0  \n",
       "1      True         0  \n",
       "2      True         0  \n",
       "3      True         0  \n",
       "4      True         0  \n",
       "5      True         0  \n",
       "6      True         0  \n",
       "7      True         0  \n",
       "8      True         0  \n",
       "9      True         0  \n",
       "10     True         0  \n",
       "11     True         0  \n",
       "12     True         0  \n",
       "13     True         0  \n",
       "14     True         0  \n",
       "15     True         0  \n",
       "16     True         0  \n",
       "17     True         0  \n",
       "18     True         0  \n",
       "19     True         0  "
      ]
     },
     "execution_count": 24,
     "metadata": {},
     "output_type": "execute_result"
    }
   ],
   "source": [
    "import pandas as pd\n",
    "encoded_inputs = list(map(lambda x : x.encode('windows-1251', errors='replace').decode('windows-1251'), inputs))\n",
    "data = {'ethalon' : ethalons, 'result' : results2, 'input' : encoded_inputs, 'matched' : matched, 'distance' : distances}\n",
    "df = pd.DataFrame(data=data, columns=['ethalon', 'result', 'input', 'matched', 'distance'])\n",
    "df.head(20)"
   ]
  },
  {
   "cell_type": "code",
   "execution_count": 25,
   "metadata": {
    "collapsed": true
   },
   "outputs": [],
   "source": [
    "df.to_csv('results_crf_adam.csv', encoding='windows-1251')"
   ]
  },
  {
   "cell_type": "code",
   "execution_count": 35,
   "metadata": {},
   "outputs": [
    {
     "name": "stdout",
     "output_type": "stream",
     "text": [
      "Accuracy:  0.876586551445\n",
      "Mean distance:  0.17985417229273562\n"
     ]
    }
   ],
   "source": [
    "matched = df.matched\n",
    "distances = df.distance\n",
    "print('Accuracy: ', np.mean(matched))\n",
    "print('Mean distance: ', np.mean(distances))"
   ]
  },
  {
   "cell_type": "markdown",
   "metadata": {},
   "source": [
    "# PytorchCRF SGD result"
   ]
  },
  {
   "cell_type": "code",
   "execution_count": 70,
   "metadata": {},
   "outputs": [
    {
     "name": "stdout",
     "output_type": "stream",
     "text": [
      "\n",
      "Epoch 1\n",
      "\tTrain Loss: 0.913442 \t Time: 35s\n",
      "\tTest Loss: 1.436045 \t Time: 1s\n",
      "Epoch 2\n",
      "\tTrain Loss: 0.929385 \t Time: 35s\n",
      "\tTest Loss: 1.414033 \t Time: 1s\n",
      "Epoch 3\n",
      "\tTrain Loss: 0.905811 \t Time: 35s\n",
      "\tTest Loss: 1.432749 \t Time: 1s\n",
      "Epoch 4\n",
      "\tTrain Loss: 2.884688 \t Time: 36s\n",
      "\tTest Loss: 1.448829 \t Time: 1s\n",
      "Epoch 5\n",
      "\tTrain Loss: 1.098955 \t Time: 35s\n",
      "\tTest Loss: 1.516787 \t Time: 1s\n",
      "Epoch 6\n",
      "\tTrain Loss: 0.983404 \t Time: 36s\n",
      "\tTest Loss: 1.424907 \t Time: 1s\n",
      "Epoch 7\n",
      "\tTrain Loss: 0.935921 \t Time: 36s\n",
      "\tTest Loss: 1.403877 \t Time: 1s\n",
      "Epoch 8\n",
      "\tTrain Loss: 0.931202 \t Time: 34s\n",
      "\tTest Loss: 1.401187 \t Time: 1s\n",
      "Epoch 9\n",
      "\tTrain Loss: 0.894228 \t Time: 36s\n",
      "\tTest Loss: 1.433451 \t Time: 1s\n",
      "Epoch 10\n",
      "\tTrain Loss: 0.886990 \t Time: 34s\n",
      "\tTest Loss: 1.549615 \t Time: 1s\n",
      "Epoch 11\n",
      "\tTrain Loss: 0.873195 \t Time: 35s\n",
      "\tTest Loss: 1.443655 \t Time: 1s\n",
      "Epoch 12\n",
      "\tTrain Loss: 0.880239 \t Time: 36s\n",
      "\tTest Loss: 1.559212 \t Time: 1s\n",
      "Epoch 13\n",
      "\tTrain Loss: 0.888319 \t Time: 36s\n",
      "\tTest Loss: 1.378398 \t Time: 1s\n",
      "Epoch 14\n",
      "\tTrain Loss: 1.128171 \t Time: 37s\n",
      "\tTest Loss: 1.767577 \t Time: 1s\n",
      "Epoch 15\n",
      "\tTrain Loss: 0.880664 \t Time: 38s\n",
      "\tTest Loss: 1.406389 \t Time: 1s\n",
      "Epoch 16\n",
      "\tTrain Loss: 0.858567 \t Time: 35s\n",
      "\tTest Loss: 1.451857 \t Time: 1s\n",
      "Epoch 17\n",
      "\tTrain Loss: 0.845687 \t Time: 35s\n",
      "\tTest Loss: 1.408418 \t Time: 1s\n",
      "Epoch 18\n",
      "\tTrain Loss: 0.851249 \t Time: 35s\n",
      "\tTest Loss: 1.430700 \t Time: 1s\n",
      "Epoch 19\n",
      "\tTrain Loss: 0.832108 \t Time: 35s\n",
      "\tTest Loss: 1.400150 \t Time: 1s\n",
      "Epoch 20\n",
      "\tTrain Loss: 0.832410 \t Time: 36s\n",
      "\tTest Loss: 1.469865 \t Time: 1s\n"
     ]
    }
   ],
   "source": [
    "train_losses, test_losses = trainer.train(20, batch_size=256)\n",
    "train_losses_all.extend(train_losses)\n",
    "test_losses_all.extend(test_losses)"
   ]
  },
  {
   "cell_type": "code",
   "execution_count": 62,
   "metadata": {},
   "outputs": [
    {
     "data": {
      "image/png": "[encoded data removed]",
      "text/plain": [
       "<Figure size 1440x864 with 1 Axes>"
      ]
     },
     "metadata": {},
     "output_type": "display_data"
    }
   ],
   "source": [
    "plt.figure(figsize=(20,12))\n",
    "plt.plot(train_losses_all[50:], label='train')\n",
    "plt.plot(test_losses_all[50:], label='test')\n",
    "plt.legend()\n",
    "plt.show()"
   ]
  },
  {
   "cell_type": "code",
   "execution_count": 61,
   "metadata": {},
   "outputs": [
    {
     "name": "stdout",
     "output_type": "stream",
     "text": [
      "Accuracy:  0.711595935445\n",
      "Mean distance:  0.569037656904\n"
     ]
    }
   ],
   "source": [
    "import numpy as np\n",
    "ethalons, results, inputs, matched, distances = trainer.test_model(False)\n",
    "results2 = list(map(lambda x: ''.join(filter(lambda y: len(y) == 1, x)), results))\n",
    "distances = list(map(lambda x: distance(x[0],x[1]), zip(results2, ethalons) ))\n",
    "matched = list(map(lambda x: x[0] == x[1], zip(results2, ethalons)))\n",
    "print('Accuracy: ', np.mean(matched))\n",
    "print('Mean distance: ', np.mean(distances))"
   ]
  },
  {
   "cell_type": "code",
   "execution_count": 66,
   "metadata": {
    "collapsed": true
   },
   "outputs": [],
   "source": [
    "import pandas as pd\n",
    "encoded_inputs = list(map(lambda x : x.encode('windows-1251', errors='replace').decode('windows-1251'), inputs))\n",
    "data = {'ethalon' : ethalons, 'result' : results2, 'input' : encoded_inputs, 'matched' : matched, 'distance' : distances}\n",
    "df = pd.DataFrame(data=data, columns=['ethalon', 'result', 'input', 'matched', 'distance'])"
   ]
  },
  {
   "cell_type": "code",
   "execution_count": 68,
   "metadata": {},
   "outputs": [
    {
     "data": {
      "text/html": [
       "<div>\n",
       "<style>\n",
       "    .dataframe thead tr:only-child th {\n",
       "        text-align: right;\n",
       "    }\n",
       "\n",
       "    .dataframe thead th {\n",
       "        text-align: left;\n",
       "    }\n",
       "\n",
       "    .dataframe tbody tr th {\n",
       "        vertical-align: top;\n",
       "    }\n",
       "</style>\n",
       "<table border=\"1\" class=\"dataframe\">\n",
       "  <thead>\n",
       "    <tr style=\"text-align: right;\">\n",
       "      <th></th>\n",
       "      <th>ethalon</th>\n",
       "      <th>result</th>\n",
       "      <th>input</th>\n",
       "      <th>matched</th>\n",
       "      <th>distance</th>\n",
       "    </tr>\n",
       "  </thead>\n",
       "  <tbody>\n",
       "    <tr>\n",
       "      <th>0</th>\n",
       "      <td>путин</td>\n",
       "      <td>путин</td>\n",
       "      <td>недоимки. путин попросил</td>\n",
       "      <td>True</td>\n",
       "      <td>0</td>\n",
       "    </tr>\n",
       "    <tr>\n",
       "      <th>1</th>\n",
       "      <td>путин</td>\n",
       "      <td>путин</td>\n",
       "      <td>а котором путин раскритик</td>\n",
       "      <td>True</td>\n",
       "      <td>0</td>\n",
       "    </tr>\n",
       "    <tr>\n",
       "      <th>2</th>\n",
       "      <td>путин</td>\n",
       "      <td>путина</td>\n",
       "      <td>по мнению путина, это дела</td>\n",
       "      <td>False</td>\n",
       "      <td>1</td>\n",
       "    </tr>\n",
       "    <tr>\n",
       "      <th>3</th>\n",
       "      <td>путин</td>\n",
       "      <td>путина</td>\n",
       "      <td>ступления путина глава фас</td>\n",
       "      <td>False</td>\n",
       "      <td>1</td>\n",
       "    </tr>\n",
       "    <tr>\n",
       "      <th>4</th>\n",
       "      <td>путин</td>\n",
       "      <td>путина</td>\n",
       "      <td>ступления путина, его ведо</td>\n",
       "      <td>False</td>\n",
       "      <td>1</td>\n",
       "    </tr>\n",
       "    <tr>\n",
       "      <th>5</th>\n",
       "      <td>михаил прохоров</td>\n",
       "      <td>михаил прохоров</td>\n",
       "      <td>году, при михаиле прохорове.\\n\\r\\n\\rкроме</td>\n",
       "      <td>True</td>\n",
       "      <td>0</td>\n",
       "    </tr>\n",
       "    <tr>\n",
       "      <th>6</th>\n",
       "      <td>фазиль измайлов</td>\n",
       "      <td>фазиль измайлов</td>\n",
       "      <td>фекта сао фазиля измайлова. это брат</td>\n",
       "      <td>True</td>\n",
       "      <td>0</td>\n",
       "    </tr>\n",
       "    <tr>\n",
       "      <th>7</th>\n",
       "      <td>фазиль измайлов</td>\n",
       "      <td>фазиль измайлов</td>\n",
       "      <td>стр. 4). фазиль измайлов в разгово</td>\n",
       "      <td>True</td>\n",
       "      <td>0</td>\n",
       "    </tr>\n",
       "    <tr>\n",
       "      <th>8</th>\n",
       "      <td>юрий хардиков</td>\n",
       "      <td>юрий хардиков</td>\n",
       "      <td>ектом сао юрием хардиковым. 19 январ</td>\n",
       "      <td>True</td>\n",
       "      <td>0</td>\n",
       "    </tr>\n",
       "    <tr>\n",
       "      <th>9</th>\n",
       "      <td>андрей воробьев</td>\n",
       "      <td>андрей воробьев</td>\n",
       "      <td>й россии\" андрей воробьев заявил \"ъ</td>\n",
       "      <td>True</td>\n",
       "      <td>0</td>\n",
       "    </tr>\n",
       "    <tr>\n",
       "      <th>10</th>\n",
       "      <td>путин</td>\n",
       "      <td>путин</td>\n",
       "      <td>дали, что путин или сечин</td>\n",
       "      <td>True</td>\n",
       "      <td>0</td>\n",
       "    </tr>\n",
       "    <tr>\n",
       "      <th>11</th>\n",
       "      <td>юрий комаров</td>\n",
       "      <td>юрий комаров</td>\n",
       "      <td>зэкспорт\" юрий комаров, возглавл</td>\n",
       "      <td>True</td>\n",
       "      <td>0</td>\n",
       "    </tr>\n",
       "    <tr>\n",
       "      <th>12</th>\n",
       "      <td>чубайс</td>\n",
       "      <td>чубайс</td>\n",
       "      <td>господина чубайса, а с 2002</td>\n",
       "      <td>True</td>\n",
       "      <td>0</td>\n",
       "    </tr>\n",
       "    <tr>\n",
       "      <th>13</th>\n",
       "      <td>вадим старков</td>\n",
       "      <td>вадим старков</td>\n",
       "      <td>область) вадим старков вчера пол</td>\n",
       "      <td>True</td>\n",
       "      <td>0</td>\n",
       "    </tr>\n",
       "    <tr>\n",
       "      <th>14</th>\n",
       "      <td>вадим старков</td>\n",
       "      <td>вадим старков</td>\n",
       "      <td>о выдаче вадиму старкову удостовер</td>\n",
       "      <td>True</td>\n",
       "      <td>0</td>\n",
       "    </tr>\n",
       "    <tr>\n",
       "      <th>15</th>\n",
       "      <td>вадим старков</td>\n",
       "      <td>вадим старков</td>\n",
       "      <td>орым стал вадим старков, за котор</td>\n",
       "      <td>True</td>\n",
       "      <td>0</td>\n",
       "    </tr>\n",
       "    <tr>\n",
       "      <th>16</th>\n",
       "      <td>вадим старков</td>\n",
       "      <td>вадим старков</td>\n",
       "      <td>вы города вадима старкова.\\n\\r\\n\\rопрош</td>\n",
       "      <td>True</td>\n",
       "      <td>0</td>\n",
       "    </tr>\n",
       "    <tr>\n",
       "      <th>17</th>\n",
       "      <td>вадим старков</td>\n",
       "      <td>вадим старков</td>\n",
       "      <td>й сысерти вадима старкова в райсуде</td>\n",
       "      <td>True</td>\n",
       "      <td>0</td>\n",
       "    </tr>\n",
       "    <tr>\n",
       "      <th>18</th>\n",
       "      <td>вадим старков</td>\n",
       "      <td>вадим старков</td>\n",
       "      <td>действий вадимом старковым и сотрудн</td>\n",
       "      <td>True</td>\n",
       "      <td>0</td>\n",
       "    </tr>\n",
       "    <tr>\n",
       "      <th>19</th>\n",
       "      <td>вадим старков</td>\n",
       "      <td>вадим старков</td>\n",
       "      <td>алитета. &lt;вадим старков же написа</td>\n",
       "      <td>True</td>\n",
       "      <td>0</td>\n",
       "    </tr>\n",
       "  </tbody>\n",
       "</table>\n",
       "</div>"
      ],
      "text/plain": [
       "            ethalon           result  \\\n",
       "0             путин            путин   \n",
       "1             путин            путин   \n",
       "2             путин           путина   \n",
       "3             путин           путина   \n",
       "4             путин           путина   \n",
       "5   михаил прохоров  михаил прохоров   \n",
       "6   фазиль измайлов  фазиль измайлов   \n",
       "7   фазиль измайлов  фазиль измайлов   \n",
       "8     юрий хардиков    юрий хардиков   \n",
       "9   андрей воробьев  андрей воробьев   \n",
       "10            путин            путин   \n",
       "11     юрий комаров     юрий комаров   \n",
       "12           чубайс           чубайс   \n",
       "13    вадим старков    вадим старков   \n",
       "14    вадим старков    вадим старков   \n",
       "15    вадим старков    вадим старков   \n",
       "16    вадим старков    вадим старков   \n",
       "17    вадим старков    вадим старков   \n",
       "18    вадим старков    вадим старков   \n",
       "19    вадим старков    вадим старков   \n",
       "\n",
       "                                        input  matched  distance  \n",
       "0                   недоимки. путин попросил      True         0  \n",
       "1                   а котором путин раскритик     True         0  \n",
       "2                  по мнению путина, это дела    False         1  \n",
       "3                  ступления путина глава фас    False         1  \n",
       "4                  ступления путина, его ведо    False         1  \n",
       "5   году, при михаиле прохорове.\\n\\r\\n\\rкроме     True         0  \n",
       "6        фекта сао фазиля измайлова. это брат     True         0  \n",
       "7          стр. 4). фазиль измайлов в разгово     True         0  \n",
       "8        ектом сао юрием хардиковым. 19 январ     True         0  \n",
       "9         й россии\" андрей воробьев заявил \"ъ     True         0  \n",
       "10                  дали, что путин или сечин     True         0  \n",
       "11           зэкспорт\" юрий комаров, возглавл     True         0  \n",
       "12                господина чубайса, а с 2002     True         0  \n",
       "13           область) вадим старков вчера пол     True         0  \n",
       "14         о выдаче вадиму старкову удостовер     True         0  \n",
       "15          орым стал вадим старков, за котор     True         0  \n",
       "16    вы города вадима старкова.\\n\\r\\n\\rопрош     True         0  \n",
       "17        й сысерти вадима старкова в райсуде     True         0  \n",
       "18       действий вадимом старковым и сотрудн     True         0  \n",
       "19          алитета. <вадим старков же написа     True         0  "
      ]
     },
     "execution_count": 68,
     "metadata": {},
     "output_type": "execute_result"
    }
   ],
   "source": [
    "df.head(20)"
   ]
  },
  {
   "cell_type": "code",
   "execution_count": 69,
   "metadata": {
    "collapsed": true
   },
   "outputs": [],
   "source": [
    "df.to_csv('results_crf.csv', encoding='windows-1251')"
   ]
  }
 ],
 "metadata": {
  "kernelspec": {
   "display_name": "Python 3",
   "language": "python",
   "name": "python3"
  },
  "language_info": {
   "codemirror_mode": {
    "name": "ipython",
    "version": 3
   },
   "file_extension": ".py",
   "mimetype": "text/x-python",
   "name": "python",
   "nbconvert_exporter": "python",
   "pygments_lexer": "ipython3",
   "version": "3.6.3"
  }
 },
 "nbformat": 4,
 "nbformat_minor": 1
}
