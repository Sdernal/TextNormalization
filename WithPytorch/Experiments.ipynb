{
 "cells": [
  {
   "cell_type": "markdown",
   "metadata": {},
   "source": [
    "#Pytorch experiments\n"
   ]
  },
  {
   "cell_type": "code",
   "execution_count": 1,
   "metadata": {
    "collapsed": true
   },
   "outputs": [],
   "source": [
    "import matplotlib.pyplot as plt\n",
    "%matplotlib inline"
   ]
  },
  {
   "cell_type": "code",
   "execution_count": 2,
   "metadata": {},
   "outputs": [
    {
     "name": "stdout",
     "output_type": "stream",
     "text": [
      "C:\\Users\\Sdernal\\Desktop\\Jackals\\TextNormalization\\WithPytorch\n",
      "'NoneType' object has no attribute 'text' C:\\Users\\Sdernal\\Desktop\\Jackals\\corpus_for_pakhomov_2\\Абдулла Гюль.xml\n",
      "'NoneType' object has no attribute 'text' C:\\Users\\Sdernal\\Desktop\\Jackals\\corpus_for_pakhomov_2\\Адам Осмаев.xml\n",
      "'NoneType' object has no attribute 'text' C:\\Users\\Sdernal\\Desktop\\Jackals\\corpus_for_pakhomov_2\\Азим Исабеков.xml\n",
      "'NoneType' object has no attribute 'text' C:\\Users\\Sdernal\\Desktop\\Jackals\\corpus_for_pakhomov_2\\Александр Глухов.xml\n",
      "'NoneType' object has no attribute 'text' C:\\Users\\Sdernal\\Desktop\\Jackals\\corpus_for_pakhomov_2\\Александр Ломая.xml\n",
      "'NoneType' object has no attribute 'text' C:\\Users\\Sdernal\\Desktop\\Jackals\\corpus_for_pakhomov_2\\Александр Медведько.xml\n",
      "'NoneType' object has no attribute 'text' C:\\Users\\Sdernal\\Desktop\\Jackals\\corpus_for_pakhomov_2\\Анатолий Бибилов.xml\n",
      "'NoneType' object has no attribute 'text' C:\\Users\\Sdernal\\Desktop\\Jackals\\corpus_for_pakhomov_2\\Андрей Аршавин.xml\n",
      "'NoneType' object has no attribute 'text' C:\\Users\\Sdernal\\Desktop\\Jackals\\corpus_for_pakhomov_2\\Владимир Сергеевич Высоцкий.xml\n",
      "'NoneType' object has no attribute 'text' C:\\Users\\Sdernal\\Desktop\\Jackals\\corpus_for_pakhomov_2\\Евгений Чичваркин.xml\n"
     ]
    }
   ],
   "source": [
    "from dataloader import DataLoader\n",
    "from os.path import abspath\n",
    "from entriesprocessor import EntriesProcessor\n",
    "from trainer import Trainer\n",
    "from model import Decoder, Encoder\n",
    "import torch\n",
    "\n",
    "EMBEDDING_SIZE = 10\n",
    "HIDDEN_SIZE = 200\n",
    "print(abspath('./'))\n",
    "loader = DataLoader(10)\n",
    "loader.parse_person_corpus(abspath('../Persons-1000/collection'))\n",
    "loader.parse_rdf_corpus(abspath('../../corpus_for_pakhomov_2'))"
   ]
  },
  {
   "cell_type": "code",
   "execution_count": 3,
   "metadata": {},
   "outputs": [
    {
     "name": "stdout",
     "output_type": "stream",
     "text": [
      "38953\n",
      "14276\n"
     ]
    }
   ],
   "source": [
    "print(len(loader.entries))\n",
    "uniq_values = set([entry.value for entry in loader.entries])\n",
    "print(len(uniq_values))"
   ]
  },
  {
   "cell_type": "code",
   "execution_count": 4,
   "metadata": {
    "collapsed": true
   },
   "outputs": [],
   "source": [
    "ep = EntriesProcessor(20,40)\n",
    "# voc_size = 10\n",
    "ep.process(loader.entries)\n",
    "voc_size = ep.symbols_counter"
   ]
  },
  {
   "cell_type": "code",
   "execution_count": 5,
   "metadata": {
    "collapsed": true
   },
   "outputs": [],
   "source": [
    "device = torch.device(\"cuda\" if torch.cuda.is_available() else \"cpu\")\n",
    "encoder = Encoder(input_size=voc_size, hidden_size=HIDDEN_SIZE, embedding_size=EMBEDDING_SIZE).to(device)\n",
    "decoder = Decoder(hidden_size=HIDDEN_SIZE, embedding_size=EMBEDDING_SIZE, output_size=voc_size, max_length=40).to(device)\n",
    "trainer = Trainer(encoder,decoder,ep,max_input_length=40, max_output_length=20)"
   ]
  },
  {
   "cell_type": "code",
   "execution_count": 6,
   "metadata": {
    "collapsed": true
   },
   "outputs": [],
   "source": [
    "train_losses_all, test_losses_all = [], []"
   ]
  },
  {
   "cell_type": "code",
   "execution_count": 21,
   "metadata": {},
   "outputs": [
    {
     "name": "stdout",
     "output_type": "stream",
     "text": [
      "\n",
      "Epoch 1\n",
      "\tTrain Loss: 0.365385 \t Time: 24s\n",
      "\tTest Loss: 0.377496 \t Time: 0s\n",
      "Epoch 2\n",
      "\tTrain Loss: 0.355810 \t Time: 24s\n",
      "\tTest Loss: 0.374940 \t Time: 0s\n",
      "Epoch 3\n",
      "\tTrain Loss: 0.358997 \t Time: 24s\n",
      "\tTest Loss: 0.377344 \t Time: 0s\n",
      "Epoch 4\n",
      "\tTrain Loss: 0.330463 \t Time: 24s\n",
      "\tTest Loss: 0.361399 \t Time: 0s\n",
      "Epoch 5\n",
      "\tTrain Loss: 0.340029 \t Time: 24s\n",
      "\tTest Loss: 0.366904 \t Time: 0s\n",
      "Epoch 6\n",
      "\tTrain Loss: 0.382265 \t Time: 24s\n",
      "\tTest Loss: 0.383492 \t Time: 0s\n",
      "Epoch 7\n",
      "\tTrain Loss: 0.326253 \t Time: 24s\n",
      "\tTest Loss: 0.373707 \t Time: 0s\n",
      "Epoch 8\n",
      "\tTrain Loss: 0.327076 \t Time: 24s\n",
      "\tTest Loss: 0.376704 \t Time: 0s\n",
      "Epoch 9\n",
      "\tTrain Loss: 0.327627 \t Time: 24s\n",
      "\tTest Loss: 0.565470 \t Time: 0s\n",
      "Epoch 10\n",
      "\tTrain Loss: 0.327444 \t Time: 24s\n",
      "\tTest Loss: 0.383103 \t Time: 0s\n"
     ]
    }
   ],
   "source": [
    "train_losses, test_losses = trainer.train(10, batch_size=256)\n",
    "train_losses_all.extend(train_losses)\n",
    "test_losses_all.extend(test_losses)"
   ]
  },
  {
   "cell_type": "code",
   "execution_count": 34,
   "metadata": {
    "collapsed": true
   },
   "outputs": [],
   "source": [
    "ethalons, results, inputs, matched, distances = trainer.test_model(False)"
   ]
  },
  {
   "cell_type": "code",
   "execution_count": 14,
   "metadata": {},
   "outputs": [
    {
     "name": "stdout",
     "output_type": "stream",
     "text": [
      "['дэниэл фрид', 'мария чернова', 'эдриан коутс', 'эдриан коутс', 'эдриан коутс', 'эдриан коутс', 'фарит газизуллин', 'елена карпель', 'олег митволь', 'олег митволь']\n",
      "['дэниэл чридом', 'марию чернов', 'эдриан коутс', 'эдриан коутс', 'эдриан коутса', 'эдриан коутса', 'фарит газизуллин', 'елена карпель', 'ледев', 'олег митволь']\n",
      "['етаря сша дэниэлом фридом.\\n\\r\\n\\r\"с ро', 'лужбы фас марию чернову утверждал', '\\n\\rим стал эдриан коутс, помогавш', 'исполнять эдриан коутс, возглавл', 'анка hsbc эдриана коутса. господин', 'вне.\\n\\r\\n\\rу эдриана коутса большой о', 'газпрома> фарита газизуллина. сохранил', 'разования елена карпель и зампред', 'олег митволь высадился', 'однадзора олег митволь должен бы']\n",
      "[False, False, True, True, False, False, True, True, False, True]\n",
      "[3, 2, 0, 0, 1, 1, 0, 0, 9, 0]\n"
     ]
    }
   ],
   "source": [
    "print(ethalons[:10])\n",
    "print(results[:10])\n",
    "print(inputs[:10])\n",
    "print(matched[:10])\n",
    "print(distances[:10])"
   ]
  },
  {
   "cell_type": "markdown",
   "metadata": {},
   "source": [
    "50 эпох"
   ]
  },
  {
   "cell_type": "code",
   "execution_count": 18,
   "metadata": {},
   "outputs": [
    {
     "name": "stdout",
     "output_type": "stream",
     "text": [
      "Accuracy:  0.577613215608\n",
      "Mean distance:  1.40871546568\n"
     ]
    }
   ],
   "source": [
    "import numpy as np\n",
    "print('Accuracy: ', np.mean(matched))\n",
    "print('Mean distance: ', np.mean(distances))"
   ]
  },
  {
   "cell_type": "markdown",
   "metadata": {},
   "source": [
    "60 эпох"
   ]
  },
  {
   "cell_type": "code",
   "execution_count": 35,
   "metadata": {},
   "outputs": [
    {
     "name": "stdout",
     "output_type": "stream",
     "text": [
      "Accuracy:  0.540301908288\n",
      "Mean distance:  1.55283395044\n"
     ]
    }
   ],
   "source": [
    "import numpy as np\n",
    "print('Accuracy: ', np.mean(matched))\n",
    "print('Mean distance: ', np.mean(distances))"
   ]
  },
  {
   "cell_type": "code",
   "execution_count": 22,
   "metadata": {},
   "outputs": [
    {
     "data": {
      "image/png": "[encoded data removed]",
      "text/plain": [
       "<matplotlib.figure.Figure at 0x207dc4ddba8>"
      ]
     },
     "metadata": {},
     "output_type": "display_data"
    }
   ],
   "source": [
    "plt.figure(figsize=(20,12))\n",
    "plt.plot(train_losses_all[1:], label='train')\n",
    "plt.plot(test_losses_all[1:], label='test')\n",
    "plt.legend()\n",
    "plt.show()"
   ]
  },
  {
   "cell_type": "code",
   "execution_count": 27,
   "metadata": {
    "collapsed": true
   },
   "outputs": [],
   "source": [
    "import pandas as pd\n",
    "\n",
    "data = {'ethalon' : ethalons, 'result' : results, 'input' : inputs, 'matched' : matched, 'distance' : distances}\n",
    "df = pd.DataFrame(data=data, columns=['ethalon', 'result', 'input', 'matched', 'distance'])"
   ]
  },
  {
   "cell_type": "code",
   "execution_count": 29,
   "metadata": {},
   "outputs": [
    {
     "data": {
      "text/html": [
       "<div>\n",
       "<style>\n",
       "    .dataframe thead tr:only-child th {\n",
       "        text-align: right;\n",
       "    }\n",
       "\n",
       "    .dataframe thead th {\n",
       "        text-align: left;\n",
       "    }\n",
       "\n",
       "    .dataframe tbody tr th {\n",
       "        vertical-align: top;\n",
       "    }\n",
       "</style>\n",
       "<table border=\"1\" class=\"dataframe\">\n",
       "  <thead>\n",
       "    <tr style=\"text-align: right;\">\n",
       "      <th></th>\n",
       "      <th>ethalon</th>\n",
       "      <th>result</th>\n",
       "      <th>input</th>\n",
       "      <th>matched</th>\n",
       "      <th>distance</th>\n",
       "    </tr>\n",
       "  </thead>\n",
       "  <tbody>\n",
       "    <tr>\n",
       "      <th>0</th>\n",
       "      <td>дэниэл фрид</td>\n",
       "      <td>дэниэл чридом</td>\n",
       "      <td>етаря сша дэниэлом фридом.\\n\\r\\n\\r\"с ро</td>\n",
       "      <td>False</td>\n",
       "      <td>3</td>\n",
       "    </tr>\n",
       "    <tr>\n",
       "      <th>1</th>\n",
       "      <td>мария чернова</td>\n",
       "      <td>марию чернов</td>\n",
       "      <td>лужбы фас марию чернову утверждал</td>\n",
       "      <td>False</td>\n",
       "      <td>2</td>\n",
       "    </tr>\n",
       "    <tr>\n",
       "      <th>2</th>\n",
       "      <td>эдриан коутс</td>\n",
       "      <td>эдриан коутс</td>\n",
       "      <td>\\n\\rим стал эдриан коутс, помогавш</td>\n",
       "      <td>True</td>\n",
       "      <td>0</td>\n",
       "    </tr>\n",
       "    <tr>\n",
       "      <th>3</th>\n",
       "      <td>эдриан коутс</td>\n",
       "      <td>эдриан коутс</td>\n",
       "      <td>исполнять эдриан коутс, возглавл</td>\n",
       "      <td>True</td>\n",
       "      <td>0</td>\n",
       "    </tr>\n",
       "    <tr>\n",
       "      <th>4</th>\n",
       "      <td>эдриан коутс</td>\n",
       "      <td>эдриан коутса</td>\n",
       "      <td>анка hsbc эдриана коутса. господин</td>\n",
       "      <td>False</td>\n",
       "      <td>1</td>\n",
       "    </tr>\n",
       "    <tr>\n",
       "      <th>5</th>\n",
       "      <td>эдриан коутс</td>\n",
       "      <td>эдриан коутса</td>\n",
       "      <td>вне.\\n\\r\\n\\rу эдриана коутса большой о</td>\n",
       "      <td>False</td>\n",
       "      <td>1</td>\n",
       "    </tr>\n",
       "    <tr>\n",
       "      <th>6</th>\n",
       "      <td>фарит газизуллин</td>\n",
       "      <td>фарит газизуллин</td>\n",
       "      <td>газпрома&gt; фарита газизуллина. сохранил</td>\n",
       "      <td>True</td>\n",
       "      <td>0</td>\n",
       "    </tr>\n",
       "    <tr>\n",
       "      <th>7</th>\n",
       "      <td>елена карпель</td>\n",
       "      <td>елена карпель</td>\n",
       "      <td>разования елена карпель и зампред</td>\n",
       "      <td>True</td>\n",
       "      <td>0</td>\n",
       "    </tr>\n",
       "    <tr>\n",
       "      <th>8</th>\n",
       "      <td>олег митволь</td>\n",
       "      <td>ледев</td>\n",
       "      <td>олег митволь высадился</td>\n",
       "      <td>False</td>\n",
       "      <td>9</td>\n",
       "    </tr>\n",
       "    <tr>\n",
       "      <th>9</th>\n",
       "      <td>олег митволь</td>\n",
       "      <td>олег митволь</td>\n",
       "      <td>однадзора олег митволь должен бы</td>\n",
       "      <td>True</td>\n",
       "      <td>0</td>\n",
       "    </tr>\n",
       "    <tr>\n",
       "      <th>10</th>\n",
       "      <td>олег митволь</td>\n",
       "      <td>олег митволь</td>\n",
       "      <td>ом работы олега митволя станут ос</td>\n",
       "      <td>True</td>\n",
       "      <td>0</td>\n",
       "    </tr>\n",
       "    <tr>\n",
       "      <th>11</th>\n",
       "      <td>олег митволь</td>\n",
       "      <td>олег митволь</td>\n",
       "      <td>общил сам олег митволь. по его с</td>\n",
       "      <td>True</td>\n",
       "      <td>0</td>\n",
       "    </tr>\n",
       "    <tr>\n",
       "      <th>12</th>\n",
       "      <td>олег митволь</td>\n",
       "      <td>олег митволь</td>\n",
       "      <td>решен\" и олег митволь будет пре</td>\n",
       "      <td>True</td>\n",
       "      <td>0</td>\n",
       "    </tr>\n",
       "    <tr>\n",
       "      <th>13</th>\n",
       "      <td>олег митволь</td>\n",
       "      <td>олег митволь</td>\n",
       "      <td>азначение олега митволя опытом ра</td>\n",
       "      <td>True</td>\n",
       "      <td>0</td>\n",
       "    </tr>\n",
       "    <tr>\n",
       "      <th>14</th>\n",
       "      <td>олег митволь</td>\n",
       "      <td>олег митволь</td>\n",
       "      <td>2007 году олег митволь и юрий лу</td>\n",
       "      <td>True</td>\n",
       "      <td>0</td>\n",
       "    </tr>\n",
       "    <tr>\n",
       "      <th>15</th>\n",
       "      <td>олег митволь</td>\n",
       "      <td>олег митволь</td>\n",
       "      <td>однадзоре олег митволь отметился</td>\n",
       "      <td>True</td>\n",
       "      <td>0</td>\n",
       "    </tr>\n",
       "    <tr>\n",
       "      <th>16</th>\n",
       "      <td>олег митволь</td>\n",
       "      <td>олег митволь</td>\n",
       "      <td>асти. сам олег митволь заявил \"ъ</td>\n",
       "      <td>True</td>\n",
       "      <td>0</td>\n",
       "    </tr>\n",
       "    <tr>\n",
       "      <th>17</th>\n",
       "      <td>олег митволь</td>\n",
       "      <td>олег митволь</td>\n",
       "      <td>областью. олег митволь действите</td>\n",
       "      <td>True</td>\n",
       "      <td>0</td>\n",
       "    </tr>\n",
       "    <tr>\n",
       "      <th>18</th>\n",
       "      <td>муртаза рахимов</td>\n",
       "      <td>химов</td>\n",
       "      <td>муртаза рахимов чистит ка</td>\n",
       "      <td>False</td>\n",
       "      <td>10</td>\n",
       "    </tr>\n",
       "    <tr>\n",
       "      <th>19</th>\n",
       "      <td>муртаза рахимов</td>\n",
       "      <td>муртаз прахимов</td>\n",
       "      <td>башкирии муртаза рахимов в очередн</td>\n",
       "      <td>False</td>\n",
       "      <td>2</td>\n",
       "    </tr>\n",
       "  </tbody>\n",
       "</table>\n",
       "</div>"
      ],
      "text/plain": [
       "             ethalon            result  \\\n",
       "0        дэниэл фрид     дэниэл чридом   \n",
       "1      мария чернова      марию чернов   \n",
       "2       эдриан коутс      эдриан коутс   \n",
       "3       эдриан коутс      эдриан коутс   \n",
       "4       эдриан коутс     эдриан коутса   \n",
       "5       эдриан коутс     эдриан коутса   \n",
       "6   фарит газизуллин  фарит газизуллин   \n",
       "7      елена карпель     елена карпель   \n",
       "8       олег митволь             ледев   \n",
       "9       олег митволь      олег митволь   \n",
       "10      олег митволь      олег митволь   \n",
       "11      олег митволь      олег митволь   \n",
       "12      олег митволь      олег митволь   \n",
       "13      олег митволь      олег митволь   \n",
       "14      олег митволь      олег митволь   \n",
       "15      олег митволь      олег митволь   \n",
       "16      олег митволь      олег митволь   \n",
       "17      олег митволь      олег митволь   \n",
       "18   муртаза рахимов             химов   \n",
       "19   муртаза рахимов   муртаз прахимов   \n",
       "\n",
       "                                      input  matched  distance  \n",
       "0   етаря сша дэниэлом фридом.\\n\\r\\n\\r\"с ро    False         3  \n",
       "1         лужбы фас марию чернову утверждал    False         2  \n",
       "2        \\n\\rим стал эдриан коутс, помогавш     True         0  \n",
       "3          исполнять эдриан коутс, возглавл     True         0  \n",
       "4        анка hsbc эдриана коутса. господин    False         1  \n",
       "5    вне.\\n\\r\\n\\rу эдриана коутса большой о    False         1  \n",
       "6    газпрома> фарита газизуллина. сохранил     True         0  \n",
       "7         разования елена карпель и зампред     True         0  \n",
       "8                    олег митволь высадился    False         9  \n",
       "9          однадзора олег митволь должен бы     True         0  \n",
       "10        ом работы олега митволя станут ос     True         0  \n",
       "11         общил сам олег митволь. по его с     True         0  \n",
       "12          решен\" и олег митволь будет пре     True         0  \n",
       "13        азначение олега митволя опытом ра     True         0  \n",
       "14         2007 году олег митволь и юрий лу     True         0  \n",
       "15         однадзоре олег митволь отметился     True         0  \n",
       "16         асти. сам олег митволь заявил \"ъ     True         0  \n",
       "17         областью. олег митволь действите     True         0  \n",
       "18                муртаза рахимов чистит ка    False        10  \n",
       "19       башкирии муртаза рахимов в очередн    False         2  "
      ]
     },
     "execution_count": 29,
     "metadata": {},
     "output_type": "execute_result"
    }
   ],
   "source": [
    "df.head(20)"
   ]
  },
  {
   "cell_type": "code",
   "execution_count": 33,
   "metadata": {
    "collapsed": true
   },
   "outputs": [],
   "source": [
    "df.to_csv('results2.csv', encoding='utf-8')"
   ]
  },
  {
   "cell_type": "code",
   "execution_count": null,
   "metadata": {
    "collapsed": true
   },
   "outputs": [],
   "source": [
    "torch.save(encoder.state_dict(), 'encoder.pt')\n",
    "torch.save(decoder.state_dict(),'decoder.pt')"
   ]
  },
  {
   "cell_type": "code",
   "execution_count": null,
   "metadata": {
    "collapsed": true
   },
   "outputs": [],
   "source": [
    "from entriesprocessor import EntriesProcessor\n",
    "from trainer import Trainer\n",
    "from model import Decoder, Encoder\n",
    "import torch\n",
    "from mockentries import generate_entries\n",
    "\n",
    "EMBEDDING_SIZE = 10\n",
    "HIDDEN_SIZE = 100\n",
    "device = torch.device(\"cuda\" if torch.cuda.is_available() else \"cpu\")\n",
    "ep = EntriesProcessor(10,10)\n",
    "entries = generate_entries(100000, 5)\n",
    "ep.process(entries)\n",
    "voc_size = ep.symbols_counter\n",
    "encoder = Encoder(input_size=voc_size, hidden_size=HIDDEN_SIZE, embedding_size=EMBEDDING_SIZE).to(device)\n",
    "decoder = Decoder(hidden_size=HIDDEN_SIZE, embedding_size=EMBEDDING_SIZE, output_size=voc_size, max_length=10).to(device)\n",
    "trainer = Trainer(encoder,decoder,ep,max_input_length=10, max_output_length=10,\n",
    "                  teacher_forcing_ratio=0.5, learning_rate = 0.05 )"
   ]
  },
  {
   "cell_type": "code",
   "execution_count": null,
   "metadata": {
    "collapsed": true
   },
   "outputs": [],
   "source": [
    "train_losses_all, test_losses_all = [],[]"
   ]
  },
  {
   "cell_type": "code",
   "execution_count": null,
   "metadata": {},
   "outputs": [],
   "source": [
    "train_losses, test_losses = trainer.train(5,batch_size=256)\n",
    "train_losses_all.extend(train_losses)\n",
    "test_losses_all.extend(test_losses)"
   ]
  },
  {
   "cell_type": "code",
   "execution_count": null,
   "metadata": {
    "collapsed": true
   },
   "outputs": [],
   "source": []
  }
 ],
 "metadata": {
  "kernelspec": {
   "display_name": "Python 3",
   "language": "python",
   "name": "python3"
  },
  "language_info": {
   "codemirror_mode": {
    "name": "ipython",
    "version": 3
   },
   "file_extension": ".py",
   "mimetype": "text/x-python",
   "name": "python",
   "nbconvert_exporter": "python",
   "pygments_lexer": "ipython3",
   "version": "3.6.3"
  }
 },
 "nbformat": 4,
 "nbformat_minor": 1
}
