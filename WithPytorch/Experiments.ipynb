{
 "cells": [
  {
   "cell_type": "markdown",
   "metadata": {},
   "source": [
    "#Pytorch experiments\n"
   ]
  },
  {
   "cell_type": "code",
   "execution_count": 2,
   "metadata": {
    "collapsed": true
   },
   "outputs": [],
   "source": [
    "import matplotlib.pyplot as plt\n",
    "%matplotlib inline"
   ]
  },
  {
   "cell_type": "code",
   "execution_count": 3,
   "metadata": {},
   "outputs": [
    {
     "name": "stdout",
     "output_type": "stream",
     "text": [
      "C:\\Users\\Sdernal\\Desktop\\Jackals\\TextNormalization\\WithPytorch\n"
     ]
    },
    {
     "name": "stdout",
     "output_type": "stream",
     "text": [
      "'NoneType' object has no attribute 'text' C:\\Users\\Sdernal\\Desktop\\Jackals\\corpus_for_pakhomov_2\\Абдулла Гюль.xml\n'NoneType' object has no attribute 'text' C:\\Users\\Sdernal\\Desktop\\Jackals\\corpus_for_pakhomov_2\\Адам Осмаев.xml\n'NoneType' object has no attribute 'text' C:\\Users\\Sdernal\\Desktop\\Jackals\\corpus_for_pakhomov_2\\Азим Исабеков.xml\n"
     ]
    },
    {
     "name": "stdout",
     "output_type": "stream",
     "text": [
      "'NoneType' object has no attribute 'text' C:\\Users\\Sdernal\\Desktop\\Jackals\\corpus_for_pakhomov_2\\Александр Глухов.xml\n"
     ]
    },
    {
     "name": "stdout",
     "output_type": "stream",
     "text": [
      "'NoneType' object has no attribute 'text' C:\\Users\\Sdernal\\Desktop\\Jackals\\corpus_for_pakhomov_2\\Александр Ломая.xml\n'NoneType' object has no attribute 'text' C:\\Users\\Sdernal\\Desktop\\Jackals\\corpus_for_pakhomov_2\\Александр Медведько.xml"
     ]
    },
    {
     "name": "stdout",
     "output_type": "stream",
     "text": [
      "\n'NoneType' object has no attribute 'text' C:\\Users\\Sdernal\\Desktop\\Jackals\\corpus_for_pakhomov_2\\Анатолий Бибилов.xml\n"
     ]
    },
    {
     "name": "stdout",
     "output_type": "stream",
     "text": [
      "'NoneType' object has no attribute 'text' C:\\Users\\Sdernal\\Desktop\\Jackals\\corpus_for_pakhomov_2\\Андрей Аршавин.xml\n"
     ]
    },
    {
     "name": "stdout",
     "output_type": "stream",
     "text": [
      "'NoneType' object has no attribute 'text' C:\\Users\\Sdernal\\Desktop\\Jackals\\corpus_for_pakhomov_2\\Владимир Сергеевич Высоцкий.xml\n"
     ]
    },
    {
     "name": "stdout",
     "output_type": "stream",
     "text": [
      "'NoneType' object has no attribute 'text' C:\\Users\\Sdernal\\Desktop\\Jackals\\corpus_for_pakhomov_2\\Евгений Чичваркин.xml\n"
     ]
    }
   ],
   "source": [
    "from dataloader import DataLoader\n",
    "from os.path import abspath\n",
    "from entriesprocessor import EntriesProcessor\n",
    "from trainer import Trainer\n",
    "from model import Decoder, Encoder\n",
    "import torch\n",
    "\n",
    "EMBEDDING_SIZE = 10\n",
    "HIDDEN_SIZE = 200\n",
    "print(abspath('./'))\n",
    "loader = DataLoader(10)\n",
    "loader.parse_person_corpus(abspath('../Persons-1000/collection'))\n",
    "loader.parse_rdf_corpus(abspath('../../corpus_for_pakhomov_2'))"
   ]
  },
  {
   "cell_type": "code",
   "execution_count": 4,
   "metadata": {},
   "outputs": [
    {
     "name": "stdout",
     "output_type": "stream",
     "text": [
      "38953\n14276\n"
     ]
    }
   ],
   "source": [
    "print(len(loader.entries))\n",
    "uniq_values = set([entry.value for entry in loader.entries])\n",
    "print(len(uniq_values))"
   ]
  },
  {
   "cell_type": "code",
   "execution_count": 10,
   "metadata": {
    "collapsed": true
   },
   "outputs": [],
   "source": [
    "ep = EntriesProcessor(20,40)\n",
    "# voc_size = 10\n",
    "ep.process(loader.entries)\n",
    "voc_size = ep.symbols_counter"
   ]
  },
  {
   "cell_type": "code",
   "execution_count": 12,
   "metadata": {},
   "outputs": [
    {
     "data": {
      "text/plain": [
       "3654"
      ]
     },
     "execution_count": 12,
     "metadata": {},
     "output_type": "execute_result"
    }
   ],
   "source": [
    "len(ep.X_data_test)"
   ]
  },
  {
   "cell_type": "code",
   "execution_count": 13,
   "metadata": {
    "collapsed": true
   },
   "outputs": [],
   "source": [
    "device = torch.device(\"cuda\" if torch.cuda.is_available() else \"cpu\")\n",
    "encoder = Encoder(input_size=voc_size, hidden_size=HIDDEN_SIZE, embedding_size=EMBEDDING_SIZE).to(device)\n",
    "decoder = Decoder(hidden_size=HIDDEN_SIZE, embedding_size=EMBEDDING_SIZE, output_size=voc_size, max_length=40).to(device)\n",
    "trainer = Trainer(encoder,decoder,ep,max_input_length=40, max_output_length=20)"
   ]
  },
  {
   "cell_type": "code",
   "execution_count": 14,
   "metadata": {
    "collapsed": true
   },
   "outputs": [],
   "source": [
    "train_losses_all, test_losses_all = [], []"
   ]
  },
  {
   "cell_type": "code",
   "execution_count": 54,
   "metadata": {},
   "outputs": [
    {
     "name": "stdout",
     "output_type": "stream",
     "text": [
      "\nEpoch 1\n"
     ]
    },
    {
     "name": "stdout",
     "output_type": "stream",
     "text": [
      "\r\tTrain Loss: 0.242880 \t Time: 0s"
     ]
    },
    {
     "name": "stdout",
     "output_type": "stream",
     "text": [
      "\r\tTrain Loss: 0.202844 \t Time: 0s\r\tTrain Loss: 0.182839 \t Time: 0s"
     ]
    },
    {
     "name": "stdout",
     "output_type": "stream",
     "text": [
      "\r\tTrain Loss: 0.186963 \t Time: 0s"
     ]
    },
    {
     "name": "stdout",
     "output_type": "stream",
     "text": [
      "\r\tTrain Loss: 0.177451 \t Time: 1s"
     ]
    },
    {
     "name": "stdout",
     "output_type": "stream",
     "text": [
      "\r\tTrain Loss: 0.199488 \t Time: 1s"
     ]
    },
    {
     "name": "stdout",
     "output_type": "stream",
     "text": [
      "\r\tTrain Loss: 0.219894 \t Time: 1s"
     ]
    },
    {
     "name": "stdout",
     "output_type": "stream",
     "text": [
      "\r\tTrain Loss: 0.206433 \t Time: 1s\r\tTrain Loss: 0.213449 \t Time: 1s"
     ]
    },
    {
     "name": "stdout",
     "output_type": "stream",
     "text": [
      "\r\tTrain Loss: 0.219882 \t Time: 2s\r\tTrain Loss: 0.221916 \t Time: 2s"
     ]
    },
    {
     "name": "stdout",
     "output_type": "stream",
     "text": [
      "\r\tTrain Loss: 0.225709 \t Time: 2s"
     ]
    },
    {
     "name": "stdout",
     "output_type": "stream",
     "text": [
      "\r\tTrain Loss: 0.228558 \t Time: 2s"
     ]
    },
    {
     "name": "stdout",
     "output_type": "stream",
     "text": [
      "\r\tTrain Loss: 0.225645 \t Time: 2s"
     ]
    },
    {
     "name": "stdout",
     "output_type": "stream",
     "text": [
      "\r\tTrain Loss: 0.221340 \t Time: 3s\r\tTrain Loss: 0.214206 \t Time: 3s"
     ]
    },
    {
     "name": "stdout",
     "output_type": "stream",
     "text": [
      "\r\tTrain Loss: 0.215240 \t Time: 3s\r\tTrain Loss: 0.210613 \t Time: 3s"
     ]
    },
    {
     "name": "stdout",
     "output_type": "stream",
     "text": [
      "\r\tTrain Loss: 0.205526 \t Time: 3s\r\tTrain Loss: 0.205773 \t Time: 4s"
     ]
    },
    {
     "name": "stdout",
     "output_type": "stream",
     "text": [
      "\r\tTrain Loss: 0.212314 \t Time: 4s"
     ]
    },
    {
     "name": "stdout",
     "output_type": "stream",
     "text": [
      "\r\tTrain Loss: 0.213556 \t Time: 4s\r\tTrain Loss: 0.211922 \t Time: 4s"
     ]
    },
    {
     "name": "stdout",
     "output_type": "stream",
     "text": [
      "\r\tTrain Loss: 0.208862 \t Time: 4s"
     ]
    },
    {
     "name": "stdout",
     "output_type": "stream",
     "text": [
      "\r\tTrain Loss: 0.209614 \t Time: 5s"
     ]
    },
    {
     "name": "stdout",
     "output_type": "stream",
     "text": [
      "\r\tTrain Loss: 0.207817 \t Time: 5s\r\tTrain Loss: 0.211334 \t Time: 5s"
     ]
    },
    {
     "name": "stdout",
     "output_type": "stream",
     "text": [
      "\r\tTrain Loss: 0.210096 \t Time: 5s\r\tTrain Loss: 0.208759 \t Time: 5s"
     ]
    },
    {
     "name": "stdout",
     "output_type": "stream",
     "text": [
      "\r\tTrain Loss: 0.210304 \t Time: 6s\r\tTrain Loss: 0.209289 \t Time: 6s"
     ]
    },
    {
     "name": "stdout",
     "output_type": "stream",
     "text": [
      "\r\tTrain Loss: 0.208803 \t Time: 6s"
     ]
    },
    {
     "name": "stdout",
     "output_type": "stream",
     "text": [
      "\r\tTrain Loss: 0.206215 \t Time: 6s\r\tTrain Loss: 0.206924 \t Time: 6s"
     ]
    },
    {
     "name": "stdout",
     "output_type": "stream",
     "text": [
      "\r\tTrain Loss: 0.204152 \t Time: 7s\r\tTrain Loss: 0.202155 \t Time: 7s"
     ]
    },
    {
     "name": "stdout",
     "output_type": "stream",
     "text": [
      "\r\tTrain Loss: 0.202159 \t Time: 7s\r\tTrain Loss: 0.204009 \t Time: 7s"
     ]
    },
    {
     "name": "stdout",
     "output_type": "stream",
     "text": [
      "\r\tTrain Loss: 0.205549 \t Time: 7s\r\tTrain Loss: 0.204004 \t Time: 8s"
     ]
    },
    {
     "name": "stdout",
     "output_type": "stream",
     "text": [
      "\r\tTrain Loss: 0.206052 \t Time: 8s\r\tTrain Loss: 0.206743 \t Time: 8s"
     ]
    },
    {
     "name": "stdout",
     "output_type": "stream",
     "text": [
      "\r\tTrain Loss: 0.207773 \t Time: 8s\r\tTrain Loss: 0.206080 \t Time: 8s"
     ]
    },
    {
     "name": "stdout",
     "output_type": "stream",
     "text": [
      "\r\tTrain Loss: 0.204775 \t Time: 9s\r\tTrain Loss: 0.205131 \t Time: 9s"
     ]
    },
    {
     "name": "stdout",
     "output_type": "stream",
     "text": [
      "\r\tTrain Loss: 0.203812 \t Time: 9s\r\tTrain Loss: 0.203806 \t Time: 9s"
     ]
    },
    {
     "name": "stdout",
     "output_type": "stream",
     "text": [
      "\r\tTrain Loss: 0.202902 \t Time: 9s\r\tTrain Loss: 0.202105 \t Time: 10s"
     ]
    },
    {
     "name": "stdout",
     "output_type": "stream",
     "text": [
      "\r\tTrain Loss: 0.201534 \t Time: 10s\r\tTrain Loss: 0.199857 \t Time: 10s"
     ]
    },
    {
     "name": "stdout",
     "output_type": "stream",
     "text": [
      "\r\tTrain Loss: 0.198461 \t Time: 10s\r\tTrain Loss: 0.197485 \t Time: 10s"
     ]
    },
    {
     "name": "stdout",
     "output_type": "stream",
     "text": [
      "\r\tTrain Loss: 0.196957 \t Time: 11s\r\tTrain Loss: 0.195959 \t Time: 11s"
     ]
    },
    {
     "name": "stdout",
     "output_type": "stream",
     "text": [
      "\r\tTrain Loss: 0.194860 \t Time: 11s"
     ]
    },
    {
     "name": "stdout",
     "output_type": "stream",
     "text": [
      "\r\tTrain Loss: 0.196318 \t Time: 11s"
     ]
    },
    {
     "name": "stdout",
     "output_type": "stream",
     "text": [
      "\r\tTrain Loss: 0.197000 \t Time: 11s\r\tTrain Loss: 0.195896 \t Time: 12s"
     ]
    },
    {
     "name": "stdout",
     "output_type": "stream",
     "text": [
      "\r\tTrain Loss: 0.195060 \t Time: 12s"
     ]
    },
    {
     "name": "stdout",
     "output_type": "stream",
     "text": [
      "\r\tTrain Loss: 0.194766 \t Time: 12s"
     ]
    },
    {
     "name": "stdout",
     "output_type": "stream",
     "text": [
      "\r\tTrain Loss: 0.196570 \t Time: 12s"
     ]
    },
    {
     "name": "stdout",
     "output_type": "stream",
     "text": [
      "\r\tTrain Loss: 0.197714 \t Time: 12s\r\tTrain Loss: 0.196997 \t Time: 13s"
     ]
    },
    {
     "name": "stdout",
     "output_type": "stream",
     "text": [
      "\r\tTrain Loss: 0.198810 \t Time: 13s\r\tTrain Loss: 0.197974 \t Time: 13s"
     ]
    },
    {
     "name": "stdout",
     "output_type": "stream",
     "text": [
      "\r\tTrain Loss: 0.197814 \t Time: 13s\r\tTrain Loss: 0.197026 \t Time: 13s"
     ]
    },
    {
     "name": "stdout",
     "output_type": "stream",
     "text": [
      "\r\tTrain Loss: 0.196425 \t Time: 14s\r\tTrain Loss: 0.195548 \t Time: 14s"
     ]
    },
    {
     "name": "stdout",
     "output_type": "stream",
     "text": [
      "\r\tTrain Loss: 0.194515 \t Time: 14s"
     ]
    },
    {
     "name": "stdout",
     "output_type": "stream",
     "text": [
      "\r\tTrain Loss: 0.194748 \t Time: 14s\r\tTrain Loss: 0.194434 \t Time: 14s"
     ]
    },
    {
     "name": "stdout",
     "output_type": "stream",
     "text": [
      "\r\tTrain Loss: 0.194436 \t Time: 15s\r\tTrain Loss: 0.193920 \t Time: 15s"
     ]
    },
    {
     "name": "stdout",
     "output_type": "stream",
     "text": [
      "\r\tTrain Loss: 0.194534 \t Time: 15s"
     ]
    },
    {
     "name": "stdout",
     "output_type": "stream",
     "text": [
      "\r\tTrain Loss: 0.195537 \t Time: 15s\r\tTrain Loss: 0.196659 \t Time: 15s"
     ]
    },
    {
     "name": "stdout",
     "output_type": "stream",
     "text": [
      "\r\tTrain Loss: 0.196676 \t Time: 16s\r\tTrain Loss: 0.196789 \t Time: 16s"
     ]
    },
    {
     "name": "stdout",
     "output_type": "stream",
     "text": [
      "\r\tTrain Loss: 0.198505 \t Time: 16s\r\tTrain Loss: 0.200104 \t Time: 16s"
     ]
    },
    {
     "name": "stdout",
     "output_type": "stream",
     "text": [
      "\r\tTrain Loss: 0.202357 \t Time: 16s\r\tTrain Loss: 0.202374 \t Time: 17s"
     ]
    },
    {
     "name": "stdout",
     "output_type": "stream",
     "text": [
      "\r\tTrain Loss: 0.202097 \t Time: 17s\r\tTrain Loss: 0.201310 \t Time: 17s"
     ]
    },
    {
     "name": "stdout",
     "output_type": "stream",
     "text": [
      "\r\tTrain Loss: 0.201124 \t Time: 17s\r\tTrain Loss: 0.201488 \t Time: 17s"
     ]
    },
    {
     "name": "stdout",
     "output_type": "stream",
     "text": [
      "\r\tTrain Loss: 0.201713 \t Time: 18s\r\tTrain Loss: 0.202708 \t Time: 18s"
     ]
    },
    {
     "name": "stdout",
     "output_type": "stream",
     "text": [
      "\r\tTrain Loss: 0.204115 \t Time: 18s\r\tTrain Loss: 0.205142 \t Time: 18s"
     ]
    },
    {
     "name": "stdout",
     "output_type": "stream",
     "text": [
      "\r\tTrain Loss: 0.204690 \t Time: 18s\r\tTrain Loss: 0.205089 \t Time: 19s"
     ]
    },
    {
     "name": "stdout",
     "output_type": "stream",
     "text": [
      "\r\tTrain Loss: 0.205798 \t Time: 19s\r\tTrain Loss: 0.205052 \t Time: 19s"
     ]
    },
    {
     "name": "stdout",
     "output_type": "stream",
     "text": [
      "\r\tTrain Loss: 0.204357 \t Time: 19s\r\tTrain Loss: 0.203619 \t Time: 19s"
     ]
    },
    {
     "name": "stdout",
     "output_type": "stream",
     "text": [
      "\r\tTrain Loss: 0.203545 \t Time: 20s\r\tTrain Loss: 0.203793 \t Time: 20s"
     ]
    },
    {
     "name": "stdout",
     "output_type": "stream",
     "text": [
      "\r\tTrain Loss: 0.203229 \t Time: 20s\r\tTrain Loss: 0.202491 \t Time: 20s"
     ]
    },
    {
     "name": "stdout",
     "output_type": "stream",
     "text": [
      "\r\tTrain Loss: 0.203060 \t Time: 20s\r\tTrain Loss: 0.203917 \t Time: 21s"
     ]
    },
    {
     "name": "stdout",
     "output_type": "stream",
     "text": [
      "\r\tTrain Loss: 0.203957 \t Time: 21s"
     ]
    },
    {
     "name": "stdout",
     "output_type": "stream",
     "text": [
      "\r\tTrain Loss: 0.203611 \t Time: 21s\r\tTrain Loss: 0.204469 \t Time: 21s"
     ]
    },
    {
     "name": "stdout",
     "output_type": "stream",
     "text": [
      "\r\tTrain Loss: 0.205407 \t Time: 21s\r\tTrain Loss: 0.206564 \t Time: 22s"
     ]
    },
    {
     "name": "stdout",
     "output_type": "stream",
     "text": [
      "\r\tTrain Loss: 0.206247 \t Time: 22s\r\tTrain Loss: 0.205658 \t Time: 22s"
     ]
    },
    {
     "name": "stdout",
     "output_type": "stream",
     "text": [
      "\r\tTrain Loss: 0.204898 \t Time: 22s\r\tTrain Loss: 0.204422 \t Time: 22s"
     ]
    },
    {
     "name": "stdout",
     "output_type": "stream",
     "text": [
      "\r\tTrain Loss: 0.205387 \t Time: 23s\n"
     ]
    },
    {
     "name": "stdout",
     "output_type": "stream",
     "text": [
      "\tTest Loss: 0.345360 \t Time: 0s\nEpoch 2\n\r\tTrain Loss: 0.206064 \t Time: 0s"
     ]
    },
    {
     "name": "stdout",
     "output_type": "stream",
     "text": [
      "\r\tTrain Loss: 0.200921 \t Time: 0s\r\tTrain Loss: 0.188421 \t Time: 0s"
     ]
    },
    {
     "name": "stdout",
     "output_type": "stream",
     "text": [
      "\r\tTrain Loss: 0.210150 \t Time: 0s\r\tTrain Loss: 0.201644 \t Time: 0s"
     ]
    },
    {
     "name": "stdout",
     "output_type": "stream",
     "text": [
      "\r\tTrain Loss: 0.221699 \t Time: 1s\r\tTrain Loss: 0.213003 \t Time: 1s"
     ]
    },
    {
     "name": "stdout",
     "output_type": "stream",
     "text": [
      "\r\tTrain Loss: 0.205286 \t Time: 1s\r\tTrain Loss: 0.199530 \t Time: 1s"
     ]
    },
    {
     "name": "stdout",
     "output_type": "stream",
     "text": [
      "\r\tTrain Loss: 0.193599 \t Time: 1s\r\tTrain Loss: 0.196374 \t Time: 2s"
     ]
    },
    {
     "name": "stdout",
     "output_type": "stream",
     "text": [
      "\r\tTrain Loss: 0.208187 \t Time: 2s\r\tTrain Loss: 0.206904 \t Time: 2s"
     ]
    },
    {
     "name": "stdout",
     "output_type": "stream",
     "text": [
      "\r\tTrain Loss: 0.208818 \t Time: 2s\r\tTrain Loss: 0.204541 \t Time: 2s"
     ]
    },
    {
     "name": "stdout",
     "output_type": "stream",
     "text": [
      "\r\tTrain Loss: 0.202762 \t Time: 3s\r\tTrain Loss: 0.211009 \t Time: 3s"
     ]
    },
    {
     "name": "stdout",
     "output_type": "stream",
     "text": [
      "\r\tTrain Loss: 0.211377 \t Time: 3s\r\tTrain Loss: 0.211934 \t Time: 3s"
     ]
    },
    {
     "name": "stdout",
     "output_type": "stream",
     "text": [
      "\r\tTrain Loss: 0.207735 \t Time: 3s"
     ]
    },
    {
     "name": "stdout",
     "output_type": "stream",
     "text": [
      "\r\tTrain Loss: 0.204892 \t Time: 4s\r\tTrain Loss: 0.202550 \t Time: 4s"
     ]
    },
    {
     "name": "stdout",
     "output_type": "stream",
     "text": [
      "\r\tTrain Loss: 0.202747 \t Time: 4s\r\tTrain Loss: 0.200344 \t Time: 4s"
     ]
    },
    {
     "name": "stdout",
     "output_type": "stream",
     "text": [
      "\r\tTrain Loss: 0.202933 \t Time: 4s\r\tTrain Loss: 0.200466 \t Time: 5s"
     ]
    },
    {
     "name": "stdout",
     "output_type": "stream",
     "text": [
      "\r\tTrain Loss: 0.201533 \t Time: 5s\r\tTrain Loss: 0.199997 \t Time: 5s"
     ]
    },
    {
     "name": "stdout",
     "output_type": "stream",
     "text": [
      "\r\tTrain Loss: 0.199152 \t Time: 5s\r\tTrain Loss: 0.201395 \t Time: 5s"
     ]
    },
    {
     "name": "stdout",
     "output_type": "stream",
     "text": [
      "\r\tTrain Loss: 0.204415 \t Time: 6s\r\tTrain Loss: 0.206747 \t Time: 6s"
     ]
    },
    {
     "name": "stdout",
     "output_type": "stream",
     "text": [
      "\r\tTrain Loss: 0.207073 \t Time: 6s\r\tTrain Loss: 0.206296 \t Time: 6s"
     ]
    },
    {
     "name": "stdout",
     "output_type": "stream",
     "text": [
      "\r\tTrain Loss: 0.207486 \t Time: 6s\r\tTrain Loss: 0.209483 \t Time: 7s"
     ]
    },
    {
     "name": "stdout",
     "output_type": "stream",
     "text": [
      "\r\tTrain Loss: 0.211670 \t Time: 7s\r\tTrain Loss: 0.213013 \t Time: 7s"
     ]
    },
    {
     "name": "stdout",
     "output_type": "stream",
     "text": [
      "\r\tTrain Loss: 0.211405 \t Time: 7s\r\tTrain Loss: 0.209504 \t Time: 7s"
     ]
    },
    {
     "name": "stdout",
     "output_type": "stream",
     "text": [
      "\r\tTrain Loss: 0.211169 \t Time: 8s\r\tTrain Loss: 0.212481 \t Time: 8s"
     ]
    },
    {
     "name": "stdout",
     "output_type": "stream",
     "text": [
      "\r\tTrain Loss: 0.211350 \t Time: 8s\r\tTrain Loss: 0.210101 \t Time: 8s"
     ]
    },
    {
     "name": "stdout",
     "output_type": "stream",
     "text": [
      "\r\tTrain Loss: 0.208443 \t Time: 8s\r\tTrain Loss: 0.206907 \t Time: 9s"
     ]
    },
    {
     "name": "stdout",
     "output_type": "stream",
     "text": [
      "\r\tTrain Loss: 0.206332 \t Time: 9s\r\tTrain Loss: 0.207815 \t Time: 9s"
     ]
    },
    {
     "name": "stdout",
     "output_type": "stream",
     "text": [
      "\r\tTrain Loss: 0.211441 \t Time: 9s"
     ]
    },
    {
     "name": "stdout",
     "output_type": "stream",
     "text": [
      "\r\tTrain Loss: 0.210990 \t Time: 9s\r\tTrain Loss: 0.210733 \t Time: 10s"
     ]
    },
    {
     "name": "stdout",
     "output_type": "stream",
     "text": [
      "\r\tTrain Loss: 0.209542 \t Time: 10s\r\tTrain Loss: 0.209035 \t Time: 10s"
     ]
    },
    {
     "name": "stdout",
     "output_type": "stream",
     "text": [
      "\r\tTrain Loss: 0.209948 \t Time: 10s\r\tTrain Loss: 0.211546 \t Time: 10s"
     ]
    },
    {
     "name": "stdout",
     "output_type": "stream",
     "text": [
      "\r\tTrain Loss: 0.211542 \t Time: 11s\r\tTrain Loss: 0.210891 \t Time: 11s"
     ]
    },
    {
     "name": "stdout",
     "output_type": "stream",
     "text": [
      "\r\tTrain Loss: 0.211821 \t Time: 11s\r\tTrain Loss: 0.215087 \t Time: 11s"
     ]
    },
    {
     "name": "stdout",
     "output_type": "stream",
     "text": [
      "\r\tTrain Loss: 0.214236 \t Time: 11s\r\tTrain Loss: 0.213430 \t Time: 12s"
     ]
    },
    {
     "name": "stdout",
     "output_type": "stream",
     "text": [
      "\r\tTrain Loss: 0.211958 \t Time: 12s\r\tTrain Loss: 0.212376 \t Time: 12s"
     ]
    },
    {
     "name": "stdout",
     "output_type": "stream",
     "text": [
      "\r\tTrain Loss: 0.211204 \t Time: 12s\r\tTrain Loss: 0.211839 \t Time: 12s"
     ]
    },
    {
     "name": "stdout",
     "output_type": "stream",
     "text": [
      "\r\tTrain Loss: 0.212800 \t Time: 13s\r\tTrain Loss: 0.212693 \t Time: 13s"
     ]
    },
    {
     "name": "stdout",
     "output_type": "stream",
     "text": [
      "\r\tTrain Loss: 0.213353 \t Time: 13s\r\tTrain Loss: 0.213769 \t Time: 13s"
     ]
    },
    {
     "name": "stdout",
     "output_type": "stream",
     "text": [
      "\r\tTrain Loss: 0.214893 \t Time: 13s\r\tTrain Loss: 0.216013 \t Time: 14s"
     ]
    },
    {
     "name": "stdout",
     "output_type": "stream",
     "text": [
      "\r\tTrain Loss: 0.215439 \t Time: 14s\r\tTrain Loss: 0.214526 \t Time: 14s"
     ]
    },
    {
     "name": "stdout",
     "output_type": "stream",
     "text": [
      "\r\tTrain Loss: 0.213823 \t Time: 14s\r\tTrain Loss: 0.212948 \t Time: 14s"
     ]
    },
    {
     "name": "stdout",
     "output_type": "stream",
     "text": [
      "\r\tTrain Loss: 0.213449 \t Time: 15s\r\tTrain Loss: 0.212469 \t Time: 15s"
     ]
    },
    {
     "name": "stdout",
     "output_type": "stream",
     "text": [
      "\r\tTrain Loss: 0.212608 \t Time: 15s\r\tTrain Loss: 0.211881 \t Time: 15s"
     ]
    },
    {
     "name": "stdout",
     "output_type": "stream",
     "text": [
      "\r\tTrain Loss: 0.211049 \t Time: 15s\r\tTrain Loss: 0.210117 \t Time: 16s"
     ]
    },
    {
     "name": "stdout",
     "output_type": "stream",
     "text": [
      "\r\tTrain Loss: 0.210982 \t Time: 16s"
     ]
    },
    {
     "name": "stdout",
     "output_type": "stream",
     "text": [
      "\r\tTrain Loss: 0.212150 \t Time: 16s\r\tTrain Loss: 0.212891 \t Time: 16s"
     ]
    },
    {
     "name": "stdout",
     "output_type": "stream",
     "text": [
      "\r\tTrain Loss: 0.211934 \t Time: 16s"
     ]
    },
    {
     "name": "stdout",
     "output_type": "stream",
     "text": [
      "\r\tTrain Loss: 0.211241 \t Time: 17s\r\tTrain Loss: 0.211480 \t Time: 17s"
     ]
    },
    {
     "name": "stdout",
     "output_type": "stream",
     "text": [
      "\r\tTrain Loss: 0.211286 \t Time: 17s"
     ]
    },
    {
     "name": "stdout",
     "output_type": "stream",
     "text": [
      "\r\tTrain Loss: 0.211855 \t Time: 17s\r\tTrain Loss: 0.212667 \t Time: 17s"
     ]
    },
    {
     "name": "stdout",
     "output_type": "stream",
     "text": [
      "\r\tTrain Loss: 0.211769 \t Time: 18s\r\tTrain Loss: 0.211752 \t Time: 18s"
     ]
    },
    {
     "name": "stdout",
     "output_type": "stream",
     "text": [
      "\r\tTrain Loss: 0.211429 \t Time: 18s\r\tTrain Loss: 0.210829 \t Time: 18s"
     ]
    },
    {
     "name": "stdout",
     "output_type": "stream",
     "text": [
      "\r\tTrain Loss: 0.211130 \t Time: 18s\r\tTrain Loss: 0.212163 \t Time: 19s"
     ]
    },
    {
     "name": "stdout",
     "output_type": "stream",
     "text": [
      "\r\tTrain Loss: 0.211838 \t Time: 19s\r\tTrain Loss: 0.211156 \t Time: 19s"
     ]
    },
    {
     "name": "stdout",
     "output_type": "stream",
     "text": [
      "\r\tTrain Loss: 0.212097 \t Time: 19s\r\tTrain Loss: 0.211364 \t Time: 19s"
     ]
    },
    {
     "name": "stdout",
     "output_type": "stream",
     "text": [
      "\r\tTrain Loss: 0.211002 \t Time: 20s\r\tTrain Loss: 0.211968 \t Time: 20s"
     ]
    },
    {
     "name": "stdout",
     "output_type": "stream",
     "text": [
      "\r\tTrain Loss: 0.211127 \t Time: 20s\r\tTrain Loss: 0.211519 \t Time: 20s"
     ]
    },
    {
     "name": "stdout",
     "output_type": "stream",
     "text": [
      "\r\tTrain Loss: 0.211475 \t Time: 20s\r\tTrain Loss: 0.210672 \t Time: 21s"
     ]
    },
    {
     "name": "stdout",
     "output_type": "stream",
     "text": [
      "\r\tTrain Loss: 0.211233 \t Time: 21s\r\tTrain Loss: 0.210497 \t Time: 21s"
     ]
    },
    {
     "name": "stdout",
     "output_type": "stream",
     "text": [
      "\r\tTrain Loss: 0.211295 \t Time: 21s\r\tTrain Loss: 0.211959 \t Time: 21s"
     ]
    },
    {
     "name": "stdout",
     "output_type": "stream",
     "text": [
      "\r\tTrain Loss: 0.211149 \t Time: 22s\r\tTrain Loss: 0.210292 \t Time: 22s"
     ]
    },
    {
     "name": "stdout",
     "output_type": "stream",
     "text": [
      "\r\tTrain Loss: 0.209669 \t Time: 22s\r\tTrain Loss: 0.209474 \t Time: 22s"
     ]
    },
    {
     "name": "stdout",
     "output_type": "stream",
     "text": [
      "\r\tTrain Loss: 0.209115 \t Time: 22s\n"
     ]
    },
    {
     "name": "stdout",
     "output_type": "stream",
     "text": [
      "\tTest Loss: 0.326910 \t Time: 0s\nEpoch 3\n\r\tTrain Loss: 0.167571 \t Time: 0s"
     ]
    },
    {
     "name": "stdout",
     "output_type": "stream",
     "text": [
      "\r\tTrain Loss: 0.136588 \t Time: 0s\r\tTrain Loss: 0.168739 \t Time: 0s"
     ]
    },
    {
     "name": "stdout",
     "output_type": "stream",
     "text": [
      "\r\tTrain Loss: 0.192857 \t Time: 0s\r\tTrain Loss: 0.205418 \t Time: 1s"
     ]
    },
    {
     "name": "stdout",
     "output_type": "stream",
     "text": [
      "\r\tTrain Loss: 0.194577 \t Time: 1s\r\tTrain Loss: 0.200373 \t Time: 1s"
     ]
    },
    {
     "name": "stdout",
     "output_type": "stream",
     "text": [
      "\r\tTrain Loss: 0.193844 \t Time: 1s\r\tTrain Loss: 0.191962 \t Time: 1s"
     ]
    },
    {
     "name": "stdout",
     "output_type": "stream",
     "text": [
      "\r\tTrain Loss: 0.185421 \t Time: 1s\r\tTrain Loss: 0.190854 \t Time: 2s"
     ]
    },
    {
     "name": "stdout",
     "output_type": "stream",
     "text": [
      "\r\tTrain Loss: 0.186147 \t Time: 2s\r\tTrain Loss: 0.191664 \t Time: 2s"
     ]
    },
    {
     "name": "stdout",
     "output_type": "stream",
     "text": [
      "\r\tTrain Loss: 0.188956 \t Time: 2s\r\tTrain Loss: 0.184867 \t Time: 3s"
     ]
    },
    {
     "name": "stdout",
     "output_type": "stream",
     "text": [
      "\r\tTrain Loss: 0.190996 \t Time: 3s\r\tTrain Loss: 0.191629 \t Time: 3s"
     ]
    },
    {
     "name": "stdout",
     "output_type": "stream",
     "text": [
      "\r\tTrain Loss: 0.195581 \t Time: 3s\r\tTrain Loss: 0.193156 \t Time: 3s"
     ]
    },
    {
     "name": "stdout",
     "output_type": "stream",
     "text": [
      "\r\tTrain Loss: 0.197041 \t Time: 4s\r\tTrain Loss: 0.193992 \t Time: 4s"
     ]
    },
    {
     "name": "stdout",
     "output_type": "stream",
     "text": [
      "\r\tTrain Loss: 0.192234 \t Time: 4s\r\tTrain Loss: 0.190192 \t Time: 4s"
     ]
    },
    {
     "name": "stdout",
     "output_type": "stream",
     "text": [
      "\r\tTrain Loss: 0.188195 \t Time: 4s\r\tTrain Loss: 0.191462 \t Time: 5s"
     ]
    },
    {
     "name": "stdout",
     "output_type": "stream",
     "text": [
      "\r\tTrain Loss: 0.191022 \t Time: 5s\r\tTrain Loss: 0.196628 \t Time: 5s"
     ]
    },
    {
     "name": "stdout",
     "output_type": "stream",
     "text": [
      "\r\tTrain Loss: 0.198722 \t Time: 5s\r\tTrain Loss: 0.196872 \t Time: 5s"
     ]
    },
    {
     "name": "stdout",
     "output_type": "stream",
     "text": [
      "\r\tTrain Loss: 0.196755 \t Time: 5s\r\tTrain Loss: 0.198107 \t Time: 6s"
     ]
    },
    {
     "name": "stdout",
     "output_type": "stream",
     "text": [
      "\r\tTrain Loss: 0.196578 \t Time: 6s\r\tTrain Loss: 0.194136 \t Time: 6s"
     ]
    },
    {
     "name": "stdout",
     "output_type": "stream",
     "text": [
      "\r\tTrain Loss: 0.196499 \t Time: 6s\r\tTrain Loss: 0.198034 \t Time: 6s"
     ]
    },
    {
     "name": "stdout",
     "output_type": "stream",
     "text": [
      "\r\tTrain Loss: 0.200718 \t Time: 7s\r\tTrain Loss: 0.200143 \t Time: 7s"
     ]
    },
    {
     "name": "stdout",
     "output_type": "stream",
     "text": [
      "\r\tTrain Loss: 0.200684 \t Time: 7s\r\tTrain Loss: 0.203695 \t Time: 7s"
     ]
    },
    {
     "name": "stdout",
     "output_type": "stream",
     "text": [
      "\r\tTrain Loss: 0.206097 \t Time: 7s\r\tTrain Loss: 0.207756 \t Time: 8s"
     ]
    },
    {
     "name": "stdout",
     "output_type": "stream",
     "text": [
      "\r\tTrain Loss: 0.208766 \t Time: 8s\r\tTrain Loss: 0.209267 \t Time: 8s"
     ]
    },
    {
     "name": "stdout",
     "output_type": "stream",
     "text": [
      "\r\tTrain Loss: 0.210442 \t Time: 8s"
     ]
    },
    {
     "name": "stdout",
     "output_type": "stream",
     "text": [
      "\r\tTrain Loss: 0.208780 \t Time: 8s\r\tTrain Loss: 0.210901 \t Time: 9s"
     ]
    },
    {
     "name": "stdout",
     "output_type": "stream",
     "text": [
      "\r\tTrain Loss: 0.209474 \t Time: 9s\r\tTrain Loss: 0.211296 \t Time: 9s"
     ]
    },
    {
     "name": "stdout",
     "output_type": "stream",
     "text": [
      "\r\tTrain Loss: 0.210504 \t Time: 9s"
     ]
    },
    {
     "name": "stdout",
     "output_type": "stream",
     "text": [
      "\r\tTrain Loss: 0.209870 \t Time: 9s\r\tTrain Loss: 0.210546 \t Time: 10s"
     ]
    },
    {
     "name": "stdout",
     "output_type": "stream",
     "text": [
      "\r\tTrain Loss: 0.209534 \t Time: 10s\r\tTrain Loss: 0.208031 \t Time: 10s"
     ]
    },
    {
     "name": "stdout",
     "output_type": "stream",
     "text": [
      "\r\tTrain Loss: 0.206659 \t Time: 10s\r\tTrain Loss: 0.207355 \t Time: 10s"
     ]
    },
    {
     "name": "stdout",
     "output_type": "stream",
     "text": [
      "\r\tTrain Loss: 0.207762 \t Time: 11s\r\tTrain Loss: 0.208291 \t Time: 11s"
     ]
    },
    {
     "name": "stdout",
     "output_type": "stream",
     "text": [
      "\r\tTrain Loss: 0.208057 \t Time: 11s"
     ]
    },
    {
     "name": "stdout",
     "output_type": "stream",
     "text": [
      "\r\tTrain Loss: 0.208191 \t Time: 11s\r\tTrain Loss: 0.206828 \t Time: 11s"
     ]
    },
    {
     "name": "stdout",
     "output_type": "stream",
     "text": [
      "\r\tTrain Loss: 0.205978 \t Time: 12s"
     ]
    },
    {
     "name": "stdout",
     "output_type": "stream",
     "text": [
      "\r\tTrain Loss: 0.204913 \t Time: 12s\r\tTrain Loss: 0.205199 \t Time: 12s"
     ]
    },
    {
     "name": "stdout",
     "output_type": "stream",
     "text": [
      "\r\tTrain Loss: 0.206326 \t Time: 12s\r\tTrain Loss: 0.209195 \t Time: 12s"
     ]
    },
    {
     "name": "stdout",
     "output_type": "stream",
     "text": [
      "\r\tTrain Loss: 0.208648 \t Time: 13s\r\tTrain Loss: 0.207817 \t Time: 13s"
     ]
    },
    {
     "name": "stdout",
     "output_type": "stream",
     "text": [
      "\r\tTrain Loss: 0.207919 \t Time: 13s\r\tTrain Loss: 0.207001 \t Time: 13s"
     ]
    },
    {
     "name": "stdout",
     "output_type": "stream",
     "text": [
      "\r\tTrain Loss: 0.206045 \t Time: 13s\r\tTrain Loss: 0.205107 \t Time: 14s"
     ]
    },
    {
     "name": "stdout",
     "output_type": "stream",
     "text": [
      "\r\tTrain Loss: 0.205726 \t Time: 14s\r\tTrain Loss: 0.206069 \t Time: 14s"
     ]
    },
    {
     "name": "stdout",
     "output_type": "stream",
     "text": [
      "\r\tTrain Loss: 0.207141 \t Time: 14s\r\tTrain Loss: 0.206567 \t Time: 14s"
     ]
    },
    {
     "name": "stdout",
     "output_type": "stream",
     "text": [
      "\r\tTrain Loss: 0.205850 \t Time: 15s\r\tTrain Loss: 0.205290 \t Time: 15s"
     ]
    },
    {
     "name": "stdout",
     "output_type": "stream",
     "text": [
      "\r\tTrain Loss: 0.206402 \t Time: 15s\r\tTrain Loss: 0.207500 \t Time: 15s"
     ]
    },
    {
     "name": "stdout",
     "output_type": "stream",
     "text": [
      "\r\tTrain Loss: 0.208400 \t Time: 15s\r\tTrain Loss: 0.207712 \t Time: 16s"
     ]
    },
    {
     "name": "stdout",
     "output_type": "stream",
     "text": [
      "\r\tTrain Loss: 0.206445 \t Time: 16s\r\tTrain Loss: 0.205690 \t Time: 16s"
     ]
    },
    {
     "name": "stdout",
     "output_type": "stream",
     "text": [
      "\r\tTrain Loss: 0.204825 \t Time: 16s\r\tTrain Loss: 0.206460 \t Time: 16s"
     ]
    },
    {
     "name": "stdout",
     "output_type": "stream",
     "text": [
      "\r\tTrain Loss: 0.205379 \t Time: 17s\r\tTrain Loss: 0.204836 \t Time: 17s"
     ]
    },
    {
     "name": "stdout",
     "output_type": "stream",
     "text": [
      "\r\tTrain Loss: 0.204489 \t Time: 17s\r\tTrain Loss: 0.203652 \t Time: 17s"
     ]
    },
    {
     "name": "stdout",
     "output_type": "stream",
     "text": [
      "\r\tTrain Loss: 0.204148 \t Time: 17s\r\tTrain Loss: 0.204793 \t Time: 18s"
     ]
    },
    {
     "name": "stdout",
     "output_type": "stream",
     "text": [
      "\r\tTrain Loss: 0.205037 \t Time: 18s\r\tTrain Loss: 0.205339 \t Time: 18s"
     ]
    },
    {
     "name": "stdout",
     "output_type": "stream",
     "text": [
      "\r\tTrain Loss: 0.204919 \t Time: 18s"
     ]
    },
    {
     "name": "stdout",
     "output_type": "stream",
     "text": [
      "\r\tTrain Loss: 0.204499 \t Time: 18s\r\tTrain Loss: 0.206414 \t Time: 19s"
     ]
    },
    {
     "name": "stdout",
     "output_type": "stream",
     "text": [
      "\r\tTrain Loss: 0.205659 \t Time: 19s\r\tTrain Loss: 0.205727 \t Time: 19s"
     ]
    },
    {
     "name": "stdout",
     "output_type": "stream",
     "text": [
      "\r\tTrain Loss: 0.204897 \t Time: 19s\r\tTrain Loss: 0.204023 \t Time: 19s"
     ]
    },
    {
     "name": "stdout",
     "output_type": "stream",
     "text": [
      "\r\tTrain Loss: 0.203645 \t Time: 20s"
     ]
    },
    {
     "name": "stdout",
     "output_type": "stream",
     "text": [
      "\r\tTrain Loss: 0.203420 \t Time: 20s\r\tTrain Loss: 0.204844 \t Time: 20s"
     ]
    },
    {
     "name": "stdout",
     "output_type": "stream",
     "text": [
      "\r\tTrain Loss: 0.204797 \t Time: 20s\r\tTrain Loss: 0.206800 \t Time: 20s"
     ]
    },
    {
     "name": "stdout",
     "output_type": "stream",
     "text": [
      "\r\tTrain Loss: 0.206398 \t Time: 21s\r\tTrain Loss: 0.205571 \t Time: 21s"
     ]
    },
    {
     "name": "stdout",
     "output_type": "stream",
     "text": [
      "\r\tTrain Loss: 0.206036 \t Time: 21s\r\tTrain Loss: 0.205465 \t Time: 21s"
     ]
    },
    {
     "name": "stdout",
     "output_type": "stream",
     "text": [
      "\r\tTrain Loss: 0.206115 \t Time: 21s\r\tTrain Loss: 0.205593 \t Time: 22s"
     ]
    },
    {
     "name": "stdout",
     "output_type": "stream",
     "text": [
      "\r\tTrain Loss: 0.205126 \t Time: 22s\r\tTrain Loss: 0.206139 \t Time: 22s"
     ]
    },
    {
     "name": "stdout",
     "output_type": "stream",
     "text": [
      "\r\tTrain Loss: 0.207379 \t Time: 22s\r\tTrain Loss: 0.207509 \t Time: 22s\n"
     ]
    },
    {
     "name": "stdout",
     "output_type": "stream",
     "text": [
      "\tTest Loss: 0.322643 \t Time: 0s\nEpoch 4\n\r\tTrain Loss: 0.272629 \t Time: 0s"
     ]
    },
    {
     "name": "stdout",
     "output_type": "stream",
     "text": [
      "\r\tTrain Loss: 0.223302 \t Time: 0s\r\tTrain Loss: 0.223846 \t Time: 0s"
     ]
    },
    {
     "name": "stdout",
     "output_type": "stream",
     "text": [
      "\r\tTrain Loss: 0.220554 \t Time: 0s\r\tTrain Loss: 0.228255 \t Time: 0s"
     ]
    },
    {
     "name": "stdout",
     "output_type": "stream",
     "text": [
      "\r\tTrain Loss: 0.211533 \t Time: 1s\r\tTrain Loss: 0.218514 \t Time: 1s"
     ]
    },
    {
     "name": "stdout",
     "output_type": "stream",
     "text": [
      "\r\tTrain Loss: 0.216020 \t Time: 1s\r\tTrain Loss: 0.217408 \t Time: 1s"
     ]
    },
    {
     "name": "stdout",
     "output_type": "stream",
     "text": [
      "\r\tTrain Loss: 0.210890 \t Time: 1s\r\tTrain Loss: 0.223181 \t Time: 2s"
     ]
    },
    {
     "name": "stdout",
     "output_type": "stream",
     "text": [
      "\r\tTrain Loss: 0.216610 \t Time: 2s\r\tTrain Loss: 0.212836 \t Time: 2s"
     ]
    },
    {
     "name": "stdout",
     "output_type": "stream",
     "text": [
      "\r\tTrain Loss: 0.218422 \t Time: 2s"
     ]
    },
    {
     "name": "stdout",
     "output_type": "stream",
     "text": [
      "\r\tTrain Loss: 0.222666 \t Time: 2s\r\tTrain Loss: 0.218051 \t Time: 3s"
     ]
    },
    {
     "name": "stdout",
     "output_type": "stream",
     "text": [
      "\r\tTrain Loss: 0.213370 \t Time: 3s\r\tTrain Loss: 0.214692 \t Time: 3s"
     ]
    },
    {
     "name": "stdout",
     "output_type": "stream",
     "text": [
      "\r\tTrain Loss: 0.210493 \t Time: 3s\r\tTrain Loss: 0.211964 \t Time: 3s"
     ]
    },
    {
     "name": "stdout",
     "output_type": "stream",
     "text": [
      "\r\tTrain Loss: 0.212499 \t Time: 4s\r\tTrain Loss: 0.210685 \t Time: 4s"
     ]
    },
    {
     "name": "stdout",
     "output_type": "stream",
     "text": [
      "\r\tTrain Loss: 0.210005 \t Time: 4s\r\tTrain Loss: 0.209546 \t Time: 4s"
     ]
    },
    {
     "name": "stdout",
     "output_type": "stream",
     "text": [
      "\r\tTrain Loss: 0.206434 \t Time: 5s\r\tTrain Loss: 0.207539 \t Time: 5s"
     ]
    },
    {
     "name": "stdout",
     "output_type": "stream",
     "text": [
      "\r\tTrain Loss: 0.209419 \t Time: 5s\r\tTrain Loss: 0.208207 \t Time: 5s"
     ]
    },
    {
     "name": "stdout",
     "output_type": "stream",
     "text": [
      "\r\tTrain Loss: 0.214284 \t Time: 5s\r\tTrain Loss: 0.212840 \t Time: 5s"
     ]
    },
    {
     "name": "stdout",
     "output_type": "stream",
     "text": [
      "\r\tTrain Loss: 0.210403 \t Time: 6s\r\tTrain Loss: 0.209650 \t Time: 6s"
     ]
    },
    {
     "name": "stdout",
     "output_type": "stream",
     "text": [
      "\r\tTrain Loss: 0.213974 \t Time: 6s\r\tTrain Loss: 0.214889 \t Time: 6s"
     ]
    },
    {
     "name": "stdout",
     "output_type": "stream",
     "text": [
      "\r\tTrain Loss: 0.217908 \t Time: 6s\r\tTrain Loss: 0.218052 \t Time: 7s"
     ]
    },
    {
     "name": "stdout",
     "output_type": "stream",
     "text": [
      "\r\tTrain Loss: 0.215592 \t Time: 7s\r\tTrain Loss: 0.216273 \t Time: 7s"
     ]
    },
    {
     "name": "stdout",
     "output_type": "stream",
     "text": [
      "\r\tTrain Loss: 0.216852 \t Time: 7s\r\tTrain Loss: 0.217565 \t Time: 7s"
     ]
    },
    {
     "name": "stdout",
     "output_type": "stream",
     "text": [
      "\r\tTrain Loss: 0.216035 \t Time: 8s\r\tTrain Loss: 0.218255 \t Time: 8s"
     ]
    },
    {
     "name": "stdout",
     "output_type": "stream",
     "text": [
      "\r\tTrain Loss: 0.217837 \t Time: 8s\r\tTrain Loss: 0.222936 \t Time: 8s"
     ]
    },
    {
     "name": "stdout",
     "output_type": "stream",
     "text": [
      "\r\tTrain Loss: 0.237393 \t Time: 8s\r\tTrain Loss: 0.245428 \t Time: 9s"
     ]
    },
    {
     "name": "stdout",
     "output_type": "stream",
     "text": [
      "\r\tTrain Loss: 0.260120 \t Time: 9s\r\tTrain Loss: 0.291211 \t Time: 9s"
     ]
    },
    {
     "name": "stdout",
     "output_type": "stream",
     "text": [
      "\r\tTrain Loss: 0.292504 \t Time: 9s\r\tTrain Loss: 0.291143 \t Time: 9s"
     ]
    },
    {
     "name": "stdout",
     "output_type": "stream",
     "text": [
      "\r\tTrain Loss: 0.289602 \t Time: 10s\r\tTrain Loss: 0.287030 \t Time: 10s"
     ]
    },
    {
     "name": "stdout",
     "output_type": "stream",
     "text": [
      "\r\tTrain Loss: 0.288353 \t Time: 10s\r\tTrain Loss: 0.288443 \t Time: 10s"
     ]
    },
    {
     "name": "stdout",
     "output_type": "stream",
     "text": [
      "\r\tTrain Loss: 0.288298 \t Time: 10s\r\tTrain Loss: 0.286283 \t Time: 11s"
     ]
    },
    {
     "name": "stdout",
     "output_type": "stream",
     "text": [
      "\r\tTrain Loss: 0.284059 \t Time: 11s\r\tTrain Loss: 0.282247 \t Time: 11s"
     ]
    },
    {
     "name": "stdout",
     "output_type": "stream",
     "text": [
      "\r\tTrain Loss: 0.279699 \t Time: 11s\r\tTrain Loss: 0.279107 \t Time: 11s"
     ]
    },
    {
     "name": "stdout",
     "output_type": "stream",
     "text": [
      "\r\tTrain Loss: 0.280142 \t Time: 12s\r\tTrain Loss: 0.280547 \t Time: 12s"
     ]
    },
    {
     "name": "stdout",
     "output_type": "stream",
     "text": [
      "\r\tTrain Loss: 0.280217 \t Time: 12s\r\tTrain Loss: 0.278626 \t Time: 12s"
     ]
    },
    {
     "name": "stdout",
     "output_type": "stream",
     "text": [
      "\r\tTrain Loss: 0.276182 \t Time: 12s\r\tTrain Loss: 0.274721 \t Time: 13s"
     ]
    },
    {
     "name": "stdout",
     "output_type": "stream",
     "text": [
      "\r\tTrain Loss: 0.272483 \t Time: 13s\r\tTrain Loss: 0.270378 \t Time: 13s"
     ]
    },
    {
     "name": "stdout",
     "output_type": "stream",
     "text": [
      "\r\tTrain Loss: 0.269701 \t Time: 13s\r\tTrain Loss: 0.270400 \t Time: 13s"
     ]
    },
    {
     "name": "stdout",
     "output_type": "stream",
     "text": [
      "\r\tTrain Loss: 0.269197 \t Time: 14s\r\tTrain Loss: 0.270157 \t Time: 14s"
     ]
    },
    {
     "name": "stdout",
     "output_type": "stream",
     "text": [
      "\r\tTrain Loss: 0.268456 \t Time: 14s\r\tTrain Loss: 0.266470 \t Time: 14s"
     ]
    },
    {
     "name": "stdout",
     "output_type": "stream",
     "text": [
      "\r\tTrain Loss: 0.266444 \t Time: 14s\r\tTrain Loss: 0.265647 \t Time: 15s"
     ]
    },
    {
     "name": "stdout",
     "output_type": "stream",
     "text": [
      "\r\tTrain Loss: 0.264005 \t Time: 15s\r\tTrain Loss: 0.263559 \t Time: 15s"
     ]
    },
    {
     "name": "stdout",
     "output_type": "stream",
     "text": [
      "\r\tTrain Loss: 0.263961 \t Time: 15s\r\tTrain Loss: 0.261916 \t Time: 15s"
     ]
    },
    {
     "name": "stdout",
     "output_type": "stream",
     "text": [
      "\r\tTrain Loss: 0.260576 \t Time: 16s\r\tTrain Loss: 0.261229 \t Time: 16s"
     ]
    },
    {
     "name": "stdout",
     "output_type": "stream",
     "text": [
      "\r\tTrain Loss: 0.259890 \t Time: 16s\r\tTrain Loss: 0.259516 \t Time: 16s"
     ]
    },
    {
     "name": "stdout",
     "output_type": "stream",
     "text": [
      "\r\tTrain Loss: 0.258481 \t Time: 16s\r\tTrain Loss: 0.258619 \t Time: 17s"
     ]
    },
    {
     "name": "stdout",
     "output_type": "stream",
     "text": [
      "\r\tTrain Loss: 0.257603 \t Time: 17s\r\tTrain Loss: 0.257414 \t Time: 17s"
     ]
    },
    {
     "name": "stdout",
     "output_type": "stream",
     "text": [
      "\r\tTrain Loss: 0.257553 \t Time: 17s\r\tTrain Loss: 0.257577 \t Time: 17s"
     ]
    },
    {
     "name": "stdout",
     "output_type": "stream",
     "text": [
      "\r\tTrain Loss: 0.257948 \t Time: 18s\r\tTrain Loss: 0.257043 \t Time: 18s"
     ]
    },
    {
     "name": "stdout",
     "output_type": "stream",
     "text": [
      "\r\tTrain Loss: 0.256872 \t Time: 18s\r\tTrain Loss: 0.255846 \t Time: 18s"
     ]
    },
    {
     "name": "stdout",
     "output_type": "stream",
     "text": [
      "\r\tTrain Loss: 0.255012 \t Time: 18s\r\tTrain Loss: 0.254022 \t Time: 19s"
     ]
    },
    {
     "name": "stdout",
     "output_type": "stream",
     "text": [
      "\r\tTrain Loss: 0.253624 \t Time: 19s\r\tTrain Loss: 0.253771 \t Time: 19s"
     ]
    },
    {
     "name": "stdout",
     "output_type": "stream",
     "text": [
      "\r\tTrain Loss: 0.252888 \t Time: 19s\r\tTrain Loss: 0.253381 \t Time: 19s"
     ]
    },
    {
     "name": "stdout",
     "output_type": "stream",
     "text": [
      "\r\tTrain Loss: 0.253455 \t Time: 20s\r\tTrain Loss: 0.253477 \t Time: 20s"
     ]
    },
    {
     "name": "stdout",
     "output_type": "stream",
     "text": [
      "\r\tTrain Loss: 0.253960 \t Time: 20s\r\tTrain Loss: 0.253641 \t Time: 20s"
     ]
    },
    {
     "name": "stdout",
     "output_type": "stream",
     "text": [
      "\r\tTrain Loss: 0.254072 \t Time: 20s\r\tTrain Loss: 0.253401 \t Time: 21s"
     ]
    },
    {
     "name": "stdout",
     "output_type": "stream",
     "text": [
      "\r\tTrain Loss: 0.253503 \t Time: 21s\r\tTrain Loss: 0.253440 \t Time: 21s"
     ]
    },
    {
     "name": "stdout",
     "output_type": "stream",
     "text": [
      "\r\tTrain Loss: 0.252594 \t Time: 21s\r\tTrain Loss: 0.252685 \t Time: 21s"
     ]
    },
    {
     "name": "stdout",
     "output_type": "stream",
     "text": [
      "\r\tTrain Loss: 0.252733 \t Time: 22s"
     ]
    },
    {
     "name": "stdout",
     "output_type": "stream",
     "text": [
      "\r\tTrain Loss: 0.251645 \t Time: 22s"
     ]
    },
    {
     "name": "stdout",
     "output_type": "stream",
     "text": [
      "\r\tTrain Loss: 0.251642 \t Time: 22s"
     ]
    },
    {
     "name": "stdout",
     "output_type": "stream",
     "text": [
      "\r\tTrain Loss: 0.251749 \t Time: 22s\r\tTrain Loss: 0.251177 \t Time: 22s\n"
     ]
    },
    {
     "name": "stdout",
     "output_type": "stream",
     "text": [
      "\tTest Loss: 0.339519 \t Time: 0s\nEpoch 5\n\r\tTrain Loss: 0.236638 \t Time: 0s"
     ]
    },
    {
     "name": "stdout",
     "output_type": "stream",
     "text": [
      "\r\tTrain Loss: 0.197824 \t Time: 0s\r\tTrain Loss: 0.173691 \t Time: 0s"
     ]
    },
    {
     "name": "stdout",
     "output_type": "stream",
     "text": [
      "\r\tTrain Loss: 0.197969 \t Time: 0s\r\tTrain Loss: 0.217418 \t Time: 0s"
     ]
    },
    {
     "name": "stdout",
     "output_type": "stream",
     "text": [
      "\r\tTrain Loss: 0.237580 \t Time: 1s\r\tTrain Loss: 0.246386 \t Time: 1s"
     ]
    },
    {
     "name": "stdout",
     "output_type": "stream",
     "text": [
      "\r\tTrain Loss: 0.233978 \t Time: 1s\r\tTrain Loss: 0.223905 \t Time: 1s"
     ]
    },
    {
     "name": "stdout",
     "output_type": "stream",
     "text": [
      "\r\tTrain Loss: 0.219718 \t Time: 1s\r\tTrain Loss: 0.211120 \t Time: 2s"
     ]
    },
    {
     "name": "stdout",
     "output_type": "stream",
     "text": [
      "\r\tTrain Loss: 0.212560 \t Time: 2s\r\tTrain Loss: 0.208108 \t Time: 2s"
     ]
    },
    {
     "name": "stdout",
     "output_type": "stream",
     "text": [
      "\r\tTrain Loss: 0.200901 \t Time: 2s"
     ]
    },
    {
     "name": "stdout",
     "output_type": "stream",
     "text": [
      "\r\tTrain Loss: 0.202603 \t Time: 2s"
     ]
    },
    {
     "name": "stdout",
     "output_type": "stream",
     "text": [
      "\r\tTrain Loss: 0.205039 \t Time: 3s"
     ]
    },
    {
     "name": "stdout",
     "output_type": "stream",
     "text": [
      "\r\tTrain Loss: 0.204718 \t Time: 3s\r\tTrain Loss: 0.206589 \t Time: 3s"
     ]
    },
    {
     "name": "stdout",
     "output_type": "stream",
     "text": [
      "\r\tTrain Loss: 0.208598 \t Time: 3s\r\tTrain Loss: 0.206429 \t Time: 3s"
     ]
    },
    {
     "name": "stdout",
     "output_type": "stream",
     "text": [
      "\r\tTrain Loss: 0.203866 \t Time: 4s"
     ]
    },
    {
     "name": "stdout",
     "output_type": "stream",
     "text": [
      "\r\tTrain Loss: 0.206614 \t Time: 4s"
     ]
    },
    {
     "name": "stdout",
     "output_type": "stream",
     "text": [
      "\r\tTrain Loss: 0.203604 \t Time: 4s\r\tTrain Loss: 0.201057 \t Time: 4s"
     ]
    },
    {
     "name": "stdout",
     "output_type": "stream",
     "text": [
      "\r\tTrain Loss: 0.198936 \t Time: 4s\r\tTrain Loss: 0.199124 \t Time: 5s"
     ]
    },
    {
     "name": "stdout",
     "output_type": "stream",
     "text": [
      "\r\tTrain Loss: 0.200294 \t Time: 5s"
     ]
    },
    {
     "name": "stdout",
     "output_type": "stream",
     "text": [
      "\r\tTrain Loss: 0.202948 \t Time: 5s\r\tTrain Loss: 0.204410 \t Time: 5s"
     ]
    },
    {
     "name": "stdout",
     "output_type": "stream",
     "text": [
      "\r\tTrain Loss: 0.208396 \t Time: 5s\r\tTrain Loss: 0.207085 \t Time: 6s"
     ]
    },
    {
     "name": "stdout",
     "output_type": "stream",
     "text": [
      "\r\tTrain Loss: 0.206371 \t Time: 6s"
     ]
    },
    {
     "name": "stdout",
     "output_type": "stream",
     "text": [
      "\r\tTrain Loss: 0.204771 \t Time: 6s\r\tTrain Loss: 0.206085 \t Time: 6s"
     ]
    },
    {
     "name": "stdout",
     "output_type": "stream",
     "text": [
      "\r\tTrain Loss: 0.207522 \t Time: 6s"
     ]
    },
    {
     "name": "stdout",
     "output_type": "stream",
     "text": [
      "\r\tTrain Loss: 0.209219 \t Time: 7s\r\tTrain Loss: 0.209194 \t Time: 7s"
     ]
    },
    {
     "name": "stdout",
     "output_type": "stream",
     "text": [
      "\r\tTrain Loss: 0.207018 \t Time: 7s\r\tTrain Loss: 0.204669 \t Time: 7s"
     ]
    },
    {
     "name": "stdout",
     "output_type": "stream",
     "text": [
      "\r\tTrain Loss: 0.202934 \t Time: 7s\r\tTrain Loss: 0.201501 \t Time: 8s"
     ]
    },
    {
     "name": "stdout",
     "output_type": "stream",
     "text": [
      "\r\tTrain Loss: 0.199882 \t Time: 8s\r\tTrain Loss: 0.199911 \t Time: 8s"
     ]
    },
    {
     "name": "stdout",
     "output_type": "stream",
     "text": [
      "\r\tTrain Loss: 0.198753 \t Time: 8s\r\tTrain Loss: 0.197079 \t Time: 8s"
     ]
    },
    {
     "name": "stdout",
     "output_type": "stream",
     "text": [
      "\r\tTrain Loss: 0.195726 \t Time: 9s\r\tTrain Loss: 0.194653 \t Time: 9s"
     ]
    },
    {
     "name": "stdout",
     "output_type": "stream",
     "text": [
      "\r\tTrain Loss: 0.195716 \t Time: 9s\r\tTrain Loss: 0.197210 \t Time: 9s"
     ]
    },
    {
     "name": "stdout",
     "output_type": "stream",
     "text": [
      "\r\tTrain Loss: 0.196213 \t Time: 9s\r\tTrain Loss: 0.195692 \t Time: 10s"
     ]
    },
    {
     "name": "stdout",
     "output_type": "stream",
     "text": [
      "\r\tTrain Loss: 0.194547 \t Time: 10s"
     ]
    },
    {
     "name": "stdout",
     "output_type": "stream",
     "text": [
      "\r\tTrain Loss: 0.195306 \t Time: 10s\r\tTrain Loss: 0.195667 \t Time: 10s"
     ]
    },
    {
     "name": "stdout",
     "output_type": "stream",
     "text": [
      "\r\tTrain Loss: 0.194843 \t Time: 10s\r\tTrain Loss: 0.196372 \t Time: 11s"
     ]
    },
    {
     "name": "stdout",
     "output_type": "stream",
     "text": [
      "\r\tTrain Loss: 0.194864 \t Time: 11s"
     ]
    },
    {
     "name": "stdout",
     "output_type": "stream",
     "text": [
      "\r\tTrain Loss: 0.196223 \t Time: 11s\r\tTrain Loss: 0.195463 \t Time: 11s"
     ]
    },
    {
     "name": "stdout",
     "output_type": "stream",
     "text": [
      "\r\tTrain Loss: 0.195687 \t Time: 11s"
     ]
    },
    {
     "name": "stdout",
     "output_type": "stream",
     "text": [
      "\r\tTrain Loss: 0.196087 \t Time: 12s"
     ]
    },
    {
     "name": "stdout",
     "output_type": "stream",
     "text": [
      "\r\tTrain Loss: 0.194796 \t Time: 12s\r\tTrain Loss: 0.193951 \t Time: 12s"
     ]
    },
    {
     "name": "stdout",
     "output_type": "stream",
     "text": [
      "\r\tTrain Loss: 0.192667 \t Time: 12s\r\tTrain Loss: 0.194848 \t Time: 12s"
     ]
    },
    {
     "name": "stdout",
     "output_type": "stream",
     "text": [
      "\r\tTrain Loss: 0.194691 \t Time: 13s\r\tTrain Loss: 0.193970 \t Time: 13s"
     ]
    },
    {
     "name": "stdout",
     "output_type": "stream",
     "text": [
      "\r\tTrain Loss: 0.193430 \t Time: 13s\r\tTrain Loss: 0.192886 \t Time: 13s"
     ]
    },
    {
     "name": "stdout",
     "output_type": "stream",
     "text": [
      "\r\tTrain Loss: 0.194505 \t Time: 13s\r\tTrain Loss: 0.196299 \t Time: 14s"
     ]
    },
    {
     "name": "stdout",
     "output_type": "stream",
     "text": [
      "\r\tTrain Loss: 0.195604 \t Time: 14s"
     ]
    },
    {
     "name": "stdout",
     "output_type": "stream",
     "text": [
      "\r\tTrain Loss: 0.195460 \t Time: 14s\r\tTrain Loss: 0.195416 \t Time: 14s"
     ]
    },
    {
     "name": "stdout",
     "output_type": "stream",
     "text": [
      "\r\tTrain Loss: 0.195979 \t Time: 14s\r\tTrain Loss: 0.196363 \t Time: 15s"
     ]
    },
    {
     "name": "stdout",
     "output_type": "stream",
     "text": [
      "\r\tTrain Loss: 0.197551 \t Time: 15s\r\tTrain Loss: 0.198359 \t Time: 15s"
     ]
    },
    {
     "name": "stdout",
     "output_type": "stream",
     "text": [
      "\r\tTrain Loss: 0.198089 \t Time: 15s"
     ]
    },
    {
     "name": "stdout",
     "output_type": "stream",
     "text": [
      "\r\tTrain Loss: 0.198446 \t Time: 15s"
     ]
    },
    {
     "name": "stdout",
     "output_type": "stream",
     "text": [
      "\r\tTrain Loss: 0.198784 \t Time: 16s"
     ]
    },
    {
     "name": "stdout",
     "output_type": "stream",
     "text": [
      "\r\tTrain Loss: 0.198797 \t Time: 16s"
     ]
    },
    {
     "name": "stdout",
     "output_type": "stream",
     "text": [
      "\r\tTrain Loss: 0.199611 \t Time: 16s"
     ]
    },
    {
     "name": "stdout",
     "output_type": "stream",
     "text": [
      "\r\tTrain Loss: 0.199040 \t Time: 16s"
     ]
    },
    {
     "name": "stdout",
     "output_type": "stream",
     "text": [
      "\r\tTrain Loss: 0.198496 \t Time: 16s"
     ]
    },
    {
     "name": "stdout",
     "output_type": "stream",
     "text": [
      "\r\tTrain Loss: 0.197562 \t Time: 17s"
     ]
    },
    {
     "name": "stdout",
     "output_type": "stream",
     "text": [
      "\r\tTrain Loss: 0.197672 \t Time: 17s"
     ]
    },
    {
     "name": "stdout",
     "output_type": "stream",
     "text": [
      "\r\tTrain Loss: 0.198853 \t Time: 17s"
     ]
    },
    {
     "name": "stdout",
     "output_type": "stream",
     "text": [
      "\r\tTrain Loss: 0.198447 \t Time: 17s"
     ]
    },
    {
     "name": "stdout",
     "output_type": "stream",
     "text": [
      "\r\tTrain Loss: 0.198816 \t Time: 18s"
     ]
    },
    {
     "name": "stdout",
     "output_type": "stream",
     "text": [
      "\r\tTrain Loss: 0.199197 \t Time: 18s"
     ]
    },
    {
     "name": "stdout",
     "output_type": "stream",
     "text": [
      "\r\tTrain Loss: 0.198711 \t Time: 18s"
     ]
    },
    {
     "name": "stdout",
     "output_type": "stream",
     "text": [
      "\r\tTrain Loss: 0.198289 \t Time: 18s"
     ]
    },
    {
     "name": "stdout",
     "output_type": "stream",
     "text": [
      "\r\tTrain Loss: 0.197635 \t Time: 18s"
     ]
    },
    {
     "name": "stdout",
     "output_type": "stream",
     "text": [
      "\r\tTrain Loss: 0.198116 \t Time: 19s"
     ]
    },
    {
     "name": "stdout",
     "output_type": "stream",
     "text": [
      "\r\tTrain Loss: 0.198155 \t Time: 19s"
     ]
    },
    {
     "name": "stdout",
     "output_type": "stream",
     "text": [
      "\r\tTrain Loss: 0.197383 \t Time: 19s\r\tTrain Loss: 0.196655 \t Time: 19s"
     ]
    },
    {
     "name": "stdout",
     "output_type": "stream",
     "text": [
      "\r\tTrain Loss: 0.196184 \t Time: 19s\r\tTrain Loss: 0.195824 \t Time: 20s"
     ]
    },
    {
     "name": "stdout",
     "output_type": "stream",
     "text": [
      "\r\tTrain Loss: 0.196238 \t Time: 20s\r\tTrain Loss: 0.195446 \t Time: 20s"
     ]
    },
    {
     "name": "stdout",
     "output_type": "stream",
     "text": [
      "\r\tTrain Loss: 0.194788 \t Time: 20s\r\tTrain Loss: 0.194360 \t Time: 20s"
     ]
    },
    {
     "name": "stdout",
     "output_type": "stream",
     "text": [
      "\r\tTrain Loss: 0.194897 \t Time: 21s"
     ]
    },
    {
     "name": "stdout",
     "output_type": "stream",
     "text": [
      "\r\tTrain Loss: 0.195610 \t Time: 21s\r\tTrain Loss: 0.195300 \t Time: 21s"
     ]
    },
    {
     "name": "stdout",
     "output_type": "stream",
     "text": [
      "\r\tTrain Loss: 0.195476 \t Time: 21s\r\tTrain Loss: 0.194862 \t Time: 21s"
     ]
    },
    {
     "name": "stdout",
     "output_type": "stream",
     "text": [
      "\r\tTrain Loss: 0.195757 \t Time: 22s\r\tTrain Loss: 0.196900 \t Time: 22s"
     ]
    },
    {
     "name": "stdout",
     "output_type": "stream",
     "text": [
      "\r\tTrain Loss: 0.196933 \t Time: 22s\r\tTrain Loss: 0.196478 \t Time: 22s"
     ]
    },
    {
     "name": "stdout",
     "output_type": "stream",
     "text": [
      "\r\tTrain Loss: 0.197298 \t Time: 22s\r\tTrain Loss: 0.198076 \t Time: 23s\n"
     ]
    },
    {
     "name": "stdout",
     "output_type": "stream",
     "text": [
      "\tTest Loss: 0.351328 \t Time: 0s\nEpoch 6\n\r\tTrain Loss: 0.148863 \t Time: 0s"
     ]
    },
    {
     "name": "stdout",
     "output_type": "stream",
     "text": [
      "\r\tTrain Loss: 0.158015 \t Time: 0s\r\tTrain Loss: 0.154742 \t Time: 0s"
     ]
    },
    {
     "name": "stdout",
     "output_type": "stream",
     "text": [
      "\r\tTrain Loss: 0.189752 \t Time: 0s\r\tTrain Loss: 0.187333 \t Time: 0s"
     ]
    },
    {
     "name": "stdout",
     "output_type": "stream",
     "text": [
      "\r\tTrain Loss: 0.180910 \t Time: 1s\r\tTrain Loss: 0.176227 \t Time: 1s"
     ]
    },
    {
     "name": "stdout",
     "output_type": "stream",
     "text": [
      "\r\tTrain Loss: 0.168567 \t Time: 1s\r\tTrain Loss: 0.166906 \t Time: 1s"
     ]
    },
    {
     "name": "stdout",
     "output_type": "stream",
     "text": [
      "\r\tTrain Loss: 0.159680 \t Time: 1s"
     ]
    },
    {
     "name": "stdout",
     "output_type": "stream",
     "text": [
      "\r\tTrain Loss: 0.166129 \t Time: 2s"
     ]
    },
    {
     "name": "stdout",
     "output_type": "stream",
     "text": [
      "\r\tTrain Loss: 0.161981 \t Time: 2s"
     ]
    },
    {
     "name": "stdout",
     "output_type": "stream",
     "text": [
      "\r\tTrain Loss: 0.160467 \t Time: 2s\r\tTrain Loss: 0.161938 \t Time: 2s"
     ]
    },
    {
     "name": "stdout",
     "output_type": "stream",
     "text": [
      "\r\tTrain Loss: 0.159646 \t Time: 2s\r\tTrain Loss: 0.166712 \t Time: 3s"
     ]
    },
    {
     "name": "stdout",
     "output_type": "stream",
     "text": [
      "\r\tTrain Loss: 0.165751 \t Time: 3s\r\tTrain Loss: 0.163021 \t Time: 3s"
     ]
    },
    {
     "name": "stdout",
     "output_type": "stream",
     "text": [
      "\r\tTrain Loss: 0.169062 \t Time: 3s\r\tTrain Loss: 0.172896 \t Time: 3s"
     ]
    },
    {
     "name": "stdout",
     "output_type": "stream",
     "text": [
      "\r\tTrain Loss: 0.171640 \t Time: 4s\r\tTrain Loss: 0.171657 \t Time: 4s"
     ]
    },
    {
     "name": "stdout",
     "output_type": "stream",
     "text": [
      "\r\tTrain Loss: 0.174628 \t Time: 4s"
     ]
    },
    {
     "name": "stdout",
     "output_type": "stream",
     "text": [
      "\r\tTrain Loss: 0.172773 \t Time: 4s\r\tTrain Loss: 0.176677 \t Time: 5s"
     ]
    },
    {
     "name": "stdout",
     "output_type": "stream",
     "text": [
      "\r\tTrain Loss: 0.181411 \t Time: 5s\r\tTrain Loss: 0.182450 \t Time: 5s"
     ]
    },
    {
     "name": "stdout",
     "output_type": "stream",
     "text": [
      "\r\tTrain Loss: 0.180615 \t Time: 5s\r\tTrain Loss: 0.178659 \t Time: 5s"
     ]
    },
    {
     "name": "stdout",
     "output_type": "stream",
     "text": [
      "\r\tTrain Loss: 0.178004 \t Time: 5s\r\tTrain Loss: 0.181357 \t Time: 6s"
     ]
    },
    {
     "name": "stdout",
     "output_type": "stream",
     "text": [
      "\r\tTrain Loss: 0.180094 \t Time: 6s\r\tTrain Loss: 0.178469 \t Time: 6s"
     ]
    },
    {
     "name": "stdout",
     "output_type": "stream",
     "text": [
      "\r\tTrain Loss: 0.178443 \t Time: 6s\r\tTrain Loss: 0.180997 \t Time: 6s"
     ]
    },
    {
     "name": "stdout",
     "output_type": "stream",
     "text": [
      "\r\tTrain Loss: 0.179516 \t Time: 7s"
     ]
    },
    {
     "name": "stdout",
     "output_type": "stream",
     "text": [
      "\r\tTrain Loss: 0.181951 \t Time: 7s"
     ]
    },
    {
     "name": "stdout",
     "output_type": "stream",
     "text": [
      "\r\tTrain Loss: 0.180898 \t Time: 7s\r\tTrain Loss: 0.180190 \t Time: 7s"
     ]
    },
    {
     "name": "stdout",
     "output_type": "stream",
     "text": [
      "\r\tTrain Loss: 0.180220 \t Time: 7s\r\tTrain Loss: 0.179697 \t Time: 8s"
     ]
    },
    {
     "name": "stdout",
     "output_type": "stream",
     "text": [
      "\r\tTrain Loss: 0.180002 \t Time: 8s\r\tTrain Loss: 0.182461 \t Time: 8s"
     ]
    },
    {
     "name": "stdout",
     "output_type": "stream",
     "text": [
      "\r\tTrain Loss: 0.181680 \t Time: 8s"
     ]
    },
    {
     "name": "stdout",
     "output_type": "stream",
     "text": [
      "\r\tTrain Loss: 0.180829 \t Time: 9s\r\tTrain Loss: 0.180096 \t Time: 9s"
     ]
    },
    {
     "name": "stdout",
     "output_type": "stream",
     "text": [
      "\r\tTrain Loss: 0.182808 \t Time: 9s\r\tTrain Loss: 0.182612 \t Time: 9s"
     ]
    },
    {
     "name": "stdout",
     "output_type": "stream",
     "text": [
      "\r\tTrain Loss: 0.184030 \t Time: 9s\r\tTrain Loss: 0.184789 \t Time: 9s"
     ]
    },
    {
     "name": "stdout",
     "output_type": "stream",
     "text": [
      "\r\tTrain Loss: 0.186506 \t Time: 10s\r\tTrain Loss: 0.186509 \t Time: 10s"
     ]
    },
    {
     "name": "stdout",
     "output_type": "stream",
     "text": [
      "\r\tTrain Loss: 0.185389 \t Time: 10s\r\tTrain Loss: 0.185064 \t Time: 10s"
     ]
    },
    {
     "name": "stdout",
     "output_type": "stream",
     "text": [
      "\r\tTrain Loss: 0.186159 \t Time: 10s\r\tTrain Loss: 0.188139 \t Time: 11s"
     ]
    },
    {
     "name": "stdout",
     "output_type": "stream",
     "text": [
      "\r\tTrain Loss: 0.188689 \t Time: 11s"
     ]
    },
    {
     "name": "stdout",
     "output_type": "stream",
     "text": [
      "\r\tTrain Loss: 0.189050 \t Time: 11s"
     ]
    },
    {
     "name": "stdout",
     "output_type": "stream",
     "text": [
      "\r\tTrain Loss: 0.190076 \t Time: 11s\r\tTrain Loss: 0.189231 \t Time: 12s"
     ]
    },
    {
     "name": "stdout",
     "output_type": "stream",
     "text": [
      "\r\tTrain Loss: 0.188073 \t Time: 12s"
     ]
    },
    {
     "name": "stdout",
     "output_type": "stream",
     "text": [
      "\r\tTrain Loss: 0.187694 \t Time: 12s"
     ]
    },
    {
     "name": "stdout",
     "output_type": "stream",
     "text": [
      "\r\tTrain Loss: 0.186924 \t Time: 12s\r\tTrain Loss: 0.189207 \t Time: 12s"
     ]
    },
    {
     "name": "stdout",
     "output_type": "stream",
     "text": [
      "\r\tTrain Loss: 0.188797 \t Time: 13s"
     ]
    },
    {
     "name": "stdout",
     "output_type": "stream",
     "text": [
      "\r\tTrain Loss: 0.189925 \t Time: 13s\r\tTrain Loss: 0.189116 \t Time: 13s"
     ]
    },
    {
     "name": "stdout",
     "output_type": "stream",
     "text": [
      "\r\tTrain Loss: 0.188345 \t Time: 13s"
     ]
    },
    {
     "name": "stdout",
     "output_type": "stream",
     "text": [
      "\r\tTrain Loss: 0.190148 \t Time: 13s"
     ]
    },
    {
     "name": "stdout",
     "output_type": "stream",
     "text": [
      "\r\tTrain Loss: 0.189376 \t Time: 14s\r\tTrain Loss: 0.188806 \t Time: 14s"
     ]
    },
    {
     "name": "stdout",
     "output_type": "stream",
     "text": [
      "\r\tTrain Loss: 0.189273 \t Time: 14s\r\tTrain Loss: 0.189834 \t Time: 14s"
     ]
    },
    {
     "name": "stdout",
     "output_type": "stream",
     "text": [
      "\r\tTrain Loss: 0.188951 \t Time: 14s\r\tTrain Loss: 0.189154 \t Time: 15s"
     ]
    },
    {
     "name": "stdout",
     "output_type": "stream",
     "text": [
      "\r\tTrain Loss: 0.190217 \t Time: 15s\r\tTrain Loss: 0.190046 \t Time: 15s"
     ]
    },
    {
     "name": "stdout",
     "output_type": "stream",
     "text": [
      "\r\tTrain Loss: 0.191125 \t Time: 15s\r\tTrain Loss: 0.190592 \t Time: 15s"
     ]
    },
    {
     "name": "stdout",
     "output_type": "stream",
     "text": [
      "\r\tTrain Loss: 0.190099 \t Time: 16s"
     ]
    },
    {
     "name": "stdout",
     "output_type": "stream",
     "text": [
      "\r\tTrain Loss: 0.189404 \t Time: 16s\r\tTrain Loss: 0.189720 \t Time: 16s"
     ]
    },
    {
     "name": "stdout",
     "output_type": "stream",
     "text": [
      "\r\tTrain Loss: 0.190610 \t Time: 16s\r\tTrain Loss: 0.190737 \t Time: 16s"
     ]
    },
    {
     "name": "stdout",
     "output_type": "stream",
     "text": [
      "\r\tTrain Loss: 0.192293 \t Time: 17s"
     ]
    },
    {
     "name": "stdout",
     "output_type": "stream",
     "text": [
      "\r\tTrain Loss: 0.192676 \t Time: 17s\r\tTrain Loss: 0.192314 \t Time: 17s"
     ]
    },
    {
     "name": "stdout",
     "output_type": "stream",
     "text": [
      "\r\tTrain Loss: 0.193627 \t Time: 17s\r\tTrain Loss: 0.193080 \t Time: 18s"
     ]
    },
    {
     "name": "stdout",
     "output_type": "stream",
     "text": [
      "\r\tTrain Loss: 0.192602 \t Time: 18s"
     ]
    },
    {
     "name": "stdout",
     "output_type": "stream",
     "text": [
      "\r\tTrain Loss: 0.192381 \t Time: 18s\r\tTrain Loss: 0.191608 \t Time: 18s"
     ]
    },
    {
     "name": "stdout",
     "output_type": "stream",
     "text": [
      "\r\tTrain Loss: 0.192215 \t Time: 18s\r\tTrain Loss: 0.193652 \t Time: 19s"
     ]
    },
    {
     "name": "stdout",
     "output_type": "stream",
     "text": [
      "\r\tTrain Loss: 0.194288 \t Time: 19s\r\tTrain Loss: 0.194207 \t Time: 19s"
     ]
    },
    {
     "name": "stdout",
     "output_type": "stream",
     "text": [
      "\r\tTrain Loss: 0.193881 \t Time: 19s\r\tTrain Loss: 0.194470 \t Time: 19s"
     ]
    },
    {
     "name": "stdout",
     "output_type": "stream",
     "text": [
      "\r\tTrain Loss: 0.194614 \t Time: 19s\r\tTrain Loss: 0.194384 \t Time: 20s"
     ]
    },
    {
     "name": "stdout",
     "output_type": "stream",
     "text": [
      "\r\tTrain Loss: 0.193860 \t Time: 20s\r\tTrain Loss: 0.193835 \t Time: 20s"
     ]
    },
    {
     "name": "stdout",
     "output_type": "stream",
     "text": [
      "\r\tTrain Loss: 0.195343 \t Time: 20s\r\tTrain Loss: 0.194874 \t Time: 20s"
     ]
    },
    {
     "name": "stdout",
     "output_type": "stream",
     "text": [
      "\r\tTrain Loss: 0.195980 \t Time: 21s\r\tTrain Loss: 0.196228 \t Time: 21s"
     ]
    },
    {
     "name": "stdout",
     "output_type": "stream",
     "text": [
      "\r\tTrain Loss: 0.196048 \t Time: 21s\r\tTrain Loss: 0.195392 \t Time: 21s"
     ]
    },
    {
     "name": "stdout",
     "output_type": "stream",
     "text": [
      "\r\tTrain Loss: 0.195396 \t Time: 21s\r\tTrain Loss: 0.195982 \t Time: 22s"
     ]
    },
    {
     "name": "stdout",
     "output_type": "stream",
     "text": [
      "\r\tTrain Loss: 0.195251 \t Time: 22s"
     ]
    },
    {
     "name": "stdout",
     "output_type": "stream",
     "text": [
      "\r\tTrain Loss: 0.195429 \t Time: 22s\r\tTrain Loss: 0.194689 \t Time: 22s"
     ]
    },
    {
     "name": "stdout",
     "output_type": "stream",
     "text": [
      "\r\tTrain Loss: 0.195405 \t Time: 22s\r\tTrain Loss: 0.196704 \t Time: 23s\n"
     ]
    },
    {
     "name": "stdout",
     "output_type": "stream",
     "text": [
      "\tTest Loss: 0.522014 \t Time: 0s\nEpoch 7\n\r\tTrain Loss: 0.324701 \t Time: 0s"
     ]
    },
    {
     "name": "stdout",
     "output_type": "stream",
     "text": [
      "\r\tTrain Loss: 0.582010 \t Time: 0s"
     ]
    },
    {
     "name": "stdout",
     "output_type": "stream",
     "text": [
      "\r\tTrain Loss: 0.673104 \t Time: 0s\r\tTrain Loss: 0.787763 \t Time: 0s"
     ]
    },
    {
     "name": "stdout",
     "output_type": "stream",
     "text": [
      "\r\tTrain Loss: 0.806403 \t Time: 1s\r\tTrain Loss: 0.715346 \t Time: 1s"
     ]
    },
    {
     "name": "stdout",
     "output_type": "stream",
     "text": [
      "\r\tTrain Loss: 0.637067 \t Time: 1s\r\tTrain Loss: 0.579478 \t Time: 1s"
     ]
    },
    {
     "name": "stdout",
     "output_type": "stream",
     "text": [
      "\r\tTrain Loss: 0.534087 \t Time: 1s\r\tTrain Loss: 0.510166 \t Time: 1s"
     ]
    },
    {
     "name": "stdout",
     "output_type": "stream",
     "text": [
      "\r\tTrain Loss: 0.493191 \t Time: 2s\r\tTrain Loss: 0.478586 \t Time: 2s"
     ]
    },
    {
     "name": "stdout",
     "output_type": "stream",
     "text": [
      "\r\tTrain Loss: 0.457960 \t Time: 2s"
     ]
    },
    {
     "name": "stdout",
     "output_type": "stream",
     "text": [
      "\r\tTrain Loss: 0.448491 \t Time: 2s\r\tTrain Loss: 0.431665 \t Time: 2s"
     ]
    },
    {
     "name": "stdout",
     "output_type": "stream",
     "text": [
      "\r\tTrain Loss: 0.420268 \t Time: 3s\r\tTrain Loss: 0.404318 \t Time: 3s"
     ]
    },
    {
     "name": "stdout",
     "output_type": "stream",
     "text": [
      "\r\tTrain Loss: 0.390974 \t Time: 3s"
     ]
    },
    {
     "name": "stdout",
     "output_type": "stream",
     "text": [
      "\r\tTrain Loss: 0.385674 \t Time: 3s"
     ]
    },
    {
     "name": "stdout",
     "output_type": "stream",
     "text": [
      "\r\tTrain Loss: 0.374098 \t Time: 4s"
     ]
    },
    {
     "name": "stdout",
     "output_type": "stream",
     "text": [
      "\r\tTrain Loss: 0.364365 \t Time: 4s\r\tTrain Loss: 0.357383 \t Time: 4s"
     ]
    },
    {
     "name": "stdout",
     "output_type": "stream",
     "text": [
      "\r\tTrain Loss: 0.347581 \t Time: 4s\r\tTrain Loss: 0.339642 \t Time: 4s"
     ]
    },
    {
     "name": "stdout",
     "output_type": "stream",
     "text": [
      "\r\tTrain Loss: 0.331648 \t Time: 5s\r\tTrain Loss: 0.323205 \t Time: 5s"
     ]
    },
    {
     "name": "stdout",
     "output_type": "stream",
     "text": [
      "\r\tTrain Loss: 0.316400 \t Time: 5s\r\tTrain Loss: 0.317283 \t Time: 5s"
     ]
    },
    {
     "name": "stdout",
     "output_type": "stream",
     "text": [
      "\r\tTrain Loss: 0.312139 \t Time: 5s\r\tTrain Loss: 0.306114 \t Time: 5s"
     ]
    },
    {
     "name": "stdout",
     "output_type": "stream",
     "text": [
      "\r\tTrain Loss: 0.304469 \t Time: 6s\r\tTrain Loss: 0.298608 \t Time: 6s"
     ]
    },
    {
     "name": "stdout",
     "output_type": "stream",
     "text": [
      "\r\tTrain Loss: 0.293885 \t Time: 6s\r\tTrain Loss: 0.289077 \t Time: 6s"
     ]
    },
    {
     "name": "stdout",
     "output_type": "stream",
     "text": [
      "\r\tTrain Loss: 0.285472 \t Time: 7s\r\tTrain Loss: 0.282970 \t Time: 7s"
     ]
    },
    {
     "name": "stdout",
     "output_type": "stream",
     "text": [
      "\r\tTrain Loss: 0.279394 \t Time: 7s"
     ]
    },
    {
     "name": "stdout",
     "output_type": "stream",
     "text": [
      "\r\tTrain Loss: 0.280230 \t Time: 7s\r\tTrain Loss: 0.277002 \t Time: 7s"
     ]
    },
    {
     "name": "stdout",
     "output_type": "stream",
     "text": [
      "\r\tTrain Loss: 0.273576 \t Time: 8s"
     ]
    },
    {
     "name": "stdout",
     "output_type": "stream",
     "text": [
      "\r\tTrain Loss: 0.276576 \t Time: 8s"
     ]
    },
    {
     "name": "stdout",
     "output_type": "stream",
     "text": [
      "\r\tTrain Loss: 0.273915 \t Time: 8s"
     ]
    },
    {
     "name": "stdout",
     "output_type": "stream",
     "text": [
      "\r\tTrain Loss: 0.271549 \t Time: 8s\r\tTrain Loss: 0.267634 \t Time: 8s"
     ]
    },
    {
     "name": "stdout",
     "output_type": "stream",
     "text": [
      "\r\tTrain Loss: 0.267506 \t Time: 9s\r\tTrain Loss: 0.264492 \t Time: 9s"
     ]
    },
    {
     "name": "stdout",
     "output_type": "stream",
     "text": [
      "\r\tTrain Loss: 0.261809 \t Time: 9s\r\tTrain Loss: 0.258581 \t Time: 9s"
     ]
    },
    {
     "name": "stdout",
     "output_type": "stream",
     "text": [
      "\r\tTrain Loss: 0.258761 \t Time: 9s\r\tTrain Loss: 0.259122 \t Time: 10s"
     ]
    },
    {
     "name": "stdout",
     "output_type": "stream",
     "text": [
      "\r\tTrain Loss: 0.258837 \t Time: 10s\r\tTrain Loss: 0.256779 \t Time: 10s"
     ]
    },
    {
     "name": "stdout",
     "output_type": "stream",
     "text": [
      "\r\tTrain Loss: 0.254639 \t Time: 10s\r\tTrain Loss: 0.251907 \t Time: 10s"
     ]
    },
    {
     "name": "stdout",
     "output_type": "stream",
     "text": [
      "\r\tTrain Loss: 0.252578 \t Time: 11s\r\tTrain Loss: 0.251188 \t Time: 11s"
     ]
    },
    {
     "name": "stdout",
     "output_type": "stream",
     "text": [
      "\r\tTrain Loss: 0.249535 \t Time: 11s\r\tTrain Loss: 0.250256 \t Time: 11s"
     ]
    },
    {
     "name": "stdout",
     "output_type": "stream",
     "text": [
      "\r\tTrain Loss: 0.248508 \t Time: 11s\r\tTrain Loss: 0.248829 \t Time: 12s"
     ]
    },
    {
     "name": "stdout",
     "output_type": "stream",
     "text": [
      "\r\tTrain Loss: 0.247046 \t Time: 12s"
     ]
    },
    {
     "name": "stdout",
     "output_type": "stream",
     "text": [
      "\r\tTrain Loss: 0.246886 \t Time: 12s"
     ]
    },
    {
     "name": "stdout",
     "output_type": "stream",
     "text": [
      "\r\tTrain Loss: 0.244932 \t Time: 12s\r\tTrain Loss: 0.243951 \t Time: 12s"
     ]
    },
    {
     "name": "stdout",
     "output_type": "stream",
     "text": [
      "\r\tTrain Loss: 0.242440 \t Time: 13s\r\tTrain Loss: 0.242188 \t Time: 13s"
     ]
    },
    {
     "name": "stdout",
     "output_type": "stream",
     "text": [
      "\r\tTrain Loss: 0.240595 \t Time: 13s\r\tTrain Loss: 0.240274 \t Time: 13s"
     ]
    },
    {
     "name": "stdout",
     "output_type": "stream",
     "text": [
      "\r\tTrain Loss: 0.238696 \t Time: 13s\r\tTrain Loss: 0.237851 \t Time: 14s"
     ]
    },
    {
     "name": "stdout",
     "output_type": "stream",
     "text": [
      "\r\tTrain Loss: 0.238243 \t Time: 14s"
     ]
    },
    {
     "name": "stdout",
     "output_type": "stream",
     "text": [
      "\r\tTrain Loss: 0.238973 \t Time: 14s"
     ]
    },
    {
     "name": "stdout",
     "output_type": "stream",
     "text": [
      "\r\tTrain Loss: 0.238721 \t Time: 14s\r\tTrain Loss: 0.237234 \t Time: 14s"
     ]
    },
    {
     "name": "stdout",
     "output_type": "stream",
     "text": [
      "\r\tTrain Loss: 0.236012 \t Time: 15s\r\tTrain Loss: 0.236593 \t Time: 15s"
     ]
    },
    {
     "name": "stdout",
     "output_type": "stream",
     "text": [
      "\r\tTrain Loss: 0.236952 \t Time: 15s\r\tTrain Loss: 0.236002 \t Time: 15s"
     ]
    },
    {
     "name": "stdout",
     "output_type": "stream",
     "text": [
      "\r\tTrain Loss: 0.234758 \t Time: 15s\r\tTrain Loss: 0.233044 \t Time: 16s"
     ]
    },
    {
     "name": "stdout",
     "output_type": "stream",
     "text": [
      "\r\tTrain Loss: 0.233312 \t Time: 16s\r\tTrain Loss: 0.233611 \t Time: 16s"
     ]
    },
    {
     "name": "stdout",
     "output_type": "stream",
     "text": [
      "\r\tTrain Loss: 0.233063 \t Time: 16s\r\tTrain Loss: 0.231889 \t Time: 16s"
     ]
    },
    {
     "name": "stdout",
     "output_type": "stream",
     "text": [
      "\r\tTrain Loss: 0.231885 \t Time: 17s\r\tTrain Loss: 0.230998 \t Time: 17s"
     ]
    },
    {
     "name": "stdout",
     "output_type": "stream",
     "text": [
      "\r\tTrain Loss: 0.229849 \t Time: 17s\r\tTrain Loss: 0.228408 \t Time: 17s"
     ]
    },
    {
     "name": "stdout",
     "output_type": "stream",
     "text": [
      "\r\tTrain Loss: 0.229453 \t Time: 17s\r\tTrain Loss: 0.228626 \t Time: 18s"
     ]
    },
    {
     "name": "stdout",
     "output_type": "stream",
     "text": [
      "\r\tTrain Loss: 0.227632 \t Time: 18s\r\tTrain Loss: 0.228142 \t Time: 18s"
     ]
    },
    {
     "name": "stdout",
     "output_type": "stream",
     "text": [
      "\r\tTrain Loss: 0.228170 \t Time: 18s\r\tTrain Loss: 0.228694 \t Time: 18s"
     ]
    },
    {
     "name": "stdout",
     "output_type": "stream",
     "text": [
      "\r\tTrain Loss: 0.228057 \t Time: 19s\r\tTrain Loss: 0.227288 \t Time: 19s"
     ]
    },
    {
     "name": "stdout",
     "output_type": "stream",
     "text": [
      "\r\tTrain Loss: 0.227099 \t Time: 19s\r\tTrain Loss: 0.227333 \t Time: 19s"
     ]
    },
    {
     "name": "stdout",
     "output_type": "stream",
     "text": [
      "\r\tTrain Loss: 0.227462 \t Time: 19s\r\tTrain Loss: 0.227333 \t Time: 20s"
     ]
    },
    {
     "name": "stdout",
     "output_type": "stream",
     "text": [
      "\r\tTrain Loss: 0.226607 \t Time: 20s\r\tTrain Loss: 0.225942 \t Time: 20s"
     ]
    },
    {
     "name": "stdout",
     "output_type": "stream",
     "text": [
      "\r\tTrain Loss: 0.225264 \t Time: 20s\r\tTrain Loss: 0.224193 \t Time: 20s"
     ]
    },
    {
     "name": "stdout",
     "output_type": "stream",
     "text": [
      "\r\tTrain Loss: 0.223751 \t Time: 21s\r\tTrain Loss: 0.223204 \t Time: 21s"
     ]
    },
    {
     "name": "stdout",
     "output_type": "stream",
     "text": [
      "\r\tTrain Loss: 0.223616 \t Time: 21s\r\tTrain Loss: 0.223729 \t Time: 21s"
     ]
    },
    {
     "name": "stdout",
     "output_type": "stream",
     "text": [
      "\r\tTrain Loss: 0.223087 \t Time: 21s\r\tTrain Loss: 0.223411 \t Time: 22s"
     ]
    },
    {
     "name": "stdout",
     "output_type": "stream",
     "text": [
      "\r\tTrain Loss: 0.222499 \t Time: 22s\r\tTrain Loss: 0.221749 \t Time: 22s"
     ]
    },
    {
     "name": "stdout",
     "output_type": "stream",
     "text": [
      "\r\tTrain Loss: 0.220938 \t Time: 22s\r\tTrain Loss: 0.220651 \t Time: 22s"
     ]
    },
    {
     "name": "stdout",
     "output_type": "stream",
     "text": [
      "\r\tTrain Loss: 0.220467 \t Time: 23s\n"
     ]
    },
    {
     "name": "stdout",
     "output_type": "stream",
     "text": [
      "\tTest Loss: 0.318004 \t Time: 0s\nEpoch 8\n\r\tTrain Loss: 0.149180 \t Time: 0s"
     ]
    },
    {
     "name": "stdout",
     "output_type": "stream",
     "text": [
      "\r\tTrain Loss: 0.141722 \t Time: 0s\r\tTrain Loss: 0.122254 \t Time: 0s"
     ]
    },
    {
     "name": "stdout",
     "output_type": "stream",
     "text": [
      "\r\tTrain Loss: 0.122641 \t Time: 0s\r\tTrain Loss: 0.124542 \t Time: 0s"
     ]
    },
    {
     "name": "stdout",
     "output_type": "stream",
     "text": [
      "\r\tTrain Loss: 0.122754 \t Time: 1s\r\tTrain Loss: 0.126850 \t Time: 1s"
     ]
    },
    {
     "name": "stdout",
     "output_type": "stream",
     "text": [
      "\r\tTrain Loss: 0.143499 \t Time: 1s\r\tTrain Loss: 0.145029 \t Time: 1s"
     ]
    },
    {
     "name": "stdout",
     "output_type": "stream",
     "text": [
      "\r\tTrain Loss: 0.142109 \t Time: 1s\r\tTrain Loss: 0.151586 \t Time: 2s"
     ]
    },
    {
     "name": "stdout",
     "output_type": "stream",
     "text": [
      "\r\tTrain Loss: 0.166047 \t Time: 2s\r\tTrain Loss: 0.163367 \t Time: 2s"
     ]
    },
    {
     "name": "stdout",
     "output_type": "stream",
     "text": [
      "\r\tTrain Loss: 0.163401 \t Time: 2s\r\tTrain Loss: 0.162615 \t Time: 2s"
     ]
    },
    {
     "name": "stdout",
     "output_type": "stream",
     "text": [
      "\r\tTrain Loss: 0.161731 \t Time: 3s\r\tTrain Loss: 0.158908 \t Time: 3s"
     ]
    },
    {
     "name": "stdout",
     "output_type": "stream",
     "text": [
      "\r\tTrain Loss: 0.165643 \t Time: 3s\r\tTrain Loss: 0.172944 \t Time: 3s"
     ]
    },
    {
     "name": "stdout",
     "output_type": "stream",
     "text": [
      "\r\tTrain Loss: 0.171205 \t Time: 3s\r\tTrain Loss: 0.175145 \t Time: 4s"
     ]
    },
    {
     "name": "stdout",
     "output_type": "stream",
     "text": [
      "\r\tTrain Loss: 0.178215 \t Time: 4s\r\tTrain Loss: 0.176628 \t Time: 4s"
     ]
    },
    {
     "name": "stdout",
     "output_type": "stream",
     "text": [
      "\r\tTrain Loss: 0.174962 \t Time: 4s\r\tTrain Loss: 0.173215 \t Time: 4s"
     ]
    },
    {
     "name": "stdout",
     "output_type": "stream",
     "text": [
      "\r\tTrain Loss: 0.172432 \t Time: 5s\r\tTrain Loss: 0.170658 \t Time: 5s"
     ]
    },
    {
     "name": "stdout",
     "output_type": "stream",
     "text": [
      "\r\tTrain Loss: 0.171748 \t Time: 5s\r\tTrain Loss: 0.170659 \t Time: 5s"
     ]
    },
    {
     "name": "stdout",
     "output_type": "stream",
     "text": [
      "\r\tTrain Loss: 0.174469 \t Time: 5s\r\tTrain Loss: 0.177867 \t Time: 6s"
     ]
    },
    {
     "name": "stdout",
     "output_type": "stream",
     "text": [
      "\r\tTrain Loss: 0.176454 \t Time: 6s\r\tTrain Loss: 0.174667 \t Time: 6s"
     ]
    },
    {
     "name": "stdout",
     "output_type": "stream",
     "text": [
      "\r\tTrain Loss: 0.180095 \t Time: 6s\r\tTrain Loss: 0.181865 \t Time: 6s"
     ]
    },
    {
     "name": "stdout",
     "output_type": "stream",
     "text": [
      "\r\tTrain Loss: 0.181797 \t Time: 7s"
     ]
    },
    {
     "name": "stdout",
     "output_type": "stream",
     "text": [
      "\r\tTrain Loss: 0.184270 \t Time: 7s\r\tTrain Loss: 0.183656 \t Time: 7s"
     ]
    },
    {
     "name": "stdout",
     "output_type": "stream",
     "text": [
      "\r\tTrain Loss: 0.184273 \t Time: 7s\r\tTrain Loss: 0.183061 \t Time: 7s"
     ]
    },
    {
     "name": "stdout",
     "output_type": "stream",
     "text": [
      "\r\tTrain Loss: 0.185056 \t Time: 8s\r\tTrain Loss: 0.183432 \t Time: 8s"
     ]
    },
    {
     "name": "stdout",
     "output_type": "stream",
     "text": [
      "\r\tTrain Loss: 0.183528 \t Time: 8s\r\tTrain Loss: 0.182962 \t Time: 8s"
     ]
    },
    {
     "name": "stdout",
     "output_type": "stream",
     "text": [
      "\r\tTrain Loss: 0.183796 \t Time: 8s\r\tTrain Loss: 0.184354 \t Time: 9s"
     ]
    },
    {
     "name": "stdout",
     "output_type": "stream",
     "text": [
      "\r\tTrain Loss: 0.186037 \t Time: 9s\r\tTrain Loss: 0.185952 \t Time: 9s"
     ]
    },
    {
     "name": "stdout",
     "output_type": "stream",
     "text": [
      "\r\tTrain Loss: 0.187723 \t Time: 9s\r\tTrain Loss: 0.189024 \t Time: 9s"
     ]
    },
    {
     "name": "stdout",
     "output_type": "stream",
     "text": [
      "\r\tTrain Loss: 0.189648 \t Time: 10s"
     ]
    },
    {
     "name": "stdout",
     "output_type": "stream",
     "text": [
      "\r\tTrain Loss: 0.190613 \t Time: 10s"
     ]
    },
    {
     "name": "stdout",
     "output_type": "stream",
     "text": [
      "\r\tTrain Loss: 0.190711 \t Time: 10s\r\tTrain Loss: 0.189423 \t Time: 10s"
     ]
    },
    {
     "name": "stdout",
     "output_type": "stream",
     "text": [
      "\r\tTrain Loss: 0.192281 \t Time: 10s\r\tTrain Loss: 0.192535 \t Time: 11s"
     ]
    },
    {
     "name": "stdout",
     "output_type": "stream",
     "text": [
      "\r\tTrain Loss: 0.192091 \t Time: 11s\r\tTrain Loss: 0.190715 \t Time: 11s"
     ]
    },
    {
     "name": "stdout",
     "output_type": "stream",
     "text": [
      "\r\tTrain Loss: 0.189516 \t Time: 11s\r\tTrain Loss: 0.189563 \t Time: 11s"
     ]
    },
    {
     "name": "stdout",
     "output_type": "stream",
     "text": [
      "\r\tTrain Loss: 0.189390 \t Time: 12s\r\tTrain Loss: 0.188237 \t Time: 12s"
     ]
    },
    {
     "name": "stdout",
     "output_type": "stream",
     "text": [
      "\r\tTrain Loss: 0.188718 \t Time: 12s\r\tTrain Loss: 0.189014 \t Time: 12s"
     ]
    },
    {
     "name": "stdout",
     "output_type": "stream",
     "text": [
      "\r\tTrain Loss: 0.190123 \t Time: 12s\r\tTrain Loss: 0.191674 \t Time: 13s"
     ]
    },
    {
     "name": "stdout",
     "output_type": "stream",
     "text": [
      "\r\tTrain Loss: 0.192421 \t Time: 13s\r\tTrain Loss: 0.193725 \t Time: 13s"
     ]
    },
    {
     "name": "stdout",
     "output_type": "stream",
     "text": [
      "\r\tTrain Loss: 0.194552 \t Time: 13s\r\tTrain Loss: 0.196282 \t Time: 13s"
     ]
    },
    {
     "name": "stdout",
     "output_type": "stream",
     "text": [
      "\r\tTrain Loss: 0.196668 \t Time: 14s\r\tTrain Loss: 0.197771 \t Time: 14s"
     ]
    },
    {
     "name": "stdout",
     "output_type": "stream",
     "text": [
      "\r\tTrain Loss: 0.197012 \t Time: 14s\r\tTrain Loss: 0.195992 \t Time: 14s"
     ]
    },
    {
     "name": "stdout",
     "output_type": "stream",
     "text": [
      "\r\tTrain Loss: 0.194986 \t Time: 14s\r\tTrain Loss: 0.197272 \t Time: 15s"
     ]
    },
    {
     "name": "stdout",
     "output_type": "stream",
     "text": [
      "\r\tTrain Loss: 0.198559 \t Time: 15s\r\tTrain Loss: 0.199254 \t Time: 15s"
     ]
    },
    {
     "name": "stdout",
     "output_type": "stream",
     "text": [
      "\r\tTrain Loss: 0.199466 \t Time: 15s\r\tTrain Loss: 0.199703 \t Time: 15s"
     ]
    },
    {
     "name": "stdout",
     "output_type": "stream",
     "text": [
      "\r\tTrain Loss: 0.200151 \t Time: 16s\r\tTrain Loss: 0.200420 \t Time: 16s"
     ]
    },
    {
     "name": "stdout",
     "output_type": "stream",
     "text": [
      "\r\tTrain Loss: 0.199560 \t Time: 16s\r\tTrain Loss: 0.199954 \t Time: 16s"
     ]
    },
    {
     "name": "stdout",
     "output_type": "stream",
     "text": [
      "\r\tTrain Loss: 0.199348 \t Time: 16s\r\tTrain Loss: 0.199365 \t Time: 17s"
     ]
    },
    {
     "name": "stdout",
     "output_type": "stream",
     "text": [
      "\r\tTrain Loss: 0.200001 \t Time: 17s\r\tTrain Loss: 0.200949 \t Time: 17s"
     ]
    },
    {
     "name": "stdout",
     "output_type": "stream",
     "text": [
      "\r\tTrain Loss: 0.200365 \t Time: 17s\r\tTrain Loss: 0.201238 \t Time: 17s"
     ]
    },
    {
     "name": "stdout",
     "output_type": "stream",
     "text": [
      "\r\tTrain Loss: 0.202270 \t Time: 18s\r\tTrain Loss: 0.201557 \t Time: 18s"
     ]
    },
    {
     "name": "stdout",
     "output_type": "stream",
     "text": [
      "\r\tTrain Loss: 0.201888 \t Time: 18s"
     ]
    },
    {
     "name": "stdout",
     "output_type": "stream",
     "text": [
      "\r\tTrain Loss: 0.201310 \t Time: 18s"
     ]
    },
    {
     "name": "stdout",
     "output_type": "stream",
     "text": [
      "\r\tTrain Loss: 0.201686 \t Time: 18s"
     ]
    },
    {
     "name": "stdout",
     "output_type": "stream",
     "text": [
      "\r\tTrain Loss: 0.200836 \t Time: 19s\r\tTrain Loss: 0.200371 \t Time: 19s"
     ]
    },
    {
     "name": "stdout",
     "output_type": "stream",
     "text": [
      "\r\tTrain Loss: 0.200293 \t Time: 19s\r\tTrain Loss: 0.199971 \t Time: 19s"
     ]
    },
    {
     "name": "stdout",
     "output_type": "stream",
     "text": [
      "\r\tTrain Loss: 0.199694 \t Time: 19s\r\tTrain Loss: 0.200406 \t Time: 20s"
     ]
    },
    {
     "name": "stdout",
     "output_type": "stream",
     "text": [
      "\r\tTrain Loss: 0.199822 \t Time: 20s"
     ]
    },
    {
     "name": "stdout",
     "output_type": "stream",
     "text": [
      "\r\tTrain Loss: 0.199932 \t Time: 20s"
     ]
    },
    {
     "name": "stdout",
     "output_type": "stream",
     "text": [
      "\r\tTrain Loss: 0.198948 \t Time: 20s\r\tTrain Loss: 0.198554 \t Time: 20s"
     ]
    },
    {
     "name": "stdout",
     "output_type": "stream",
     "text": [
      "\r\tTrain Loss: 0.197848 \t Time: 21s\r\tTrain Loss: 0.197632 \t Time: 21s"
     ]
    },
    {
     "name": "stdout",
     "output_type": "stream",
     "text": [
      "\r\tTrain Loss: 0.198040 \t Time: 21s"
     ]
    },
    {
     "name": "stdout",
     "output_type": "stream",
     "text": [
      "\r\tTrain Loss: 0.198363 \t Time: 21s"
     ]
    },
    {
     "name": "stdout",
     "output_type": "stream",
     "text": [
      "\r\tTrain Loss: 0.197925 \t Time: 21s"
     ]
    },
    {
     "name": "stdout",
     "output_type": "stream",
     "text": [
      "\r\tTrain Loss: 0.199132 \t Time: 22s\r\tTrain Loss: 0.199353 \t Time: 22s"
     ]
    },
    {
     "name": "stdout",
     "output_type": "stream",
     "text": [
      "\r\tTrain Loss: 0.198443 \t Time: 22s\r\tTrain Loss: 0.198105 \t Time: 22s"
     ]
    },
    {
     "name": "stdout",
     "output_type": "stream",
     "text": [
      "\r\tTrain Loss: 0.198859 \t Time: 22s\n"
     ]
    },
    {
     "name": "stdout",
     "output_type": "stream",
     "text": [
      "\tTest Loss: 0.332217 \t Time: 0s\nEpoch 9\n\r\tTrain Loss: 0.274059 \t Time: 0s"
     ]
    },
    {
     "name": "stdout",
     "output_type": "stream",
     "text": [
      "\r\tTrain Loss: 0.211682 \t Time: 0s"
     ]
    },
    {
     "name": "stdout",
     "output_type": "stream",
     "text": [
      "\r\tTrain Loss: 0.239382 \t Time: 0s\r\tTrain Loss: 0.249348 \t Time: 0s"
     ]
    },
    {
     "name": "stdout",
     "output_type": "stream",
     "text": [
      "\r\tTrain Loss: 0.225437 \t Time: 0s\r\tTrain Loss: 0.214283 \t Time: 1s"
     ]
    },
    {
     "name": "stdout",
     "output_type": "stream",
     "text": [
      "\r\tTrain Loss: 0.224781 \t Time: 1s\r\tTrain Loss: 0.219636 \t Time: 1s"
     ]
    },
    {
     "name": "stdout",
     "output_type": "stream",
     "text": [
      "\r\tTrain Loss: 0.217296 \t Time: 1s"
     ]
    },
    {
     "name": "stdout",
     "output_type": "stream",
     "text": [
      "\r\tTrain Loss: 0.208090 \t Time: 1s"
     ]
    },
    {
     "name": "stdout",
     "output_type": "stream",
     "text": [
      "\r\tTrain Loss: 0.208902 \t Time: 2s\r\tTrain Loss: 0.207138 \t Time: 2s"
     ]
    },
    {
     "name": "stdout",
     "output_type": "stream",
     "text": [
      "\r\tTrain Loss: 0.201012 \t Time: 2s"
     ]
    },
    {
     "name": "stdout",
     "output_type": "stream",
     "text": [
      "\r\tTrain Loss: 0.195005 \t Time: 2s\r\tTrain Loss: 0.197324 \t Time: 2s"
     ]
    },
    {
     "name": "stdout",
     "output_type": "stream",
     "text": [
      "\r\tTrain Loss: 0.193223 \t Time: 3s\r\tTrain Loss: 0.190556 \t Time: 3s"
     ]
    },
    {
     "name": "stdout",
     "output_type": "stream",
     "text": [
      "\r\tTrain Loss: 0.189218 \t Time: 3s"
     ]
    },
    {
     "name": "stdout",
     "output_type": "stream",
     "text": [
      "\r\tTrain Loss: 0.192945 \t Time: 3s"
     ]
    },
    {
     "name": "stdout",
     "output_type": "stream",
     "text": [
      "\r\tTrain Loss: 0.189923 \t Time: 4s\r\tTrain Loss: 0.187056 \t Time: 4s"
     ]
    },
    {
     "name": "stdout",
     "output_type": "stream",
     "text": [
      "\r\tTrain Loss: 0.184891 \t Time: 4s\r\tTrain Loss: 0.182962 \t Time: 4s"
     ]
    },
    {
     "name": "stdout",
     "output_type": "stream",
     "text": [
      "\r\tTrain Loss: 0.179888 \t Time: 4s\r\tTrain Loss: 0.177846 \t Time: 5s"
     ]
    },
    {
     "name": "stdout",
     "output_type": "stream",
     "text": [
      "\r\tTrain Loss: 0.179036 \t Time: 5s\r\tTrain Loss: 0.177854 \t Time: 5s"
     ]
    },
    {
     "name": "stdout",
     "output_type": "stream",
     "text": [
      "\r\tTrain Loss: 0.175921 \t Time: 5s\r\tTrain Loss: 0.177069 \t Time: 5s"
     ]
    },
    {
     "name": "stdout",
     "output_type": "stream",
     "text": [
      "\r\tTrain Loss: 0.178597 \t Time: 5s\r\tTrain Loss: 0.176046 \t Time: 6s"
     ]
    },
    {
     "name": "stdout",
     "output_type": "stream",
     "text": [
      "\r\tTrain Loss: 0.174169 \t Time: 6s\r\tTrain Loss: 0.175212 \t Time: 6s"
     ]
    },
    {
     "name": "stdout",
     "output_type": "stream",
     "text": [
      "\r\tTrain Loss: 0.180211 \t Time: 6s\r\tTrain Loss: 0.178692 \t Time: 6s"
     ]
    },
    {
     "name": "stdout",
     "output_type": "stream",
     "text": [
      "\r\tTrain Loss: 0.178347 \t Time: 7s\r\tTrain Loss: 0.176791 \t Time: 7s"
     ]
    },
    {
     "name": "stdout",
     "output_type": "stream",
     "text": [
      "\r\tTrain Loss: 0.175236 \t Time: 7s\r\tTrain Loss: 0.173788 \t Time: 7s"
     ]
    },
    {
     "name": "stdout",
     "output_type": "stream",
     "text": [
      "\r\tTrain Loss: 0.176846 \t Time: 7s\r\tTrain Loss: 0.176264 \t Time: 8s"
     ]
    },
    {
     "name": "stdout",
     "output_type": "stream",
     "text": [
      "\r\tTrain Loss: 0.175159 \t Time: 8s\r\tTrain Loss: 0.174128 \t Time: 8s"
     ]
    },
    {
     "name": "stdout",
     "output_type": "stream",
     "text": [
      "\r\tTrain Loss: 0.177059 \t Time: 8s"
     ]
    },
    {
     "name": "stdout",
     "output_type": "stream",
     "text": [
      "\r\tTrain Loss: 0.180851 \t Time: 8s\r\tTrain Loss: 0.182542 \t Time: 9s"
     ]
    },
    {
     "name": "stdout",
     "output_type": "stream",
     "text": [
      "\r\tTrain Loss: 0.181759 \t Time: 9s\r\tTrain Loss: 0.183208 \t Time: 9s"
     ]
    },
    {
     "name": "stdout",
     "output_type": "stream",
     "text": [
      "\r\tTrain Loss: 0.182691 \t Time: 9s\r\tTrain Loss: 0.184018 \t Time: 9s"
     ]
    },
    {
     "name": "stdout",
     "output_type": "stream",
     "text": [
      "\r\tTrain Loss: 0.183408 \t Time: 10s\r\tTrain Loss: 0.183850 \t Time: 10s"
     ]
    },
    {
     "name": "stdout",
     "output_type": "stream",
     "text": [
      "\r\tTrain Loss: 0.182849 \t Time: 10s"
     ]
    },
    {
     "name": "stdout",
     "output_type": "stream",
     "text": [
      "\r\tTrain Loss: 0.181348 \t Time: 10s\r\tTrain Loss: 0.181447 \t Time: 10s"
     ]
    },
    {
     "name": "stdout",
     "output_type": "stream",
     "text": [
      "\r\tTrain Loss: 0.183159 \t Time: 11s\r\tTrain Loss: 0.183108 \t Time: 11s"
     ]
    },
    {
     "name": "stdout",
     "output_type": "stream",
     "text": [
      "\r\tTrain Loss: 0.182760 \t Time: 11s\r\tTrain Loss: 0.181539 \t Time: 11s"
     ]
    },
    {
     "name": "stdout",
     "output_type": "stream",
     "text": [
      "\r\tTrain Loss: 0.183372 \t Time: 11s\r\tTrain Loss: 0.183294 \t Time: 12s"
     ]
    },
    {
     "name": "stdout",
     "output_type": "stream",
     "text": [
      "\r\tTrain Loss: 0.185811 \t Time: 12s\r\tTrain Loss: 0.186507 \t Time: 12s"
     ]
    },
    {
     "name": "stdout",
     "output_type": "stream",
     "text": [
      "\r\tTrain Loss: 0.186339 \t Time: 12s\r\tTrain Loss: 0.187083 \t Time: 12s"
     ]
    },
    {
     "name": "stdout",
     "output_type": "stream",
     "text": [
      "\r\tTrain Loss: 0.188515 \t Time: 13s\r\tTrain Loss: 0.189488 \t Time: 13s"
     ]
    },
    {
     "name": "stdout",
     "output_type": "stream",
     "text": [
      "\r\tTrain Loss: 0.189055 \t Time: 13s\r\tTrain Loss: 0.189845 \t Time: 13s"
     ]
    },
    {
     "name": "stdout",
     "output_type": "stream",
     "text": [
      "\r\tTrain Loss: 0.189109 \t Time: 13s\r\tTrain Loss: 0.189883 \t Time: 14s"
     ]
    },
    {
     "name": "stdout",
     "output_type": "stream",
     "text": [
      "\r\tTrain Loss: 0.189938 \t Time: 14s"
     ]
    },
    {
     "name": "stdout",
     "output_type": "stream",
     "text": [
      "\r\tTrain Loss: 0.190776 \t Time: 14s"
     ]
    },
    {
     "name": "stdout",
     "output_type": "stream",
     "text": [
      "\r\tTrain Loss: 0.192690 \t Time: 14s\r\tTrain Loss: 0.191734 \t Time: 14s"
     ]
    },
    {
     "name": "stdout",
     "output_type": "stream",
     "text": [
      "\r\tTrain Loss: 0.192956 \t Time: 15s\r\tTrain Loss: 0.194157 \t Time: 15s"
     ]
    },
    {
     "name": "stdout",
     "output_type": "stream",
     "text": [
      "\r\tTrain Loss: 0.195424 \t Time: 15s\r\tTrain Loss: 0.197015 \t Time: 15s"
     ]
    },
    {
     "name": "stdout",
     "output_type": "stream",
     "text": [
      "\r\tTrain Loss: 0.197810 \t Time: 15s\r\tTrain Loss: 0.198668 \t Time: 16s"
     ]
    },
    {
     "name": "stdout",
     "output_type": "stream",
     "text": [
      "\r\tTrain Loss: 0.197932 \t Time: 16s\r\tTrain Loss: 0.197893 \t Time: 16s"
     ]
    },
    {
     "name": "stdout",
     "output_type": "stream",
     "text": [
      "\r\tTrain Loss: 0.197374 \t Time: 16s\r\tTrain Loss: 0.198156 \t Time: 16s"
     ]
    },
    {
     "name": "stdout",
     "output_type": "stream",
     "text": [
      "\r\tTrain Loss: 0.197374 \t Time: 17s"
     ]
    },
    {
     "name": "stdout",
     "output_type": "stream",
     "text": [
      "\r\tTrain Loss: 0.198198 \t Time: 17s\r\tTrain Loss: 0.197673 \t Time: 17s"
     ]
    },
    {
     "name": "stdout",
     "output_type": "stream",
     "text": [
      "\r\tTrain Loss: 0.197037 \t Time: 17s\r\tTrain Loss: 0.198251 \t Time: 17s"
     ]
    },
    {
     "name": "stdout",
     "output_type": "stream",
     "text": [
      "\r\tTrain Loss: 0.199562 \t Time: 18s\r\tTrain Loss: 0.199129 \t Time: 18s"
     ]
    },
    {
     "name": "stdout",
     "output_type": "stream",
     "text": [
      "\r\tTrain Loss: 0.198261 \t Time: 18s"
     ]
    },
    {
     "name": "stdout",
     "output_type": "stream",
     "text": [
      "\r\tTrain Loss: 0.197662 \t Time: 18s\r\tTrain Loss: 0.197628 \t Time: 19s"
     ]
    },
    {
     "name": "stdout",
     "output_type": "stream",
     "text": [
      "\r\tTrain Loss: 0.198227 \t Time: 19s\r\tTrain Loss: 0.197539 \t Time: 19s"
     ]
    },
    {
     "name": "stdout",
     "output_type": "stream",
     "text": [
      "\r\tTrain Loss: 0.196935 \t Time: 19s\r\tTrain Loss: 0.196158 \t Time: 19s"
     ]
    },
    {
     "name": "stdout",
     "output_type": "stream",
     "text": [
      "\r\tTrain Loss: 0.195597 \t Time: 20s\r\tTrain Loss: 0.194969 \t Time: 20s"
     ]
    },
    {
     "name": "stdout",
     "output_type": "stream",
     "text": [
      "\r\tTrain Loss: 0.194263 \t Time: 20s\r\tTrain Loss: 0.194143 \t Time: 20s"
     ]
    },
    {
     "name": "stdout",
     "output_type": "stream",
     "text": [
      "\r\tTrain Loss: 0.193414 \t Time: 20s\r\tTrain Loss: 0.194664 \t Time: 20s"
     ]
    },
    {
     "name": "stdout",
     "output_type": "stream",
     "text": [
      "\r\tTrain Loss: 0.194968 \t Time: 21s\r\tTrain Loss: 0.195362 \t Time: 21s"
     ]
    },
    {
     "name": "stdout",
     "output_type": "stream",
     "text": [
      "\r\tTrain Loss: 0.195727 \t Time: 21s\r\tTrain Loss: 0.195760 \t Time: 21s"
     ]
    },
    {
     "name": "stdout",
     "output_type": "stream",
     "text": [
      "\r\tTrain Loss: 0.195052 \t Time: 21s\r\tTrain Loss: 0.194746 \t Time: 22s"
     ]
    },
    {
     "name": "stdout",
     "output_type": "stream",
     "text": [
      "\r\tTrain Loss: 0.194862 \t Time: 22s\r\tTrain Loss: 0.195012 \t Time: 22s"
     ]
    },
    {
     "name": "stdout",
     "output_type": "stream",
     "text": [
      "\r\tTrain Loss: 0.194186 \t Time: 22s\r\tTrain Loss: 0.193726 \t Time: 22s\n"
     ]
    },
    {
     "name": "stdout",
     "output_type": "stream",
     "text": [
      "\tTest Loss: 0.334069 \t Time: 0s\nEpoch 10\n"
     ]
    },
    {
     "name": "stdout",
     "output_type": "stream",
     "text": [
      "\r\tTrain Loss: 0.250967 \t Time: 0s\r\tTrain Loss: 0.238976 \t Time: 0s"
     ]
    },
    {
     "name": "stdout",
     "output_type": "stream",
     "text": [
      "\r\tTrain Loss: 0.237322 \t Time: 0s\r\tTrain Loss: 0.204385 \t Time: 0s"
     ]
    },
    {
     "name": "stdout",
     "output_type": "stream",
     "text": [
      "\r\tTrain Loss: 0.208201 \t Time: 0s\r\tTrain Loss: 0.206470 \t Time: 1s"
     ]
    },
    {
     "name": "stdout",
     "output_type": "stream",
     "text": [
      "\r\tTrain Loss: 0.213153 \t Time: 1s\r\tTrain Loss: 0.231804 \t Time: 1s"
     ]
    },
    {
     "name": "stdout",
     "output_type": "stream",
     "text": [
      "\r\tTrain Loss: 0.249553 \t Time: 1s\r\tTrain Loss: 0.242593 \t Time: 1s"
     ]
    },
    {
     "name": "stdout",
     "output_type": "stream",
     "text": [
      "\r\tTrain Loss: 0.243664 \t Time: 2s\r\tTrain Loss: 0.256920 \t Time: 2s"
     ]
    },
    {
     "name": "stdout",
     "output_type": "stream",
     "text": [
      "\r\tTrain Loss: 0.249977 \t Time: 2s\r\tTrain Loss: 0.242013 \t Time: 2s"
     ]
    },
    {
     "name": "stdout",
     "output_type": "stream",
     "text": [
      "\r\tTrain Loss: 0.240215 \t Time: 2s\r\tTrain Loss: 0.242492 \t Time: 3s"
     ]
    },
    {
     "name": "stdout",
     "output_type": "stream",
     "text": [
      "\r\tTrain Loss: 0.243773 \t Time: 3s\r\tTrain Loss: 0.242667 \t Time: 3s"
     ]
    },
    {
     "name": "stdout",
     "output_type": "stream",
     "text": [
      "\r\tTrain Loss: 0.238013 \t Time: 3s\r\tTrain Loss: 0.233563 \t Time: 3s"
     ]
    },
    {
     "name": "stdout",
     "output_type": "stream",
     "text": [
      "\r\tTrain Loss: 0.227913 \t Time: 4s\r\tTrain Loss: 0.223866 \t Time: 4s"
     ]
    },
    {
     "name": "stdout",
     "output_type": "stream",
     "text": [
      "\r\tTrain Loss: 0.224386 \t Time: 4s\r\tTrain Loss: 0.223684 \t Time: 4s"
     ]
    },
    {
     "name": "stdout",
     "output_type": "stream",
     "text": [
      "\r\tTrain Loss: 0.220927 \t Time: 4s\r\tTrain Loss: 0.222443 \t Time: 5s"
     ]
    },
    {
     "name": "stdout",
     "output_type": "stream",
     "text": [
      "\r\tTrain Loss: 0.219610 \t Time: 5s\r\tTrain Loss: 0.216316 \t Time: 5s"
     ]
    },
    {
     "name": "stdout",
     "output_type": "stream",
     "text": [
      "\r\tTrain Loss: 0.214559 \t Time: 5s\r\tTrain Loss: 0.214421 \t Time: 5s"
     ]
    },
    {
     "name": "stdout",
     "output_type": "stream",
     "text": [
      "\r\tTrain Loss: 0.216831 \t Time: 6s\r\tTrain Loss: 0.213867 \t Time: 6s"
     ]
    },
    {
     "name": "stdout",
     "output_type": "stream",
     "text": [
      "\r\tTrain Loss: 0.211708 \t Time: 6s\r\tTrain Loss: 0.212633 \t Time: 6s"
     ]
    },
    {
     "name": "stdout",
     "output_type": "stream",
     "text": [
      "\r\tTrain Loss: 0.210837 \t Time: 6s\r\tTrain Loss: 0.208418 \t Time: 7s"
     ]
    },
    {
     "name": "stdout",
     "output_type": "stream",
     "text": [
      "\r\tTrain Loss: 0.211886 \t Time: 7s\r\tTrain Loss: 0.213937 \t Time: 7s"
     ]
    },
    {
     "name": "stdout",
     "output_type": "stream",
     "text": [
      "\r\tTrain Loss: 0.211552 \t Time: 7s\r\tTrain Loss: 0.211283 \t Time: 7s"
     ]
    },
    {
     "name": "stdout",
     "output_type": "stream",
     "text": [
      "\r\tTrain Loss: 0.211291 \t Time: 8s\r\tTrain Loss: 0.209356 \t Time: 8s"
     ]
    },
    {
     "name": "stdout",
     "output_type": "stream",
     "text": [
      "\r\tTrain Loss: 0.208194 \t Time: 8s"
     ]
    },
    {
     "name": "stdout",
     "output_type": "stream",
     "text": [
      "\r\tTrain Loss: 0.209448 \t Time: 8s"
     ]
    },
    {
     "name": "stdout",
     "output_type": "stream",
     "text": [
      "\r\tTrain Loss: 0.210607 \t Time: 8s"
     ]
    },
    {
     "name": "stdout",
     "output_type": "stream",
     "text": [
      "\r\tTrain Loss: 0.212049 \t Time: 9s\r\tTrain Loss: 0.209870 \t Time: 9s"
     ]
    },
    {
     "name": "stdout",
     "output_type": "stream",
     "text": [
      "\r\tTrain Loss: 0.210942 \t Time: 9s\r\tTrain Loss: 0.210241 \t Time: 9s"
     ]
    },
    {
     "name": "stdout",
     "output_type": "stream",
     "text": [
      "\r\tTrain Loss: 0.210534 \t Time: 9s\r\tTrain Loss: 0.209181 \t Time: 10s"
     ]
    },
    {
     "name": "stdout",
     "output_type": "stream",
     "text": [
      "\r\tTrain Loss: 0.209305 \t Time: 10s\r\tTrain Loss: 0.208815 \t Time: 10s"
     ]
    },
    {
     "name": "stdout",
     "output_type": "stream",
     "text": [
      "\r\tTrain Loss: 0.207137 \t Time: 10s\r\tTrain Loss: 0.207529 \t Time: 10s"
     ]
    },
    {
     "name": "stdout",
     "output_type": "stream",
     "text": [
      "\r\tTrain Loss: 0.206918 \t Time: 11s\r\tTrain Loss: 0.205784 \t Time: 11s"
     ]
    },
    {
     "name": "stdout",
     "output_type": "stream",
     "text": [
      "\r\tTrain Loss: 0.205768 \t Time: 11s\r\tTrain Loss: 0.208403 \t Time: 11s"
     ]
    },
    {
     "name": "stdout",
     "output_type": "stream",
     "text": [
      "\r\tTrain Loss: 0.206609 \t Time: 11s"
     ]
    },
    {
     "name": "stdout",
     "output_type": "stream",
     "text": [
      "\r\tTrain Loss: 0.207922 \t Time: 12s\r\tTrain Loss: 0.208216 \t Time: 12s"
     ]
    },
    {
     "name": "stdout",
     "output_type": "stream",
     "text": [
      "\r\tTrain Loss: 0.207853 \t Time: 12s"
     ]
    },
    {
     "name": "stdout",
     "output_type": "stream",
     "text": [
      "\r\tTrain Loss: 0.208142 \t Time: 12s"
     ]
    },
    {
     "name": "stdout",
     "output_type": "stream",
     "text": [
      "\r\tTrain Loss: 0.207974 \t Time: 12s\r\tTrain Loss: 0.208645 \t Time: 13s"
     ]
    },
    {
     "name": "stdout",
     "output_type": "stream",
     "text": [
      "\r\tTrain Loss: 0.207435 \t Time: 13s\r\tTrain Loss: 0.208320 \t Time: 13s"
     ]
    },
    {
     "name": "stdout",
     "output_type": "stream",
     "text": [
      "\r\tTrain Loss: 0.208123 \t Time: 13s\r\tTrain Loss: 0.207738 \t Time: 13s"
     ]
    },
    {
     "name": "stdout",
     "output_type": "stream",
     "text": [
      "\r\tTrain Loss: 0.207738 \t Time: 14s\r\tTrain Loss: 0.206801 \t Time: 14s"
     ]
    },
    {
     "name": "stdout",
     "output_type": "stream",
     "text": [
      "\r\tTrain Loss: 0.205923 \t Time: 14s\r\tTrain Loss: 0.205634 \t Time: 14s"
     ]
    },
    {
     "name": "stdout",
     "output_type": "stream",
     "text": [
      "\r\tTrain Loss: 0.206141 \t Time: 14s\r\tTrain Loss: 0.206283 \t Time: 15s"
     ]
    },
    {
     "name": "stdout",
     "output_type": "stream",
     "text": [
      "\r\tTrain Loss: 0.207735 \t Time: 15s\r\tTrain Loss: 0.208045 \t Time: 15s"
     ]
    },
    {
     "name": "stdout",
     "output_type": "stream",
     "text": [
      "\r\tTrain Loss: 0.208198 \t Time: 15s\r\tTrain Loss: 0.207563 \t Time: 15s"
     ]
    },
    {
     "name": "stdout",
     "output_type": "stream",
     "text": [
      "\r\tTrain Loss: 0.207024 \t Time: 16s\r\tTrain Loss: 0.206355 \t Time: 16s"
     ]
    },
    {
     "name": "stdout",
     "output_type": "stream",
     "text": [
      "\r\tTrain Loss: 0.205738 \t Time: 16s\r\tTrain Loss: 0.205457 \t Time: 16s"
     ]
    },
    {
     "name": "stdout",
     "output_type": "stream",
     "text": [
      "\r\tTrain Loss: 0.205706 \t Time: 16s"
     ]
    },
    {
     "name": "stdout",
     "output_type": "stream",
     "text": [
      "\r\tTrain Loss: 0.206177 \t Time: 17s\r\tTrain Loss: 0.205051 \t Time: 17s"
     ]
    },
    {
     "name": "stdout",
     "output_type": "stream",
     "text": [
      "\r\tTrain Loss: 0.204044 \t Time: 17s\r\tTrain Loss: 0.204551 \t Time: 17s"
     ]
    },
    {
     "name": "stdout",
     "output_type": "stream",
     "text": [
      "\r\tTrain Loss: 0.204830 \t Time: 17s\r\tTrain Loss: 0.205048 \t Time: 18s"
     ]
    },
    {
     "name": "stdout",
     "output_type": "stream",
     "text": [
      "\r\tTrain Loss: 0.204787 \t Time: 18s\r\tTrain Loss: 0.204104 \t Time: 18s"
     ]
    },
    {
     "name": "stdout",
     "output_type": "stream",
     "text": [
      "\r\tTrain Loss: 0.203433 \t Time: 18s\r\tTrain Loss: 0.203297 \t Time: 18s"
     ]
    },
    {
     "name": "stdout",
     "output_type": "stream",
     "text": [
      "\r\tTrain Loss: 0.203839 \t Time: 19s\r\tTrain Loss: 0.202845 \t Time: 19s"
     ]
    },
    {
     "name": "stdout",
     "output_type": "stream",
     "text": [
      "\r\tTrain Loss: 0.203358 \t Time: 19s\r\tTrain Loss: 0.203967 \t Time: 19s"
     ]
    },
    {
     "name": "stdout",
     "output_type": "stream",
     "text": [
      "\r\tTrain Loss: 0.204383 \t Time: 19s\r\tTrain Loss: 0.203840 \t Time: 20s"
     ]
    },
    {
     "name": "stdout",
     "output_type": "stream",
     "text": [
      "\r\tTrain Loss: 0.203163 \t Time: 20s\r\tTrain Loss: 0.204422 \t Time: 20s"
     ]
    },
    {
     "name": "stdout",
     "output_type": "stream",
     "text": [
      "\r\tTrain Loss: 0.204320 \t Time: 20s\r\tTrain Loss: 0.205111 \t Time: 20s"
     ]
    },
    {
     "name": "stdout",
     "output_type": "stream",
     "text": [
      "\r\tTrain Loss: 0.204884 \t Time: 21s\r\tTrain Loss: 0.205110 \t Time: 21s"
     ]
    },
    {
     "name": "stdout",
     "output_type": "stream",
     "text": [
      "\r\tTrain Loss: 0.205564 \t Time: 21s\r\tTrain Loss: 0.205763 \t Time: 21s"
     ]
    },
    {
     "name": "stdout",
     "output_type": "stream",
     "text": [
      "\r\tTrain Loss: 0.206133 \t Time: 21s\r\tTrain Loss: 0.206307 \t Time: 22s"
     ]
    },
    {
     "name": "stdout",
     "output_type": "stream",
     "text": [
      "\r\tTrain Loss: 0.205962 \t Time: 22s\r\tTrain Loss: 0.205328 \t Time: 22s"
     ]
    },
    {
     "name": "stdout",
     "output_type": "stream",
     "text": [
      "\r\tTrain Loss: 0.205917 \t Time: 22s\r\tTrain Loss: 0.205811 \t Time: 22s\n"
     ]
    },
    {
     "name": "stdout",
     "output_type": "stream",
     "text": [
      "\tTest Loss: 0.335416 \t Time: 0s\n"
     ]
    }
   ],
   "source": [
    "train_losses, test_losses = trainer.train(10, batch_size=256)\n",
    "train_losses_all.extend(train_losses)\n",
    "test_losses_all.extend(test_losses)"
   ]
  },
  {
   "cell_type": "code",
   "execution_count": 48,
   "metadata": {
    "collapsed": true
   },
   "outputs": [],
   "source": [
    "ethalons, results, inputs, matched, distances = trainer.test_model(False)"
   ]
  },
  {
   "cell_type": "code",
   "execution_count": 49,
   "metadata": {},
   "outputs": [
    {
     "name": "stdout",
     "output_type": "stream",
     "text": [
      "['игорь артемьев', 'михаил прохоров', 'игорь андрющенко', 'ровенский', 'ровенский', 'алексей миллер', 'юрий хардиков', 'айрат мурзагалиев', 'андрей воробьев', 'андрей раппопорт']\n['игорь артемьев', 'михаил прохоров', 'игорь андрющенко', 'ровенский', 'ровенский', 'алексей миллер', 'юрий хардиков', 'айрат мурзагалиев', 'андрей воробьев', 'андрей раппопорт']\n['глава фас игорь артемьев заявил, ч', 'году, при михаиле прохорове.\\n\\r\\n\\rкроме', 'правлению игорь андрющенко называет ', ' господин ровенский, позиция,', 'господина ровенского, он с 1 и', 'газпрома> алексея миллера, члена со', 'ектом сао юрием хардиковым. 19 январ', 'резидента айрат мурзагалиев, вчера му', 'й россии\" андрей воробьев заявил \"ъ', 'андрей раппопорт выбрался ']\n[True, True, True, True, True, True, True, True, True, True]\n[0, 0, 0, 0, 0, 0, 0, 0, 0, 0]\n"
     ]
    }
   ],
   "source": [
    "print(ethalons[:10])\n",
    "print(results[:10])\n",
    "print(inputs[:10])\n",
    "print(matched[:10])\n",
    "print(distances[:10])"
   ]
  },
  {
   "cell_type": "markdown",
   "metadata": {},
   "source": [
    "50 эпох"
   ]
  },
  {
   "cell_type": "code",
   "execution_count": 30,
   "metadata": {},
   "outputs": [
    {
     "name": "stdout",
     "output_type": "stream",
     "text": [
      "Accuracy:  0.629720853859\nMean distance:  1.48111658456\n"
     ]
    }
   ],
   "source": [
    "import numpy as np\n",
    "print('Accuracy: ', np.mean(matched))\n",
    "print('Mean distance: ', np.mean(distances))"
   ]
  },
  {
   "cell_type": "markdown",
   "metadata": {},
   "source": [
    "60 эпох"
   ]
  },
  {
   "cell_type": "code",
   "execution_count": 38,
   "metadata": {},
   "outputs": [
    {
     "name": "stdout",
     "output_type": "stream",
     "text": [
      "Accuracy:  0.637657361795\nMean distance:  1.39764641489\n"
     ]
    }
   ],
   "source": [
    "import numpy as np\n",
    "print('Accuracy: ', np.mean(matched))\n",
    "print('Mean distance: ', np.mean(distances))"
   ]
  },
  {
   "cell_type": "code",
   "execution_count": 50,
   "metadata": {},
   "outputs": [
    {
     "name": "stdout",
     "output_type": "stream",
     "text": [
      "Accuracy:  0.660645867542\nMean distance:  1.30186097427\n"
     ]
    }
   ],
   "source": [
    "import numpy as np\n",
    "print('Accuracy: ', np.mean(matched))\n",
    "print('Mean distance: ', np.mean(distances))"
   ]
  },
  {
   "cell_type": "code",
   "execution_count": 55,
   "metadata": {},
   "outputs": [
    {
     "data": {
      "image/png": "[encoded data removed]",
      "text/plain": [
       "<matplotlib.figure.Figure at 0x185f430eeb8>"
      ]
     },
     "metadata": {},
     "output_type": "display_data"
    }
   ],
   "source": [
    "plt.figure(figsize=(20,12))\n",
    "plt.plot(train_losses_all[1:], label='train')\n",
    "plt.plot(test_losses_all[1:], label='test')\n",
    "plt.legend()\n",
    "plt.show()"
   ]
  },
  {
   "cell_type": "code",
   "execution_count": 52,
   "metadata": {
    "collapsed": true
   },
   "outputs": [],
   "source": [
    "import pandas as pd\n",
    "\n",
    "data = {'ethalon' : ethalons, 'result' : results, 'input' : inputs, 'matched' : matched, 'distance' : distances}\n",
    "df = pd.DataFrame(data=data, columns=['ethalon', 'result', 'input', 'matched', 'distance'])"
   ]
  },
  {
   "cell_type": "code",
   "execution_count": 29,
   "metadata": {},
   "outputs": [
    {
     "data": {
      "text/html": [
       "<div>\n",
       "<style>\n",
       "    .dataframe thead tr:only-child th {\n",
       "        text-align: right;\n",
       "    }\n",
       "\n",
       "    .dataframe thead th {\n",
       "        text-align: left;\n",
       "    }\n",
       "\n",
       "    .dataframe tbody tr th {\n",
       "        vertical-align: top;\n",
       "    }\n",
       "</style>\n",
       "<table border=\"1\" class=\"dataframe\">\n",
       "  <thead>\n",
       "    <tr style=\"text-align: right;\">\n",
       "      <th></th>\n",
       "      <th>ethalon</th>\n",
       "      <th>result</th>\n",
       "      <th>input</th>\n",
       "      <th>matched</th>\n",
       "      <th>distance</th>\n",
       "    </tr>\n",
       "  </thead>\n",
       "  <tbody>\n",
       "    <tr>\n",
       "      <th>0</th>\n",
       "      <td>дэниэл фрид</td>\n",
       "      <td>дэниэл чридом</td>\n",
       "      <td>етаря сша дэниэлом фридом.\\n\\r\\n\\r\"с ро</td>\n",
       "      <td>False</td>\n",
       "      <td>3</td>\n",
       "    </tr>\n",
       "    <tr>\n",
       "      <th>1</th>\n",
       "      <td>мария чернова</td>\n",
       "      <td>марию чернов</td>\n",
       "      <td>лужбы фас марию чернову утверждал</td>\n",
       "      <td>False</td>\n",
       "      <td>2</td>\n",
       "    </tr>\n",
       "    <tr>\n",
       "      <th>2</th>\n",
       "      <td>эдриан коутс</td>\n",
       "      <td>эдриан коутс</td>\n",
       "      <td>\\n\\rим стал эдриан коутс, помогавш</td>\n",
       "      <td>True</td>\n",
       "      <td>0</td>\n",
       "    </tr>\n",
       "    <tr>\n",
       "      <th>3</th>\n",
       "      <td>эдриан коутс</td>\n",
       "      <td>эдриан коутс</td>\n",
       "      <td>исполнять эдриан коутс, возглавл</td>\n",
       "      <td>True</td>\n",
       "      <td>0</td>\n",
       "    </tr>\n",
       "    <tr>\n",
       "      <th>4</th>\n",
       "      <td>эдриан коутс</td>\n",
       "      <td>эдриан коутса</td>\n",
       "      <td>анка hsbc эдриана коутса. господин</td>\n",
       "      <td>False</td>\n",
       "      <td>1</td>\n",
       "    </tr>\n",
       "    <tr>\n",
       "      <th>5</th>\n",
       "      <td>эдриан коутс</td>\n",
       "      <td>эдриан коутса</td>\n",
       "      <td>вне.\\n\\r\\n\\rу эдриана коутса большой о</td>\n",
       "      <td>False</td>\n",
       "      <td>1</td>\n",
       "    </tr>\n",
       "    <tr>\n",
       "      <th>6</th>\n",
       "      <td>фарит газизуллин</td>\n",
       "      <td>фарит газизуллин</td>\n",
       "      <td>газпрома&gt; фарита газизуллина. сохранил</td>\n",
       "      <td>True</td>\n",
       "      <td>0</td>\n",
       "    </tr>\n",
       "    <tr>\n",
       "      <th>7</th>\n",
       "      <td>елена карпель</td>\n",
       "      <td>елена карпель</td>\n",
       "      <td>разования елена карпель и зампред</td>\n",
       "      <td>True</td>\n",
       "      <td>0</td>\n",
       "    </tr>\n",
       "    <tr>\n",
       "      <th>8</th>\n",
       "      <td>олег митволь</td>\n",
       "      <td>ледев</td>\n",
       "      <td>олег митволь высадился</td>\n",
       "      <td>False</td>\n",
       "      <td>9</td>\n",
       "    </tr>\n",
       "    <tr>\n",
       "      <th>9</th>\n",
       "      <td>олег митволь</td>\n",
       "      <td>олег митволь</td>\n",
       "      <td>однадзора олег митволь должен бы</td>\n",
       "      <td>True</td>\n",
       "      <td>0</td>\n",
       "    </tr>\n",
       "    <tr>\n",
       "      <th>10</th>\n",
       "      <td>олег митволь</td>\n",
       "      <td>олег митволь</td>\n",
       "      <td>ом работы олега митволя станут ос</td>\n",
       "      <td>True</td>\n",
       "      <td>0</td>\n",
       "    </tr>\n",
       "    <tr>\n",
       "      <th>11</th>\n",
       "      <td>олег митволь</td>\n",
       "      <td>олег митволь</td>\n",
       "      <td>общил сам олег митволь. по его с</td>\n",
       "      <td>True</td>\n",
       "      <td>0</td>\n",
       "    </tr>\n",
       "    <tr>\n",
       "      <th>12</th>\n",
       "      <td>олег митволь</td>\n",
       "      <td>олег митволь</td>\n",
       "      <td>решен\" и олег митволь будет пре</td>\n",
       "      <td>True</td>\n",
       "      <td>0</td>\n",
       "    </tr>\n",
       "    <tr>\n",
       "      <th>13</th>\n",
       "      <td>олег митволь</td>\n",
       "      <td>олег митволь</td>\n",
       "      <td>азначение олега митволя опытом ра</td>\n",
       "      <td>True</td>\n",
       "      <td>0</td>\n",
       "    </tr>\n",
       "    <tr>\n",
       "      <th>14</th>\n",
       "      <td>олег митволь</td>\n",
       "      <td>олег митволь</td>\n",
       "      <td>2007 году олег митволь и юрий лу</td>\n",
       "      <td>True</td>\n",
       "      <td>0</td>\n",
       "    </tr>\n",
       "    <tr>\n",
       "      <th>15</th>\n",
       "      <td>олег митволь</td>\n",
       "      <td>олег митволь</td>\n",
       "      <td>однадзоре олег митволь отметился</td>\n",
       "      <td>True</td>\n",
       "      <td>0</td>\n",
       "    </tr>\n",
       "    <tr>\n",
       "      <th>16</th>\n",
       "      <td>олег митволь</td>\n",
       "      <td>олег митволь</td>\n",
       "      <td>асти. сам олег митволь заявил \"ъ</td>\n",
       "      <td>True</td>\n",
       "      <td>0</td>\n",
       "    </tr>\n",
       "    <tr>\n",
       "      <th>17</th>\n",
       "      <td>олег митволь</td>\n",
       "      <td>олег митволь</td>\n",
       "      <td>областью. олег митволь действите</td>\n",
       "      <td>True</td>\n",
       "      <td>0</td>\n",
       "    </tr>\n",
       "    <tr>\n",
       "      <th>18</th>\n",
       "      <td>муртаза рахимов</td>\n",
       "      <td>химов</td>\n",
       "      <td>муртаза рахимов чистит ка</td>\n",
       "      <td>False</td>\n",
       "      <td>10</td>\n",
       "    </tr>\n",
       "    <tr>\n",
       "      <th>19</th>\n",
       "      <td>муртаза рахимов</td>\n",
       "      <td>муртаз прахимов</td>\n",
       "      <td>башкирии муртаза рахимов в очередн</td>\n",
       "      <td>False</td>\n",
       "      <td>2</td>\n",
       "    </tr>\n",
       "  </tbody>\n",
       "</table>\n",
       "</div>"
      ],
      "text/plain": [
       "             ethalon            result  \\\n",
       "0        дэниэл фрид     дэниэл чридом   \n",
       "1      мария чернова      марию чернов   \n",
       "2       эдриан коутс      эдриан коутс   \n",
       "3       эдриан коутс      эдриан коутс   \n",
       "4       эдриан коутс     эдриан коутса   \n",
       "5       эдриан коутс     эдриан коутса   \n",
       "6   фарит газизуллин  фарит газизуллин   \n",
       "7      елена карпель     елена карпель   \n",
       "8       олег митволь             ледев   \n",
       "9       олег митволь      олег митволь   \n",
       "10      олег митволь      олег митволь   \n",
       "11      олег митволь      олег митволь   \n",
       "12      олег митволь      олег митволь   \n",
       "13      олег митволь      олег митволь   \n",
       "14      олег митволь      олег митволь   \n",
       "15      олег митволь      олег митволь   \n",
       "16      олег митволь      олег митволь   \n",
       "17      олег митволь      олег митволь   \n",
       "18   муртаза рахимов             химов   \n",
       "19   муртаза рахимов   муртаз прахимов   \n",
       "\n",
       "                                      input  matched  distance  \n",
       "0   етаря сша дэниэлом фридом.\\n\\r\\n\\r\"с ро    False         3  \n",
       "1         лужбы фас марию чернову утверждал    False         2  \n",
       "2        \\n\\rим стал эдриан коутс, помогавш     True         0  \n",
       "3          исполнять эдриан коутс, возглавл     True         0  \n",
       "4        анка hsbc эдриана коутса. господин    False         1  \n",
       "5    вне.\\n\\r\\n\\rу эдриана коутса большой о    False         1  \n",
       "6    газпрома> фарита газизуллина. сохранил     True         0  \n",
       "7         разования елена карпель и зампред     True         0  \n",
       "8                    олег митволь высадился    False         9  \n",
       "9          однадзора олег митволь должен бы     True         0  \n",
       "10        ом работы олега митволя станут ос     True         0  \n",
       "11         общил сам олег митволь. по его с     True         0  \n",
       "12          решен\" и олег митволь будет пре     True         0  \n",
       "13        азначение олега митволя опытом ра     True         0  \n",
       "14         2007 году олег митволь и юрий лу     True         0  \n",
       "15         однадзоре олег митволь отметился     True         0  \n",
       "16         асти. сам олег митволь заявил \"ъ     True         0  \n",
       "17         областью. олег митволь действите     True         0  \n",
       "18                муртаза рахимов чистит ка    False        10  \n",
       "19       башкирии муртаза рахимов в очередн    False         2  "
      ]
     },
     "execution_count": 29,
     "metadata": {},
     "output_type": "execute_result"
    }
   ],
   "source": [
    "df.head(20)"
   ]
  },
  {
   "cell_type": "code",
   "execution_count": 53,
   "metadata": {
    "collapsed": true
   },
   "outputs": [],
   "source": [
    "df.to_csv('results_dropout3.csv', encoding='utf-8')"
   ]
  },
  {
   "cell_type": "code",
   "execution_count": null,
   "metadata": {
    "collapsed": true
   },
   "outputs": [],
   "source": [
    "torch.save(encoder.state_dict(), 'encoder.pt')\n",
    "torch.save(decoder.state_dict(),'decoder.pt')"
   ]
  },
  {
   "cell_type": "code",
   "execution_count": null,
   "metadata": {
    "collapsed": true
   },
   "outputs": [],
   "source": [
    "from entriesprocessor import EntriesProcessor\n",
    "from trainer import Trainer\n",
    "from model import Decoder, Encoder\n",
    "import torch\n",
    "from mockentries import generate_entries\n",
    "\n",
    "EMBEDDING_SIZE = 10\n",
    "HIDDEN_SIZE = 100\n",
    "device = torch.device(\"cuda\" if torch.cuda.is_available() else \"cpu\")\n",
    "ep = EntriesProcessor(10,10)\n",
    "entries = generate_entries(100000, 5)\n",
    "ep.process(entries)\n",
    "voc_size = ep.symbols_counter\n",
    "encoder = Encoder(input_size=voc_size, hidden_size=HIDDEN_SIZE, embedding_size=EMBEDDING_SIZE).to(device)\n",
    "decoder = Decoder(hidden_size=HIDDEN_SIZE, embedding_size=EMBEDDING_SIZE, output_size=voc_size, max_length=10).to(device)\n",
    "trainer = Trainer(encoder,decoder,ep,max_input_length=10, max_output_length=10,\n",
    "                  teacher_forcing_ratio=0.5, learning_rate = 0.05 )"
   ]
  },
  {
   "cell_type": "code",
   "execution_count": null,
   "metadata": {
    "collapsed": true
   },
   "outputs": [],
   "source": [
    "train_losses_all, test_losses_all = [],[]"
   ]
  },
  {
   "cell_type": "code",
   "execution_count": null,
   "metadata": {},
   "outputs": [],
   "source": [
    "train_losses, test_losses = trainer.train(5,batch_size=256)\n",
    "train_losses_all.extend(train_losses)\n",
    "test_losses_all.extend(test_losses)"
   ]
  },
  {
   "cell_type": "code",
   "execution_count": null,
   "metadata": {
    "collapsed": true
   },
   "outputs": [],
   "source": []
  }
 ],
 "metadata": {
  "kernelspec": {
   "display_name": "Python 3",
   "language": "python",
   "name": "python3"
  },
  "language_info": {
   "codemirror_mode": {
    "name": "ipython",
    "version": 3
   },
   "file_extension": ".py",
   "mimetype": "text/x-python",
   "name": "python",
   "nbconvert_exporter": "python",
   "pygments_lexer": "ipython3",
   "version": "3.6.3"
  }
 },
 "nbformat": 4,
 "nbformat_minor": 1
}
