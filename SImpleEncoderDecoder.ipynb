{
 "cells": [
  {
   "cell_type": "code",
   "execution_count": 1,
   "metadata": {
    "collapsed": true
   },
   "outputs": [],
   "source": [
    "import pandas as pd\n",
    "import numpy as np\n",
    "from os import listdir\n",
    "from os.path import join, abspath\n",
    "from os.path import basename"
   ]
  },
  {
   "cell_type": "code",
   "execution_count": 2,
   "metadata": {
    "collapsed": true
   },
   "outputs": [],
   "source": [
    "markup_path = '.\\markup'"
   ]
  },
  {
   "cell_type": "code",
   "execution_count": 3,
   "metadata": {
    "collapsed": true
   },
   "outputs": [],
   "source": [
    "def process_csv(file_path):\n",
    "    data = pd.read_csv(file_path)\n",
    "    tokens = data.token\n",
    "    positions = data.pos\n",
    "    sentences = data.sentence\n",
    "    norms = data.norm\n",
    "    \n",
    "    current_sentence = sentences[0]\n",
    "    lines = {'X': [], 'Y': []}    \n",
    "    sent_tokens = []\n",
    "    sent_norms = []\n",
    "    for i in range(len(tokens)):    \n",
    "        if sentences[i] == current_sentence:\n",
    "            sent_tokens.append(tokens[i])\n",
    "            sent_norms.append(norms[i])\n",
    "        else:\n",
    "            current_sentence = sentences[i]\n",
    "            lines['X'].append(' '.join(sent_tokens))\n",
    "            lines['Y'].append(' '.join(sent_norms))\n",
    "            sent_tokens = []\n",
    "            sent_norms = []\n",
    "    else:\n",
    "        lines['X'].append(' '.join(sent_tokens))\n",
    "        lines['Y'].append(' '.join(sent_norms))\n",
    "        \n",
    "    return lines"
   ]
  },
  {
   "cell_type": "code",
   "execution_count": 4,
   "metadata": {},
   "outputs": [
    {
     "name": "stdout",
     "output_type": "stream",
     "text": [
      "( 1 2 3 4 5 6 7 8 9 A B C D E F G H I Java.csv\n",
      "sequence item 16: expected str instance, float found\n",
      "J K L Magi.csv\n",
      "index out of bounds\n",
      "M N O PHP.csv\n",
      "sequence item 1: expected str instance, float found\n",
      "P Q R S T "
     ]
    }
   ],
   "source": [
    "raw_data = {'X': [], 'Y': []}\n",
    "file_path = ''\n",
    "\n",
    "for folder in listdir(markup_path)[:30]:\n",
    "    folder_path = join(markup_path, folder)\n",
    "    for data_file in listdir(folder_path):           \n",
    "        file_path = join(folder_path, data_file)\n",
    "        file_path = abspath(file_path)\n",
    "        try:\n",
    "            lines = process_csv(open(file_path, 'r', encoding='utf-8'))\n",
    "            raw_data['X'].extend(lines['X'])\n",
    "            raw_data['Y'].extend(lines['Y'])\n",
    "        except Exception as e:\n",
    "            print(basename(file_path))\n",
    "            print(e)\n",
    "    print(folder, end=' ')\n"
   ]
  },
  {
   "cell_type": "code",
   "execution_count": 5,
   "metadata": {},
   "outputs": [
    {
     "name": "stdout",
     "output_type": "stream",
     "text": [
      "( 9154 ) Кольцово ( 9154 ) Кольцóво ( ) — астероид из группы главного пояса , открытый 16 сентября 1982 года Людмилой Черных в Крымской обсерватории и назван в честь посёлка Кольцово , расположенного неподалёку от Новосибирска .\n",
      "( 9154 ) кольцово ( 9154 ) кольцóвый ( ) — астероид из группа главный пояс , открытый 16 сентябрь 1982 год людмила чёрный в крымский обсерватория и назвать в честь посёлок кольцово , расположить неподалёку от новосибирск .\n"
     ]
    }
   ],
   "source": [
    "print(raw_data['X'][0])\n",
    "print(raw_data['Y'][0])"
   ]
  },
  {
   "cell_type": "code",
   "execution_count": 6,
   "metadata": {},
   "outputs": [
    {
     "name": "stdout",
     "output_type": "stream",
     "text": [
      "19906\n",
      "19906\n"
     ]
    }
   ],
   "source": [
    "print(len(raw_data['X']))\n",
    "print(len(raw_data['Y']))"
   ]
  },
  {
   "cell_type": "code",
   "execution_count": 7,
   "metadata": {},
   "outputs": [
    {
     "name": "stdout",
     "output_type": "stream",
     "text": [
      "о\n"
     ]
    }
   ],
   "source": [
    "print(raw_data['Y'][0][10])"
   ]
  },
  {
   "cell_type": "code",
   "execution_count": 8,
   "metadata": {
    "collapsed": true
   },
   "outputs": [],
   "source": [
    "symbols_table = {}\n",
    "codes_table = {}\n",
    "char_counter = 1\n",
    "net_data = {}\n",
    "net_data['X'] = []\n",
    "net_data['Y'] = []\n",
    "for sent in raw_data['X']:\n",
    "    encoded_sentence = []\n",
    "    for char in sent:\n",
    "        if char not in symbols_table:\n",
    "            symbols_table[char] = char_counter\n",
    "            codes_table[char_counter] = char\n",
    "            char_counter += 1\n",
    "        encoded_sentence.append(symbols_table[char])\n",
    "    encoded_sentence.append(0)\n",
    "    net_data['X'].append(encoded_sentence)\n",
    "    \n",
    "for sent in raw_data['Y']:\n",
    "    encoded_sentence = []\n",
    "    for char in sent:\n",
    "        if char not in symbols_table:\n",
    "            symbols_table[char] = char_counter\n",
    "            codes_table[char_counter] = char\n",
    "            char_counter += 1\n",
    "        encoded_sentence.append(symbols_table[char])        \n",
    "    encoded_sentence.append(0)\n",
    "    net_data['Y'].append(encoded_sentence)"
   ]
  },
  {
   "cell_type": "code",
   "execution_count": 9,
   "metadata": {
    "collapsed": true
   },
   "outputs": [],
   "source": [
    "X, Y = [], []\n",
    "for i in range(len(net_data['X'])):\n",
    "    if len(net_data['X'][i]) < 256 and len(net_data['Y'][i]) < 256:\n",
    "        X.append(net_data['X'][i])\n",
    "        Y.append(net_data['Y'][i])"
   ]
  },
  {
   "cell_type": "code",
   "execution_count": 10,
   "metadata": {
    "collapsed": true
   },
   "outputs": [],
   "source": [
    "net_data['X'] = X\n",
    "net_data['Y'] = Y"
   ]
  },
  {
   "cell_type": "code",
   "execution_count": 11,
   "metadata": {},
   "outputs": [
    {
     "name": "stdout",
     "output_type": "stream",
     "text": [
      "255\n"
     ]
    }
   ],
   "source": [
    "max_len = 0\n",
    "for sent in net_data['X']:\n",
    "    if len(sent) > max_len:\n",
    "        max_len = len(sent)\n",
    "        \n",
    "for sent in net_data['Y']:\n",
    "    if len(sent) > max_len:\n",
    "        max_len = len(sent)\n",
    "print(max_len)"
   ]
  },
  {
   "cell_type": "code",
   "execution_count": 12,
   "metadata": {
    "collapsed": true
   },
   "outputs": [],
   "source": [
    "for sent in net_data['X']:\n",
    "    while len(sent) < max_len:\n",
    "        sent.append(0)    \n",
    "        \n",
    "for sent in net_data['Y']:\n",
    "    while len(sent) < max_len:\n",
    "        sent.append(0) "
   ]
  },
  {
   "cell_type": "code",
   "execution_count": 13,
   "metadata": {
    "collapsed": true
   },
   "outputs": [],
   "source": [
    "# for i in range(len(net_data['X'])):\n",
    "#     net_data['X'][i] = net_data['X'][i][::-1]"
   ]
  },
  {
   "cell_type": "code",
   "execution_count": 14,
   "metadata": {},
   "outputs": [
    {
     "name": "stdout",
     "output_type": "stream",
     "text": [
      "[1, 2, 3, 4, 5, 6, 2, 7, 2, 8, 9, 10, 11, 12, 9, 13, 9, 2, 1, 2, 3, 4, 5, 6, 2, 7, 2, 8, 9, 10, 11, 12, 14, 13, 9, 2, 1, 2, 7, 2, 15, 2, 16, 17, 18, 19, 20, 9, 21, 22, 2, 21, 23, 2, 24, 20, 25, 26, 26, 27, 2, 24, 10, 16, 13, 28, 9, 24, 9, 2, 26, 9, 29, 17, 16, 2, 30, 2, 9, 18, 31, 20, 27, 18, 27, 32, 2, 4, 33, 2, 17, 19, 28, 18, 29, 34, 20, 29, 2, 4, 3, 35, 36, 2, 24, 9, 22, 16, 2, 37, 38, 22, 39, 21, 10, 9, 32, 2, 40, 19, 20, 28, 27, 41, 2, 13, 2, 8, 20, 27, 39, 17, 31, 9, 32, 2, 9, 34, 17, 19, 20, 13, 16, 18, 9, 20, 21, 21, 2, 21, 2, 28, 16, 23, 13, 16, 28, 2, 13, 2, 42, 19, 17, 18, 11, 2, 26, 9, 17, 43, 10, 31, 16, 2, 8, 9, 10, 11, 12, 9, 13, 9, 2, 30, 2, 20, 16, 17, 26, 9, 10, 9, 44, 19, 28, 28, 9, 24, 9, 2, 28, 19, 26, 9, 22, 16, 10, 43, 31, 25, 2, 9, 18, 2, 45, 9, 13, 9, 17, 21, 34, 21, 20, 17, 31, 16, 2, 46, 0, 0, 0, 0, 0, 0, 0, 0, 0, 0, 0, 0, 0, 0, 0, 0, 0, 0, 0, 0, 0, 0, 0, 0, 0, 0, 0]\n"
     ]
    }
   ],
   "source": [
    "print(net_data['X'][0])"
   ]
  },
  {
   "cell_type": "code",
   "execution_count": 15,
   "metadata": {
    "collapsed": true
   },
   "outputs": [],
   "source": [
    "net_data['X'] = np.array(net_data['X'])\n",
    "net_data['Y'] = np.array(net_data['Y'])\n",
    "Y_shape = np.shape(net_data['Y'])\n",
    "net_data['Y'] = np.reshape(net_data['Y'],(Y_shape[0],Y_shape[1],1))"
   ]
  },
  {
   "cell_type": "code",
   "execution_count": 16,
   "metadata": {},
   "outputs": [
    {
     "name": "stdout",
     "output_type": "stream",
     "text": [
      "18971 17073\n"
     ]
    }
   ],
   "source": [
    "data_len = len(net_data['X'])\n",
    "train_size = int(0.9*data_len)\n",
    "print(data_len, train_size)"
   ]
  },
  {
   "cell_type": "code",
   "execution_count": 17,
   "metadata": {},
   "outputs": [
    {
     "data": {
      "text/plain": [
       "255"
      ]
     },
     "execution_count": 17,
     "metadata": {},
     "output_type": "execute_result"
    }
   ],
   "source": [
    "len(symbols_table)"
   ]
  },
  {
   "cell_type": "code",
   "execution_count": 18,
   "metadata": {},
   "outputs": [
    {
     "name": "stderr",
     "output_type": "stream",
     "text": [
      "Using TensorFlow backend.\n"
     ]
    }
   ],
   "source": [
    "from keras.layers import LSTM, Dense, Embedding, TimeDistributed, Activation,RepeatVector, Dropout, Flatten, Permute, Input, merge, Lambda\n",
    "from keras.models import Sequential, Model\n",
    "import keras.backend as K"
   ]
  },
  {
   "cell_type": "code",
   "execution_count": 40,
   "metadata": {},
   "outputs": [
    {
     "name": "stdout",
     "output_type": "stream",
     "text": [
      "_________________________________________________________________\n",
      "Layer (type)                 Output Shape              Param #   \n",
      "=================================================================\n",
      "embedding_2 (Embedding)      (None, 255, 10)           2560      \n",
      "_________________________________________________________________\n",
      "lstm_3 (LSTM)                (None, 512)               1071104   \n",
      "_________________________________________________________________\n",
      "dropout_1 (Dropout)          (None, 512)               0         \n",
      "_________________________________________________________________\n",
      "activation_2 (Activation)    (None, 512)               0         \n",
      "_________________________________________________________________\n",
      "repeat_vector_3 (RepeatVecto (None, 255, 512)          0         \n",
      "_________________________________________________________________\n",
      "lstm_4 (LSTM)                (None, 255, 512)          2099200   \n",
      "_________________________________________________________________\n",
      "dropout_2 (Dropout)          (None, 255, 512)          0         \n",
      "_________________________________________________________________\n",
      "time_distributed_2 (TimeDist (None, 255, 256)          131328    \n",
      "=================================================================\n",
      "Total params: 3,304,192\n",
      "Trainable params: 3,304,192\n",
      "Non-trainable params: 0\n",
      "_________________________________________________________________\n"
     ]
    }
   ],
   "source": [
    "hidden_size = 512 \n",
    "embedding_size = 10\n",
    "\n",
    "model2 = Sequential()\n",
    "model2.add(Embedding(input_dim=char_counter, output_dim=embedding_size, input_length=max_len, mask_zero=True))\n",
    "model2.add(LSTM(hidden_size))\n",
    "model2.add(Dropout(0.2))\n",
    "model2.add(Activation('relu'))\n",
    "model2.add(RepeatVector(max_len))\n",
    "model2.add(LSTM(hidden_size, return_sequences=True))\n",
    "model2.add(Dropout(0.2))\n",
    "model2.add(TimeDistributed(Dense(char_counter, activation='softmax')))\n",
    "# model.compile(loss='sparse_categorical_crossentropy', optimizer='adam',\n",
    "#              metrics=['accuracy'])\n",
    "\n",
    "model2.summary()"
   ]
  },
  {
   "cell_type": "code",
   "execution_count": 19,
   "metadata": {},
   "outputs": [
    {
     "name": "stderr",
     "output_type": "stream",
     "text": [
      "C:\\Users\\Sdernal\\Anaconda3\\lib\\site-packages\\ipykernel_launcher.py:24: UserWarning: The `merge` function is deprecated and will be removed after 08/2017. Use instead layers from `keras.layers.merge`, e.g. `add`, `concatenate`, etc.\n",
      "C:\\Users\\Sdernal\\Anaconda3\\lib\\site-packages\\keras\\legacy\\layers.py:458: UserWarning: The `Merge` layer is deprecated and will be removed after 08/2017. Use instead layers from `keras.layers.merge`, e.g. `add`, `concatenate`, etc.\n",
      "  name=name)\n"
     ]
    },
    {
     "name": "stdout",
     "output_type": "stream",
     "text": [
      "__________________________________________________________________________________________________\n",
      "Layer (type)                    Output Shape         Param #     Connected to                     \n",
      "==================================================================================================\n",
      "input_1 (InputLayer)            (None, 255)          0                                            \n",
      "__________________________________________________________________________________________________\n",
      "embedding_1 (Embedding)         (None, 255, 10)      2560        input_1[0][0]                    \n",
      "__________________________________________________________________________________________________\n",
      "lstm_1 (LSTM)                   (None, 255, 100)     44400       embedding_1[0][0]                \n",
      "__________________________________________________________________________________________________\n",
      "dense_1 (Dense)                 (None, 255, 1)       101         lstm_1[0][0]                     \n",
      "__________________________________________________________________________________________________\n",
      "flatten_1 (Flatten)             (None, 255)          0           dense_1[0][0]                    \n",
      "__________________________________________________________________________________________________\n",
      "activation_1 (Activation)       (None, 255)          0           flatten_1[0][0]                  \n",
      "__________________________________________________________________________________________________\n",
      "repeat_vector_1 (RepeatVector)  (None, 100, 255)     0           activation_1[0][0]               \n",
      "__________________________________________________________________________________________________\n",
      "permute_1 (Permute)             (None, 255, 100)     0           repeat_vector_1[0][0]            \n",
      "__________________________________________________________________________________________________\n",
      "merge_1 (Merge)                 (None, 255, 100)     0           lstm_1[0][0]                     \n",
      "                                                                 permute_1[0][0]                  \n",
      "__________________________________________________________________________________________________\n",
      "lambda_1 (Lambda)               (None, 100)          0           merge_1[0][0]                    \n",
      "__________________________________________________________________________________________________\n",
      "repeat_vector_2 (RepeatVector)  (None, 255, 100)     0           lambda_1[0][0]                   \n",
      "__________________________________________________________________________________________________\n",
      "lstm_2 (LSTM)                   (None, 255, 100)     80400       repeat_vector_2[0][0]            \n",
      "__________________________________________________________________________________________________\n",
      "time_distributed_1 (TimeDistrib (None, 255, 256)     25856       lstm_2[0][0]                     \n",
      "==================================================================================================\n",
      "Total params: 153,317\n",
      "Trainable params: 153,317\n",
      "Non-trainable params: 0\n",
      "__________________________________________________________________________________________________\n"
     ]
    },
    {
     "name": "stderr",
     "output_type": "stream",
     "text": [
      "C:\\Users\\Sdernal\\Anaconda3\\lib\\site-packages\\ipykernel_launcher.py:30: UserWarning: Update your `Model` call to the Keras 2 API: `Model(inputs=[<tf.Tenso..., outputs=Tensor(\"ti...)`\n"
     ]
    }
   ],
   "source": [
    "hidden_size = 100 \n",
    "embedding_size = 10\n",
    "\n",
    "_input = Input(shape=[max_len], dtype='int32')\n",
    "\n",
    "# get the embedding layer\n",
    "embedded = Embedding(\n",
    "        input_dim=char_counter,\n",
    "        output_dim=embedding_size,\n",
    "        input_length=max_len,\n",
    "        mask_zero=False\n",
    "    )(_input)\n",
    "\n",
    "activations = LSTM(hidden_size, return_sequences=True)(embedded)\n",
    "\n",
    "# compute importance for each step\n",
    "attention = Dense(1, activation='tanh')(activations)\n",
    "attention = Flatten()(attention)\n",
    "attention = Activation('softmax')(attention)\n",
    "attention = RepeatVector(hidden_size)(attention)\n",
    "attention = Permute([2, 1])(attention)\n",
    "\n",
    "\n",
    "sent_representation = merge([activations, attention], mode='mul')\n",
    "sent_representation = Lambda(lambda xin: K.sum(xin, axis=-2), output_shape=(hidden_size,))(sent_representation)\n",
    "\n",
    "decoder = LSTM(hidden_size, return_sequences=True)(RepeatVector(max_len)(sent_representation))\n",
    "probabilities = TimeDistributed(Dense(char_counter, activation='softmax'))(decoder)\n",
    "\n",
    "model = Model(inputs=[_input], output=probabilities)\n",
    "model.compile(loss='sparse_categorical_crossentropy', optimizer='adam',\n",
    "             metrics=['accuracy'])\n",
    "\n",
    "model.summary()"
   ]
  },
  {
   "cell_type": "code",
   "execution_count": 38,
   "metadata": {},
   "outputs": [
    {
     "name": "stdout",
     "output_type": "stream",
     "text": [
      "Train on 17073 samples, validate on 1898 samples\n",
      "Epoch 1/5\n",
      "17073/17073 [==============================] - 16s 952us/step - loss: 0.9991 - acc: 0.7542 - val_loss: 1.4477 - val_acc: 0.6401\n",
      "Epoch 2/5\n",
      "17073/17073 [==============================] - 16s 951us/step - loss: 0.9947 - acc: 0.7555 - val_loss: 1.4432 - val_acc: 0.6407\n",
      "Epoch 3/5\n",
      "17073/17073 [==============================] - 17s 981us/step - loss: 0.9936 - acc: 0.7556 - val_loss: 1.4432 - val_acc: 0.6408\n",
      "Epoch 4/5\n",
      "17073/17073 [==============================] - 16s 940us/step - loss: 0.9932 - acc: 0.7555 - val_loss: 1.4436 - val_acc: 0.6408\n",
      "Epoch 5/5\n",
      "17073/17073 [==============================] - 16s 938us/step - loss: 0.9931 - acc: 0.7558 - val_loss: 1.4422 - val_acc: 0.6408\n"
     ]
    },
    {
     "data": {
      "text/plain": [
       "<keras.callbacks.History at 0x190c6848668>"
      ]
     },
     "execution_count": 38,
     "metadata": {},
     "output_type": "execute_result"
    }
   ],
   "source": [
    "model.fit(net_data['X'][:train_size], net_data['Y'][:train_size],batch_size=1024, epochs=5, validation_data=(net_data['X'][train_size:], net_data['Y'][train_size:]))"
   ]
  },
  {
   "cell_type": "code",
   "execution_count": 46,
   "metadata": {
    "collapsed": true
   },
   "outputs": [],
   "source": [
    "net_answer = model.predict(net_data['X'][1000:1010])"
   ]
  },
  {
   "cell_type": "code",
   "execution_count": 22,
   "metadata": {},
   "outputs": [
    {
     "data": {
      "text/plain": [
       "array([ 1,  2,  3,  4,  5,  6,  2,  7,  2,  8,  9, 10, 11, 12,  9, 13,  9,\n",
       "        2,  1,  2,  3,  4,  5,  6,  2,  7,  2,  8,  9, 10, 11, 12, 14, 13,\n",
       "        9,  2,  1,  2,  7,  2, 15,  2, 16, 17, 18, 19, 20,  9, 21, 22,  2,\n",
       "       21, 23,  2, 24, 20, 25, 26, 26, 27,  2, 24, 10, 16, 13, 28,  9, 24,\n",
       "        9,  2, 26,  9, 29, 17, 16,  2, 30,  2,  9, 18, 31, 20, 27, 18, 27,\n",
       "       32,  2,  4, 33,  2, 17, 19, 28, 18, 29, 34, 20, 29,  2,  4,  3, 35,\n",
       "       36,  2, 24,  9, 22, 16,  2, 37, 38, 22, 39, 21, 10,  9, 32,  2, 40,\n",
       "       19, 20, 28, 27, 41,  2, 13,  2,  8, 20, 27, 39, 17, 31,  9, 32,  2,\n",
       "        9, 34, 17, 19, 20, 13, 16, 18,  9, 20, 21, 21,  2, 21,  2, 28, 16,\n",
       "       23, 13, 16, 28,  2, 13,  2, 42, 19, 17, 18, 11,  2, 26,  9, 17, 43,\n",
       "       10, 31, 16,  2,  8,  9, 10, 11, 12,  9, 13,  9,  2, 30,  2, 20, 16,\n",
       "       17, 26,  9, 10,  9, 44, 19, 28, 28,  9, 24,  9,  2, 28, 19, 26,  9,\n",
       "       22, 16, 10, 43, 31, 25,  2,  9, 18,  2, 45,  9, 13,  9, 17, 21, 34,\n",
       "       21, 20, 17, 31, 16,  2, 46,  0,  0,  0,  0,  0,  0,  0,  0,  0,  0,\n",
       "        0,  0,  0,  0,  0,  0,  0,  0,  0,  0,  0,  0,  0,  0,  0,  0,  0])"
      ]
     },
     "execution_count": 22,
     "metadata": {},
     "output_type": "execute_result"
    }
   ],
   "source": [
    "net_data['X'][0]"
   ]
  },
  {
   "cell_type": "code",
   "execution_count": 39,
   "metadata": {},
   "outputs": [
    {
     "data": {
      "text/plain": [
       "array([ 1,  2,  3,  4,  5,  6,  2,  7,  2, 31,  9, 10, 11, 12,  9, 13,  9,\n",
       "        2,  1,  2,  3,  4,  5,  6,  2,  7,  2, 31,  9, 10, 11, 12, 14, 13,\n",
       "       27, 32,  2,  1,  2,  7,  2, 15,  2, 16, 17, 18, 19, 20,  9, 21, 22,\n",
       "        2, 21, 23,  2, 24, 20, 25, 26, 26, 16,  2, 24, 10, 16, 13, 28, 27,\n",
       "       32,  2, 26,  9, 29, 17,  2, 30,  2,  9, 18, 31, 20, 27, 18, 27, 32,\n",
       "        2,  4, 33,  2, 17, 19, 28, 18, 29, 34, 20, 11,  2,  4,  3, 35, 36,\n",
       "        2, 24,  9, 22,  2, 10, 38, 22, 39, 21, 10, 16,  2, 42, 43, 20, 28,\n",
       "       27, 32,  2, 13,  2, 31, 20, 27, 39, 17, 31, 21, 32,  2,  9, 34, 17,\n",
       "       19, 20, 13, 16, 18,  9, 20, 21, 29,  2, 21,  2, 28, 16, 23, 13, 16,\n",
       "       18, 11,  2, 13,  2, 42, 19, 17, 18, 11,  2, 26,  9, 17, 43, 10,  9,\n",
       "       31,  2, 31,  9, 10, 11, 12,  9, 13,  9,  2, 30,  2, 20, 16, 17, 26,\n",
       "        9, 10,  9, 44, 21, 18, 11,  2, 28, 19, 26,  9, 22, 16, 10, 43, 31,\n",
       "       25,  2,  9, 18,  2, 28,  9, 13,  9, 17, 21, 34, 21, 20, 17, 31,  2,\n",
       "       46,  0,  0,  0,  0,  0,  0,  0,  0,  0,  0,  0,  0,  0,  0,  0,  0,\n",
       "        0,  0,  0,  0,  0,  0,  0,  0,  0,  0,  0,  0,  0,  0,  0,  0,  0])"
      ]
     },
     "execution_count": 39,
     "metadata": {},
     "output_type": "execute_result"
    }
   ],
   "source": [
    "np.reshape(net_data['Y'],(Y_shape[0],Y_shape[1]))[0]"
   ]
  },
  {
   "cell_type": "code",
   "execution_count": 47,
   "metadata": {},
   "outputs": [],
   "source": [
    "answer_sents = []\n",
    "for sent in net_answer:\n",
    "    answer_sent = ''\n",
    "    for char in sent:\n",
    "        res = np.argmax(char)        \n",
    "        if res > 0:\n",
    "            letter = codes_table[res]\n",
    "            answer_sent += codes_table[res]\n",
    "    answer_sents.append(answer_sent)"
   ]
  },
  {
   "cell_type": "code",
   "execution_count": 48,
   "metadata": {},
   "outputs": [
    {
     "name": "stdout",
     "output_type": "stream",
     "text": [
      ": `` г  '''' аниитерр..\n",
      ": `` '' сантимее  \n",
      ": ``\n",
      ": `` г  '''' аниитетр..\n",
      ": `` '' сантиметр .\n",
      ": ``\n",
      ": `` гд '''' анииметр..\n",
      ": `` '' сантиметр .\n",
      ": ``\n",
      ": `` г  '''' аниитетр..\n"
     ]
    }
   ],
   "source": [
    "for sent in answer_sents:\n",
    "    print(sent)"
   ]
  },
  {
   "cell_type": "code",
   "execution_count": 49,
   "metadata": {},
   "outputs": [
    {
     "name": "stdout",
     "output_type": "stream",
     "text": [
      "1216 год '' См .\n",
      "`` '' См .\n",
      "``\n",
      "1217 год '' См .\n",
      ": `` '' См .\n",
      ": ``\n",
      "1218 год '' См .\n",
      ": `` '' См .\n",
      ": ``\n",
      "1219 год '' См .\n"
     ]
    }
   ],
   "source": [
    "for i in range(1000,1010):\n",
    "    print(raw_data['X'][i])"
   ]
  }
 ],
 "metadata": {
  "kernelspec": {
   "display_name": "Python 3",
   "language": "python",
   "name": "python3"
  },
  "language_info": {
   "codemirror_mode": {
    "name": "ipython",
    "version": 3
   },
   "file_extension": ".py",
   "mimetype": "text/x-python",
   "name": "python",
   "nbconvert_exporter": "python",
   "pygments_lexer": "ipython3",
   "version": "3.6.3"
  }
 },
 "nbformat": 4,
 "nbformat_minor": 2
}
